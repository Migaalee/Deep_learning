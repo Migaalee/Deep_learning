{
  "cells": [
    {
      "cell_type": "markdown",
      "metadata": {
        "id": "view-in-github",
        "colab_type": "text"
      },
      "source": [
        "<a href=\"https://colab.research.google.com/github/Migaalee/Deep_learning/blob/main/DeepNeuralNetworks_Migla_Notebook1.ipynb\" target=\"_parent\"><img src=\"https://colab.research.google.com/assets/colab-badge.svg\" alt=\"Open In Colab\"/></a>"
      ]
    },
    {
      "cell_type": "markdown",
      "metadata": {
        "id": "Lz1I5CMWh54O"
      },
      "source": [
        "# Assignment 2 - ADNE 2022 -Notebook1\n",
        "\n",
        "## Deep neural networks using audio data \n",
        "\n",
        "### Aims\n",
        "\n",
        "The main aim of this project is optimise several deep neural networks for audio files (4000 Hz heart sound files with 4 targets: S1, systolic, S2, dystolic. \n",
        "\n",
        "**FNN**\n",
        "\n",
        "> A feedforward neural network (FNN) is one of the simplest neural networks where in connections between the nodes do not form a cycle. Each neuron in one layer has directed connections to the neurons of the subsequent layer and all multiple layers are interconnected in a feed-forward way.\n",
        "\n",
        "\n",
        "\n",
        "\n",
        "\n",
        "**RNN**\n",
        "\n",
        "> On the other hand, a recurrent neural network (RNN) is a class of neural networks where connections between nodes form a directed or undirected graph along a temporal sequence. RNNs can be used to process variable length sequences of inputs. \n",
        "\n",
        "**CNN** \n",
        "\n",
        "> A Convolutional neural network (CNN) are a specialized type of neural networks that use a mathematical operation called convolution in place of general matrix multiplication in at least one of their layers. Such networks are designed to process pixel data and are widely used in image recognition and processing.\n",
        "\n",
        "\n",
        "**Transformers**\n",
        "\n",
        "> A transformer is a deep learning model that adopts the mechanism of self-attention, differentially weighting the significance of each part of the input data. Currently, it is often used in the field of natural language processing.\n",
        "\n",
        "\n",
        "### How this works\n",
        "This file is a [Jupyter Notebook](https://jupyter.org). \n",
        "It has instructions, and also code cells. The code cells are connected to Python, and you can run all of the code in a cell by pressing Play (▶) icon in the top bar, or pressing `shift + return`.\n",
        "The code libraries you should need are already installed.\n"
      ]
    },
    {
      "cell_type": "markdown",
      "metadata": {
        "id": "X5yE7_Yeh6VX"
      },
      "source": [
        "## Data pre-processing"
      ]
    },
    {
      "cell_type": "markdown",
      "metadata": {
        "id": "NljEabKQje0t"
      },
      "source": [
        "### Import all required libraries"
      ]
    },
    {
      "cell_type": "code",
      "execution_count": 12,
      "metadata": {
        "colab": {
          "base_uri": "https://localhost:8080/"
        },
        "id": "Bd1Nzs-BjfFE",
        "outputId": "cdc7d7f7-c9c1-4ac1-98a5-116a3705bf36"
      },
      "outputs": [
        {
          "output_type": "stream",
          "name": "stdout",
          "text": [
            "Mounted at /content/drive\n"
          ]
        }
      ],
      "source": [
        "import glob\n",
        "import numpy as np\n",
        "import tensorflow as tf\n",
        "from google.colab import files\n",
        "import os\n",
        "from pydrive.auth import GoogleAuth\n",
        "from pydrive.drive import GoogleDrive\n",
        "from google.colab import auth\n",
        "from oauth2client.client import GoogleCredentials\n",
        "import matplotlib.pyplot as plt\n",
        "\n",
        "\n",
        "#auth.authenticate_user()\n",
        "#gauth = GoogleAuth()\n",
        "#gauth.credentials = GoogleCredentials.get_application_default()\n",
        "#drive = GoogleDrive(gauth)\n",
        "import numpy as np\n",
        "import pandas as pd\n",
        "from matplotlib import pyplot as plt\n",
        "%matplotlib inline\n",
        "from google.colab import files\n",
        "from google.colab import drive\n",
        "drive.mount('/content/drive')\n",
        "import io\n",
        "from sklearn.preprocessing import StandardScaler\n",
        "from sklearn.model_selection import train_test_split\n",
        "import tensorflow as tf\n",
        "import seaborn as sns\n",
        "from sklearn.metrics import mean_absolute_error\n",
        "sns.set()\n",
        "from tensorflow import keras\n",
        "from datetime import datetime\n",
        "from tensorflow.keras.optimizers import SGD\n",
        "from tensorflow.keras.models import Model, Sequential\n",
        "from keras.constraints import maxnorm\n",
        "from tensorflow.keras.layers import GlobalAveragePooling1D, Input, BatchNormalization, MaxPooling2D, Flatten, Conv2D, Dense, Activation, Dropout, concatenate, Reshape, UpSampling1D, Conv1D, MaxPooling1D\n",
        "from numpy import array\n",
        "from keras.models import Sequential\n",
        "from keras.layers import Dense\n",
        "from keras.layers import LSTM\n",
        "from tensorflow.keras.layers import TimeDistributed,Input, Reshape, UpSampling1D, Conv1D\n",
        "from keras.layers.recurrent import LSTM\n",
        "import os\n",
        "from keras.layers import Embedding\n",
        "import numpy as np\n",
        "import matplotlib.pyplot as plt\n",
        "import tensorflow as tf\n",
        "from tensorflow import keras\n",
        "from tensorflow.keras import layers\n",
        "#auth.authenticate_user()\n",
        "#gauth = GoogleAuth()\n",
        "#gauth.credentials = GoogleCredentials.get_application_default()\n",
        "#drive = GoogleDrive(gauth)\n",
        "from keras.layers import LeakyReLU, Embedding\n",
        "import numpy as np\n",
        "import matplotlib.pyplot as plt\n",
        "import tensorflow as tf\n",
        "from tensorflow import keras\n",
        "from tensorflow.keras import layers\n"
      ]
    },
    {
      "cell_type": "markdown",
      "metadata": {
        "id": "XyhCja_7lHYT"
      },
      "source": [
        "### Auxilary functions"
      ]
    },
    {
      "cell_type": "code",
      "execution_count": 14,
      "metadata": {
        "id": "mXxLqA3hlHjM"
      },
      "outputs": [],
      "source": [
        "def read_npy(fname):\n",
        "    \"\"\"fname should be a npy file; função auxiliar que vai ser usada pela função 'map' para ler o conteúdo de cada um dos ficheiros do fnames_dataset e criar um novo dataset com estes conteúdos.\"\"\"\n",
        "    fname = fname.decode()\n",
        "    recData = np.load(fname)\n",
        "    return recData.astype(np.float32)\n",
        "\n",
        "def cut_data(x):\n",
        "  N = tf.shape(x)[1]\n",
        "  r = tf.random.uniform(shape=[], maxval = (N - L), dtype = tf.dtypes.int32)\n",
        "  return x[:, N - r - L: N - r]\n",
        "\n",
        "class PositionEmbedding(layers.Layer):\n",
        "    def __init__(self, maxlen, embed_dim):\n",
        "        super(PositionEmbedding, self).__init__()\n",
        "        self.pos_emb = layers.Embedding(input_dim=maxlen, output_dim=embed_dim)\n",
        "\n",
        "    def call(self, x):\n",
        "        maxlen = tf.shape(x)[1]\n",
        "        batchS = tf.shape(x)[0]\n",
        "        positions = tf.range(start=0, limit=maxlen, delta=1)\n",
        "        positions = self.pos_emb(positions)\n",
        "        positions = tf.expand_dims(positions, axis = 0)\n",
        "        positions = tf.repeat(positions, batchS, axis=0)\n",
        "        return x + positions\n",
        "\n",
        "class TransformerBlock(layers.Layer):\n",
        "    def __init__(self, embed_dim, num_heads, ff_dim, rate=0.1):\n",
        "        super(TransformerBlock, self).__init__()\n",
        "        self.att = layers.MultiHeadAttention(num_heads=num_heads, key_dim=embed_dim)\n",
        "        self.ffn = keras.Sequential(\n",
        "            [layers.Dense(ff_dim, activation=\"relu\"), layers.Dense(embed_dim),]\n",
        "        )\n",
        "        self.layernorm1 = layers.LayerNormalization(epsilon=1e-6)\n",
        "        self.layernorm2 = layers.LayerNormalization(epsilon=1e-6)\n",
        "        self.dropout1 = layers.Dropout(rate)\n",
        "        self.dropout2 = layers.Dropout(rate)\n",
        "\n",
        "    def call(self, inputs, training):\n",
        "        attn_output = self.att(inputs, inputs)\n",
        "        attn_output = self.dropout1(attn_output, training=training)\n",
        "        out1 = self.layernorm1(inputs + attn_output)\n",
        "        ffn_output = self.ffn(out1)\n",
        "        ffn_output = self.dropout2(ffn_output, training=training)\n",
        "        return self.layernorm2(out1 + ffn_output)\n",
        "\n",
        "\n"
      ]
    },
    {
      "cell_type": "markdown",
      "source": [
        "Testing GPU"
      ],
      "metadata": {
        "id": "kbFeqVlI75zy"
      }
    },
    {
      "cell_type": "code",
      "source": [
        "%tensorflow_version 2.x\n",
        "import tensorflow as tf\n",
        "device_name = tf.test.gpu_device_name()\n",
        "if device_name != '/device:GPU:0':\n",
        "  raise SystemError('GPU device not found')\n",
        "print('Found GPU at: {}'.format(device_name))"
      ],
      "metadata": {
        "id": "G_Q_sVDS75M1"
      },
      "execution_count": null,
      "outputs": []
    },
    {
      "cell_type": "code",
      "source": [
        "%tensorflow_version 2.x\n",
        "import tensorflow as tf\n",
        "import timeit\n",
        "\n",
        "device_name = tf.test.gpu_device_name()\n",
        "if device_name != '/device:GPU:0':\n",
        "  print(\n",
        "      '\\n\\nThis error most likely means that this notebook is not '\n",
        "      'configured to use a GPU.  Change this in Notebook Settings via the '\n",
        "      'command palette (cmd/ctrl-shift-P) or the Edit menu.\\n\\n')\n",
        "  raise SystemError('GPU device not found')\n",
        "\n",
        "def cpu():\n",
        "  with tf.device('/cpu:0'):\n",
        "    random_image_cpu = tf.random.normal((100, 100, 100, 3))\n",
        "    net_cpu = tf.keras.layers.Conv2D(32, 7)(random_image_cpu)\n",
        "    return tf.math.reduce_sum(net_cpu)\n",
        "\n",
        "def gpu():\n",
        "  with tf.device('/device:GPU:0'):\n",
        "    random_image_gpu = tf.random.normal((100, 100, 100, 3))\n",
        "    net_gpu = tf.keras.layers.Conv2D(32, 7)(random_image_gpu)\n",
        "    return tf.math.reduce_sum(net_gpu)\n",
        "  \n",
        "# We run each op once to warm up; see: https://stackoverflow.com/a/45067900\n",
        "cpu()\n",
        "gpu()\n",
        "\n",
        "# Run the op several times.\n",
        "print('Time (s) to convolve 32x7x7x3 filter over random 100x100x100x3 images '\n",
        "      '(batch x height x width x channel). Sum of ten runs.')\n",
        "print('CPU (s):')\n",
        "cpu_time = timeit.timeit('cpu()', number=10, setup=\"from __main__ import cpu\")\n",
        "print(cpu_time)\n",
        "print('GPU (s):')\n",
        "gpu_time = timeit.timeit('gpu()', number=10, setup=\"from __main__ import gpu\")\n",
        "print(gpu_time)\n",
        "print('GPU speedup over CPU: {}x'.format(int(cpu_time/gpu_time)))"
      ],
      "metadata": {
        "id": "aBT2e8N08Dlj"
      },
      "execution_count": null,
      "outputs": []
    },
    {
      "cell_type": "markdown",
      "metadata": {
        "id": "32iJDeLykfjT"
      },
      "source": [
        "### Import data for training, validation and testing"
      ]
    },
    {
      "cell_type": "code",
      "execution_count": 15,
      "metadata": {
        "id": "eivSsME0kxjM"
      },
      "outputs": [],
      "source": [
        "os.chdir(\"/content/drive/MyDrive/adneDataAlunos/\")\n",
        "dir = './'\n",
        "list_train_files = glob.glob(dir + \"trainAlunos/\" + '*.npy')\n",
        "list_valid_files = glob.glob(dir + \"validacaoAlunos/\" + '*.npy')\n",
        "list_test_files = glob.glob(dir + \"testeAlunos/\" + '*.npy')\n",
        "data_train = tf.data.Dataset.from_tensor_slices(list_train_files) #creates a dataset with a separate element for each row of the input tensor, this will be important to put our different examples in separate tensors\n",
        "data_valid = tf.data.Dataset.from_tensor_slices(list_valid_files)\n",
        "data_test = tf.data.Dataset.from_tensor_slices(list_test_files)\n",
        "data_train = data_train.map(lambda x: tf.numpy_function(read_npy, [x], [tf.float32]))\n",
        "data_valid = data_valid.map(lambda x: tf.numpy_function(read_npy, [x], [tf.float32]))\n",
        "data_test = data_test.map(lambda x: tf.numpy_function(read_npy, [x], [tf.float32]))\n",
        "\n"
      ]
    },
    {
      "cell_type": "markdown",
      "metadata": {
        "id": "VTwzFDdKlaqa"
      },
      "source": [
        "### Visualisation of one tensor"
      ]
    },
    {
      "cell_type": "code",
      "execution_count": 16,
      "metadata": {
        "colab": {
          "base_uri": "https://localhost:8080/"
        },
        "id": "VPlFz4-zlgty",
        "outputId": "4b5bba81-9abf-4fb0-bc93-b1db1e0dc9fa"
      },
      "outputs": [
        {
          "output_type": "execute_result",
          "data": {
            "text/plain": [
              "(<tf.Tensor: shape=(2, 48000), dtype=float32, numpy=\n",
              " array([[ 199.,   47., -166., ...,   47.,   86.,  -66.],\n",
              "        [   4.,    4.,    4., ...,    4.,    4.,    4.]], dtype=float32)>,)"
            ]
          },
          "metadata": {},
          "execution_count": 16
        }
      ],
      "source": [
        "it = iter(data_train) #creates an object which can be iterated one element at a time\n",
        "ex = next(it) # returns the next item in an iterator\n",
        "ex\n",
        "#valid: shape=(2, 24002), train: shape=(2, 48000), test: shape=(2, 41325)"
      ]
    },
    {
      "cell_type": "code",
      "execution_count": 17,
      "metadata": {
        "colab": {
          "base_uri": "https://localhost:8080/",
          "height": 286
        },
        "id": "QHHNy-6ylvDT",
        "outputId": "12f85c02-bbbc-4697-f3ff-b68e556dcc0b"
      },
      "outputs": [
        {
          "output_type": "execute_result",
          "data": {
            "text/plain": [
              "[<matplotlib.lines.Line2D at 0x7f67fe45fad0>]"
            ]
          },
          "metadata": {},
          "execution_count": 17
        },
        {
          "output_type": "display_data",
          "data": {
            "text/plain": [
              "<Figure size 432x288 with 1 Axes>"
            ],
            "image/png": "[encoded data removed]"
          },
          "metadata": {}
        }
      ],
      "source": [
        "ex[0].shape\n",
        "aux=ex[0]\n",
        "plt.plot(aux[0,:5000]/1000)\n",
        "plt.plot(aux[1,:5000])"
      ]
    },
    {
      "cell_type": "markdown",
      "metadata": {
        "id": "sHZi7L97l0NC"
      },
      "source": [
        "### Segment data into pieces"
      ]
    },
    {
      "cell_type": "code",
      "execution_count": 18,
      "metadata": {
        "id": "xmcpJ2e8l0WC"
      },
      "outputs": [],
      "source": [
        "L=2000\n",
        "data_train_cut = data_train.map(cut_data)\n",
        "data_test_cut = data_test.map(cut_data)\n",
        "data_valid_cut = data_valid.map(cut_data)"
      ]
    },
    {
      "cell_type": "markdown",
      "metadata": {
        "id": "z8ABTCB-mVDx"
      },
      "source": [
        "### STFT transformation"
      ]
    },
    {
      "cell_type": "markdown",
      "metadata": {
        "id": "vLH5QmPc7N-r"
      },
      "source": [
        "#### This STFT transformed data (cut into 2000) will be used for FFN"
      ]
    },
    {
      "cell_type": "code",
      "execution_count": 111,
      "metadata": {
        "id": "EQ37417-mVMh"
      },
      "outputs": [],
      "source": [
        "frame_length=256\n",
        "frame_step =32\n",
        "frame_length1=128\n",
        "frame_step1 =32\n",
        "frame_length2=64\n",
        "frame_step2 =32\n",
        "frame_length3=16\n",
        "frame_step3 =8\n",
        "frame_length4=512\n",
        "frame_step4 =256\n",
        "\n",
        "data_train_stft = data_train_cut.map(lambda x: (tf.math.abs(tf.signal.stft(signals = x[0], frame_length = frame_length, frame_step = frame_step)), x[1]))\n",
        "data_test_stft = data_test_cut.map(lambda x: (tf.math.abs(tf.signal.stft(signals = x[0], frame_length = frame_length, frame_step = frame_step)), x[1]))\n",
        "data_valid_stft = data_valid_cut.map(lambda x: (tf.math.abs(tf.signal.stft(signals = x[0], frame_length = frame_length, frame_step = frame_step)), x[1]))\n",
        "data_train_stft1 = data_train_cut.map(lambda x: (tf.math.abs(tf.signal.stft(signals = x[0], frame_length = frame_length1, frame_step = frame_step1)), x[1]))\n",
        "data_test_stft1 = data_test_cut.map(lambda x: (tf.math.abs(tf.signal.stft(signals = x[0], frame_length = frame_length1, frame_step = frame_step1)), x[1]))\n",
        "data_valid_stft1 = data_valid_cut.map(lambda x: (tf.math.abs(tf.signal.stft(signals = x[0], frame_length = frame_length1, frame_step = frame_step1)), x[1]))\n",
        "data_train_stft2 = data_train_cut.map(lambda x: (tf.math.abs(tf.signal.stft(signals = x[0], frame_length = frame_length2, frame_step = frame_step2)), x[1]))\n",
        "data_test_stft2 = data_test_cut.map(lambda x: (tf.math.abs(tf.signal.stft(signals = x[0], frame_length = frame_length2, frame_step = frame_step2)), x[1]))\n",
        "data_valid_stft2 = data_valid_cut.map(lambda x: (tf.math.abs(tf.signal.stft(signals = x[0], frame_length = frame_length2, frame_step = frame_step2)), x[1]))\n",
        "data_train_stft3 = data_train_cut.map(lambda x: (tf.math.abs(tf.signal.stft(signals = x[0], frame_length = frame_length3, frame_step = frame_step3)), x[1]))\n",
        "data_test_stft3 = data_test_cut.map(lambda x: (tf.math.abs(tf.signal.stft(signals = x[0], frame_length = frame_length3, frame_step = frame_step3)), x[1]))\n",
        "data_valid_stft3 = data_valid_cut.map(lambda x: (tf.math.abs(tf.signal.stft(signals = x[0], frame_length = frame_length3, frame_step = frame_step3)), x[1]))\n",
        "\n",
        "data_train_stft4= data_train_cut.map(lambda x: (tf.math.abs(tf.signal.stft(signals = x[0], frame_length = frame_length4, frame_step = frame_step4)), x[1]))\n",
        "data_test_stft4 = data_test_cut.map(lambda x: (tf.math.abs(tf.signal.stft(signals = x[0], frame_length = frame_length4, frame_step = frame_step4)), x[1]))\n",
        "data_valid_stft4 = data_valid_cut.map(lambda x: (tf.math.abs(tf.signal.stft(signals = x[0], frame_length = frame_length4, frame_step = frame_step4)), x[1]))"
      ]
    },
    {
      "cell_type": "markdown",
      "metadata": {
        "id": "S7CtVzWl7bjV"
      },
      "source": [
        "####  This STFT transformed data will be used for RNN, CNN, Transformers"
      ]
    },
    {
      "cell_type": "code",
      "execution_count": 120,
      "metadata": {
        "id": "kGT9UfUq623M"
      },
      "outputs": [],
      "source": [
        "data_size_var_train = data_train.map(lambda x: ((tf.shape(x)[1], tf.math.abs(tf.signal.stft(signals = x[0], frame_length = frame_length, frame_step = frame_step))), x[1]))\n",
        "data_size_var_test = data_test.map(lambda x: ((tf.shape(x)[1], tf.math.abs(tf.signal.stft(signals = x[0], frame_length = frame_length, frame_step = frame_step))), x[1]))\n",
        "data_size_var_valid = data_valid.map(lambda x: ((tf.shape(x)[1], tf.math.abs(tf.signal.stft(signals = x[0], frame_length = frame_length, frame_step = frame_step))), x[1]))\n",
        "\n",
        "data_size_var_train1 = data_train.map(lambda x: ((tf.shape(x)[1], tf.math.abs(tf.signal.stft(signals = x[0], frame_length = frame_length1, frame_step = frame_step1))), x[1]))\n",
        "data_size_var_test1 = data_test.map(lambda x: ((tf.shape(x)[1], tf.math.abs(tf.signal.stft(signals = x[0], frame_length = frame_length1, frame_step = frame_step1))), x[1]))\n",
        "data_size_var_valid1 = data_valid.map(lambda x: ((tf.shape(x)[1], tf.math.abs(tf.signal.stft(signals = x[0], frame_length = frame_length1, frame_step = frame_step1))), x[1]))\n",
        "\n",
        "data_size_var_train2 = data_train.map(lambda x: ((tf.shape(x)[1], tf.math.abs(tf.signal.stft(signals = x[0], frame_length = frame_length2, frame_step = frame_step2))), x[1]))\n",
        "data_size_var_test2 = data_test.map(lambda x: ((tf.shape(x)[1], tf.math.abs(tf.signal.stft(signals = x[0], frame_length = frame_length2, frame_step = frame_step2))), x[1]))\n",
        "data_size_var_valid2 = data_valid.map(lambda x: ((tf.shape(x)[1], tf.math.abs(tf.signal.stft(signals = x[0], frame_length = frame_length2, frame_step = frame_step2))), x[1]))\n",
        "\n",
        "\n",
        "data_size_var_train3 = data_train.map(lambda x: ((tf.shape(x)[1], tf.math.abs(tf.signal.stft(signals = x[0], frame_length = frame_length3, frame_step = frame_step3))), x[1]))\n",
        "data_size_var_test3 = data_test.map(lambda x: ((tf.shape(x)[1], tf.math.abs(tf.signal.stft(signals = x[0], frame_length = frame_length3, frame_step = frame_step3))), x[1]))\n",
        "data_size_var_valid3 = data_valid.map(lambda x: ((tf.shape(x)[1], tf.math.abs(tf.signal.stft(signals = x[0], frame_length = frame_length3, frame_step = frame_step3))), x[1]))\n",
        "\n",
        "\n",
        "data_size_var_train4 = data_train.map(lambda x: ((tf.shape(x)[1], tf.math.abs(tf.signal.stft(signals = x[0], frame_length = frame_length4, frame_step = frame_step4))), x[1]))\n",
        "data_size_var_test4 = data_test.map(lambda x: ((tf.shape(x)[1], tf.math.abs(tf.signal.stft(signals = x[0], frame_length = frame_length4, frame_step = frame_step4))), x[1]))\n",
        "data_size_var_valid4 = data_valid.map(lambda x: ((tf.shape(x)[1], tf.math.abs(tf.signal.stft(signals = x[0], frame_length = frame_length4, frame_step = frame_step4))), x[1]))"
      ]
    },
    {
      "cell_type": "markdown",
      "metadata": {
        "id": "XMUwWroOmnr5"
      },
      "source": [
        "### Define batch size for segmented data"
      ]
    },
    {
      "cell_type": "code",
      "execution_count": 113,
      "metadata": {
        "id": "lKeGYQUFm1mR"
      },
      "outputs": [],
      "source": [
        "batch_size=2\n",
        "input_train = data_train_stft.batch(batch_size)\n",
        "input_test = data_test_stft.batch(batch_size)\n",
        "input_valid = data_valid_stft.batch(batch_size)\n",
        "\n",
        "input_train1 = data_train_stft1.batch(batch_size)\n",
        "input_test1 = data_test_stft1.batch(batch_size)\n",
        "input_valid1 = data_valid_stft1.batch(batch_size)\n",
        "\n",
        "input_train2= data_train_stft2.batch(batch_size)\n",
        "input_test2 = data_test_stft2.batch(batch_size)\n",
        "input_valid2 = data_valid_stft2.batch(batch_size)\n",
        "\n",
        "\n"
      ]
    },
    {
      "cell_type": "markdown",
      "metadata": {
        "id": "Ib1-ZcIA7n8k"
      },
      "source": [
        "# Define batch size and add padding for variable size data"
      ]
    },
    {
      "cell_type": "code",
      "execution_count": 121,
      "metadata": {
        "id": "uPA-6mw97oGU"
      },
      "outputs": [],
      "source": [
        "batch_size = 2\n",
        "k = 129 #shape of x of input_variable_train\n",
        "k1 = 65\n",
        "k2 = 33\n",
        "k3 = 9\n",
        "k4=257\n",
        "\n",
        "input_variable_train = data_size_var_train.padded_batch(batch_size, padded_shapes = (([], tf.TensorShape([None, k])), [None]))\n",
        "input_variable_test = data_size_var_test.padded_batch(batch_size, padded_shapes = (([], tf.TensorShape([None, k])), [None]))\n",
        "input_variable_valid = data_size_var_valid.padded_batch(batch_size, padded_shapes = (([], tf.TensorShape([None, k])), [None]))\n",
        "\n",
        "input_variable_train1 = data_size_var_train1.padded_batch(batch_size, padded_shapes = (([], tf.TensorShape([None, k1])), [None]))\n",
        "input_variable_test1 = data_size_var_test1.padded_batch(batch_size, padded_shapes = (([], tf.TensorShape([None, k1])), [None]))\n",
        "input_variable_valid1 = data_size_var_valid1.padded_batch(batch_size, padded_shapes = (([], tf.TensorShape([None, k1])), [None]))\n",
        "\n",
        "input_variable_train2 = data_size_var_train2.padded_batch(batch_size, padded_shapes = (([], tf.TensorShape([None, k2])), [None]))\n",
        "input_variable_test2 = data_size_var_test2.padded_batch(batch_size, padded_shapes = (([], tf.TensorShape([None, k2])), [None]))\n",
        "input_variable_valid2 = data_size_var_valid2.padded_batch(batch_size, padded_shapes = (([], tf.TensorShape([None, k2])), [None]))\n",
        "\n",
        "\n",
        "input_variable_train3 = data_size_var_train3.padded_batch(batch_size, padded_shapes = (([], tf.TensorShape([None, k3])), [None]))\n",
        "input_variable_test3 = data_size_var_test3.padded_batch(batch_size, padded_shapes = (([], tf.TensorShape([None, k3])), [None]))\n",
        "input_variable_valid3 = data_size_var_valid3.padded_batch(batch_size, padded_shapes = (([], tf.TensorShape([None, k3])), [None]))\n",
        "\n",
        "input_variable_train4 = data_size_var_train4.padded_batch(batch_size, padded_shapes = (([], tf.TensorShape([None, k4])), [None]))\n",
        "input_variable_test4 = data_size_var_test4.padded_batch(batch_size, padded_shapes = (([], tf.TensorShape([None, k4])), [None]))\n",
        "input_variable_valid4 = data_size_var_valid4.padded_batch(batch_size, padded_shapes = (([], tf.TensorShape([None, k4])), [None]))\n",
        "\n"
      ]
    },
    {
      "cell_type": "markdown",
      "metadata": {
        "id": "6Xm4o8aZn7DK"
      },
      "source": [
        "### Check input shape for cut data"
      ]
    },
    {
      "cell_type": "code",
      "execution_count": 122,
      "metadata": {
        "colab": {
          "base_uri": "https://localhost:8080/"
        },
        "id": "977tYHXBn__w",
        "outputId": "53e1d8ab-be67-4368-93bf-57fc6e515a09"
      },
      "outputs": [
        {
          "output_type": "execute_result",
          "data": {
            "text/plain": [
              "((<tf.Tensor: shape=(2,), dtype=int32, numpy=array([24002, 19760], dtype=int32)>,\n",
              "  <tf.Tensor: shape=(2, 92, 257), dtype=float32, numpy=\n",
              "  array([[[3.5069106e+03, 4.0793867e+03, 9.3082041e+03, ...,\n",
              "           4.0492157e+01, 2.0264843e+01, 2.4007935e+01],\n",
              "          [7.5620532e+03, 1.3644040e+04, 1.7828512e+04, ...,\n",
              "           5.8783367e+01, 3.7405289e+01, 5.7314453e+00],\n",
              "          [1.8803621e+04, 2.1757680e+04, 1.8341588e+04, ...,\n",
              "           6.0304623e+01, 5.4558037e+01, 4.1676758e+01],\n",
              "          ...,\n",
              "          [1.3640516e+03, 1.5890222e+04, 2.6753848e+04, ...,\n",
              "           6.0183071e+01, 7.7799835e+01, 9.2375732e+01],\n",
              "          [4.7822598e+03, 1.3282103e+04, 1.8838701e+04, ...,\n",
              "           5.0399021e+01, 6.1371971e+01, 5.9082275e+01],\n",
              "          [7.2808555e+03, 1.3749364e+04, 3.8899512e+04, ...,\n",
              "           1.3053679e+01, 3.0674490e+01, 4.9296143e+01]],\n",
              "  \n",
              "         [[6.4943838e+03, 1.1741653e+04, 5.9216590e+04, ...,\n",
              "           2.0608145e+01, 2.9320316e+01, 7.4231689e+01],\n",
              "          [1.3050049e+03, 4.4557809e+04, 1.1203248e+05, ...,\n",
              "           3.3509331e+01, 4.5191868e+01, 3.8381042e+01],\n",
              "          [1.9073316e+04, 7.0544891e+04, 1.3923636e+05, ...,\n",
              "           4.9476013e+01, 3.1858482e+01, 3.4125000e+01],\n",
              "          ...,\n",
              "          [0.0000000e+00, 0.0000000e+00, 0.0000000e+00, ...,\n",
              "           0.0000000e+00, 0.0000000e+00, 0.0000000e+00],\n",
              "          [0.0000000e+00, 0.0000000e+00, 0.0000000e+00, ...,\n",
              "           0.0000000e+00, 0.0000000e+00, 0.0000000e+00],\n",
              "          [0.0000000e+00, 0.0000000e+00, 0.0000000e+00, ...,\n",
              "           0.0000000e+00, 0.0000000e+00, 0.0000000e+00]]], dtype=float32)>),\n",
              " <tf.Tensor: shape=(2, 24002), dtype=float32, numpy=\n",
              " array([[4., 4., 4., ..., 3., 3., 3.],\n",
              "        [4., 4., 4., ..., 0., 0., 0.]], dtype=float32)>)"
            ]
          },
          "metadata": {},
          "execution_count": 122
        }
      ],
      "source": [
        "it1 = iter(input_variable_valid4)\n",
        "ex1 = next(it1)\n",
        "ex1 #input_train: shape=(2, 55, 129) data_size_var_train shape=(1493, 129), input_variable_train shape=(2, 1493, 129)\n",
        "# data_size_var_train shape=(1493, 129) data_size_var_train1 shape=(1497, 65) data_size_var_train2 shape=(1499, 33) # data_size_var_train3 shape=(5999, 9), data_size_var_train4 shape=(374, 129)"
      ]
    },
    {
      "cell_type": "markdown",
      "metadata": {
        "id": "5OaYPeZeoeb4"
      },
      "source": [
        "### Define input shape for FNN"
      ]
    },
    {
      "cell_type": "code",
      "execution_count": 24,
      "metadata": {
        "colab": {
          "base_uri": "https://localhost:8080/"
        },
        "id": "K8lUY9lPoelP",
        "outputId": "d63f42f3-7b38-4486-b303-39c5e05177b5"
      },
      "outputs": [
        {
          "output_type": "stream",
          "name": "stdout",
          "text": [
            "WARNING:tensorflow:From /usr/local/lib/python3.7/dist-packages/tensorflow/python/data/ops/iterator_ops.py:362: Iterator.output_types (from tensorflow.python.data.ops.iterator_ops) is deprecated and will be removed in a future version.\n",
            "Instructions for updating:\n",
            "Use `tf.compat.v1.data.get_output_types(iterator)`.\n",
            "WARNING:tensorflow:From /usr/local/lib/python3.7/dist-packages/tensorflow/python/data/ops/iterator_ops.py:363: Iterator.output_shapes (from tensorflow.python.data.ops.iterator_ops) is deprecated and will be removed in a future version.\n",
            "Instructions for updating:\n",
            "Use `tf.compat.v1.data.get_output_shapes(iterator)`.\n",
            "WARNING:tensorflow:From /usr/local/lib/python3.7/dist-packages/tensorflow/python/data/ops/iterator_ops.py:365: Iterator.output_classes (from tensorflow.python.data.ops.iterator_ops) is deprecated and will be removed in a future version.\n",
            "Instructions for updating:\n",
            "Use `tf.compat.v1.data.get_output_classes(iterator)`.\n",
            "(55, 129)\n"
          ]
        }
      ],
      "source": [
        "itera = tf.compat.v1.data.Iterator.from_structure(tf.compat.v1.data.get_output_types(input_train),\n",
        "                                           tf.compat.v1.data.get_output_shapes(input_train))\n",
        "train_init_op = itera.make_initializer(input_train)\n",
        "\n",
        "features, labels = itera.get_next()\n",
        "sample = itera.get_next()\n",
        "sample\n",
        "input_shape = np.shape((sample)[0])[1:]\n",
        "print(input_shape)"
      ]
    },
    {
      "cell_type": "code",
      "source": [
        "itera1 = tf.compat.v1.data.Iterator.from_structure(tf.compat.v1.data.get_output_types(input_train1),\n",
        "                                           tf.compat.v1.data.get_output_shapes(input_train1))\n",
        "train_init_op1 = itera1.make_initializer(input_train1)\n",
        "\n",
        "features, labels = itera1.get_next()\n",
        "sample1 = itera1.get_next()\n",
        "sample1\n",
        "input_shape1 = np.shape((sample1)[0])[1:]\n",
        "print(input_shape1)"
      ],
      "metadata": {
        "colab": {
          "base_uri": "https://localhost:8080/"
        },
        "id": "qKVsCdsLZqEz",
        "outputId": "bd98c78f-b60b-4557-d9bd-9bb3e6921666"
      },
      "execution_count": 25,
      "outputs": [
        {
          "output_type": "stream",
          "name": "stdout",
          "text": [
            "(59, 65)\n"
          ]
        }
      ]
    },
    {
      "cell_type": "code",
      "source": [
        "itera2 = tf.compat.v1.data.Iterator.from_structure(tf.compat.v1.data.get_output_types(input_train2),\n",
        "                                           tf.compat.v1.data.get_output_shapes(input_train2))\n",
        "train_init_op2 = itera1.make_initializer(input_train2)\n",
        "\n",
        "features, labels = itera2.get_next()\n",
        "sample2 = itera2.get_next()\n",
        "sample2\n",
        "input_shape2 = np.shape((sample2)[0])[1:]\n",
        "print(input_shape2)"
      ],
      "metadata": {
        "colab": {
          "base_uri": "https://localhost:8080/"
        },
        "id": "5qzWhaHsZqQx",
        "outputId": "309e45a4-2ca2-492c-f810-c56ff34b8166"
      },
      "execution_count": 26,
      "outputs": [
        {
          "output_type": "stream",
          "name": "stdout",
          "text": [
            "(61, 33)\n"
          ]
        }
      ]
    },
    {
      "cell_type": "markdown",
      "metadata": {
        "id": "jWG4Y0ZAh6dW"
      },
      "source": [
        "## FeedForward Neural network - all models in Notebook2"
      ]
    },
    {
      "cell_type": "markdown",
      "metadata": {
        "id": "SYUbzBEjjnIV"
      },
      "source": [
        "**Tested parameters: **\n",
        "\n",
        "---\n",
        "\n",
        "*   Batch size 2, 16 and 32\n",
        "*   Optimisers: SGD, Adam, RMSprop\n",
        "*   Learning rate: 0.1, 0.001, 0.0001\n",
        "*   Passing different input sizes for STFT (Input: frame_length=256, frame_step =32, Input: frame_length=128, frame_step =32, Input: frame_length=64, frame_step =32)\n",
        "*   Different number of layers with different sizes (Model1= 1024, 512, 256, 128, 100, Model2= 256, 128, 100, Model 3= Model2= 256, 100, Model 4= 128, 100)\n",
        "*   Also, RelU and LeakyRelU was tried as activation functions. \n",
        "*   Batch normalisation was added and various dropout options.\n",
        "\n",
        "\n",
        "\n"
      ]
    },
    {
      "cell_type": "markdown",
      "metadata": {
        "id": "unA1tqaqh6yV"
      },
      "source": [
        "## Recurrent Neural network"
      ]
    },
    {
      "cell_type": "markdown",
      "source": [
        "**Tested parameters: **\n",
        "\n",
        "---\n",
        "\n",
        "*   Batch size 2, 16 and 32\n",
        "*   Optimisers: SGD, Adam.\n",
        "*   Learning rate: 0.1, 0.5 and 0.001 (this one was running too slow, could not finish training)\n",
        "*   Passing different input sizes for STFT (Input: frame_length=256, frame_step =32, Input: frame_length=128, frame_step =32, Input: frame_length=64, frame_step =32, Input: frame_length=32, frame_step =16)\n",
        "*   Different number of layers with different sizes (Model1= LSTM(50), LSTM(50) with TimeDistributed(Dense(150)) did not seem to train anything with Input size 129 and learning rate of 0.5), Model2= LSTM(32), Dropout(0.5) with TimeDistributed(Dense(150)) and learning rate 0.1, 1h30 per epoch, trained only 5 epochs as google colab stopped several times)"
      ],
      "metadata": {
        "id": "YYk_fdHqcqpl"
      }
    },
    {
      "cell_type": "code",
      "source": [
        "NUM_EPOCHS = 5 #Increase epochs if you do not see a flatlined loss function\n",
        "#Add batch normalization\n",
        "INIT_LR  = 0.0001 #change to 0.001 after\n",
        "BS = 32 #batch size\n",
        "opt= SGD(learning_rate=INIT_LR, momentum=0.9, decay=INIT_LR / NUM_EPOCHS)\n",
        "opt2 = tf.optimizers.Adam(learning_rate = INIT_LR)\n",
        "from keras.callbacks import EarlyStopping  \n",
        "early_stopping =EarlyStopping(monitor='loss', patience=2) "
      ],
      "metadata": {
        "id": "pRxTMDmgsnLC"
      },
      "execution_count": 140,
      "outputs": []
    },
    {
      "cell_type": "markdown",
      "metadata": {
        "id": "677tbHHoj64D"
      },
      "source": [
        "### Models"
      ]
    },
    {
      "cell_type": "code",
      "execution_count": 64,
      "metadata": {
        "id": "U9GPFOSRj7PL"
      },
      "outputs": [],
      "source": [
        "def rnn_variable(opt, inputs, input_variable_valid, input_variable_test):\n",
        "  inputs = Input(shape=(None,33),name='inputs')\n",
        "  inputs_L = Input(shape=[],name='inputs2')\n",
        "  #layer= LSTM(128,return_sequences=True)(inputs) \n",
        "  #layer = Activation(\"relu\")(layer)\n",
        "  #layer= LSTM(32,return_sequences=True)(inputs)\n",
        "  #layer = BatchNormalization(axis=-1)(layer)\n",
        "  #layer = Activation(\"LeakyReLU\")(layer)\n",
        "  #layer= LSTM(64,return_sequences=True)(inputs)\n",
        "  layer= LSTM(32,return_sequences=True)(inputs) \n",
        "  layer = Activation(\"LeakyReLU\")(layer)\n",
        "  layer = BatchNormalization(axis=-1)(layer)\n",
        "  layer = Dropout(0.5)(layer)\n",
        "  layer = TimeDistributed(Dense(150))(layer)\n",
        "  layer = Reshape((-1,5))(layer)\n",
        "  layer = UpSampling1D(size=15)(layer)\n",
        "  L = tf.cast(tf.reduce_max(inputs_L), tf.int32)\n",
        "  output = layer[:,:L]\n",
        "  model = Model(inputs = (inputs_L,inputs) , outputs=output)\n",
        "  model.compile(loss=\"sparse_categorical_crossentropy\", optimizer=opt, metrics=[\"sparse_categorical_accuracy\"])\n",
        "  history = model.fit(input_variable_train2, validation_data=input_variable_valid2, batch_size=BS, epochs=NUM_EPOCHS, verbose=1)\n",
        "  # plotting the metrics\n",
        "  plt.subplot(2, 1, 1)\n",
        "  plt.title('Sparse Crossentropy Loss')\n",
        "  plt.plot(history.history['loss'], color='blue', label='train')\n",
        "  plt.plot(history.history['val_loss'], color='orange', label='val')\n",
        "\t# plot accuracy\n",
        "  plt.subplot(2, 1, 2)\n",
        "  plt.title('Classification Accuracy')\n",
        "  plt.plot(history.history['sparse_categorical_accuracy'], color='blue', label='train')\n",
        "  plt.plot(history.history['val_sparse_categorical_accuracy'], color='orange', label='val')\n",
        "  score = model.evaluate(input_variable_test2, verbose=0) #evaluate based on test dataset, which was not used for training and validation\n",
        "  return model.summary(), history, print('Loss using testing dataset=', score[0]), print('Accuracy using testing dataset=', score[1])"
      ]
    },
    {
      "cell_type": "code",
      "source": [
        "rnn= rnn_variable(opt2, input_variable_train2, input_variable_valid2,input_variable_test2)"
      ],
      "metadata": {
        "colab": {
          "base_uri": "https://localhost:8080/",
          "height": 1000
        },
        "id": "1CjsrER_qJA4",
        "outputId": "08447e74-229d-440c-cf14-fb5bba807380"
      },
      "execution_count": 65,
      "outputs": [
        {
          "output_type": "stream",
          "name": "stdout",
          "text": [
            "Epoch 1/5\n",
            "1250/1250 [==============================] - 5168s 4s/step - loss: 1.6970 - sparse_categorical_accuracy: 0.2160 - val_loss: 1.6086 - val_sparse_categorical_accuracy: 0.1903\n",
            "Epoch 2/5\n",
            "1250/1250 [==============================] - 5193s 4s/step - loss: 1.6204 - sparse_categorical_accuracy: 0.2150 - val_loss: 1.6086 - val_sparse_categorical_accuracy: 0.2071\n",
            "Epoch 3/5\n",
            "1250/1250 [==============================] - 5180s 4s/step - loss: 1.6494 - sparse_categorical_accuracy: 0.2102 - val_loss: 1.6092 - val_sparse_categorical_accuracy: 0.1763\n",
            "Epoch 4/5\n",
            "1250/1250 [==============================] - 5230s 4s/step - loss: 1.6302 - sparse_categorical_accuracy: 0.2116 - val_loss: 1.6098 - val_sparse_categorical_accuracy: 0.1818\n",
            "Epoch 5/5\n",
            "1250/1250 [==============================] - 5186s 4s/step - loss: 1.6690 - sparse_categorical_accuracy: 0.2180 - val_loss: 1.7777 - val_sparse_categorical_accuracy: 0.1812\n",
            "Model: \"model_12\"\n",
            "__________________________________________________________________________________________________\n",
            " Layer (type)                   Output Shape         Param #     Connected to                     \n",
            "==================================================================================================\n",
            " inputs (InputLayer)            [(None, None, 33)]   0           []                               \n",
            "                                                                                                  \n",
            " lstm_12 (LSTM)                 (None, None, 32)     8448        ['inputs[0][0]']                 \n",
            "                                                                                                  \n",
            " activation_12 (Activation)     (None, None, 32)     0           ['lstm_12[0][0]']                \n",
            "                                                                                                  \n",
            " batch_normalization_12 (BatchN  (None, None, 32)    128         ['activation_12[0][0]']          \n",
            " ormalization)                                                                                    \n",
            "                                                                                                  \n",
            " dropout_12 (Dropout)           (None, None, 32)     0           ['batch_normalization_12[0][0]'] \n",
            "                                                                                                  \n",
            " time_distributed_12 (TimeDistr  (None, None, 150)   4950        ['dropout_12[0][0]']             \n",
            " ibuted)                                                                                          \n",
            "                                                                                                  \n",
            " inputs2 (InputLayer)           [(None,)]            0           []                               \n",
            "                                                                                                  \n",
            " reshape_12 (Reshape)           (None, None, 5)      0           ['time_distributed_12[0][0]']    \n",
            "                                                                                                  \n",
            " tf.math.reduce_max_12 (TFOpLam  ()                  0           ['inputs2[0][0]']                \n",
            " bda)                                                                                             \n",
            "                                                                                                  \n",
            " up_sampling1d_12 (UpSampling1D  (None, None, 5)     0           ['reshape_12[0][0]']             \n",
            " )                                                                                                \n",
            "                                                                                                  \n",
            " tf.cast_12 (TFOpLambda)        ()                   0           ['tf.math.reduce_max_12[0][0]']  \n",
            "                                                                                                  \n",
            " tf.__operators__.getitem_12 (S  (None, None, 5)     0           ['up_sampling1d_12[0][0]',       \n",
            " licingOpLambda)                                                  'tf.cast_12[0][0]']             \n",
            "                                                                                                  \n",
            "==================================================================================================\n",
            "Total params: 13,526\n",
            "Trainable params: 13,462\n",
            "Non-trainable params: 64\n",
            "__________________________________________________________________________________________________\n",
            "Loss using testing dataset= 1.763174295425415\n",
            "Accuracy using testing dataset= 0.20029832422733307\n"
          ]
        },
        {
          "output_type": "display_data",
          "data": {
            "text/plain": [
              "<Figure size 432x288 with 2 Axes>"
            ],
            "image/png": "[encoded data removed]"
          },
          "metadata": {}
        }
      ]
    },
    {
      "cell_type": "code",
      "source": [
        "def rnn_variable_c(opt, inputs, input_variable_valid,input_variable_test):\n",
        "  inputs = Input(shape=(None,257),name='inputs')\n",
        "  inputs_L = Input(shape=[],name='inputs2')\n",
        "  layer= LSTM(50,return_sequences=True)(inputs) \n",
        "  layer = BatchNormalization(axis=-1)(layer)\n",
        "  layer = Activation(\"relu\")(layer)\n",
        "  layer= LSTM(50,return_sequences=True)(layer)\n",
        "  layer = BatchNormalization(axis=-1)(layer)\n",
        "  layer = Activation(\"relu\")(layer)\n",
        "  layer= LSTM(50,return_sequences=True)(layer)\n",
        "  layer = BatchNormalization(axis=-1)(layer)\n",
        "  layer = Activation(\"relu\")(layer)\n",
        "  layer = BatchNormalization(axis=-1)(layer)\n",
        "  layer = Dropout(0.2)(layer)\n",
        "  layer = TimeDistributed(Dense(1500))(layer)\n",
        "  layer = Reshape((-1,5))(layer)\n",
        "  layer = UpSampling1D(size=15)(layer)\n",
        "  L = tf.cast(tf.reduce_max(inputs_L), tf.int32)\n",
        "  output = layer[:,:L]\n",
        "  model = Model(inputs = (inputs_L,inputs) , outputs=output)\n",
        "  model.compile(loss=\"sparse_categorical_crossentropy\", optimizer=opt, metrics=[\"sparse_categorical_accuracy\"])\n",
        "  history = model.fit(input_variable_train4, validation_data=input_variable_valid4, batch_size=BS, epochs=NUM_EPOCHS, verbose=1)\n",
        "  # plotting the metrics\n",
        "  plt.subplot(2, 1, 1)\n",
        "  plt.title('Sparse Crossentropy Loss')\n",
        "  plt.plot(history.history['loss'], color='blue', label='train')\n",
        "  plt.plot(history.history['val_loss'], color='orange', label='val')\n",
        "\t# plot accuracy\n",
        "  plt.subplot(2, 1, 2)\n",
        "  plt.title('Classification Accuracy')\n",
        "  plt.plot(history.history['sparse_categorical_accuracy'], color='blue', label='train')\n",
        "  plt.plot(history.history['val_sparse_categorical_accuracy'], color='orange', label='val')\n",
        "  score = model.evaluate(input_variable_test4, verbose=0) #evaluate based on test dataset, which was not used for training and validation\n",
        "  return model.summary(), history, print('Loss using testing dataset=', score[0]), print('Accuracy using testing dataset=', score[1])"
      ],
      "metadata": {
        "id": "QjB8y_6qg0EN"
      },
      "execution_count": 87,
      "outputs": []
    },
    {
      "cell_type": "code",
      "source": [
        "rnn1= rnn_variable_c(opt2, input_variable_train4, input_variable_valid4,input_variable_test4)"
      ],
      "metadata": {
        "colab": {
          "base_uri": "https://localhost:8080/",
          "height": 345
        },
        "id": "kXi6v3LEg2sD",
        "outputId": "775032a1-d456-4dce-b2c4-1f862a52b748"
      },
      "execution_count": 136,
      "outputs": [
        {
          "output_type": "stream",
          "name": "stdout",
          "text": [
            "Epoch 1/10\n",
            "   4/1250 [..............................] - ETA: 1:21:19 - loss: 7.2147 - sparse_categorical_accuracy: 0.2549"
          ]
        },
        {
          "output_type": "error",
          "ename": "KeyboardInterrupt",
          "evalue": "ignored",
          "traceback": [
            "\u001b[0;31m---------------------------------------------------------------------------\u001b[0m",
            "\u001b[0;31mKeyboardInterrupt\u001b[0m                         Traceback (most recent call last)",
            "\u001b[0;32m<ipython-input-136-96f16d3c3443>\u001b[0m in \u001b[0;36m<module>\u001b[0;34m()\u001b[0m\n\u001b[0;32m----> 1\u001b[0;31m \u001b[0mrnn1\u001b[0m\u001b[0;34m=\u001b[0m \u001b[0mrnn_variable1\u001b[0m\u001b[0;34m(\u001b[0m\u001b[0mopt\u001b[0m\u001b[0;34m,\u001b[0m \u001b[0minput_variable_train2\u001b[0m\u001b[0;34m,\u001b[0m \u001b[0minput_variable_valid2\u001b[0m\u001b[0;34m,\u001b[0m\u001b[0minput_variable_test2\u001b[0m\u001b[0;34m)\u001b[0m\u001b[0;34m\u001b[0m\u001b[0;34m\u001b[0m\u001b[0m\n\u001b[0m",
            "\u001b[0;32m<ipython-input-87-bdc1ca799521>\u001b[0m in \u001b[0;36mrnn_variable1\u001b[0;34m(opt, inputs, input_variable_valid, input_variable_test)\u001b[0m\n\u001b[1;32m     19\u001b[0m   \u001b[0mmodel\u001b[0m \u001b[0;34m=\u001b[0m \u001b[0mModel\u001b[0m\u001b[0;34m(\u001b[0m\u001b[0minputs\u001b[0m \u001b[0;34m=\u001b[0m \u001b[0;34m(\u001b[0m\u001b[0minputs_L\u001b[0m\u001b[0;34m,\u001b[0m\u001b[0minputs\u001b[0m\u001b[0;34m)\u001b[0m \u001b[0;34m,\u001b[0m \u001b[0moutputs\u001b[0m\u001b[0;34m=\u001b[0m\u001b[0moutput\u001b[0m\u001b[0;34m)\u001b[0m\u001b[0;34m\u001b[0m\u001b[0;34m\u001b[0m\u001b[0m\n\u001b[1;32m     20\u001b[0m   \u001b[0mmodel\u001b[0m\u001b[0;34m.\u001b[0m\u001b[0mcompile\u001b[0m\u001b[0;34m(\u001b[0m\u001b[0mloss\u001b[0m\u001b[0;34m=\u001b[0m\u001b[0;34m\"sparse_categorical_crossentropy\"\u001b[0m\u001b[0;34m,\u001b[0m \u001b[0moptimizer\u001b[0m\u001b[0;34m=\u001b[0m\u001b[0mopt\u001b[0m\u001b[0;34m,\u001b[0m \u001b[0mmetrics\u001b[0m\u001b[0;34m=\u001b[0m\u001b[0;34m[\u001b[0m\u001b[0;34m\"sparse_categorical_accuracy\"\u001b[0m\u001b[0;34m]\u001b[0m\u001b[0;34m)\u001b[0m\u001b[0;34m\u001b[0m\u001b[0;34m\u001b[0m\u001b[0m\n\u001b[0;32m---> 21\u001b[0;31m   \u001b[0mhistory\u001b[0m \u001b[0;34m=\u001b[0m \u001b[0mmodel\u001b[0m\u001b[0;34m.\u001b[0m\u001b[0mfit\u001b[0m\u001b[0;34m(\u001b[0m\u001b[0minput_variable_train\u001b[0m\u001b[0;34m,\u001b[0m \u001b[0mvalidation_data\u001b[0m\u001b[0;34m=\u001b[0m\u001b[0minput_variable_valid\u001b[0m\u001b[0;34m,\u001b[0m \u001b[0mbatch_size\u001b[0m\u001b[0;34m=\u001b[0m\u001b[0mBS\u001b[0m\u001b[0;34m,\u001b[0m \u001b[0mepochs\u001b[0m\u001b[0;34m=\u001b[0m\u001b[0mNUM_EPOCHS\u001b[0m\u001b[0;34m,\u001b[0m \u001b[0mverbose\u001b[0m\u001b[0;34m=\u001b[0m\u001b[0;36m1\u001b[0m\u001b[0;34m)\u001b[0m\u001b[0;34m\u001b[0m\u001b[0;34m\u001b[0m\u001b[0m\n\u001b[0m\u001b[1;32m     22\u001b[0m   \u001b[0;31m# plotting the metrics\u001b[0m\u001b[0;34m\u001b[0m\u001b[0;34m\u001b[0m\u001b[0;34m\u001b[0m\u001b[0m\n\u001b[1;32m     23\u001b[0m   \u001b[0mplt\u001b[0m\u001b[0;34m.\u001b[0m\u001b[0msubplot\u001b[0m\u001b[0;34m(\u001b[0m\u001b[0;36m2\u001b[0m\u001b[0;34m,\u001b[0m \u001b[0;36m1\u001b[0m\u001b[0;34m,\u001b[0m \u001b[0;36m1\u001b[0m\u001b[0;34m)\u001b[0m\u001b[0;34m\u001b[0m\u001b[0;34m\u001b[0m\u001b[0m\n",
            "\u001b[0;32m/usr/local/lib/python3.7/dist-packages/keras/utils/traceback_utils.py\u001b[0m in \u001b[0;36merror_handler\u001b[0;34m(*args, **kwargs)\u001b[0m\n\u001b[1;32m     62\u001b[0m     \u001b[0mfiltered_tb\u001b[0m \u001b[0;34m=\u001b[0m \u001b[0;32mNone\u001b[0m\u001b[0;34m\u001b[0m\u001b[0;34m\u001b[0m\u001b[0m\n\u001b[1;32m     63\u001b[0m     \u001b[0;32mtry\u001b[0m\u001b[0;34m:\u001b[0m\u001b[0;34m\u001b[0m\u001b[0;34m\u001b[0m\u001b[0m\n\u001b[0;32m---> 64\u001b[0;31m       \u001b[0;32mreturn\u001b[0m \u001b[0mfn\u001b[0m\u001b[0;34m(\u001b[0m\u001b[0;34m*\u001b[0m\u001b[0margs\u001b[0m\u001b[0;34m,\u001b[0m \u001b[0;34m**\u001b[0m\u001b[0mkwargs\u001b[0m\u001b[0;34m)\u001b[0m\u001b[0;34m\u001b[0m\u001b[0;34m\u001b[0m\u001b[0m\n\u001b[0m\u001b[1;32m     65\u001b[0m     \u001b[0;32mexcept\u001b[0m \u001b[0mException\u001b[0m \u001b[0;32mas\u001b[0m \u001b[0me\u001b[0m\u001b[0;34m:\u001b[0m  \u001b[0;31m# pylint: disable=broad-except\u001b[0m\u001b[0;34m\u001b[0m\u001b[0;34m\u001b[0m\u001b[0m\n\u001b[1;32m     66\u001b[0m       \u001b[0mfiltered_tb\u001b[0m \u001b[0;34m=\u001b[0m \u001b[0m_process_traceback_frames\u001b[0m\u001b[0;34m(\u001b[0m\u001b[0me\u001b[0m\u001b[0;34m.\u001b[0m\u001b[0m__traceback__\u001b[0m\u001b[0;34m)\u001b[0m\u001b[0;34m\u001b[0m\u001b[0;34m\u001b[0m\u001b[0m\n",
            "\u001b[0;32m/usr/local/lib/python3.7/dist-packages/keras/engine/training.py\u001b[0m in \u001b[0;36mfit\u001b[0;34m(self, x, y, batch_size, epochs, verbose, callbacks, validation_split, validation_data, shuffle, class_weight, sample_weight, initial_epoch, steps_per_epoch, validation_steps, validation_batch_size, validation_freq, max_queue_size, workers, use_multiprocessing)\u001b[0m\n\u001b[1;32m   1382\u001b[0m                 _r=1):\n\u001b[1;32m   1383\u001b[0m               \u001b[0mcallbacks\u001b[0m\u001b[0;34m.\u001b[0m\u001b[0mon_train_batch_begin\u001b[0m\u001b[0;34m(\u001b[0m\u001b[0mstep\u001b[0m\u001b[0;34m)\u001b[0m\u001b[0;34m\u001b[0m\u001b[0;34m\u001b[0m\u001b[0m\n\u001b[0;32m-> 1384\u001b[0;31m               \u001b[0mtmp_logs\u001b[0m \u001b[0;34m=\u001b[0m \u001b[0mself\u001b[0m\u001b[0;34m.\u001b[0m\u001b[0mtrain_function\u001b[0m\u001b[0;34m(\u001b[0m\u001b[0miterator\u001b[0m\u001b[0;34m)\u001b[0m\u001b[0;34m\u001b[0m\u001b[0;34m\u001b[0m\u001b[0m\n\u001b[0m\u001b[1;32m   1385\u001b[0m               \u001b[0;32mif\u001b[0m \u001b[0mdata_handler\u001b[0m\u001b[0;34m.\u001b[0m\u001b[0mshould_sync\u001b[0m\u001b[0;34m:\u001b[0m\u001b[0;34m\u001b[0m\u001b[0;34m\u001b[0m\u001b[0m\n\u001b[1;32m   1386\u001b[0m                 \u001b[0mcontext\u001b[0m\u001b[0;34m.\u001b[0m\u001b[0masync_wait\u001b[0m\u001b[0;34m(\u001b[0m\u001b[0;34m)\u001b[0m\u001b[0;34m\u001b[0m\u001b[0;34m\u001b[0m\u001b[0m\n",
            "\u001b[0;32m/usr/local/lib/python3.7/dist-packages/tensorflow/python/util/traceback_utils.py\u001b[0m in \u001b[0;36merror_handler\u001b[0;34m(*args, **kwargs)\u001b[0m\n\u001b[1;32m    148\u001b[0m     \u001b[0mfiltered_tb\u001b[0m \u001b[0;34m=\u001b[0m \u001b[0;32mNone\u001b[0m\u001b[0;34m\u001b[0m\u001b[0;34m\u001b[0m\u001b[0m\n\u001b[1;32m    149\u001b[0m     \u001b[0;32mtry\u001b[0m\u001b[0;34m:\u001b[0m\u001b[0;34m\u001b[0m\u001b[0;34m\u001b[0m\u001b[0m\n\u001b[0;32m--> 150\u001b[0;31m       \u001b[0;32mreturn\u001b[0m \u001b[0mfn\u001b[0m\u001b[0;34m(\u001b[0m\u001b[0;34m*\u001b[0m\u001b[0margs\u001b[0m\u001b[0;34m,\u001b[0m \u001b[0;34m**\u001b[0m\u001b[0mkwargs\u001b[0m\u001b[0;34m)\u001b[0m\u001b[0;34m\u001b[0m\u001b[0;34m\u001b[0m\u001b[0m\n\u001b[0m\u001b[1;32m    151\u001b[0m     \u001b[0;32mexcept\u001b[0m \u001b[0mException\u001b[0m \u001b[0;32mas\u001b[0m \u001b[0me\u001b[0m\u001b[0;34m:\u001b[0m\u001b[0;34m\u001b[0m\u001b[0;34m\u001b[0m\u001b[0m\n\u001b[1;32m    152\u001b[0m       \u001b[0mfiltered_tb\u001b[0m \u001b[0;34m=\u001b[0m \u001b[0m_process_traceback_frames\u001b[0m\u001b[0;34m(\u001b[0m\u001b[0me\u001b[0m\u001b[0;34m.\u001b[0m\u001b[0m__traceback__\u001b[0m\u001b[0;34m)\u001b[0m\u001b[0;34m\u001b[0m\u001b[0;34m\u001b[0m\u001b[0m\n",
            "\u001b[0;32m/usr/local/lib/python3.7/dist-packages/tensorflow/python/eager/def_function.py\u001b[0m in \u001b[0;36m__call__\u001b[0;34m(self, *args, **kwds)\u001b[0m\n\u001b[1;32m    913\u001b[0m \u001b[0;34m\u001b[0m\u001b[0m\n\u001b[1;32m    914\u001b[0m       \u001b[0;32mwith\u001b[0m \u001b[0mOptionalXlaContext\u001b[0m\u001b[0;34m(\u001b[0m\u001b[0mself\u001b[0m\u001b[0;34m.\u001b[0m\u001b[0m_jit_compile\u001b[0m\u001b[0;34m)\u001b[0m\u001b[0;34m:\u001b[0m\u001b[0;34m\u001b[0m\u001b[0;34m\u001b[0m\u001b[0m\n\u001b[0;32m--> 915\u001b[0;31m         \u001b[0mresult\u001b[0m \u001b[0;34m=\u001b[0m \u001b[0mself\u001b[0m\u001b[0;34m.\u001b[0m\u001b[0m_call\u001b[0m\u001b[0;34m(\u001b[0m\u001b[0;34m*\u001b[0m\u001b[0margs\u001b[0m\u001b[0;34m,\u001b[0m \u001b[0;34m**\u001b[0m\u001b[0mkwds\u001b[0m\u001b[0;34m)\u001b[0m\u001b[0;34m\u001b[0m\u001b[0;34m\u001b[0m\u001b[0m\n\u001b[0m\u001b[1;32m    916\u001b[0m \u001b[0;34m\u001b[0m\u001b[0m\n\u001b[1;32m    917\u001b[0m       \u001b[0mnew_tracing_count\u001b[0m \u001b[0;34m=\u001b[0m \u001b[0mself\u001b[0m\u001b[0;34m.\u001b[0m\u001b[0mexperimental_get_tracing_count\u001b[0m\u001b[0;34m(\u001b[0m\u001b[0;34m)\u001b[0m\u001b[0;34m\u001b[0m\u001b[0;34m\u001b[0m\u001b[0m\n",
            "\u001b[0;32m/usr/local/lib/python3.7/dist-packages/tensorflow/python/eager/def_function.py\u001b[0m in \u001b[0;36m_call\u001b[0;34m(self, *args, **kwds)\u001b[0m\n\u001b[1;32m    945\u001b[0m       \u001b[0;31m# In this case we have created variables on the first call, so we run the\u001b[0m\u001b[0;34m\u001b[0m\u001b[0;34m\u001b[0m\u001b[0;34m\u001b[0m\u001b[0m\n\u001b[1;32m    946\u001b[0m       \u001b[0;31m# defunned version which is guaranteed to never create variables.\u001b[0m\u001b[0;34m\u001b[0m\u001b[0;34m\u001b[0m\u001b[0;34m\u001b[0m\u001b[0m\n\u001b[0;32m--> 947\u001b[0;31m       \u001b[0;32mreturn\u001b[0m \u001b[0mself\u001b[0m\u001b[0;34m.\u001b[0m\u001b[0m_stateless_fn\u001b[0m\u001b[0;34m(\u001b[0m\u001b[0;34m*\u001b[0m\u001b[0margs\u001b[0m\u001b[0;34m,\u001b[0m \u001b[0;34m**\u001b[0m\u001b[0mkwds\u001b[0m\u001b[0;34m)\u001b[0m  \u001b[0;31m# pylint: disable=not-callable\u001b[0m\u001b[0;34m\u001b[0m\u001b[0;34m\u001b[0m\u001b[0m\n\u001b[0m\u001b[1;32m    948\u001b[0m     \u001b[0;32melif\u001b[0m \u001b[0mself\u001b[0m\u001b[0;34m.\u001b[0m\u001b[0m_stateful_fn\u001b[0m \u001b[0;32mis\u001b[0m \u001b[0;32mnot\u001b[0m \u001b[0;32mNone\u001b[0m\u001b[0;34m:\u001b[0m\u001b[0;34m\u001b[0m\u001b[0;34m\u001b[0m\u001b[0m\n\u001b[1;32m    949\u001b[0m       \u001b[0;31m# Release the lock early so that multiple threads can perform the call\u001b[0m\u001b[0;34m\u001b[0m\u001b[0;34m\u001b[0m\u001b[0;34m\u001b[0m\u001b[0m\n",
            "\u001b[0;32m/usr/local/lib/python3.7/dist-packages/tensorflow/python/eager/function.py\u001b[0m in \u001b[0;36m__call__\u001b[0;34m(self, *args, **kwargs)\u001b[0m\n\u001b[1;32m   2955\u001b[0m        filtered_flat_args) = self._maybe_define_function(args, kwargs)\n\u001b[1;32m   2956\u001b[0m     return graph_function._call_flat(\n\u001b[0;32m-> 2957\u001b[0;31m         filtered_flat_args, captured_inputs=graph_function.captured_inputs)  # pylint: disable=protected-access\n\u001b[0m\u001b[1;32m   2958\u001b[0m \u001b[0;34m\u001b[0m\u001b[0m\n\u001b[1;32m   2959\u001b[0m   \u001b[0;34m@\u001b[0m\u001b[0mproperty\u001b[0m\u001b[0;34m\u001b[0m\u001b[0;34m\u001b[0m\u001b[0m\n",
            "\u001b[0;32m/usr/local/lib/python3.7/dist-packages/tensorflow/python/eager/function.py\u001b[0m in \u001b[0;36m_call_flat\u001b[0;34m(self, args, captured_inputs, cancellation_manager)\u001b[0m\n\u001b[1;32m   1852\u001b[0m       \u001b[0;31m# No tape is watching; skip to running the function.\u001b[0m\u001b[0;34m\u001b[0m\u001b[0;34m\u001b[0m\u001b[0;34m\u001b[0m\u001b[0m\n\u001b[1;32m   1853\u001b[0m       return self._build_call_outputs(self._inference_function.call(\n\u001b[0;32m-> 1854\u001b[0;31m           ctx, args, cancellation_manager=cancellation_manager))\n\u001b[0m\u001b[1;32m   1855\u001b[0m     forward_backward = self._select_forward_and_backward_functions(\n\u001b[1;32m   1856\u001b[0m         \u001b[0margs\u001b[0m\u001b[0;34m,\u001b[0m\u001b[0;34m\u001b[0m\u001b[0;34m\u001b[0m\u001b[0m\n",
            "\u001b[0;32m/usr/local/lib/python3.7/dist-packages/tensorflow/python/eager/function.py\u001b[0m in \u001b[0;36mcall\u001b[0;34m(self, ctx, args, cancellation_manager)\u001b[0m\n\u001b[1;32m    502\u001b[0m               \u001b[0minputs\u001b[0m\u001b[0;34m=\u001b[0m\u001b[0margs\u001b[0m\u001b[0;34m,\u001b[0m\u001b[0;34m\u001b[0m\u001b[0;34m\u001b[0m\u001b[0m\n\u001b[1;32m    503\u001b[0m               \u001b[0mattrs\u001b[0m\u001b[0;34m=\u001b[0m\u001b[0mattrs\u001b[0m\u001b[0;34m,\u001b[0m\u001b[0;34m\u001b[0m\u001b[0;34m\u001b[0m\u001b[0m\n\u001b[0;32m--> 504\u001b[0;31m               ctx=ctx)\n\u001b[0m\u001b[1;32m    505\u001b[0m         \u001b[0;32melse\u001b[0m\u001b[0;34m:\u001b[0m\u001b[0;34m\u001b[0m\u001b[0;34m\u001b[0m\u001b[0m\n\u001b[1;32m    506\u001b[0m           outputs = execute.execute_with_cancellation(\n",
            "\u001b[0;32m/usr/local/lib/python3.7/dist-packages/tensorflow/python/eager/execute.py\u001b[0m in \u001b[0;36mquick_execute\u001b[0;34m(op_name, num_outputs, inputs, attrs, ctx, name)\u001b[0m\n\u001b[1;32m     53\u001b[0m     \u001b[0mctx\u001b[0m\u001b[0;34m.\u001b[0m\u001b[0mensure_initialized\u001b[0m\u001b[0;34m(\u001b[0m\u001b[0;34m)\u001b[0m\u001b[0;34m\u001b[0m\u001b[0;34m\u001b[0m\u001b[0m\n\u001b[1;32m     54\u001b[0m     tensors = pywrap_tfe.TFE_Py_Execute(ctx._handle, device_name, op_name,\n\u001b[0;32m---> 55\u001b[0;31m                                         inputs, attrs, num_outputs)\n\u001b[0m\u001b[1;32m     56\u001b[0m   \u001b[0;32mexcept\u001b[0m \u001b[0mcore\u001b[0m\u001b[0;34m.\u001b[0m\u001b[0m_NotOkStatusException\u001b[0m \u001b[0;32mas\u001b[0m \u001b[0me\u001b[0m\u001b[0;34m:\u001b[0m\u001b[0;34m\u001b[0m\u001b[0;34m\u001b[0m\u001b[0m\n\u001b[1;32m     57\u001b[0m     \u001b[0;32mif\u001b[0m \u001b[0mname\u001b[0m \u001b[0;32mis\u001b[0m \u001b[0;32mnot\u001b[0m \u001b[0;32mNone\u001b[0m\u001b[0;34m:\u001b[0m\u001b[0;34m\u001b[0m\u001b[0;34m\u001b[0m\u001b[0m\n",
            "\u001b[0;31mKeyboardInterrupt\u001b[0m: "
          ]
        }
      ]
    },
    {
      "cell_type": "code",
      "source": [
        "def rnn_variable_b(opt, inputs, input_variable_valid,input_variable_test):\n",
        "  inputs = Input(shape=(None,257),name='inputs')\n",
        "  inputs_L = Input(shape=[],name='inputs2')\n",
        "  layer= LSTM(200,return_sequences=True)(inputs) \n",
        "  layer = BatchNormalization(axis=-1)(layer)\n",
        "  layer = Activation(\"relu\")(layer)\n",
        "  layer= LSTM(100,return_sequences=True)(layer)\n",
        "  layer = BatchNormalization(axis=-1)(layer)\n",
        "  layer = Activation(\"relu\")(layer)\n",
        "  layer= LSTM(50,return_sequences=True)(layer)\n",
        "  layer = BatchNormalization(axis=-1)(layer)\n",
        "  layer = Activation(\"relu\")(layer)\n",
        "  layer = BatchNormalization(axis=-1)(layer)\n",
        "  layer = Dropout(0.2)(layer)\n",
        "  layer = TimeDistributed(Dense(150))(layer)\n",
        "  layer = Reshape((-1,5))(layer)\n",
        "  layer = UpSampling1D(size=15)(layer)\n",
        "  L = tf.cast(tf.reduce_max(inputs_L), tf.int32)\n",
        "  output = layer[:,:L]\n",
        "  model = Model(inputs = (inputs_L,inputs) , outputs=output)\n",
        "  model.compile(loss=\"sparse_categorical_crossentropy\", optimizer=opt, metrics=[\"sparse_categorical_accuracy\"])\n",
        "  history = model.fit(input_variable_train4, validation_data=input_variable_valid4, batch_size=BS, epochs=NUM_EPOCHS, verbose=1)\n",
        "  # plotting the metrics\n",
        "  plt.subplot(2, 1, 1)\n",
        "  plt.title('Sparse Crossentropy Loss')\n",
        "  plt.plot(history.history['loss'], color='blue', label='train')\n",
        "  plt.plot(history.history['val_loss'], color='orange', label='val')\n",
        "\t# plot accuracy\n",
        "  plt.subplot(2, 1, 2)\n",
        "  plt.title('Classification Accuracy')\n",
        "  plt.plot(history.history['sparse_categorical_accuracy'], color='blue', label='train')\n",
        "  plt.plot(history.history['val_sparse_categorical_accuracy'], color='orange', label='val')\n",
        "  score = model.evaluate(input_variable_test4, verbose=0) #evaluate based on test dataset, which was not used for training and validation\n",
        "  return model.summary(), history, print('Loss using testing dataset=', score[0]), print('Accuracy using testing dataset=', score[1])"
      ],
      "metadata": {
        "id": "q6FBJ_UBEz4O"
      },
      "execution_count": 154,
      "outputs": []
    },
    {
      "cell_type": "code",
      "source": [
        "\n",
        "functional_rnn_var= rnn_variable_b(opt2, input_variable_train4, input_variable_valid4, input_variable_test4)"
      ],
      "metadata": {
        "colab": {
          "base_uri": "https://localhost:8080/",
          "height": 363
        },
        "id": "FPejHfKOE38t",
        "outputId": "dcea4643-d2e8-4f07-d60e-79f00f181b8d"
      },
      "execution_count": 155,
      "outputs": [
        {
          "output_type": "stream",
          "name": "stdout",
          "text": [
            "Epoch 1/5\n",
            "  39/1250 [..............................] - ETA: 34:10 - loss: 8.0361 - sparse_categorical_accuracy: 0.2053"
          ]
        },
        {
          "output_type": "error",
          "ename": "KeyboardInterrupt",
          "evalue": "ignored",
          "traceback": [
            "\u001b[0;31m---------------------------------------------------------------------------\u001b[0m",
            "\u001b[0;31mKeyboardInterrupt\u001b[0m                         Traceback (most recent call last)",
            "\u001b[0;32m<ipython-input-155-e4a5dc8475fd>\u001b[0m in \u001b[0;36m<module>\u001b[0;34m()\u001b[0m\n\u001b[1;32m      1\u001b[0m \u001b[0;34m\u001b[0m\u001b[0m\n\u001b[0;32m----> 2\u001b[0;31m \u001b[0mfunctional_rnn_var\u001b[0m\u001b[0;34m=\u001b[0m \u001b[0mrnn_variable_b\u001b[0m\u001b[0;34m(\u001b[0m\u001b[0mopt2\u001b[0m\u001b[0;34m,\u001b[0m \u001b[0minput_variable_train4\u001b[0m\u001b[0;34m,\u001b[0m \u001b[0minput_variable_valid4\u001b[0m\u001b[0;34m,\u001b[0m \u001b[0minput_variable_test4\u001b[0m\u001b[0;34m)\u001b[0m\u001b[0;34m\u001b[0m\u001b[0;34m\u001b[0m\u001b[0m\n\u001b[0m",
            "\u001b[0;32m<ipython-input-154-c0e408b6b42c>\u001b[0m in \u001b[0;36mrnn_variable_b\u001b[0;34m(opt, inputs, input_variable_valid, input_variable_test)\u001b[0m\n\u001b[1;32m     20\u001b[0m   \u001b[0mmodel\u001b[0m \u001b[0;34m=\u001b[0m \u001b[0mModel\u001b[0m\u001b[0;34m(\u001b[0m\u001b[0minputs\u001b[0m \u001b[0;34m=\u001b[0m \u001b[0;34m(\u001b[0m\u001b[0minputs_L\u001b[0m\u001b[0;34m,\u001b[0m\u001b[0minputs\u001b[0m\u001b[0;34m)\u001b[0m \u001b[0;34m,\u001b[0m \u001b[0moutputs\u001b[0m\u001b[0;34m=\u001b[0m\u001b[0moutput\u001b[0m\u001b[0;34m)\u001b[0m\u001b[0;34m\u001b[0m\u001b[0;34m\u001b[0m\u001b[0m\n\u001b[1;32m     21\u001b[0m   \u001b[0mmodel\u001b[0m\u001b[0;34m.\u001b[0m\u001b[0mcompile\u001b[0m\u001b[0;34m(\u001b[0m\u001b[0mloss\u001b[0m\u001b[0;34m=\u001b[0m\u001b[0;34m\"sparse_categorical_crossentropy\"\u001b[0m\u001b[0;34m,\u001b[0m \u001b[0moptimizer\u001b[0m\u001b[0;34m=\u001b[0m\u001b[0mopt\u001b[0m\u001b[0;34m,\u001b[0m \u001b[0mmetrics\u001b[0m\u001b[0;34m=\u001b[0m\u001b[0;34m[\u001b[0m\u001b[0;34m\"sparse_categorical_accuracy\"\u001b[0m\u001b[0;34m]\u001b[0m\u001b[0;34m)\u001b[0m\u001b[0;34m\u001b[0m\u001b[0;34m\u001b[0m\u001b[0m\n\u001b[0;32m---> 22\u001b[0;31m   \u001b[0mhistory\u001b[0m \u001b[0;34m=\u001b[0m \u001b[0mmodel\u001b[0m\u001b[0;34m.\u001b[0m\u001b[0mfit\u001b[0m\u001b[0;34m(\u001b[0m\u001b[0minput_variable_train4\u001b[0m\u001b[0;34m,\u001b[0m \u001b[0mvalidation_data\u001b[0m\u001b[0;34m=\u001b[0m\u001b[0minput_variable_valid4\u001b[0m\u001b[0;34m,\u001b[0m \u001b[0mbatch_size\u001b[0m\u001b[0;34m=\u001b[0m\u001b[0mBS\u001b[0m\u001b[0;34m,\u001b[0m \u001b[0mepochs\u001b[0m\u001b[0;34m=\u001b[0m\u001b[0mNUM_EPOCHS\u001b[0m\u001b[0;34m,\u001b[0m \u001b[0mverbose\u001b[0m\u001b[0;34m=\u001b[0m\u001b[0;36m1\u001b[0m\u001b[0;34m)\u001b[0m\u001b[0;34m\u001b[0m\u001b[0;34m\u001b[0m\u001b[0m\n\u001b[0m\u001b[1;32m     23\u001b[0m   \u001b[0;31m# plotting the metrics\u001b[0m\u001b[0;34m\u001b[0m\u001b[0;34m\u001b[0m\u001b[0;34m\u001b[0m\u001b[0m\n\u001b[1;32m     24\u001b[0m   \u001b[0mplt\u001b[0m\u001b[0;34m.\u001b[0m\u001b[0msubplot\u001b[0m\u001b[0;34m(\u001b[0m\u001b[0;36m2\u001b[0m\u001b[0;34m,\u001b[0m \u001b[0;36m1\u001b[0m\u001b[0;34m,\u001b[0m \u001b[0;36m1\u001b[0m\u001b[0;34m)\u001b[0m\u001b[0;34m\u001b[0m\u001b[0;34m\u001b[0m\u001b[0m\n",
            "\u001b[0;32m/usr/local/lib/python3.7/dist-packages/keras/utils/traceback_utils.py\u001b[0m in \u001b[0;36merror_handler\u001b[0;34m(*args, **kwargs)\u001b[0m\n\u001b[1;32m     62\u001b[0m     \u001b[0mfiltered_tb\u001b[0m \u001b[0;34m=\u001b[0m \u001b[0;32mNone\u001b[0m\u001b[0;34m\u001b[0m\u001b[0;34m\u001b[0m\u001b[0m\n\u001b[1;32m     63\u001b[0m     \u001b[0;32mtry\u001b[0m\u001b[0;34m:\u001b[0m\u001b[0;34m\u001b[0m\u001b[0;34m\u001b[0m\u001b[0m\n\u001b[0;32m---> 64\u001b[0;31m       \u001b[0;32mreturn\u001b[0m \u001b[0mfn\u001b[0m\u001b[0;34m(\u001b[0m\u001b[0;34m*\u001b[0m\u001b[0margs\u001b[0m\u001b[0;34m,\u001b[0m \u001b[0;34m**\u001b[0m\u001b[0mkwargs\u001b[0m\u001b[0;34m)\u001b[0m\u001b[0;34m\u001b[0m\u001b[0;34m\u001b[0m\u001b[0m\n\u001b[0m\u001b[1;32m     65\u001b[0m     \u001b[0;32mexcept\u001b[0m \u001b[0mException\u001b[0m \u001b[0;32mas\u001b[0m \u001b[0me\u001b[0m\u001b[0;34m:\u001b[0m  \u001b[0;31m# pylint: disable=broad-except\u001b[0m\u001b[0;34m\u001b[0m\u001b[0;34m\u001b[0m\u001b[0m\n\u001b[1;32m     66\u001b[0m       \u001b[0mfiltered_tb\u001b[0m \u001b[0;34m=\u001b[0m \u001b[0m_process_traceback_frames\u001b[0m\u001b[0;34m(\u001b[0m\u001b[0me\u001b[0m\u001b[0;34m.\u001b[0m\u001b[0m__traceback__\u001b[0m\u001b[0;34m)\u001b[0m\u001b[0;34m\u001b[0m\u001b[0;34m\u001b[0m\u001b[0m\n",
            "\u001b[0;32m/usr/local/lib/python3.7/dist-packages/keras/engine/training.py\u001b[0m in \u001b[0;36mfit\u001b[0;34m(self, x, y, batch_size, epochs, verbose, callbacks, validation_split, validation_data, shuffle, class_weight, sample_weight, initial_epoch, steps_per_epoch, validation_steps, validation_batch_size, validation_freq, max_queue_size, workers, use_multiprocessing)\u001b[0m\n\u001b[1;32m   1382\u001b[0m                 _r=1):\n\u001b[1;32m   1383\u001b[0m               \u001b[0mcallbacks\u001b[0m\u001b[0;34m.\u001b[0m\u001b[0mon_train_batch_begin\u001b[0m\u001b[0;34m(\u001b[0m\u001b[0mstep\u001b[0m\u001b[0;34m)\u001b[0m\u001b[0;34m\u001b[0m\u001b[0;34m\u001b[0m\u001b[0m\n\u001b[0;32m-> 1384\u001b[0;31m               \u001b[0mtmp_logs\u001b[0m \u001b[0;34m=\u001b[0m \u001b[0mself\u001b[0m\u001b[0;34m.\u001b[0m\u001b[0mtrain_function\u001b[0m\u001b[0;34m(\u001b[0m\u001b[0miterator\u001b[0m\u001b[0;34m)\u001b[0m\u001b[0;34m\u001b[0m\u001b[0;34m\u001b[0m\u001b[0m\n\u001b[0m\u001b[1;32m   1385\u001b[0m               \u001b[0;32mif\u001b[0m \u001b[0mdata_handler\u001b[0m\u001b[0;34m.\u001b[0m\u001b[0mshould_sync\u001b[0m\u001b[0;34m:\u001b[0m\u001b[0;34m\u001b[0m\u001b[0;34m\u001b[0m\u001b[0m\n\u001b[1;32m   1386\u001b[0m                 \u001b[0mcontext\u001b[0m\u001b[0;34m.\u001b[0m\u001b[0masync_wait\u001b[0m\u001b[0;34m(\u001b[0m\u001b[0;34m)\u001b[0m\u001b[0;34m\u001b[0m\u001b[0;34m\u001b[0m\u001b[0m\n",
            "\u001b[0;32m/usr/local/lib/python3.7/dist-packages/tensorflow/python/util/traceback_utils.py\u001b[0m in \u001b[0;36merror_handler\u001b[0;34m(*args, **kwargs)\u001b[0m\n\u001b[1;32m    148\u001b[0m     \u001b[0mfiltered_tb\u001b[0m \u001b[0;34m=\u001b[0m \u001b[0;32mNone\u001b[0m\u001b[0;34m\u001b[0m\u001b[0;34m\u001b[0m\u001b[0m\n\u001b[1;32m    149\u001b[0m     \u001b[0;32mtry\u001b[0m\u001b[0;34m:\u001b[0m\u001b[0;34m\u001b[0m\u001b[0;34m\u001b[0m\u001b[0m\n\u001b[0;32m--> 150\u001b[0;31m       \u001b[0;32mreturn\u001b[0m \u001b[0mfn\u001b[0m\u001b[0;34m(\u001b[0m\u001b[0;34m*\u001b[0m\u001b[0margs\u001b[0m\u001b[0;34m,\u001b[0m \u001b[0;34m**\u001b[0m\u001b[0mkwargs\u001b[0m\u001b[0;34m)\u001b[0m\u001b[0;34m\u001b[0m\u001b[0;34m\u001b[0m\u001b[0m\n\u001b[0m\u001b[1;32m    151\u001b[0m     \u001b[0;32mexcept\u001b[0m \u001b[0mException\u001b[0m \u001b[0;32mas\u001b[0m \u001b[0me\u001b[0m\u001b[0;34m:\u001b[0m\u001b[0;34m\u001b[0m\u001b[0;34m\u001b[0m\u001b[0m\n\u001b[1;32m    152\u001b[0m       \u001b[0mfiltered_tb\u001b[0m \u001b[0;34m=\u001b[0m \u001b[0m_process_traceback_frames\u001b[0m\u001b[0;34m(\u001b[0m\u001b[0me\u001b[0m\u001b[0;34m.\u001b[0m\u001b[0m__traceback__\u001b[0m\u001b[0;34m)\u001b[0m\u001b[0;34m\u001b[0m\u001b[0;34m\u001b[0m\u001b[0m\n",
            "\u001b[0;32m/usr/local/lib/python3.7/dist-packages/tensorflow/python/eager/def_function.py\u001b[0m in \u001b[0;36m__call__\u001b[0;34m(self, *args, **kwds)\u001b[0m\n\u001b[1;32m    913\u001b[0m \u001b[0;34m\u001b[0m\u001b[0m\n\u001b[1;32m    914\u001b[0m       \u001b[0;32mwith\u001b[0m \u001b[0mOptionalXlaContext\u001b[0m\u001b[0;34m(\u001b[0m\u001b[0mself\u001b[0m\u001b[0;34m.\u001b[0m\u001b[0m_jit_compile\u001b[0m\u001b[0;34m)\u001b[0m\u001b[0;34m:\u001b[0m\u001b[0;34m\u001b[0m\u001b[0;34m\u001b[0m\u001b[0m\n\u001b[0;32m--> 915\u001b[0;31m         \u001b[0mresult\u001b[0m \u001b[0;34m=\u001b[0m \u001b[0mself\u001b[0m\u001b[0;34m.\u001b[0m\u001b[0m_call\u001b[0m\u001b[0;34m(\u001b[0m\u001b[0;34m*\u001b[0m\u001b[0margs\u001b[0m\u001b[0;34m,\u001b[0m \u001b[0;34m**\u001b[0m\u001b[0mkwds\u001b[0m\u001b[0;34m)\u001b[0m\u001b[0;34m\u001b[0m\u001b[0;34m\u001b[0m\u001b[0m\n\u001b[0m\u001b[1;32m    916\u001b[0m \u001b[0;34m\u001b[0m\u001b[0m\n\u001b[1;32m    917\u001b[0m       \u001b[0mnew_tracing_count\u001b[0m \u001b[0;34m=\u001b[0m \u001b[0mself\u001b[0m\u001b[0;34m.\u001b[0m\u001b[0mexperimental_get_tracing_count\u001b[0m\u001b[0;34m(\u001b[0m\u001b[0;34m)\u001b[0m\u001b[0;34m\u001b[0m\u001b[0;34m\u001b[0m\u001b[0m\n",
            "\u001b[0;32m/usr/local/lib/python3.7/dist-packages/tensorflow/python/eager/def_function.py\u001b[0m in \u001b[0;36m_call\u001b[0;34m(self, *args, **kwds)\u001b[0m\n\u001b[1;32m    945\u001b[0m       \u001b[0;31m# In this case we have created variables on the first call, so we run the\u001b[0m\u001b[0;34m\u001b[0m\u001b[0;34m\u001b[0m\u001b[0;34m\u001b[0m\u001b[0m\n\u001b[1;32m    946\u001b[0m       \u001b[0;31m# defunned version which is guaranteed to never create variables.\u001b[0m\u001b[0;34m\u001b[0m\u001b[0;34m\u001b[0m\u001b[0;34m\u001b[0m\u001b[0m\n\u001b[0;32m--> 947\u001b[0;31m       \u001b[0;32mreturn\u001b[0m \u001b[0mself\u001b[0m\u001b[0;34m.\u001b[0m\u001b[0m_stateless_fn\u001b[0m\u001b[0;34m(\u001b[0m\u001b[0;34m*\u001b[0m\u001b[0margs\u001b[0m\u001b[0;34m,\u001b[0m \u001b[0;34m**\u001b[0m\u001b[0mkwds\u001b[0m\u001b[0;34m)\u001b[0m  \u001b[0;31m# pylint: disable=not-callable\u001b[0m\u001b[0;34m\u001b[0m\u001b[0;34m\u001b[0m\u001b[0m\n\u001b[0m\u001b[1;32m    948\u001b[0m     \u001b[0;32melif\u001b[0m \u001b[0mself\u001b[0m\u001b[0;34m.\u001b[0m\u001b[0m_stateful_fn\u001b[0m \u001b[0;32mis\u001b[0m \u001b[0;32mnot\u001b[0m \u001b[0;32mNone\u001b[0m\u001b[0;34m:\u001b[0m\u001b[0;34m\u001b[0m\u001b[0;34m\u001b[0m\u001b[0m\n\u001b[1;32m    949\u001b[0m       \u001b[0;31m# Release the lock early so that multiple threads can perform the call\u001b[0m\u001b[0;34m\u001b[0m\u001b[0;34m\u001b[0m\u001b[0;34m\u001b[0m\u001b[0m\n",
            "\u001b[0;32m/usr/local/lib/python3.7/dist-packages/tensorflow/python/eager/function.py\u001b[0m in \u001b[0;36m__call__\u001b[0;34m(self, *args, **kwargs)\u001b[0m\n\u001b[1;32m   2955\u001b[0m        filtered_flat_args) = self._maybe_define_function(args, kwargs)\n\u001b[1;32m   2956\u001b[0m     return graph_function._call_flat(\n\u001b[0;32m-> 2957\u001b[0;31m         filtered_flat_args, captured_inputs=graph_function.captured_inputs)  # pylint: disable=protected-access\n\u001b[0m\u001b[1;32m   2958\u001b[0m \u001b[0;34m\u001b[0m\u001b[0m\n\u001b[1;32m   2959\u001b[0m   \u001b[0;34m@\u001b[0m\u001b[0mproperty\u001b[0m\u001b[0;34m\u001b[0m\u001b[0;34m\u001b[0m\u001b[0m\n",
            "\u001b[0;32m/usr/local/lib/python3.7/dist-packages/tensorflow/python/eager/function.py\u001b[0m in \u001b[0;36m_call_flat\u001b[0;34m(self, args, captured_inputs, cancellation_manager)\u001b[0m\n\u001b[1;32m   1852\u001b[0m       \u001b[0;31m# No tape is watching; skip to running the function.\u001b[0m\u001b[0;34m\u001b[0m\u001b[0;34m\u001b[0m\u001b[0;34m\u001b[0m\u001b[0m\n\u001b[1;32m   1853\u001b[0m       return self._build_call_outputs(self._inference_function.call(\n\u001b[0;32m-> 1854\u001b[0;31m           ctx, args, cancellation_manager=cancellation_manager))\n\u001b[0m\u001b[1;32m   1855\u001b[0m     forward_backward = self._select_forward_and_backward_functions(\n\u001b[1;32m   1856\u001b[0m         \u001b[0margs\u001b[0m\u001b[0;34m,\u001b[0m\u001b[0;34m\u001b[0m\u001b[0;34m\u001b[0m\u001b[0m\n",
            "\u001b[0;32m/usr/local/lib/python3.7/dist-packages/tensorflow/python/eager/function.py\u001b[0m in \u001b[0;36mcall\u001b[0;34m(self, ctx, args, cancellation_manager)\u001b[0m\n\u001b[1;32m    502\u001b[0m               \u001b[0minputs\u001b[0m\u001b[0;34m=\u001b[0m\u001b[0margs\u001b[0m\u001b[0;34m,\u001b[0m\u001b[0;34m\u001b[0m\u001b[0;34m\u001b[0m\u001b[0m\n\u001b[1;32m    503\u001b[0m               \u001b[0mattrs\u001b[0m\u001b[0;34m=\u001b[0m\u001b[0mattrs\u001b[0m\u001b[0;34m,\u001b[0m\u001b[0;34m\u001b[0m\u001b[0;34m\u001b[0m\u001b[0m\n\u001b[0;32m--> 504\u001b[0;31m               ctx=ctx)\n\u001b[0m\u001b[1;32m    505\u001b[0m         \u001b[0;32melse\u001b[0m\u001b[0;34m:\u001b[0m\u001b[0;34m\u001b[0m\u001b[0;34m\u001b[0m\u001b[0m\n\u001b[1;32m    506\u001b[0m           outputs = execute.execute_with_cancellation(\n",
            "\u001b[0;32m/usr/local/lib/python3.7/dist-packages/tensorflow/python/eager/execute.py\u001b[0m in \u001b[0;36mquick_execute\u001b[0;34m(op_name, num_outputs, inputs, attrs, ctx, name)\u001b[0m\n\u001b[1;32m     53\u001b[0m     \u001b[0mctx\u001b[0m\u001b[0;34m.\u001b[0m\u001b[0mensure_initialized\u001b[0m\u001b[0;34m(\u001b[0m\u001b[0;34m)\u001b[0m\u001b[0;34m\u001b[0m\u001b[0;34m\u001b[0m\u001b[0m\n\u001b[1;32m     54\u001b[0m     tensors = pywrap_tfe.TFE_Py_Execute(ctx._handle, device_name, op_name,\n\u001b[0;32m---> 55\u001b[0;31m                                         inputs, attrs, num_outputs)\n\u001b[0m\u001b[1;32m     56\u001b[0m   \u001b[0;32mexcept\u001b[0m \u001b[0mcore\u001b[0m\u001b[0;34m.\u001b[0m\u001b[0m_NotOkStatusException\u001b[0m \u001b[0;32mas\u001b[0m \u001b[0me\u001b[0m\u001b[0;34m:\u001b[0m\u001b[0;34m\u001b[0m\u001b[0;34m\u001b[0m\u001b[0m\n\u001b[1;32m     57\u001b[0m     \u001b[0;32mif\u001b[0m \u001b[0mname\u001b[0m \u001b[0;32mis\u001b[0m \u001b[0;32mnot\u001b[0m \u001b[0;32mNone\u001b[0m\u001b[0;34m:\u001b[0m\u001b[0;34m\u001b[0m\u001b[0;34m\u001b[0m\u001b[0m\n",
            "\u001b[0;31mKeyboardInterrupt\u001b[0m: "
          ]
        }
      ]
    },
    {
      "cell_type": "code",
      "source": [
        "def rnn_variable_a(opt, inputs, input_variable_valid,input_variable_test):\n",
        "  inputs = Input(shape=(None,257),name='inputs')\n",
        "  inputs_L = Input(shape=[],name='inputs2')\n",
        "  layer= LSTM(100,return_sequences=True)(inputs) \n",
        "  layer = BatchNormalization(axis=-1)(layer)\n",
        "  layer = Activation(\"relu\")(layer)\n",
        "  layer= LSTM(50,return_sequences=True)(layer)\n",
        "  layer = BatchNormalization(axis=-1)(layer)\n",
        "  layer = Activation(\"relu\")(layer)\n",
        "  layer = BatchNormalization(axis=-1)(layer)\n",
        "  layer = Dropout(0.2)(layer)\n",
        "  layer = TimeDistributed(Dense(150))(layer)\n",
        "  layer = Reshape((-1,5))(layer)\n",
        "  layer = UpSampling1D(size=15)(layer)\n",
        "  L = tf.cast(tf.reduce_max(inputs_L), tf.int32)\n",
        "  output = layer[:,:L]\n",
        "  model = Model(inputs = (inputs_L,inputs) , outputs=output)\n",
        "  model.compile(loss=\"sparse_categorical_crossentropy\", optimizer=opt, metrics=[\"sparse_categorical_accuracy\"])\n",
        "  history = model.fit(input_variable_train4, validation_data=input_variable_valid4, batch_size=BS, epochs=NUM_EPOCHS, verbose=1)\n",
        "  # plotting the metrics\n",
        "  plt.subplot(2, 1, 1)\n",
        "  plt.title('Sparse Crossentropy Loss')\n",
        "  plt.plot(history.history['loss'], color='blue', label='train')\n",
        "  plt.plot(history.history['val_loss'], color='orange', label='val')\n",
        "\t# plot accuracy\n",
        "  plt.subplot(2, 1, 2)\n",
        "  plt.title('Classification Accuracy')\n",
        "  plt.plot(history.history['sparse_categorical_accuracy'], color='blue', label='train')\n",
        "  plt.plot(history.history['val_sparse_categorical_accuracy'], color='orange', label='val')\n",
        "  score = model.evaluate(input_variable_test4, verbose=0) #evaluate based on test dataset, which was not used for training and validation\n",
        "  return model.summary(), history, print('Loss using testing dataset=', score[0]), print('Accuracy using testing dataset=', score[1])"
      ],
      "metadata": {
        "id": "4UoqEEIdKxiW"
      },
      "execution_count": 152,
      "outputs": []
    },
    {
      "cell_type": "code",
      "source": [
        "functional_rnn_var= rnn_variable_a(opt2, input_variable_train4, input_variable_valid4, input_variable_test4)"
      ],
      "metadata": {
        "colab": {
          "base_uri": "https://localhost:8080/",
          "height": 1000
        },
        "id": "f-zoFGBBLPmI",
        "outputId": "0edacf78-e7cc-4a04-ae79-b68dabb85236"
      },
      "execution_count": 153,
      "outputs": [
        {
          "output_type": "stream",
          "name": "stdout",
          "text": [
            "Epoch 1/5\n",
            "1250/1250 [==============================] - 1412s 1s/step - loss: 7.9088 - sparse_categorical_accuracy: 0.2030 - val_loss: 7.5936 - val_sparse_categorical_accuracy: 0.2102\n",
            "Epoch 2/5\n",
            "1250/1250 [==============================] - 1377s 1s/step - loss: 7.5414 - sparse_categorical_accuracy: 0.2095 - val_loss: 7.2189 - val_sparse_categorical_accuracy: 0.2215\n",
            "Epoch 3/5\n",
            "1250/1250 [==============================] - 1365s 1s/step - loss: 7.2194 - sparse_categorical_accuracy: 0.2176 - val_loss: 6.8050 - val_sparse_categorical_accuracy: 0.2288\n",
            "Epoch 4/5\n",
            "1250/1250 [==============================] - 1374s 1s/step - loss: 6.8889 - sparse_categorical_accuracy: 0.2253 - val_loss: 6.4872 - val_sparse_categorical_accuracy: 0.2380\n",
            "Epoch 5/5\n",
            "1250/1250 [==============================] - 1369s 1s/step - loss: 6.5271 - sparse_categorical_accuracy: 0.2309 - val_loss: 5.9910 - val_sparse_categorical_accuracy: 0.2459\n",
            "Model: \"model_48\"\n",
            "__________________________________________________________________________________________________\n",
            " Layer (type)                   Output Shape         Param #     Connected to                     \n",
            "==================================================================================================\n",
            " inputs (InputLayer)            [(None, None, 257)]  0           []                               \n",
            "                                                                                                  \n",
            " lstm_68 (LSTM)                 (None, None, 100)    143200      ['inputs[0][0]']                 \n",
            "                                                                                                  \n",
            " batch_normalization_56 (BatchN  (None, None, 100)   400         ['lstm_68[0][0]']                \n",
            " ormalization)                                                                                    \n",
            "                                                                                                  \n",
            " activation_63 (Activation)     (None, None, 100)    0           ['batch_normalization_56[0][0]'] \n",
            "                                                                                                  \n",
            " lstm_69 (LSTM)                 (None, None, 50)     30200       ['activation_63[0][0]']          \n",
            "                                                                                                  \n",
            " batch_normalization_57 (BatchN  (None, None, 50)    200         ['lstm_69[0][0]']                \n",
            " ormalization)                                                                                    \n",
            "                                                                                                  \n",
            " activation_64 (Activation)     (None, None, 50)     0           ['batch_normalization_57[0][0]'] \n",
            "                                                                                                  \n",
            " batch_normalization_58 (BatchN  (None, None, 50)    200         ['activation_64[0][0]']          \n",
            " ormalization)                                                                                    \n",
            "                                                                                                  \n",
            " dropout_34 (Dropout)           (None, None, 50)     0           ['batch_normalization_58[0][0]'] \n",
            "                                                                                                  \n",
            " time_distributed_48 (TimeDistr  (None, None, 150)   7650        ['dropout_34[0][0]']             \n",
            " ibuted)                                                                                          \n",
            "                                                                                                  \n",
            " inputs2 (InputLayer)           [(None,)]            0           []                               \n",
            "                                                                                                  \n",
            " reshape_48 (Reshape)           (None, None, 5)      0           ['time_distributed_48[0][0]']    \n",
            "                                                                                                  \n",
            " tf.math.reduce_max_48 (TFOpLam  ()                  0           ['inputs2[0][0]']                \n",
            " bda)                                                                                             \n",
            "                                                                                                  \n",
            " up_sampling1d_48 (UpSampling1D  (None, None, 5)     0           ['reshape_48[0][0]']             \n",
            " )                                                                                                \n",
            "                                                                                                  \n",
            " tf.cast_48 (TFOpLambda)        ()                   0           ['tf.math.reduce_max_48[0][0]']  \n",
            "                                                                                                  \n",
            " tf.__operators__.getitem_48 (S  (None, None, 5)     0           ['up_sampling1d_48[0][0]',       \n",
            " licingOpLambda)                                                  'tf.cast_48[0][0]']             \n",
            "                                                                                                  \n",
            "==================================================================================================\n",
            "Total params: 181,850\n",
            "Trainable params: 181,450\n",
            "Non-trainable params: 400\n",
            "__________________________________________________________________________________________________\n",
            "Loss using testing dataset= 5.922186374664307\n",
            "Accuracy using testing dataset= 0.2582506239414215\n"
          ]
        },
        {
          "output_type": "display_data",
          "data": {
            "text/plain": [
              "<Figure size 432x288 with 2 Axes>"
            ],
            "image/png": "[encoded data removed]"
          },
          "metadata": {}
        }
      ]
    },
    {
      "cell_type": "markdown",
      "metadata": {
        "id": "Y5oyAKEYj-5c"
      },
      "source": [
        "## Convolutional Neural network - all tested models in Notebook2"
      ]
    },
    {
      "cell_type": "markdown",
      "source": [
        "**Tested parameters: **\n",
        "\n",
        "---\n",
        "\n",
        "*   Batch size 16 and 32\n",
        "*   Optimisers: SGD, Adam.\n",
        "*   Learning rate: 0.1, 0.01 and 0.001 \n",
        "*   Passing different input sizes for STFT (Input: frame_length=256, frame_step =32, Input: frame_length=128, frame_step =32, Input: frame_length=64, frame_step =32, Input: frame_length=32, frame_step =16)\n",
        "*   Different number of layers with different sizes ((Model1= 1024, 512, 256, 128, 100, Model2= 256, 128, 100, Model 3= Model2= 256, 100, Model 4= 128, 100, Model 5: 256, 128, 256)\n",
        "*   Also, RelU and LeakyRelU was tried as activation functions. \n",
        "*   Batch normalisation was added and various dropout options."
      ],
      "metadata": {
        "id": "uzCmjlK98YWL"
      }
    },
    {
      "cell_type": "markdown",
      "metadata": {
        "id": "M7NHYaNNkHD0"
      },
      "source": [
        "## Transformers - 3 of the models in Notebook2"
      ]
    },
    {
      "cell_type": "code",
      "source": [
        "NUM_EPOCHS = 100 #Increase epochs if you do not see a flatlined loss function\n",
        "#Add batch normalization\n",
        "INIT_LR  = 0.0001 #change to 0.001 after\n",
        "BS = 32 #batch size\n",
        "opt= SGD(learning_rate=INIT_LR, momentum=0.9, decay=INIT_LR / NUM_EPOCHS)\n",
        "opt2 = tf.optimizers.Adam(learning_rate = INIT_LR)\n",
        "from keras.callbacks import EarlyStopping  \n",
        "early_stopping =EarlyStopping(monitor='sparse_categorical_accuracy', patience=2) "
      ],
      "metadata": {
        "id": "JGCiAgYjoFJ_"
      },
      "execution_count": 158,
      "outputs": []
    },
    {
      "cell_type": "code",
      "source": [
        "def transformer_variable4(opt, inputs, input_variable_valid,input_variable_test):\n",
        "  inputs = keras.Input(shape=(None, 33))\n",
        "  inputs_L = Input(shape=[])\n",
        "  embDim = 64 ## Embedding size for each token\n",
        "  newEmb = layers.TimeDistributed(layers.Dense(embDim))(inputs)\n",
        "  inputsPosEmb = PositionEmbedding(maxlen=50000, embed_dim=embDim)(newEmb)\n",
        "  transf1 = TransformerBlock(embed_dim=embDim, num_heads=8, ff_dim=64)(inputsPosEmb) #ff_dim # Hidden layer size in feed forward network inside transformer\n",
        "  transf2 =TransformerBlock(embed_dim=embDim, num_heads=8, ff_dim=64)(transf1)\n",
        "  layer = layers.TimeDistributed(layers.Dense(150))(transf2)\n",
        "  layer = Reshape((-1,5))(layer)\n",
        "  layer = UpSampling1D(size=10)(layer)\n",
        "  L = tf.cast(tf.reduce_max(inputs_L), tf.int32)\n",
        "  output = layer[:,:L]\n",
        "  model = Model(inputs = (inputs_L,inputs) , outputs=output)\n",
        "  model.compile(loss=\"sparse_categorical_crossentropy\", optimizer=opt, metrics=[\"sparse_categorical_accuracy\"])\n",
        "  history = model.fit(input_variable_train2, validation_data=input_variable_valid2, batch_size=BS, epochs=NUM_EPOCHS, verbose=1,callbacks=[early_stopping] )\n",
        "  # plotting the metrics\n",
        "  plt.subplot(2, 1, 1)\n",
        "  plt.title('Sparse Crossentropy Loss')\n",
        "  plt.plot(history.history['loss'], color='blue', label='train')\n",
        "  plt.plot(history.history['val_loss'], color='orange', label='val')\n",
        "\t# plot accuracy\n",
        "  plt.subplot(2, 1, 2)\n",
        "  plt.title('Classification Accuracy')\n",
        "  plt.plot(history.history['sparse_categorical_accuracy'], color='blue', label='train')\n",
        "  plt.plot(history.history['val_sparse_categorical_accuracy'], color='orange', label='val')\n",
        "  score = model.evaluate(input_variable_test2, verbose=0) #evaluate based on test dataset, which was not used for training and validation\n",
        "  return model.summary(), history, print('Loss using testing dataset=', score[0]), print('Accuracy using testing dataset=', score[1])"
      ],
      "metadata": {
        "id": "-zTEKOUUjXKn"
      },
      "execution_count": 159,
      "outputs": []
    },
    {
      "cell_type": "code",
      "source": [
        "transformer4= transformer_variable4(opt2, input_variable_train2, input_variable_valid2, input_variable_test2)"
      ],
      "metadata": {
        "colab": {
          "base_uri": "https://localhost:8080/",
          "height": 1000
        },
        "id": "YbkS20AGjmyU",
        "outputId": "45ad2a4b-38fd-402b-a68b-1eda18aee223"
      },
      "execution_count": 160,
      "outputs": [
        {
          "output_type": "stream",
          "name": "stdout",
          "text": [
            "Epoch 1/100\n",
            "1250/1250 [==============================] - 61s 47ms/step - loss: 3.0718 - sparse_categorical_accuracy: 0.2277 - val_loss: 2.0848 - val_sparse_categorical_accuracy: 0.2651\n",
            "Epoch 2/100\n",
            "1250/1250 [==============================] - 59s 47ms/step - loss: 2.1099 - sparse_categorical_accuracy: 0.2616 - val_loss: 2.0714 - val_sparse_categorical_accuracy: 0.2936\n",
            "Epoch 3/100\n",
            "1250/1250 [==============================] - 59s 47ms/step - loss: 2.0833 - sparse_categorical_accuracy: 0.2787 - val_loss: 1.9809 - val_sparse_categorical_accuracy: 0.2977\n",
            "Epoch 4/100\n",
            "1250/1250 [==============================] - 59s 47ms/step - loss: 1.9286 - sparse_categorical_accuracy: 0.2903 - val_loss: 1.7901 - val_sparse_categorical_accuracy: 0.2799\n",
            "Epoch 5/100\n",
            "1250/1250 [==============================] - 59s 47ms/step - loss: 1.7543 - sparse_categorical_accuracy: 0.3022 - val_loss: 1.7231 - val_sparse_categorical_accuracy: 0.3147\n",
            "Epoch 6/100\n",
            "1250/1250 [==============================] - 59s 47ms/step - loss: 1.7264 - sparse_categorical_accuracy: 0.3284 - val_loss: 1.6946 - val_sparse_categorical_accuracy: 0.3338\n",
            "Epoch 7/100\n",
            "1250/1250 [==============================] - 59s 47ms/step - loss: 1.7213 - sparse_categorical_accuracy: 0.3258 - val_loss: 1.6897 - val_sparse_categorical_accuracy: 0.3265\n",
            "Epoch 8/100\n",
            "1250/1250 [==============================] - 59s 47ms/step - loss: 1.7079 - sparse_categorical_accuracy: 0.3405 - val_loss: 1.6793 - val_sparse_categorical_accuracy: 0.3444\n",
            "Epoch 9/100\n",
            "1250/1250 [==============================] - 59s 47ms/step - loss: 1.7010 - sparse_categorical_accuracy: 0.3597 - val_loss: 1.6833 - val_sparse_categorical_accuracy: 0.3688\n",
            "Epoch 10/100\n",
            "1250/1250 [==============================] - 59s 47ms/step - loss: 1.6974 - sparse_categorical_accuracy: 0.3656 - val_loss: 1.6794 - val_sparse_categorical_accuracy: 0.3564\n",
            "Epoch 11/100\n",
            "1250/1250 [==============================] - 59s 47ms/step - loss: 1.6919 - sparse_categorical_accuracy: 0.3713 - val_loss: 1.6684 - val_sparse_categorical_accuracy: 0.3678\n",
            "Epoch 12/100\n",
            "1250/1250 [==============================] - 59s 47ms/step - loss: 1.6919 - sparse_categorical_accuracy: 0.3693 - val_loss: 1.6789 - val_sparse_categorical_accuracy: 0.3404\n",
            "Epoch 13/100\n",
            "1250/1250 [==============================] - 59s 47ms/step - loss: 1.6869 - sparse_categorical_accuracy: 0.3603 - val_loss: 1.6593 - val_sparse_categorical_accuracy: 0.3612\n",
            "Model: \"model_51\"\n",
            "__________________________________________________________________________________________________\n",
            " Layer (type)                   Output Shape         Param #     Connected to                     \n",
            "==================================================================================================\n",
            " input_3 (InputLayer)           [(None, None, 33)]   0           []                               \n",
            "                                                                                                  \n",
            " time_distributed_52 (TimeDistr  (None, None, 64)    2176        ['input_3[0][0]']                \n",
            " ibuted)                                                                                          \n",
            "                                                                                                  \n",
            " position_embedding_1 (Position  (None, None, 64)    3200000     ['time_distributed_52[0][0]']    \n",
            " Embedding)                                                                                       \n",
            "                                                                                                  \n",
            " transformer_block_2 (Transform  (None, None, 64)    141248      ['position_embedding_1[0][0]']   \n",
            " erBlock)                                                                                         \n",
            "                                                                                                  \n",
            " transformer_block_3 (Transform  (None, None, 64)    141248      ['transformer_block_2[0][0]']    \n",
            " erBlock)                                                                                         \n",
            "                                                                                                  \n",
            " time_distributed_53 (TimeDistr  (None, None, 150)   9750        ['transformer_block_3[0][0]']    \n",
            " ibuted)                                                                                          \n",
            "                                                                                                  \n",
            " input_4 (InputLayer)           [(None,)]            0           []                               \n",
            "                                                                                                  \n",
            " reshape_51 (Reshape)           (None, None, 5)      0           ['time_distributed_53[0][0]']    \n",
            "                                                                                                  \n",
            " tf.math.reduce_max_51 (TFOpLam  ()                  0           ['input_4[0][0]']                \n",
            " bda)                                                                                             \n",
            "                                                                                                  \n",
            " up_sampling1d_51 (UpSampling1D  (None, None, 5)     0           ['reshape_51[0][0]']             \n",
            " )                                                                                                \n",
            "                                                                                                  \n",
            " tf.cast_51 (TFOpLambda)        ()                   0           ['tf.math.reduce_max_51[0][0]']  \n",
            "                                                                                                  \n",
            " tf.__operators__.getitem_51 (S  (None, None, 5)     0           ['up_sampling1d_51[0][0]',       \n",
            " licingOpLambda)                                                  'tf.cast_51[0][0]']             \n",
            "                                                                                                  \n",
            "==================================================================================================\n",
            "Total params: 3,494,422\n",
            "Trainable params: 3,494,422\n",
            "Non-trainable params: 0\n",
            "__________________________________________________________________________________________________\n",
            "Loss using testing dataset= 1.6576753854751587\n",
            "Accuracy using testing dataset= 0.38448238372802734\n"
          ]
        },
        {
          "output_type": "display_data",
          "data": {
            "text/plain": [
              "<Figure size 432x288 with 2 Axes>"
            ],
            "image/png": "[encoded data removed]"
          },
          "metadata": {}
        }
      ]
    },
    {
      "cell_type": "code",
      "source": [
        "def transformer_variable5(opt, inputs, input_variable_valid,input_variable_test):\n",
        "  inputs = keras.Input(shape=(None, 33))\n",
        "  inputs_L = Input(shape=[])\n",
        "  embDim = 64 ## Embedding size for each token\n",
        "  newEmb = layers.TimeDistributed(layers.Dense(embDim))(inputs)\n",
        "  inputsPosEmb = PositionEmbedding(maxlen=50000, embed_dim=embDim)(newEmb)\n",
        "  transf1 = TransformerBlock(embed_dim=embDim, num_heads=8, ff_dim=64)(inputsPosEmb) #ff_dim # Hidden layer size in feed forward network inside transformer\n",
        "  transf2 =TransformerBlock(embed_dim=embDim, num_heads=8, ff_dim=64)(transf1)\n",
        "  transf3 =TransformerBlock(embed_dim=embDim, num_heads=8, ff_dim=64)(transf2)\n",
        "  layer = layers.TimeDistributed(layers.Dense(150))(transf3)\n",
        "  layer = Reshape((-1,5))(layer)\n",
        "  layer = UpSampling1D(size=10)(layer)\n",
        "  L = tf.cast(tf.reduce_max(inputs_L), tf.int32)\n",
        "  output = layer[:,:L]\n",
        "  model = Model(inputs = (inputs_L,inputs) , outputs=output)\n",
        "  model.compile(loss=\"sparse_categorical_crossentropy\", optimizer=opt, metrics=[\"sparse_categorical_accuracy\"])\n",
        "  history = model.fit(input_variable_train2, validation_data=input_variable_valid2, batch_size=BS, epochs=NUM_EPOCHS, verbose=1,callbacks=[early_stopping] )\n",
        "  # plotting the metrics\n",
        "  plt.subplot(2, 1, 1)\n",
        "  plt.title('Sparse Crossentropy Loss')\n",
        "  plt.plot(history.history['loss'], color='blue', label='train')\n",
        "  plt.plot(history.history['val_loss'], color='orange', label='val')\n",
        "\t# plot accuracy\n",
        "  plt.subplot(2, 1, 2)\n",
        "  plt.title('Classification Accuracy')\n",
        "  plt.plot(history.history['sparse_categorical_accuracy'], color='blue', label='train')\n",
        "  plt.plot(history.history['val_sparse_categorical_accuracy'], color='orange', label='val')\n",
        "  score = model.evaluate(input_variable_test2, verbose=0) #evaluate based on test dataset, which was not used for training and validation\n",
        "  return model.summary(), history, print('Loss using testing dataset=', score[0]), print('Accuracy using testing dataset=', score[1])"
      ],
      "metadata": {
        "id": "o58niPgToIwP"
      },
      "execution_count": 161,
      "outputs": []
    },
    {
      "cell_type": "code",
      "source": [
        "transformer5= transformer_variable5(opt2, input_variable_train2, input_variable_valid2, input_variable_test2)"
      ],
      "metadata": {
        "colab": {
          "base_uri": "https://localhost:8080/",
          "height": 1000
        },
        "id": "IzC8-moCobqP",
        "outputId": "1e064616-fbf7-4d5c-98fe-84a2a7ca5291"
      },
      "execution_count": 162,
      "outputs": [
        {
          "output_type": "stream",
          "name": "stdout",
          "text": [
            "Epoch 1/100\n",
            "1250/1250 [==============================] - 88s 68ms/step - loss: 2.5091 - sparse_categorical_accuracy: 0.2516 - val_loss: 2.2089 - val_sparse_categorical_accuracy: 0.2712\n",
            "Epoch 2/100\n",
            "1250/1250 [==============================] - 85s 68ms/step - loss: 1.9289 - sparse_categorical_accuracy: 0.2645 - val_loss: 1.6772 - val_sparse_categorical_accuracy: 0.2761\n",
            "Epoch 3/100\n",
            "1250/1250 [==============================] - 85s 68ms/step - loss: 1.6863 - sparse_categorical_accuracy: 0.2873 - val_loss: 1.6701 - val_sparse_categorical_accuracy: 0.3057\n",
            "Epoch 4/100\n",
            "1250/1250 [==============================] - 85s 68ms/step - loss: 1.6422 - sparse_categorical_accuracy: 0.3047 - val_loss: 1.5130 - val_sparse_categorical_accuracy: 0.3205\n",
            "Epoch 5/100\n",
            "1250/1250 [==============================] - 85s 68ms/step - loss: 1.5173 - sparse_categorical_accuracy: 0.3152 - val_loss: 1.4951 - val_sparse_categorical_accuracy: 0.3094\n",
            "Epoch 6/100\n",
            "1250/1250 [==============================] - 85s 68ms/step - loss: 1.5119 - sparse_categorical_accuracy: 0.3028 - val_loss: 1.4999 - val_sparse_categorical_accuracy: 0.3004\n",
            "Epoch 7/100\n",
            "1250/1250 [==============================] - 85s 68ms/step - loss: 1.5058 - sparse_categorical_accuracy: 0.3081 - val_loss: 1.4937 - val_sparse_categorical_accuracy: 0.3139\n",
            "Model: \"model_52\"\n",
            "__________________________________________________________________________________________________\n",
            " Layer (type)                   Output Shape         Param #     Connected to                     \n",
            "==================================================================================================\n",
            " input_5 (InputLayer)           [(None, None, 33)]   0           []                               \n",
            "                                                                                                  \n",
            " time_distributed_54 (TimeDistr  (None, None, 64)    2176        ['input_5[0][0]']                \n",
            " ibuted)                                                                                          \n",
            "                                                                                                  \n",
            " position_embedding_2 (Position  (None, None, 64)    3200000     ['time_distributed_54[0][0]']    \n",
            " Embedding)                                                                                       \n",
            "                                                                                                  \n",
            " transformer_block_4 (Transform  (None, None, 64)    141248      ['position_embedding_2[0][0]']   \n",
            " erBlock)                                                                                         \n",
            "                                                                                                  \n",
            " transformer_block_5 (Transform  (None, None, 64)    141248      ['transformer_block_4[0][0]']    \n",
            " erBlock)                                                                                         \n",
            "                                                                                                  \n",
            " transformer_block_6 (Transform  (None, None, 64)    141248      ['transformer_block_5[0][0]']    \n",
            " erBlock)                                                                                         \n",
            "                                                                                                  \n",
            " time_distributed_55 (TimeDistr  (None, None, 150)   9750        ['transformer_block_6[0][0]']    \n",
            " ibuted)                                                                                          \n",
            "                                                                                                  \n",
            " input_6 (InputLayer)           [(None,)]            0           []                               \n",
            "                                                                                                  \n",
            " reshape_52 (Reshape)           (None, None, 5)      0           ['time_distributed_55[0][0]']    \n",
            "                                                                                                  \n",
            " tf.math.reduce_max_52 (TFOpLam  ()                  0           ['input_6[0][0]']                \n",
            " bda)                                                                                             \n",
            "                                                                                                  \n",
            " up_sampling1d_52 (UpSampling1D  (None, None, 5)     0           ['reshape_52[0][0]']             \n",
            " )                                                                                                \n",
            "                                                                                                  \n",
            " tf.cast_52 (TFOpLambda)        ()                   0           ['tf.math.reduce_max_52[0][0]']  \n",
            "                                                                                                  \n",
            " tf.__operators__.getitem_52 (S  (None, None, 5)     0           ['up_sampling1d_52[0][0]',       \n",
            " licingOpLambda)                                                  'tf.cast_52[0][0]']             \n",
            "                                                                                                  \n",
            "==================================================================================================\n",
            "Total params: 3,635,670\n",
            "Trainable params: 3,635,670\n",
            "Non-trainable params: 0\n",
            "__________________________________________________________________________________________________\n",
            "Loss using testing dataset= 1.4803543090820312\n",
            "Accuracy using testing dataset= 0.3291305899620056\n"
          ]
        },
        {
          "output_type": "display_data",
          "data": {
            "text/plain": [
              "<Figure size 432x288 with 2 Axes>"
            ],
            "image/png": "[encoded data removed]"
          },
          "metadata": {}
        }
      ]
    },
    {
      "cell_type": "code",
      "source": [
        "def transformer_variable6(opt, inputs, input_variable_valid,input_variable_test):\n",
        "  inputs = keras.Input(shape=(None, 33))\n",
        "  inputs_L = Input(shape=[])\n",
        "  embDim = 64 ## Embedding size for each token\n",
        "  newEmb = layers.TimeDistributed(layers.Dense(embDim))(inputs)\n",
        "  inputsPosEmb = PositionEmbedding(maxlen=50000, embed_dim=embDim)(newEmb)\n",
        "  transf1 = TransformerBlock(embed_dim=embDim, num_heads=16, ff_dim=64)(inputsPosEmb) #ff_dim # Hidden layer size in feed forward network inside transformer\n",
        "  transf2 =TransformerBlock(embed_dim=embDim, num_heads=8, ff_dim=64)(transf1)\n",
        "  layer = layers.TimeDistributed(layers.Dense(150))(transf2)\n",
        "  layer = Reshape((-1,5))(layer)\n",
        "  layer = UpSampling1D(size=10)(layer)\n",
        "  L = tf.cast(tf.reduce_max(inputs_L), tf.int32)\n",
        "  output = layer[:,:L]\n",
        "  model = Model(inputs = (inputs_L,inputs) , outputs=output)\n",
        "  model.compile(loss=\"sparse_categorical_crossentropy\", optimizer=opt, metrics=[\"sparse_categorical_accuracy\"])\n",
        "  history = model.fit(input_variable_train2, validation_data=input_variable_valid2, batch_size=BS, epochs=NUM_EPOCHS, verbose=1,callbacks=[early_stopping] )\n",
        "  # plotting the metrics\n",
        "  plt.subplot(2, 1, 1)\n",
        "  plt.title('Sparse Crossentropy Loss')\n",
        "  plt.plot(history.history['loss'], color='blue', label='train')\n",
        "  plt.plot(history.history['val_loss'], color='orange', label='val')\n",
        "\t# plot accuracy\n",
        "  plt.subplot(2, 1, 2)\n",
        "  plt.title('Classification Accuracy')\n",
        "  plt.plot(history.history['sparse_categorical_accuracy'], color='blue', label='train')\n",
        "  plt.plot(history.history['val_sparse_categorical_accuracy'], color='orange', label='val')\n",
        "  score = model.evaluate(input_variable_test2, verbose=0) #evaluate based on test dataset, which was not used for training and validation\n",
        "  return model.summary(), history, print('Loss using testing dataset=', score[0]), print('Accuracy using testing dataset=', score[1])"
      ],
      "metadata": {
        "id": "_MRcBXF-oirv"
      },
      "execution_count": 163,
      "outputs": []
    },
    {
      "cell_type": "code",
      "source": [
        "transformer6= transformer_variable6(opt2, input_variable_train2, input_variable_valid2, input_variable_test2)"
      ],
      "metadata": {
        "colab": {
          "base_uri": "https://localhost:8080/",
          "height": 1000
        },
        "id": "NVT5jJGZolY4",
        "outputId": "67406e88-ecba-48fd-9678-1e6e7c822260"
      },
      "execution_count": 164,
      "outputs": [
        {
          "output_type": "stream",
          "name": "stdout",
          "text": [
            "Epoch 1/100\n",
            "1250/1250 [==============================] - 83s 65ms/step - loss: 2.3561 - sparse_categorical_accuracy: 0.2566 - val_loss: 1.7874 - val_sparse_categorical_accuracy: 0.2918\n",
            "Epoch 2/100\n",
            "1250/1250 [==============================] - 81s 65ms/step - loss: 1.7835 - sparse_categorical_accuracy: 0.2989 - val_loss: 1.7330 - val_sparse_categorical_accuracy: 0.3182\n",
            "Epoch 3/100\n",
            "1250/1250 [==============================] - 81s 65ms/step - loss: 1.7602 - sparse_categorical_accuracy: 0.3180 - val_loss: 1.7268 - val_sparse_categorical_accuracy: 0.3315\n",
            "Epoch 4/100\n",
            "1250/1250 [==============================] - 81s 65ms/step - loss: 1.6857 - sparse_categorical_accuracy: 0.3198 - val_loss: 1.6455 - val_sparse_categorical_accuracy: 0.3282\n",
            "Epoch 5/100\n",
            "1250/1250 [==============================] - 81s 65ms/step - loss: 1.6605 - sparse_categorical_accuracy: 0.3356 - val_loss: 1.6376 - val_sparse_categorical_accuracy: 0.3409\n",
            "Epoch 6/100\n",
            "1250/1250 [==============================] - 81s 65ms/step - loss: 1.6572 - sparse_categorical_accuracy: 0.3374 - val_loss: 1.6325 - val_sparse_categorical_accuracy: 0.3433\n",
            "Epoch 7/100\n",
            "1250/1250 [==============================] - 81s 65ms/step - loss: 1.6333 - sparse_categorical_accuracy: 0.3412 - val_loss: 1.5664 - val_sparse_categorical_accuracy: 0.3415\n",
            "Epoch 8/100\n",
            "1250/1250 [==============================] - 81s 65ms/step - loss: 1.5757 - sparse_categorical_accuracy: 0.3423 - val_loss: 1.5637 - val_sparse_categorical_accuracy: 0.3314\n",
            "Epoch 9/100\n",
            "1250/1250 [==============================] - 81s 65ms/step - loss: 1.5845 - sparse_categorical_accuracy: 0.3333 - val_loss: 1.5545 - val_sparse_categorical_accuracy: 0.3257\n",
            "Epoch 10/100\n",
            "1250/1250 [==============================] - 81s 65ms/step - loss: 1.5652 - sparse_categorical_accuracy: 0.3413 - val_loss: 1.5491 - val_sparse_categorical_accuracy: 0.3279\n",
            "Model: \"model_53\"\n",
            "__________________________________________________________________________________________________\n",
            " Layer (type)                   Output Shape         Param #     Connected to                     \n",
            "==================================================================================================\n",
            " input_7 (InputLayer)           [(None, None, 33)]   0           []                               \n",
            "                                                                                                  \n",
            " time_distributed_56 (TimeDistr  (None, None, 64)    2176        ['input_7[0][0]']                \n",
            " ibuted)                                                                                          \n",
            "                                                                                                  \n",
            " position_embedding_3 (Position  (None, None, 64)    3200000     ['time_distributed_56[0][0]']    \n",
            " Embedding)                                                                                       \n",
            "                                                                                                  \n",
            " transformer_block_7 (Transform  (None, None, 64)    273856      ['position_embedding_3[0][0]']   \n",
            " erBlock)                                                                                         \n",
            "                                                                                                  \n",
            " transformer_block_8 (Transform  (None, None, 64)    141248      ['transformer_block_7[0][0]']    \n",
            " erBlock)                                                                                         \n",
            "                                                                                                  \n",
            " time_distributed_57 (TimeDistr  (None, None, 150)   9750        ['transformer_block_8[0][0]']    \n",
            " ibuted)                                                                                          \n",
            "                                                                                                  \n",
            " input_8 (InputLayer)           [(None,)]            0           []                               \n",
            "                                                                                                  \n",
            " reshape_53 (Reshape)           (None, None, 5)      0           ['time_distributed_57[0][0]']    \n",
            "                                                                                                  \n",
            " tf.math.reduce_max_53 (TFOpLam  ()                  0           ['input_8[0][0]']                \n",
            " bda)                                                                                             \n",
            "                                                                                                  \n",
            " up_sampling1d_53 (UpSampling1D  (None, None, 5)     0           ['reshape_53[0][0]']             \n",
            " )                                                                                                \n",
            "                                                                                                  \n",
            " tf.cast_53 (TFOpLambda)        ()                   0           ['tf.math.reduce_max_53[0][0]']  \n",
            "                                                                                                  \n",
            " tf.__operators__.getitem_53 (S  (None, None, 5)     0           ['up_sampling1d_53[0][0]',       \n",
            " licingOpLambda)                                                  'tf.cast_53[0][0]']             \n",
            "                                                                                                  \n",
            "==================================================================================================\n",
            "Total params: 3,627,030\n",
            "Trainable params: 3,627,030\n",
            "Non-trainable params: 0\n",
            "__________________________________________________________________________________________________\n",
            "Loss using testing dataset= 1.5228768587112427\n",
            "Accuracy using testing dataset= 0.351242333650589\n"
          ]
        },
        {
          "output_type": "display_data",
          "data": {
            "text/plain": [
              "<Figure size 432x288 with 2 Axes>"
            ],
            "image/png": "[encoded data removed]"
          },
          "metadata": {}
        }
      ]
    },
    {
      "cell_type": "code",
      "source": [
        "def transformer_variable7(opt, inputs, input_variable_valid,input_variable_test):\n",
        "  inputs = keras.Input(shape=(None, 33))\n",
        "  inputs_L = Input(shape=[])\n",
        "  embDim = 32 ## Embedding size for each token\n",
        "  newEmb = layers.TimeDistributed(layers.Dense(embDim))(inputs)\n",
        "  inputsPosEmb = PositionEmbedding(maxlen=50000, embed_dim=embDim)(newEmb)\n",
        "  transf1 = TransformerBlock(embed_dim=embDim, num_heads=4, ff_dim=32)(inputsPosEmb) #ff_dim # Hidden layer size in feed forward network inside transformer\n",
        "  transf2 =TransformerBlock(embed_dim=embDim, num_heads=4, ff_dim=32)(transf1)\n",
        "  transf3 =TransformerBlock(embed_dim=embDim, num_heads=4, ff_dim=32)(transf2)\n",
        "  transf4 =TransformerBlock(embed_dim=embDim, num_heads=4, ff_dim=32)(transf3)\n",
        "  layer = layers.TimeDistributed(layers.Dense(150))(transf3)\n",
        "  layer = Reshape((-1,5))(layer)\n",
        "  layer = UpSampling1D(size=10)(layer)\n",
        "  L = tf.cast(tf.reduce_max(inputs_L), tf.int32)\n",
        "  output = layer[:,:L]\n",
        "  model = Model(inputs = (inputs_L,inputs) , outputs=output)\n",
        "  model.compile(loss=\"sparse_categorical_crossentropy\", optimizer=opt, metrics=[\"sparse_categorical_accuracy\"])\n",
        "  history = model.fit(input_variable_train2, validation_data=input_variable_valid2, batch_size=BS, epochs=NUM_EPOCHS, verbose=1,callbacks=[early_stopping] )\n",
        "  # plotting the metrics\n",
        "  plt.subplot(2, 1, 1)\n",
        "  plt.title('Sparse Crossentropy Loss')\n",
        "  plt.plot(history.history['loss'], color='blue', label='train')\n",
        "  plt.plot(history.history['val_loss'], color='orange', label='val')\n",
        "\t# plot accuracy\n",
        "  plt.subplot(2, 1, 2)\n",
        "  plt.title('Classification Accuracy')\n",
        "  plt.plot(history.history['sparse_categorical_accuracy'], color='blue', label='train')\n",
        "  plt.plot(history.history['val_sparse_categorical_accuracy'], color='orange', label='val')\n",
        "  score = model.evaluate(input_variable_test2, verbose=0) #evaluate based on test dataset, which was not used for training and validation\n",
        "  return model.summary(), history, print('Loss using testing dataset=', score[0]), print('Accuracy using testing dataset=', score[1])"
      ],
      "metadata": {
        "id": "kzU6JosOtKqj"
      },
      "execution_count": 165,
      "outputs": []
    },
    {
      "cell_type": "code",
      "source": [
        "transformer7= transformer_variable7(opt2, input_variable_train2, input_variable_valid2, input_variable_test2)"
      ],
      "metadata": {
        "colab": {
          "base_uri": "https://localhost:8080/",
          "height": 1000
        },
        "id": "Z0XrZGdctK-x",
        "outputId": "43bd78b7-82d0-4dae-ceea-198ee40a0b7e"
      },
      "execution_count": 166,
      "outputs": [
        {
          "output_type": "stream",
          "name": "stdout",
          "text": [
            "Epoch 1/100\n",
            "1250/1250 [==============================] - 49s 37ms/step - loss: 2.5802 - sparse_categorical_accuracy: 0.2640 - val_loss: 2.0523 - val_sparse_categorical_accuracy: 0.2931\n",
            "Epoch 2/100\n",
            "1250/1250 [==============================] - 46s 36ms/step - loss: 2.0719 - sparse_categorical_accuracy: 0.2836 - val_loss: 2.0376 - val_sparse_categorical_accuracy: 0.2926\n",
            "Epoch 3/100\n",
            "1250/1250 [==============================] - 45s 36ms/step - loss: 1.9589 - sparse_categorical_accuracy: 0.3026 - val_loss: 1.8594 - val_sparse_categorical_accuracy: 0.3380\n",
            "Epoch 4/100\n",
            "1250/1250 [==============================] - 45s 36ms/step - loss: 1.8260 - sparse_categorical_accuracy: 0.3413 - val_loss: 1.7427 - val_sparse_categorical_accuracy: 0.3575\n",
            "Epoch 5/100\n",
            "1250/1250 [==============================] - 45s 36ms/step - loss: 1.7522 - sparse_categorical_accuracy: 0.3632 - val_loss: 1.7345 - val_sparse_categorical_accuracy: 0.3728\n",
            "Epoch 6/100\n",
            "1250/1250 [==============================] - 45s 36ms/step - loss: 1.7401 - sparse_categorical_accuracy: 0.3739 - val_loss: 1.7267 - val_sparse_categorical_accuracy: 0.3770\n",
            "Epoch 7/100\n",
            "1250/1250 [==============================] - 45s 36ms/step - loss: 1.7325 - sparse_categorical_accuracy: 0.3778 - val_loss: 1.7268 - val_sparse_categorical_accuracy: 0.3766\n",
            "Epoch 8/100\n",
            "1250/1250 [==============================] - 45s 36ms/step - loss: 1.7287 - sparse_categorical_accuracy: 0.3782 - val_loss: 1.7227 - val_sparse_categorical_accuracy: 0.3829\n",
            "Epoch 9/100\n",
            "1250/1250 [==============================] - 46s 36ms/step - loss: 1.7207 - sparse_categorical_accuracy: 0.3819 - val_loss: 1.7497 - val_sparse_categorical_accuracy: 0.3645\n",
            "Epoch 10/100\n",
            "1250/1250 [==============================] - 45s 36ms/step - loss: 1.7304 - sparse_categorical_accuracy: 0.3767 - val_loss: 1.7181 - val_sparse_categorical_accuracy: 0.3764\n",
            "Epoch 11/100\n",
            "1250/1250 [==============================] - 45s 36ms/step - loss: 1.6908 - sparse_categorical_accuracy: 0.3783 - val_loss: 1.6371 - val_sparse_categorical_accuracy: 0.3773\n",
            "Model: \"model_54\"\n",
            "__________________________________________________________________________________________________\n",
            " Layer (type)                   Output Shape         Param #     Connected to                     \n",
            "==================================================================================================\n",
            " input_9 (InputLayer)           [(None, None, 33)]   0           []                               \n",
            "                                                                                                  \n",
            " time_distributed_58 (TimeDistr  (None, None, 32)    1088        ['input_9[0][0]']                \n",
            " ibuted)                                                                                          \n",
            "                                                                                                  \n",
            " position_embedding_4 (Position  (None, None, 32)    1600000     ['time_distributed_58[0][0]']    \n",
            " Embedding)                                                                                       \n",
            "                                                                                                  \n",
            " transformer_block_9 (Transform  (None, None, 32)    19040       ['position_embedding_4[0][0]']   \n",
            " erBlock)                                                                                         \n",
            "                                                                                                  \n",
            " transformer_block_10 (Transfor  (None, None, 32)    19040       ['transformer_block_9[0][0]']    \n",
            " merBlock)                                                                                        \n",
            "                                                                                                  \n",
            " transformer_block_11 (Transfor  (None, None, 32)    19040       ['transformer_block_10[0][0]']   \n",
            " merBlock)                                                                                        \n",
            "                                                                                                  \n",
            " time_distributed_59 (TimeDistr  (None, None, 150)   4950        ['transformer_block_11[0][0]']   \n",
            " ibuted)                                                                                          \n",
            "                                                                                                  \n",
            " input_10 (InputLayer)          [(None,)]            0           []                               \n",
            "                                                                                                  \n",
            " reshape_54 (Reshape)           (None, None, 5)      0           ['time_distributed_59[0][0]']    \n",
            "                                                                                                  \n",
            " tf.math.reduce_max_54 (TFOpLam  ()                  0           ['input_10[0][0]']               \n",
            " bda)                                                                                             \n",
            "                                                                                                  \n",
            " up_sampling1d_54 (UpSampling1D  (None, None, 5)     0           ['reshape_54[0][0]']             \n",
            " )                                                                                                \n",
            "                                                                                                  \n",
            " tf.cast_54 (TFOpLambda)        ()                   0           ['tf.math.reduce_max_54[0][0]']  \n",
            "                                                                                                  \n",
            " tf.__operators__.getitem_54 (S  (None, None, 5)     0           ['up_sampling1d_54[0][0]',       \n",
            " licingOpLambda)                                                  'tf.cast_54[0][0]']             \n",
            "                                                                                                  \n",
            "==================================================================================================\n",
            "Total params: 1,663,158\n",
            "Trainable params: 1,663,158\n",
            "Non-trainable params: 0\n",
            "__________________________________________________________________________________________________\n",
            "Loss using testing dataset= 1.5943615436553955\n",
            "Accuracy using testing dataset= 0.410748153924942\n"
          ]
        },
        {
          "output_type": "display_data",
          "data": {
            "text/plain": [
              "<Figure size 432x288 with 2 Axes>"
            ],
            "image/png": "[encoded data removed]"
          },
          "metadata": {}
        }
      ]
    },
    {
      "cell_type": "code",
      "source": [
        "def transformer_variable8(opt, inputs, input_variable_valid,input_variable_test):\n",
        "  inputs = keras.Input(shape=(None, 33))\n",
        "  inputs_L = Input(shape=[])\n",
        "  embDim = 64 ## Embedding size for each token\n",
        "  newEmb = layers.TimeDistributed(layers.Dense(embDim))(inputs)\n",
        "  inputsPosEmb = PositionEmbedding(maxlen=50000, embed_dim=embDim)(newEmb)\n",
        "  transf1 = TransformerBlock(embed_dim=embDim, num_heads=4, ff_dim=32)(inputsPosEmb) #ff_dim # Hidden layer size in feed forward network inside transformer\n",
        "  transf1 = Dropout(0.1)(transf1)\n",
        "  transf2 =TransformerBlock(embed_dim=embDim, num_heads=4, ff_dim=32)(transf1)\n",
        "  transf2 = Dropout(0.05)(transf2)\n",
        "  transf3 =TransformerBlock(embed_dim=embDim, num_heads=4, ff_dim=32)(transf2)\n",
        "  transf3 = Dropout(0.05)(transf3)\n",
        "  transf4 =TransformerBlock(embed_dim=embDim, num_heads=4, ff_dim=32)(transf3)\n",
        "  transf4 = Dropout(0.05)(transf4)\n",
        "  layer = layers.TimeDistributed(layers.Dense(150))(transf4)\n",
        "  layer = Reshape((-1,5))(layer)\n",
        "  layer = UpSampling1D(size=10)(layer)\n",
        "  L = tf.cast(tf.reduce_max(inputs_L), tf.int32)\n",
        "  output = layer[:,:L]\n",
        "  model = Model(inputs = (inputs_L,inputs) , outputs=output)\n",
        "  model.compile(loss=\"sparse_categorical_crossentropy\", optimizer=opt, metrics=[\"sparse_categorical_accuracy\"])\n",
        "  history = model.fit(input_variable_train2, validation_data=input_variable_valid2, batch_size=BS, epochs=NUM_EPOCHS, verbose=1,callbacks=[early_stopping] )\n",
        "  # plotting the metrics\n",
        "  plt.subplot(2, 1, 1)\n",
        "  plt.title('Sparse Crossentropy Loss')\n",
        "  plt.plot(history.history['loss'], color='blue', label='train')\n",
        "  plt.plot(history.history['val_loss'], color='orange', label='val')\n",
        "\t# plot accuracy\n",
        "  plt.subplot(2, 1, 2)\n",
        "  plt.title('Classification Accuracy')\n",
        "  plt.plot(history.history['sparse_categorical_accuracy'], color='blue', label='train')\n",
        "  plt.plot(history.history['val_sparse_categorical_accuracy'], color='orange', label='val')\n",
        "  score = model.evaluate(input_variable_test2, verbose=0) #evaluate based on test dataset, which was not used for training and validation\n",
        "  return model.summary(), history, print('Loss using testing dataset=', score[0]), print('Accuracy using testing dataset=', score[1])"
      ],
      "metadata": {
        "id": "zlySY-IvuetB"
      },
      "execution_count": 177,
      "outputs": []
    },
    {
      "cell_type": "code",
      "source": [
        "transformer8= transformer_variable8(opt2, input_variable_train2, input_variable_valid2, input_variable_test2)"
      ],
      "metadata": {
        "colab": {
          "base_uri": "https://localhost:8080/",
          "height": 1000
        },
        "id": "rrmGxwV0xViO",
        "outputId": "0604bbc0-791d-4e69-ba82-cfc69482ed55"
      },
      "execution_count": 178,
      "outputs": [
        {
          "output_type": "stream",
          "name": "stdout",
          "text": [
            "Epoch 1/100\n",
            "1250/1250 [==============================] - 70s 53ms/step - loss: 2.0215 - sparse_categorical_accuracy: 0.2414 - val_loss: 1.6153 - val_sparse_categorical_accuracy: 0.2774\n",
            "Epoch 2/100\n",
            "1250/1250 [==============================] - 65s 52ms/step - loss: 1.5899 - sparse_categorical_accuracy: 0.2661 - val_loss: 1.4945 - val_sparse_categorical_accuracy: 0.2907\n",
            "Epoch 3/100\n",
            "1250/1250 [==============================] - 65s 52ms/step - loss: 1.5216 - sparse_categorical_accuracy: 0.2768 - val_loss: 1.4951 - val_sparse_categorical_accuracy: 0.2986\n",
            "Epoch 4/100\n",
            "1250/1250 [==============================] - 65s 52ms/step - loss: 1.5058 - sparse_categorical_accuracy: 0.2994 - val_loss: 1.4875 - val_sparse_categorical_accuracy: 0.3229\n",
            "Epoch 5/100\n",
            "1250/1250 [==============================] - 65s 52ms/step - loss: 1.5107 - sparse_categorical_accuracy: 0.2959 - val_loss: 1.4765 - val_sparse_categorical_accuracy: 0.3249\n",
            "Epoch 6/100\n",
            "1250/1250 [==============================] - 65s 52ms/step - loss: 1.4963 - sparse_categorical_accuracy: 0.3069 - val_loss: 1.4756 - val_sparse_categorical_accuracy: 0.3154\n",
            "Epoch 7/100\n",
            "1250/1250 [==============================] - 65s 52ms/step - loss: 1.4888 - sparse_categorical_accuracy: 0.3187 - val_loss: 1.4712 - val_sparse_categorical_accuracy: 0.3357\n",
            "Epoch 8/100\n",
            "1250/1250 [==============================] - 65s 52ms/step - loss: 1.4884 - sparse_categorical_accuracy: 0.3237 - val_loss: 1.4695 - val_sparse_categorical_accuracy: 0.3355\n",
            "Epoch 9/100\n",
            "1250/1250 [==============================] - 64s 52ms/step - loss: 1.4832 - sparse_categorical_accuracy: 0.3365 - val_loss: 1.4615 - val_sparse_categorical_accuracy: 0.3437\n",
            "Epoch 10/100\n",
            "1250/1250 [==============================] - 65s 52ms/step - loss: 1.4779 - sparse_categorical_accuracy: 0.3408 - val_loss: 1.4578 - val_sparse_categorical_accuracy: 0.3430\n",
            "Epoch 11/100\n",
            "1250/1250 [==============================] - 65s 52ms/step - loss: 1.4778 - sparse_categorical_accuracy: 0.3371 - val_loss: 1.4574 - val_sparse_categorical_accuracy: 0.3399\n",
            "Epoch 12/100\n",
            "1250/1250 [==============================] - 65s 52ms/step - loss: 1.4733 - sparse_categorical_accuracy: 0.3374 - val_loss: 1.4584 - val_sparse_categorical_accuracy: 0.3392\n",
            "Model: \"model_57\"\n",
            "__________________________________________________________________________________________________\n",
            " Layer (type)                   Output Shape         Param #     Connected to                     \n",
            "==================================================================================================\n",
            " input_21 (InputLayer)          [(None, None, 33)]   0           []                               \n",
            "                                                                                                  \n",
            " time_distributed_67 (TimeDistr  (None, None, 64)    2176        ['input_21[0][0]']               \n",
            " ibuted)                                                                                          \n",
            "                                                                                                  \n",
            " position_embedding_10 (Positio  (None, None, 64)    3200000     ['time_distributed_67[0][0]']    \n",
            " nEmbedding)                                                                                      \n",
            "                                                                                                  \n",
            " transformer_block_27 (Transfor  (None, None, 64)    70816       ['position_embedding_10[0][0]']  \n",
            " merBlock)                                                                                        \n",
            "                                                                                                  \n",
            " dropout_103 (Dropout)          (None, None, 64)     0           ['transformer_block_27[0][0]']   \n",
            "                                                                                                  \n",
            " transformer_block_28 (Transfor  (None, None, 64)    70816       ['dropout_103[0][0]']            \n",
            " merBlock)                                                                                        \n",
            "                                                                                                  \n",
            " dropout_106 (Dropout)          (None, None, 64)     0           ['transformer_block_28[0][0]']   \n",
            "                                                                                                  \n",
            " transformer_block_29 (Transfor  (None, None, 64)    70816       ['dropout_106[0][0]']            \n",
            " merBlock)                                                                                        \n",
            "                                                                                                  \n",
            " dropout_109 (Dropout)          (None, None, 64)     0           ['transformer_block_29[0][0]']   \n",
            "                                                                                                  \n",
            " transformer_block_30 (Transfor  (None, None, 64)    70816       ['dropout_109[0][0]']            \n",
            " merBlock)                                                                                        \n",
            "                                                                                                  \n",
            " dropout_112 (Dropout)          (None, None, 64)     0           ['transformer_block_30[0][0]']   \n",
            "                                                                                                  \n",
            " time_distributed_68 (TimeDistr  (None, None, 150)   9750        ['dropout_112[0][0]']            \n",
            " ibuted)                                                                                          \n",
            "                                                                                                  \n",
            " input_22 (InputLayer)          [(None,)]            0           []                               \n",
            "                                                                                                  \n",
            " reshape_57 (Reshape)           (None, None, 5)      0           ['time_distributed_68[0][0]']    \n",
            "                                                                                                  \n",
            " tf.math.reduce_max_57 (TFOpLam  ()                  0           ['input_22[0][0]']               \n",
            " bda)                                                                                             \n",
            "                                                                                                  \n",
            " up_sampling1d_57 (UpSampling1D  (None, None, 5)     0           ['reshape_57[0][0]']             \n",
            " )                                                                                                \n",
            "                                                                                                  \n",
            " tf.cast_57 (TFOpLambda)        ()                   0           ['tf.math.reduce_max_57[0][0]']  \n",
            "                                                                                                  \n",
            " tf.__operators__.getitem_57 (S  (None, None, 5)     0           ['up_sampling1d_57[0][0]',       \n",
            " licingOpLambda)                                                  'tf.cast_57[0][0]']             \n",
            "                                                                                                  \n",
            "==================================================================================================\n",
            "Total params: 3,495,190\n",
            "Trainable params: 3,495,190\n",
            "Non-trainable params: 0\n",
            "__________________________________________________________________________________________________\n",
            "Loss using testing dataset= 1.4447664022445679\n",
            "Accuracy using testing dataset= 0.35750851035118103\n"
          ]
        },
        {
          "output_type": "display_data",
          "data": {
            "text/plain": [
              "<Figure size 432x288 with 2 Axes>"
            ],
            "image/png": "[encoded data removed]"
          },
          "metadata": {}
        }
      ]
    },
    {
      "cell_type": "code",
      "source": [
        "def transformer_variable9(opt, inputs, input_variable_valid,input_variable_test):\n",
        "  inputs = keras.Input(shape=(None, 33))\n",
        "  inputs_L = Input(shape=[])\n",
        "  embDim = 64 ## Embedding size for each token\n",
        "  newEmb = layers.TimeDistributed(layers.Dense(embDim))(inputs)\n",
        "  inputsPosEmb = PositionEmbedding(maxlen=50000, embed_dim=embDim)(newEmb)\n",
        "  transf1 = TransformerBlock(embed_dim=embDim, num_heads=8, ff_dim=64)(inputsPosEmb) #ff_dim # Hidden layer size in feed forward network inside transformer\n",
        "  transf1 = Dropout(0.1)(transf1)\n",
        "  transf2 =TransformerBlock(embed_dim=embDim, num_heads=8, ff_dim=64)(transf1)\n",
        "  transf2 = Dropout(0.05)(transf2)\n",
        "  transf3 =TransformerBlock(embed_dim=embDim, num_heads=8, ff_dim=64)(transf2)\n",
        "  transf3 = Dropout(0.05)(transf3)\n",
        "  transf4 =TransformerBlock(embed_dim=embDim, num_heads=8, ff_dim=64)(transf3)\n",
        "  transf4 = Dropout(0.05)(transf4)\n",
        "  layer = layers.TimeDistributed(layers.Dense(150))(transf4)\n",
        "  layer = Reshape((-1,5))(layer)\n",
        "  layer = UpSampling1D(size=10)(layer)\n",
        "  L = tf.cast(tf.reduce_max(inputs_L), tf.int32)\n",
        "  output = layer[:,:L]\n",
        "  model = Model(inputs = (inputs_L,inputs) , outputs=output)\n",
        "  model.compile(loss=\"sparse_categorical_crossentropy\", optimizer=opt, metrics=[\"sparse_categorical_accuracy\"])\n",
        "  history = model.fit(input_variable_train2, validation_data=input_variable_valid2, batch_size=BS, epochs=NUM_EPOCHS, verbose=1,callbacks=[early_stopping] )\n",
        "  # plotting the metrics\n",
        "  plt.subplot(2, 1, 1)\n",
        "  plt.title('Sparse Crossentropy Loss')\n",
        "  plt.plot(history.history['loss'], color='blue', label='train')\n",
        "  plt.plot(history.history['val_loss'], color='orange', label='val')\n",
        "\t# plot accuracy\n",
        "  plt.subplot(2, 1, 2)\n",
        "  plt.title('Classification Accuracy')\n",
        "  plt.plot(history.history['sparse_categorical_accuracy'], color='blue', label='train')\n",
        "  plt.plot(history.history['val_sparse_categorical_accuracy'], color='orange', label='val')\n",
        "  score = model.evaluate(input_variable_test2, verbose=0) #evaluate based on test dataset, which was not used for training and validation\n",
        "  return model.summary(), history, print('Loss using testing dataset=', score[0]), print('Accuracy using testing dataset=', score[1])"
      ],
      "metadata": {
        "id": "EaQ08dxM0LXT"
      },
      "execution_count": 179,
      "outputs": []
    },
    {
      "cell_type": "code",
      "source": [
        "transformer9= transformer_variable9(opt2, input_variable_train2, input_variable_valid2, input_variable_test2)"
      ],
      "metadata": {
        "colab": {
          "base_uri": "https://localhost:8080/",
          "height": 1000
        },
        "id": "wsnrQPKm0MHV",
        "outputId": "8ba1fca7-313c-4bf7-da33-a2038288d2c5"
      },
      "execution_count": 180,
      "outputs": [
        {
          "output_type": "stream",
          "name": "stdout",
          "text": [
            "Epoch 1/100\n",
            "1250/1250 [==============================] - 116s 90ms/step - loss: 2.1226 - sparse_categorical_accuracy: 0.2214 - val_loss: 1.7688 - val_sparse_categorical_accuracy: 0.2526\n",
            "Epoch 2/100\n",
            "1250/1250 [==============================] - 112s 89ms/step - loss: 1.7777 - sparse_categorical_accuracy: 0.2365 - val_loss: 1.7681 - val_sparse_categorical_accuracy: 0.2600\n",
            "Epoch 3/100\n",
            "1250/1250 [==============================] - 112s 90ms/step - loss: 1.7715 - sparse_categorical_accuracy: 0.2433 - val_loss: 1.7633 - val_sparse_categorical_accuracy: 0.2657\n",
            "Epoch 4/100\n",
            "1250/1250 [==============================] - 112s 89ms/step - loss: 1.7425 - sparse_categorical_accuracy: 0.2510 - val_loss: 1.6772 - val_sparse_categorical_accuracy: 0.2683\n",
            "Epoch 5/100\n",
            "1250/1250 [==============================] - 112s 89ms/step - loss: 1.6382 - sparse_categorical_accuracy: 0.2601 - val_loss: 1.5081 - val_sparse_categorical_accuracy: 0.2822\n",
            "Epoch 6/100\n",
            "1250/1250 [==============================] - 112s 89ms/step - loss: 1.5178 - sparse_categorical_accuracy: 0.2790 - val_loss: 1.5001 - val_sparse_categorical_accuracy: 0.2952\n",
            "Epoch 7/100\n",
            "1250/1250 [==============================] - 112s 90ms/step - loss: 1.5157 - sparse_categorical_accuracy: 0.2935 - val_loss: 1.5003 - val_sparse_categorical_accuracy: 0.2959\n",
            "Epoch 8/100\n",
            "1250/1250 [==============================] - 112s 90ms/step - loss: 1.5127 - sparse_categorical_accuracy: 0.2979 - val_loss: 1.4992 - val_sparse_categorical_accuracy: 0.2962\n",
            "Epoch 9/100\n",
            "1250/1250 [==============================] - 112s 89ms/step - loss: 1.5121 - sparse_categorical_accuracy: 0.2937 - val_loss: 1.4950 - val_sparse_categorical_accuracy: 0.2999\n",
            "Epoch 10/100\n",
            "1250/1250 [==============================] - 111s 89ms/step - loss: 1.5099 - sparse_categorical_accuracy: 0.2957 - val_loss: 1.4926 - val_sparse_categorical_accuracy: 0.3052\n",
            "Model: \"model_58\"\n",
            "__________________________________________________________________________________________________\n",
            " Layer (type)                   Output Shape         Param #     Connected to                     \n",
            "==================================================================================================\n",
            " input_23 (InputLayer)          [(None, None, 33)]   0           []                               \n",
            "                                                                                                  \n",
            " time_distributed_69 (TimeDistr  (None, None, 64)    2176        ['input_23[0][0]']               \n",
            " ibuted)                                                                                          \n",
            "                                                                                                  \n",
            " position_embedding_11 (Positio  (None, None, 64)    3200000     ['time_distributed_69[0][0]']    \n",
            " nEmbedding)                                                                                      \n",
            "                                                                                                  \n",
            " transformer_block_31 (Transfor  (None, None, 64)    141248      ['position_embedding_11[0][0]']  \n",
            " merBlock)                                                                                        \n",
            "                                                                                                  \n",
            " dropout_115 (Dropout)          (None, None, 64)     0           ['transformer_block_31[0][0]']   \n",
            "                                                                                                  \n",
            " transformer_block_32 (Transfor  (None, None, 64)    141248      ['dropout_115[0][0]']            \n",
            " merBlock)                                                                                        \n",
            "                                                                                                  \n",
            " dropout_118 (Dropout)          (None, None, 64)     0           ['transformer_block_32[0][0]']   \n",
            "                                                                                                  \n",
            " transformer_block_33 (Transfor  (None, None, 64)    141248      ['dropout_118[0][0]']            \n",
            " merBlock)                                                                                        \n",
            "                                                                                                  \n",
            " dropout_121 (Dropout)          (None, None, 64)     0           ['transformer_block_33[0][0]']   \n",
            "                                                                                                  \n",
            " transformer_block_34 (Transfor  (None, None, 64)    141248      ['dropout_121[0][0]']            \n",
            " merBlock)                                                                                        \n",
            "                                                                                                  \n",
            " dropout_124 (Dropout)          (None, None, 64)     0           ['transformer_block_34[0][0]']   \n",
            "                                                                                                  \n",
            " time_distributed_70 (TimeDistr  (None, None, 150)   9750        ['dropout_124[0][0]']            \n",
            " ibuted)                                                                                          \n",
            "                                                                                                  \n",
            " input_24 (InputLayer)          [(None,)]            0           []                               \n",
            "                                                                                                  \n",
            " reshape_58 (Reshape)           (None, None, 5)      0           ['time_distributed_70[0][0]']    \n",
            "                                                                                                  \n",
            " tf.math.reduce_max_58 (TFOpLam  ()                  0           ['input_24[0][0]']               \n",
            " bda)                                                                                             \n",
            "                                                                                                  \n",
            " up_sampling1d_58 (UpSampling1D  (None, None, 5)     0           ['reshape_58[0][0]']             \n",
            " )                                                                                                \n",
            "                                                                                                  \n",
            " tf.cast_58 (TFOpLambda)        ()                   0           ['tf.math.reduce_max_58[0][0]']  \n",
            "                                                                                                  \n",
            " tf.__operators__.getitem_58 (S  (None, None, 5)     0           ['up_sampling1d_58[0][0]',       \n",
            " licingOpLambda)                                                  'tf.cast_58[0][0]']             \n",
            "                                                                                                  \n",
            "==================================================================================================\n",
            "Total params: 3,776,918\n",
            "Trainable params: 3,776,918\n",
            "Non-trainable params: 0\n",
            "__________________________________________________________________________________________________\n",
            "Loss using testing dataset= 1.483269453048706\n",
            "Accuracy using testing dataset= 0.3184654116630554\n"
          ]
        },
        {
          "output_type": "display_data",
          "data": {
            "text/plain": [
              "<Figure size 432x288 with 2 Axes>"
            ],
            "image/png": "[encoded data removed]"
          },
          "metadata": {}
        }
      ]
    },
    {
      "cell_type": "code",
      "source": [
        "def transformer_variable10(opt, inputs, input_variable_valid,input_variable_test):\n",
        "  inputs = keras.Input(shape=(None, 33))\n",
        "  inputs_L = Input(shape=[])\n",
        "  embDim = 32 ## Embedding size for each token\n",
        "  newEmb = layers.TimeDistributed(layers.Dense(embDim))(inputs)\n",
        "  inputsPosEmb = PositionEmbedding(maxlen=50000, embed_dim=embDim)(newEmb)\n",
        "  transf1 = TransformerBlock(embed_dim=embDim, num_heads=4, ff_dim=32)(inputsPosEmb) #ff_dim # Hidden layer size in feed forward network inside transformer\n",
        "  transf2 =TransformerBlock(embed_dim=embDim, num_heads=4, ff_dim=32)(transf1)\n",
        "  transf3 =TransformerBlock(embed_dim=embDim, num_heads=4, ff_dim=32)(transf2)\n",
        "  transf4 =TransformerBlock(embed_dim=embDim, num_heads=4, ff_dim=32)(transf3)\n",
        "  transf5 =TransformerBlock(embed_dim=embDim, num_heads=4, ff_dim=32)(transf4)\n",
        "  transf6 =TransformerBlock(embed_dim=embDim, num_heads=4, ff_dim=32)(transf5)\n",
        "  transf7 =TransformerBlock(embed_dim=embDim, num_heads=4, ff_dim=32)(transf6)\n",
        "  transf8 =TransformerBlock(embed_dim=embDim, num_heads=4, ff_dim=32)(transf7)\n",
        "  layer = layers.TimeDistributed(layers.Dense(150))(transf8)\n",
        "  layer = Reshape((-1,5))(layer)\n",
        "  layer = UpSampling1D(size=10)(layer)\n",
        "  L = tf.cast(tf.reduce_max(inputs_L), tf.int32)\n",
        "  output = layer[:,:L]\n",
        "  model = Model(inputs = (inputs_L,inputs) , outputs=output)\n",
        "  model.compile(loss=\"sparse_categorical_crossentropy\", optimizer=opt, metrics=[\"sparse_categorical_accuracy\"])\n",
        "  history = model.fit(input_variable_train2, validation_data=input_variable_valid2, batch_size=BS, epochs=NUM_EPOCHS, verbose=1,callbacks=[early_stopping] )\n",
        "  # plotting the metrics\n",
        "  plt.subplot(2, 1, 1)\n",
        "  plt.title('Sparse Crossentropy Loss')\n",
        "  plt.plot(history.history['loss'], color='blue', label='train')\n",
        "  plt.plot(history.history['val_loss'], color='orange', label='val')\n",
        "\t# plot accuracy\n",
        "  plt.subplot(2, 1, 2)\n",
        "  plt.title('Classification Accuracy')\n",
        "  plt.plot(history.history['sparse_categorical_accuracy'], color='blue', label='train')\n",
        "  plt.plot(history.history['val_sparse_categorical_accuracy'], color='orange', label='val')\n",
        "  score = model.evaluate(input_variable_test2, verbose=0) #evaluate based on test dataset, which was not used for training and validation\n",
        "  return model.summary(), history, print('Loss using testing dataset=', score[0]), print('Accuracy using testing dataset=', score[1])"
      ],
      "metadata": {
        "id": "TYHHchAp2lZ6"
      },
      "execution_count": 181,
      "outputs": []
    },
    {
      "cell_type": "code",
      "source": [
        "transformer10= transformer_variable10(opt2, input_variable_train2, input_variable_valid2, input_variable_test2)"
      ],
      "metadata": {
        "colab": {
          "base_uri": "https://localhost:8080/",
          "height": 1000
        },
        "id": "B7-CQ3qG2n7o",
        "outputId": "587db046-8525-42c0-e4e5-0d6df626eb4d"
      },
      "execution_count": 182,
      "outputs": [
        {
          "output_type": "stream",
          "name": "stdout",
          "text": [
            "Epoch 1/100\n",
            "1250/1250 [==============================] - 116s 87ms/step - loss: 3.3322 - sparse_categorical_accuracy: 0.2293 - val_loss: 2.9847 - val_sparse_categorical_accuracy: 0.2522\n",
            "Epoch 2/100\n",
            "1250/1250 [==============================] - 108s 86ms/step - loss: 2.9759 - sparse_categorical_accuracy: 0.2395 - val_loss: 2.8910 - val_sparse_categorical_accuracy: 0.2507\n",
            "Epoch 3/100\n",
            "1250/1250 [==============================] - 108s 86ms/step - loss: 2.8090 - sparse_categorical_accuracy: 0.2450 - val_loss: 2.7290 - val_sparse_categorical_accuracy: 0.2631\n",
            "Epoch 4/100\n",
            "1250/1250 [==============================] - 108s 86ms/step - loss: 2.5741 - sparse_categorical_accuracy: 0.2764 - val_loss: 2.3161 - val_sparse_categorical_accuracy: 0.2971\n",
            "Epoch 5/100\n",
            "1250/1250 [==============================] - 108s 86ms/step - loss: 2.3402 - sparse_categorical_accuracy: 0.2922 - val_loss: 2.2920 - val_sparse_categorical_accuracy: 0.3125\n",
            "Epoch 6/100\n",
            "1250/1250 [==============================] - 108s 86ms/step - loss: 2.2940 - sparse_categorical_accuracy: 0.3156 - val_loss: 2.2724 - val_sparse_categorical_accuracy: 0.3291\n",
            "Epoch 7/100\n",
            "1250/1250 [==============================] - 108s 86ms/step - loss: 2.2860 - sparse_categorical_accuracy: 0.3209 - val_loss: 2.2703 - val_sparse_categorical_accuracy: 0.3233\n",
            "Epoch 8/100\n",
            "1250/1250 [==============================] - 108s 86ms/step - loss: 2.2458 - sparse_categorical_accuracy: 0.3193 - val_loss: 2.1844 - val_sparse_categorical_accuracy: 0.3192\n",
            "Epoch 9/100\n",
            "1250/1250 [==============================] - 108s 86ms/step - loss: 2.1890 - sparse_categorical_accuracy: 0.3246 - val_loss: 2.1730 - val_sparse_categorical_accuracy: 0.3313\n",
            "Epoch 10/100\n",
            "1250/1250 [==============================] - 108s 86ms/step - loss: 2.1877 - sparse_categorical_accuracy: 0.3280 - val_loss: 2.1811 - val_sparse_categorical_accuracy: 0.3302\n",
            "Epoch 11/100\n",
            "1250/1250 [==============================] - 108s 87ms/step - loss: 2.2046 - sparse_categorical_accuracy: 0.3222 - val_loss: 2.2044 - val_sparse_categorical_accuracy: 0.3210\n",
            "Epoch 12/100\n",
            "1250/1250 [==============================] - 108s 86ms/step - loss: 2.1805 - sparse_categorical_accuracy: 0.3267 - val_loss: 2.1768 - val_sparse_categorical_accuracy: 0.3259\n",
            "Model: \"model_59\"\n",
            "__________________________________________________________________________________________________\n",
            " Layer (type)                   Output Shape         Param #     Connected to                     \n",
            "==================================================================================================\n",
            " input_25 (InputLayer)          [(None, None, 33)]   0           []                               \n",
            "                                                                                                  \n",
            " time_distributed_71 (TimeDistr  (None, None, 32)    1088        ['input_25[0][0]']               \n",
            " ibuted)                                                                                          \n",
            "                                                                                                  \n",
            " position_embedding_12 (Positio  (None, None, 32)    1600000     ['time_distributed_71[0][0]']    \n",
            " nEmbedding)                                                                                      \n",
            "                                                                                                  \n",
            " transformer_block_35 (Transfor  (None, None, 32)    19040       ['position_embedding_12[0][0]']  \n",
            " merBlock)                                                                                        \n",
            "                                                                                                  \n",
            " transformer_block_36 (Transfor  (None, None, 32)    19040       ['transformer_block_35[0][0]']   \n",
            " merBlock)                                                                                        \n",
            "                                                                                                  \n",
            " transformer_block_37 (Transfor  (None, None, 32)    19040       ['transformer_block_36[0][0]']   \n",
            " merBlock)                                                                                        \n",
            "                                                                                                  \n",
            " transformer_block_38 (Transfor  (None, None, 32)    19040       ['transformer_block_37[0][0]']   \n",
            " merBlock)                                                                                        \n",
            "                                                                                                  \n",
            " transformer_block_39 (Transfor  (None, None, 32)    19040       ['transformer_block_38[0][0]']   \n",
            " merBlock)                                                                                        \n",
            "                                                                                                  \n",
            " transformer_block_40 (Transfor  (None, None, 32)    19040       ['transformer_block_39[0][0]']   \n",
            " merBlock)                                                                                        \n",
            "                                                                                                  \n",
            " transformer_block_41 (Transfor  (None, None, 32)    19040       ['transformer_block_40[0][0]']   \n",
            " merBlock)                                                                                        \n",
            "                                                                                                  \n",
            " transformer_block_42 (Transfor  (None, None, 32)    19040       ['transformer_block_41[0][0]']   \n",
            " merBlock)                                                                                        \n",
            "                                                                                                  \n",
            " time_distributed_72 (TimeDistr  (None, None, 150)   4950        ['transformer_block_42[0][0]']   \n",
            " ibuted)                                                                                          \n",
            "                                                                                                  \n",
            " input_26 (InputLayer)          [(None,)]            0           []                               \n",
            "                                                                                                  \n",
            " reshape_59 (Reshape)           (None, None, 5)      0           ['time_distributed_72[0][0]']    \n",
            "                                                                                                  \n",
            " tf.math.reduce_max_59 (TFOpLam  ()                  0           ['input_26[0][0]']               \n",
            " bda)                                                                                             \n",
            "                                                                                                  \n",
            " up_sampling1d_59 (UpSampling1D  (None, None, 5)     0           ['reshape_59[0][0]']             \n",
            " )                                                                                                \n",
            "                                                                                                  \n",
            " tf.cast_59 (TFOpLambda)        ()                   0           ['tf.math.reduce_max_59[0][0]']  \n",
            "                                                                                                  \n",
            " tf.__operators__.getitem_59 (S  (None, None, 5)     0           ['up_sampling1d_59[0][0]',       \n",
            " licingOpLambda)                                                  'tf.cast_59[0][0]']             \n",
            "                                                                                                  \n",
            "==================================================================================================\n",
            "Total params: 1,758,358\n",
            "Trainable params: 1,758,358\n",
            "Non-trainable params: 0\n",
            "__________________________________________________________________________________________________\n",
            "Loss using testing dataset= 2.1234073638916016\n",
            "Accuracy using testing dataset= 0.3555286228656769\n"
          ]
        },
        {
          "output_type": "display_data",
          "data": {
            "text/plain": [
              "<Figure size 432x288 with 2 Axes>"
            ],
            "image/png": "[encoded data removed]"
          },
          "metadata": {}
        }
      ]
    }
  ],
  "metadata": {
    "colab": {
      "collapsed_sections": [],
      "name": "DeepNeuralNetworks_Migla_Notebook1.ipynb",
      "provenance": [],
      "include_colab_link": true
    },
    "kernelspec": {
      "display_name": "Python 3",
      "name": "python3"
    },
    "language_info": {
      "name": "python"
    },
    "accelerator": "GPU"
  },
  "nbformat": 4,
  "nbformat_minor": 0
}