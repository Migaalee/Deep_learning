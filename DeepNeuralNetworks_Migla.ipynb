{
  "cells": [
    {
      "cell_type": "markdown",
      "metadata": {
        "id": "view-in-github",
        "colab_type": "text"
      },
      "source": [
        "<a href=\"https://colab.research.google.com/github/Migaalee/Deep_learning/blob/main/DeepNeuralNetworks_Migla.ipynb\" target=\"_parent\"><img src=\"https://colab.research.google.com/assets/colab-badge.svg\" alt=\"Open In Colab\"/></a>"
      ]
    },
    {
      "cell_type": "markdown",
      "metadata": {
        "id": "Lz1I5CMWh54O"
      },
      "source": [
        "# Assignment 2 - ADNE 2022\n",
        "\n",
        "## Deep neural networks using audio data \n",
        "\n",
        "### Aims\n",
        "\n",
        "The main aim of this project is optimise several deep neural networks for audio files. \n",
        "\n",
        "FeedForward neural network\n",
        "\n",
        "- Bla\n",
        "\n",
        "Recurrent neural network\n",
        "\n",
        "- bla\n",
        "\n",
        "Convolutional neural network \n",
        "\n",
        "- bla\n",
        "\n",
        "\n",
        "Transformers\n",
        "\n",
        "-bla\n",
        "\n",
        "\n",
        "### How this works\n",
        "This file is a [Jupyter Notebook](https://jupyter.org). \n",
        "It has instructions, and also code cells. The code cells are connected to Python, and you can run all of the code in a cell by pressing Play (▶) icon in the top bar, or pressing `shift + return`.\n",
        "The code libraries you should need are already installed.\n"
      ]
    },
    {
      "cell_type": "markdown",
      "metadata": {
        "id": "X5yE7_Yeh6VX"
      },
      "source": [
        "## Data pre-processing"
      ]
    },
    {
      "cell_type": "markdown",
      "metadata": {
        "id": "NljEabKQje0t"
      },
      "source": [
        "### Import all required libraries"
      ]
    },
    {
      "cell_type": "code",
      "execution_count": 5,
      "metadata": {
        "colab": {
          "base_uri": "https://localhost:8080/"
        },
        "id": "Bd1Nzs-BjfFE",
        "outputId": "a1261121-dd47-4bc3-d87e-d2a594c4eb7f"
      },
      "outputs": [
        {
          "output_type": "stream",
          "name": "stdout",
          "text": [
            "Mounted at /content/drive\n"
          ]
        }
      ],
      "source": [
        "import glob\n",
        "import numpy as np\n",
        "import tensorflow as tf\n",
        "from google.colab import files\n",
        "import os\n",
        "from pydrive.auth import GoogleAuth\n",
        "from pydrive.drive import GoogleDrive\n",
        "from google.colab import auth\n",
        "from oauth2client.client import GoogleCredentials\n",
        "import matplotlib.pyplot as plt\n",
        "\n",
        "\n",
        "#auth.authenticate_user()\n",
        "#gauth = GoogleAuth()\n",
        "#gauth.credentials = GoogleCredentials.get_application_default()\n",
        "#drive = GoogleDrive(gauth)\n",
        "import numpy as np\n",
        "import pandas as pd\n",
        "from matplotlib import pyplot as plt\n",
        "%matplotlib inline\n",
        "from google.colab import files\n",
        "from google.colab import drive\n",
        "drive.mount('/content/drive')\n",
        "import io\n",
        "from sklearn.preprocessing import StandardScaler\n",
        "from sklearn.model_selection import train_test_split\n",
        "import tensorflow as tf\n",
        "import seaborn as sns\n",
        "from sklearn.metrics import mean_absolute_error\n",
        "sns.set()\n",
        "from tensorflow import keras\n",
        "from datetime import datetime\n",
        "from tensorflow.keras.optimizers import SGD\n",
        "from tensorflow.keras.models import Model, Sequential\n",
        "from keras.constraints import maxnorm\n",
        "from tensorflow.keras.layers import Input, BatchNormalization, MaxPooling2D, Flatten, Conv2D, Dense, Activation, Dropout, concatenate, Reshape, UpSampling1D, Conv1D, MaxPooling1D\n",
        "from numpy import array\n",
        "from keras.models import Sequential\n",
        "from keras.layers import Dense\n",
        "from keras.layers import LSTM\n",
        "from tensorflow.keras.layers import TimeDistributed,Input, Reshape, UpSampling1D, Conv1D\n",
        "from keras.layers.recurrent import LSTM\n",
        "import os\n",
        "from keras.layers import Embedding\n",
        "import numpy as np\n",
        "import matplotlib.pyplot as plt\n",
        "import tensorflow as tf\n",
        "from tensorflow import keras\n",
        "from tensorflow.keras import layers\n",
        "#auth.authenticate_user()\n",
        "#gauth = GoogleAuth()\n",
        "#gauth.credentials = GoogleCredentials.get_application_default()\n",
        "#drive = GoogleDrive(gauth)\n",
        "from keras.layers import LeakyReLU"
      ]
    },
    {
      "cell_type": "markdown",
      "metadata": {
        "id": "XyhCja_7lHYT"
      },
      "source": [
        "### Auxilary functions"
      ]
    },
    {
      "cell_type": "code",
      "execution_count": 6,
      "metadata": {
        "id": "mXxLqA3hlHjM"
      },
      "outputs": [],
      "source": [
        "def read_npy(fname):\n",
        "    \"\"\"fname should be a npy file; função auxiliar que vai ser usada pela função 'map' para ler o conteúdo de cada um dos ficheiros do fnames_dataset e criar um novo dataset com estes conteúdos.\"\"\"\n",
        "    fname = fname.decode()\n",
        "    recData = np.load(fname)\n",
        "    return recData.astype(np.float32)\n",
        "\n",
        "def cut_data(x):\n",
        "  N = tf.shape(x)[1]\n",
        "  r = tf.random.uniform(shape=[], maxval = (N - L), dtype = tf.dtypes.int32)\n",
        "  return x[:, N - r - L: N - r]"
      ]
    },
    {
      "cell_type": "markdown",
      "metadata": {
        "id": "32iJDeLykfjT"
      },
      "source": [
        "### Import data for training, validation and testing"
      ]
    },
    {
      "cell_type": "code",
      "execution_count": 7,
      "metadata": {
        "id": "eivSsME0kxjM"
      },
      "outputs": [],
      "source": [
        "os.chdir(\"/content/drive/MyDrive/adneDataAlunos/\")\n",
        "dir = './'\n",
        "list_train_files = glob.glob(dir + \"trainAlunos/\" + '*.npy')\n",
        "list_valid_files = glob.glob(dir + \"validacaoAlunos/\" + '*.npy')\n",
        "list_test_files = glob.glob(dir + \"testeAlunos/\" + '*.npy')\n",
        "data_train = tf.data.Dataset.from_tensor_slices(list_train_files) #creates a dataset with a separate element for each row of the input tensor, this will be important to put our different examples in separate tensors\n",
        "data_valid = tf.data.Dataset.from_tensor_slices(list_valid_files)\n",
        "data_test = tf.data.Dataset.from_tensor_slices(list_test_files)\n",
        "data_train = data_train.map(lambda x: tf.numpy_function(read_npy, [x], [tf.float32]))\n",
        "data_valid = data_valid.map(lambda x: tf.numpy_function(read_npy, [x], [tf.float32]))\n",
        "data_test = data_test.map(lambda x: tf.numpy_function(read_npy, [x], [tf.float32]))\n",
        "\n"
      ]
    },
    {
      "cell_type": "markdown",
      "metadata": {
        "id": "VTwzFDdKlaqa"
      },
      "source": [
        "### Visualisation of one tensor"
      ]
    },
    {
      "cell_type": "code",
      "execution_count": 8,
      "metadata": {
        "colab": {
          "base_uri": "https://localhost:8080/"
        },
        "id": "VPlFz4-zlgty",
        "outputId": "3a297e65-0b40-4226-bbbe-f8827c74cb87"
      },
      "outputs": [
        {
          "output_type": "execute_result",
          "data": {
            "text/plain": [
              "(<tf.Tensor: shape=(2, 48000), dtype=float32, numpy=\n",
              " array([[ 199.,   47., -166., ...,   47.,   86.,  -66.],\n",
              "        [   4.,    4.,    4., ...,    4.,    4.,    4.]], dtype=float32)>,)"
            ]
          },
          "metadata": {},
          "execution_count": 8
        }
      ],
      "source": [
        "it = iter(data_train) #creates an object which can be iterated one element at a time\n",
        "ex = next(it) # returns the next item in an iterator\n",
        "ex\n",
        "#valid: shape=(2, 24002), train: shape=(2, 48000), test: shape=(2, 41325)"
      ]
    },
    {
      "cell_type": "code",
      "execution_count": 9,
      "metadata": {
        "colab": {
          "base_uri": "https://localhost:8080/",
          "height": 286
        },
        "id": "QHHNy-6ylvDT",
        "outputId": "2ff0f0d8-cee3-4e21-c46f-eca9d44371f9"
      },
      "outputs": [
        {
          "output_type": "execute_result",
          "data": {
            "text/plain": [
              "[<matplotlib.lines.Line2D at 0x7f9e679c9f90>]"
            ]
          },
          "metadata": {},
          "execution_count": 9
        },
        {
          "output_type": "display_data",
          "data": {
            "text/plain": [
              "<Figure size 432x288 with 1 Axes>"
            ],
            "image/png": "[encoded data removed]"
          },
          "metadata": {}
        }
      ],
      "source": [
        "ex[0].shape\n",
        "aux=ex[0]\n",
        "plt.plot(aux[0,:5000]/1000)\n",
        "plt.plot(aux[1,:5000])"
      ]
    },
    {
      "cell_type": "markdown",
      "metadata": {
        "id": "sHZi7L97l0NC"
      },
      "source": [
        "### Segment data into pieces"
      ]
    },
    {
      "cell_type": "code",
      "execution_count": 10,
      "metadata": {
        "id": "xmcpJ2e8l0WC"
      },
      "outputs": [],
      "source": [
        "L=2000\n",
        "data_train_cut = data_train.map(cut_data)\n",
        "data_test_cut = data_test.map(cut_data)\n",
        "data_valid_cut = data_valid.map(cut_data)"
      ]
    },
    {
      "cell_type": "markdown",
      "metadata": {
        "id": "z8ABTCB-mVDx"
      },
      "source": [
        "### STFT transformation"
      ]
    },
    {
      "cell_type": "markdown",
      "metadata": {
        "id": "vLH5QmPc7N-r"
      },
      "source": [
        "#### This STFT transformed data (cut into 2000) will be used for FFN"
      ]
    },
    {
      "cell_type": "code",
      "execution_count": 11,
      "metadata": {
        "id": "EQ37417-mVMh"
      },
      "outputs": [],
      "source": [
        "frame_length=256\n",
        "frame_step =32\n",
        "frame_length1=128\n",
        "frame_step1 =32\n",
        "frame_length2=64\n",
        "frame_step2 =32\n",
        "data_train_stft = data_train_cut.map(lambda x: (tf.math.abs(tf.signal.stft(signals = x[0], frame_length = frame_length, frame_step = frame_step)), x[1]))\n",
        "data_test_stft = data_test_cut.map(lambda x: (tf.math.abs(tf.signal.stft(signals = x[0], frame_length = frame_length, frame_step = frame_step)), x[1]))\n",
        "data_valid_stft = data_valid_cut.map(lambda x: (tf.math.abs(tf.signal.stft(signals = x[0], frame_length = frame_length, frame_step = frame_step)), x[1]))\n",
        "data_train_stft1 = data_train_cut.map(lambda x: (tf.math.abs(tf.signal.stft(signals = x[0], frame_length = frame_length1, frame_step = frame_step1)), x[1]))\n",
        "data_test_stft1 = data_test_cut.map(lambda x: (tf.math.abs(tf.signal.stft(signals = x[0], frame_length = frame_length1, frame_step = frame_step1)), x[1]))\n",
        "data_valid_stft1 = data_valid_cut.map(lambda x: (tf.math.abs(tf.signal.stft(signals = x[0], frame_length = frame_length1, frame_step = frame_step1)), x[1]))\n",
        "data_train_stft2 = data_train_cut.map(lambda x: (tf.math.abs(tf.signal.stft(signals = x[0], frame_length = frame_length2, frame_step = frame_step2)), x[1]))\n",
        "data_test_stft2 = data_test_cut.map(lambda x: (tf.math.abs(tf.signal.stft(signals = x[0], frame_length = frame_length2, frame_step = frame_step2)), x[1]))\n",
        "data_valid_stft2 = data_valid_cut.map(lambda x: (tf.math.abs(tf.signal.stft(signals = x[0], frame_length = frame_length2, frame_step = frame_step2)), x[1]))"
      ]
    },
    {
      "cell_type": "markdown",
      "metadata": {
        "id": "S7CtVzWl7bjV"
      },
      "source": [
        "####  This STFT transformed data will be used for RNN, CNN, Transformers"
      ]
    },
    {
      "cell_type": "code",
      "execution_count": 12,
      "metadata": {
        "id": "kGT9UfUq623M"
      },
      "outputs": [],
      "source": [
        "data_size_var_train = data_train.map(lambda x: ((tf.shape(x)[1], tf.math.abs(tf.signal.stft(signals = x[0], frame_length = frame_length, frame_step = frame_step))), x[1]))\n",
        "data_size_var_test = data_test.map(lambda x: ((tf.shape(x)[1], tf.math.abs(tf.signal.stft(signals = x[0], frame_length = frame_length, frame_step = frame_step))), x[1]))\n",
        "data_size_var_valid = data_valid.map(lambda x: ((tf.shape(x)[1], tf.math.abs(tf.signal.stft(signals = x[0], frame_length = frame_length, frame_step = frame_step))), x[1]))\n",
        "\n",
        "data_size_var_train1 = data_train.map(lambda x: ((tf.shape(x)[1], tf.math.abs(tf.signal.stft(signals = x[0], frame_length = frame_length1, frame_step = frame_step1))), x[1]))\n",
        "data_size_var_test1 = data_test.map(lambda x: ((tf.shape(x)[1], tf.math.abs(tf.signal.stft(signals = x[0], frame_length = frame_length1, frame_step = frame_step1))), x[1]))\n",
        "data_size_var_valid1 = data_valid.map(lambda x: ((tf.shape(x)[1], tf.math.abs(tf.signal.stft(signals = x[0], frame_length = frame_length1, frame_step = frame_step1))), x[1]))\n",
        "\n",
        "data_size_var_train2 = data_train.map(lambda x: ((tf.shape(x)[1], tf.math.abs(tf.signal.stft(signals = x[0], frame_length = frame_length2, frame_step = frame_step2))), x[1]))\n",
        "data_size_var_test2 = data_test.map(lambda x: ((tf.shape(x)[1], tf.math.abs(tf.signal.stft(signals = x[0], frame_length = frame_length2, frame_step = frame_step2))), x[1]))\n",
        "data_size_var_valid2 = data_valid.map(lambda x: ((tf.shape(x)[1], tf.math.abs(tf.signal.stft(signals = x[0], frame_length = frame_length2, frame_step = frame_step2))), x[1]))"
      ]
    },
    {
      "cell_type": "markdown",
      "metadata": {
        "id": "XMUwWroOmnr5"
      },
      "source": [
        "### Define batch size for segmented data"
      ]
    },
    {
      "cell_type": "code",
      "execution_count": 13,
      "metadata": {
        "id": "lKeGYQUFm1mR"
      },
      "outputs": [],
      "source": [
        "batch_size=2\n",
        "input_train = data_train_stft.batch(batch_size)\n",
        "input_test = data_test_stft.batch(batch_size)\n",
        "input_valid = data_valid_stft.batch(batch_size)\n",
        "\n",
        "input_train1 = data_train_stft1.batch(batch_size)\n",
        "input_test1 = data_test_stft1.batch(batch_size)\n",
        "input_valid1 = data_valid_stft1.batch(batch_size)\n",
        "\n",
        "input_train2= data_train_stft2.batch(batch_size)\n",
        "input_test2 = data_test_stft2.batch(batch_size)\n",
        "input_valid2 = data_valid_stft2.batch(batch_size)"
      ]
    },
    {
      "cell_type": "markdown",
      "metadata": {
        "id": "Ib1-ZcIA7n8k"
      },
      "source": [
        "# Define batch size and add padding for variable size data"
      ]
    },
    {
      "cell_type": "code",
      "execution_count": 24,
      "metadata": {
        "id": "uPA-6mw97oGU"
      },
      "outputs": [],
      "source": [
        "batch_size = 2\n",
        "k = 129 #shape of x of input_variable_train\n",
        "k1 = 65\n",
        "k2 = 33\n",
        "\n",
        "input_variable_train = data_size_var_train.padded_batch(batch_size, padded_shapes = (([], tf.TensorShape([None, k])), [None]))\n",
        "input_variable_test = data_size_var_test.padded_batch(batch_size, padded_shapes = (([], tf.TensorShape([None, k])), [None]))\n",
        "input_variable_valid = data_size_var_valid.padded_batch(batch_size, padded_shapes = (([], tf.TensorShape([None, k])), [None]))\n",
        "\n",
        "input_variable_train1 = data_size_var_train1.padded_batch(batch_size, padded_shapes = (([], tf.TensorShape([None, k1])), [None]))\n",
        "input_variable_test1 = data_size_var_test1.padded_batch(batch_size, padded_shapes = (([], tf.TensorShape([None, k1])), [None]))\n",
        "input_variable_valid1 = data_size_var_valid1.padded_batch(batch_size, padded_shapes = (([], tf.TensorShape([None, k1])), [None]))\n",
        "\n",
        "input_variable_train2 = data_size_var_train2.padded_batch(batch_size, padded_shapes = (([], tf.TensorShape([None, k2])), [None]))\n",
        "input_variable_test2 = data_size_var_test2.padded_batch(batch_size, padded_shapes = (([], tf.TensorShape([None, k2])), [None]))\n",
        "input_variable_valid2 = data_size_var_valid2.padded_batch(batch_size, padded_shapes = (([], tf.TensorShape([None, k2])), [None]))\n",
        "\n",
        "\n",
        "\n"
      ]
    },
    {
      "cell_type": "markdown",
      "metadata": {
        "id": "6Xm4o8aZn7DK"
      },
      "source": [
        "### Check input shape for cut data"
      ]
    },
    {
      "cell_type": "code",
      "execution_count": 43,
      "metadata": {
        "colab": {
          "base_uri": "https://localhost:8080/"
        },
        "id": "977tYHXBn__w",
        "outputId": "44d08c01-c586-41b0-c9f0-0c02f30cf7b4"
      },
      "outputs": [
        {
          "output_type": "execute_result",
          "data": {
            "text/plain": [
              "((<tf.Tensor: shape=(2,), dtype=int32, numpy=array([24002, 19760], dtype=int32)>,\n",
              "  <tf.Tensor: shape=(2, 749, 33), dtype=float32, numpy=\n",
              "  array([[[3.1941931e+02, 1.8911770e+03, 6.1804993e+02, ...,\n",
              "           1.8055704e+01, 1.9282433e+01, 1.2185364e+00],\n",
              "          [5.0431880e+03, 4.7813188e+03, 2.9805476e+03, ...,\n",
              "           5.5480103e+01, 3.2180340e+01, 2.0072754e+01],\n",
              "          [2.0954688e+03, 3.5474023e+03, 2.0515305e+03, ...,\n",
              "           4.4056549e+01, 2.5129284e+01, 1.9770996e+01],\n",
              "          ...,\n",
              "          [9.0797715e+03, 5.4866431e+03, 1.2817881e+03, ...,\n",
              "           3.5295673e+01, 2.1533478e+01, 1.4986328e+01],\n",
              "          [7.1072109e+03, 7.5125610e+03, 3.3285647e+03, ...,\n",
              "           1.0437459e+01, 8.2759657e+00, 1.2910889e+01],\n",
              "          [8.2927861e+03, 9.3837471e+03, 3.6626294e+03, ...,\n",
              "           3.2162457e+01, 1.7649214e+01, 1.0844727e+01]],\n",
              "  \n",
              "         [[2.6333047e+03, 4.8694893e+03, 4.7789194e+03, ...,\n",
              "           4.1654121e+01, 2.8953518e+01, 2.5291748e+00],\n",
              "          [4.7874075e+02, 9.3349658e+03, 4.4096045e+03, ...,\n",
              "           1.5909439e+01, 3.5931206e+01, 1.0646484e+01],\n",
              "          [9.3551349e+02, 9.4343916e+03, 5.9620869e+03, ...,\n",
              "           4.7422344e+01, 1.9903933e+01, 3.4823181e+01],\n",
              "          ...,\n",
              "          [0.0000000e+00, 0.0000000e+00, 0.0000000e+00, ...,\n",
              "           0.0000000e+00, 0.0000000e+00, 0.0000000e+00],\n",
              "          [0.0000000e+00, 0.0000000e+00, 0.0000000e+00, ...,\n",
              "           0.0000000e+00, 0.0000000e+00, 0.0000000e+00],\n",
              "          [0.0000000e+00, 0.0000000e+00, 0.0000000e+00, ...,\n",
              "           0.0000000e+00, 0.0000000e+00, 0.0000000e+00]]], dtype=float32)>),\n",
              " <tf.Tensor: shape=(2, 24002), dtype=float32, numpy=\n",
              " array([[4., 4., 4., ..., 3., 3., 3.],\n",
              "        [4., 4., 4., ..., 0., 0., 0.]], dtype=float32)>)"
            ]
          },
          "metadata": {},
          "execution_count": 43
        }
      ],
      "source": [
        "it1 = iter(input_variable_valid2)\n",
        "ex1 = next(it1)\n",
        "ex1 #input_train: shape=(2, 55, 129) data_size_var_train shape=(1493, 129), input_variable_train shape=(2, 1493, 129)\n",
        "# data_size_var_train shape=(1493, 129) data_size_var_train1 shape=(1497, 65) data_size_var_train2 shape=(1499, 33)"
      ]
    },
    {
      "cell_type": "markdown",
      "metadata": {
        "id": "5OaYPeZeoeb4"
      },
      "source": [
        "### Define input shape"
      ]
    },
    {
      "cell_type": "code",
      "execution_count": 24,
      "metadata": {
        "colab": {
          "base_uri": "https://localhost:8080/"
        },
        "id": "K8lUY9lPoelP",
        "outputId": "424d5d78-ee20-4923-aeb5-be29a2c14cef"
      },
      "outputs": [
        {
          "output_type": "stream",
          "name": "stdout",
          "text": [
            "(55, 129)\n"
          ]
        }
      ],
      "source": [
        "itera = tf.compat.v1.data.Iterator.from_structure(tf.compat.v1.data.get_output_types(input_train),\n",
        "                                           tf.compat.v1.data.get_output_shapes(input_train))\n",
        "train_init_op = itera.make_initializer(input_train)\n",
        "\n",
        "features, labels = itera.get_next()\n",
        "sample = itera.get_next()\n",
        "sample\n",
        "input_shape = np.shape((sample)[0])[1:]\n",
        "print(input_shape)"
      ]
    },
    {
      "cell_type": "code",
      "source": [
        "itera1 = tf.compat.v1.data.Iterator.from_structure(tf.compat.v1.data.get_output_types(input_train1),\n",
        "                                           tf.compat.v1.data.get_output_shapes(input_train1))\n",
        "train_init_op1 = itera1.make_initializer(input_train1)\n",
        "\n",
        "features, labels = itera1.get_next()\n",
        "sample1 = itera1.get_next()\n",
        "sample1\n",
        "input_shape1 = np.shape((sample1)[0])[1:]\n",
        "print(input_shape1)"
      ],
      "metadata": {
        "colab": {
          "base_uri": "https://localhost:8080/"
        },
        "id": "qKVsCdsLZqEz",
        "outputId": "57078d17-0d50-46c7-fb9e-8d2a68595f63"
      },
      "execution_count": 38,
      "outputs": [
        {
          "output_type": "stream",
          "name": "stdout",
          "text": [
            "(59, 65)\n"
          ]
        }
      ]
    },
    {
      "cell_type": "code",
      "source": [
        "itera2 = tf.compat.v1.data.Iterator.from_structure(tf.compat.v1.data.get_output_types(input_train2),\n",
        "                                           tf.compat.v1.data.get_output_shapes(input_train2))\n",
        "train_init_op2 = itera1.make_initializer(input_train2)\n",
        "\n",
        "features, labels = itera2.get_next()\n",
        "sample2 = itera2.get_next()\n",
        "sample2\n",
        "input_shape2 = np.shape((sample2)[0])[1:]\n",
        "print(input_shape2)"
      ],
      "metadata": {
        "colab": {
          "base_uri": "https://localhost:8080/"
        },
        "id": "5qzWhaHsZqQx",
        "outputId": "bd550dbe-3764-4709-da5b-b5025a2073b4"
      },
      "execution_count": 37,
      "outputs": [
        {
          "output_type": "stream",
          "name": "stdout",
          "text": [
            "(61, 33)\n"
          ]
        }
      ]
    },
    {
      "cell_type": "markdown",
      "metadata": {
        "id": "LN0YTX_s6lOO"
      },
      "source": [
        "## Define variable input size"
      ]
    },
    {
      "cell_type": "code",
      "execution_count": null,
      "metadata": {
        "colab": {
          "base_uri": "https://localhost:8080/"
        },
        "id": "5x3HJNMl6q6P",
        "outputId": "71afa5c7-806a-49e3-dc09-a1c8a9fd7dca"
      },
      "outputs": [
        {
          "name": "stdout",
          "output_type": "stream",
          "text": [
            "(48126,)\n"
          ]
        }
      ],
      "source": [
        "iterat = tf.compat.v1.data.Iterator.from_structure(tf.compat.v1.data.get_output_types(input_variable_train),\n",
        "                                           tf.compat.v1.data.get_output_shapes(input_variable_train))\n",
        "train_init_op2 = iterat.make_initializer(input_variable_train)\n",
        "\n",
        "features2, labels2 = iterat.get_next()\n",
        "sample2 = iterat.get_next()\n",
        "sample2\n",
        "#input_shape2 = np.shape((sample2)[1])[1] #48126\n",
        "#input_shape2 = np.shape((sample2)[1])[0] #2\n",
        "input_shape2 = np.shape((sample2)[1])[1:] #48126\n",
        "print(input_shape2)"
      ]
    },
    {
      "cell_type": "code",
      "execution_count": null,
      "metadata": {
        "id": "K_O50p8Q6rkO"
      },
      "outputs": [],
      "source": [
        ""
      ]
    },
    {
      "cell_type": "markdown",
      "metadata": {
        "id": "jWG4Y0ZAh6dW"
      },
      "source": [
        "## FeedForward Neural network"
      ]
    },
    {
      "cell_type": "markdown",
      "metadata": {
        "id": "SYUbzBEjjnIV"
      },
      "source": [
        "Explain what was tried"
      ]
    },
    {
      "cell_type": "markdown",
      "metadata": {
        "id": "EX09n8nWrGcH"
      },
      "source": [
        "### Defining hyperparameters"
      ]
    },
    {
      "cell_type": "code",
      "execution_count": 51,
      "metadata": {
        "id": "v8zJjQ1KrGwN"
      },
      "outputs": [],
      "source": [
        "NUM_EPOCHS = 100 #Increase epochs if you do not see a flatlined loss function\n",
        "#Add batch normalization\n",
        "INIT_LR  = 0.0001 #change to 0.001 after\n",
        "BS = 32 #batch size\n",
        "opt= SGD(learning_rate=INIT_LR, momentum=0.9, decay=INIT_LR / NUM_EPOCHS)\n",
        "opt2 = tf.optimizers.Adam(learning_rate = INIT_LR)\n",
        "from keras.callbacks import EarlyStopping  \n",
        "early_stopping =EarlyStopping(monitor='loss', patience=2) "
      ]
    },
    {
      "cell_type": "markdown",
      "metadata": {
        "id": "VRjNRTMErMa1"
      },
      "source": [
        "### Model"
      ]
    },
    {
      "cell_type": "code",
      "source": [
        "def feedforward_yes_upsampling_dense2(opt, input_train, input_valid, input_test):\n",
        "    model = Sequential() #object of sequencial class\n",
        "    model.add(Flatten(input_shape=input_shape2)) #we define the input shape, check shape after stft transformation\n",
        "    model.add(LeakyReLU(alpha=0.1))\n",
        "    model.add(Dense(1024))\n",
        "    model.add(BatchNormalization())\n",
        "    model.add(LeakyReLU(alpha=0.1))\n",
        "    model.add(Dense(512))\n",
        "    #model.add(BatchNormalization())\n",
        "    model.add(LeakyReLU(alpha=0.1))\n",
        "    model.add(Dense(256))\n",
        "    #model.add(BatchNormalization())\n",
        "    model.add(LeakyReLU(alpha=0.1))\n",
        "    model.add(Dense(128)) \n",
        "    #model.add(BatchNormalization())\n",
        "    model.add(LeakyReLU(alpha=0.1))\n",
        "   # model.add(Dense(256)) #removed this\n",
        "   # model.add(BatchNormalization())\n",
        "   # model.add(LeakyReLU(alpha=0.1))\n",
        "    #model.add(Dense(64)) \n",
        "    #model.add(BatchNormalization())\n",
        "    #model.add(LeakyReLU(alpha=0.1))\n",
        "    model.add(BatchNormalization()) # standardizes the inputs to a layer for each mini-batch. This has the effect of stabilizing the learning process and dramatically reducing the number of training epochs required to train deep networks\n",
        "    #output layer\n",
        "    model.add(Dense(100)) #because we have 4 y outputs, but also because it does not start at 0, we should reshape here to have an output of 10000 (2000x5)\n",
        "    model.add(Activation(\"softmax\"))\n",
        "\n",
        "    model.add(Reshape((20, 5))) #output is all cut data (segment size) and target numbers\n",
        "    model.add(UpSampling1D(100)) #tried 100 instead\n",
        "\n",
        "    model.compile(loss=\"sparse_categorical_crossentropy\", optimizer=opt, metrics=['sparse_categorical_accuracy']) #multiclass classification problems, categorical crossentropy loss is the loss function of choice.\n",
        "\n",
        "    history = model.fit(input_train, validation_data=input_valid,\n",
        "                    batch_size=BS, \n",
        "                    epochs=NUM_EPOCHS, callbacks=[early_stopping])\n",
        "    # plotting the metrics\n",
        "    plt.subplot(2, 1, 1)\n",
        "    plt.title('Sparse Crossentropy Loss')\n",
        "    plt.plot(history.history['loss'], color='blue', label='train')\n",
        "    plt.plot(history.history['val_loss'], color='orange', label='val')\n",
        "\t\t# plot accuracy\n",
        "    plt.subplot(2, 1, 2)\n",
        "    plt.title('Classification Accuracy')\n",
        "    plt.plot(history.history['sparse_categorical_accuracy'], color='blue', label='train')\n",
        "    plt.plot(history.history['val_sparse_categorical_accuracy'], color='orange', label='val')\n",
        "    score = model.evaluate(input_test, verbose=0) #evaluate based on test dataset, which was not used for training and validation\n",
        "    return model.summary(), history, print('Loss using testing dataset=', score[0]), print('Accuracy using testing dataset=', score[1]) "
      ],
      "metadata": {
        "id": "8s2G-4GjIqUW"
      },
      "execution_count": null,
      "outputs": []
    },
    {
      "cell_type": "markdown",
      "metadata": {
        "id": "M5YB7aNcrRVO"
      },
      "source": [
        "### Running the model"
      ]
    },
    {
      "cell_type": "code",
      "source": [
        "ffn1=feedforward_yes_upsampling_dense(opt2, input_train, input_valid, input_test)"
      ],
      "metadata": {
        "id": "eF0yIGnZK6Ac"
      },
      "execution_count": null,
      "outputs": []
    },
    {
      "cell_type": "code",
      "source": [
        "def feedforward_yes_upsampling_dense(opt, input_train, input_valid, input_test):\n",
        "    model = Sequential() #object of sequencial class\n",
        "    model.add(Flatten(input_shape=input_shape)) #we define the input shape, check shape after stft transformation\n",
        "    model.add(LeakyReLU(alpha=0.1))\n",
        "    model.add(Dense(1024))\n",
        "    model.add(BatchNormalization())\n",
        "    model.add(LeakyReLU(alpha=0.1))\n",
        "    model.add(Dense(512))\n",
        "    #model.add(BatchNormalization())\n",
        "    model.add(LeakyReLU(alpha=0.1))\n",
        "    model.add(Dense(256))\n",
        "    #model.add(BatchNormalization())\n",
        "    model.add(LeakyReLU(alpha=0.1))\n",
        "    model.add(Dense(128)) \n",
        "    #model.add(BatchNormalization())\n",
        "    model.add(LeakyReLU(alpha=0.1))\n",
        "   # model.add(Dense(256)) #removed this\n",
        "   # model.add(BatchNormalization())\n",
        "   # model.add(LeakyReLU(alpha=0.1))\n",
        "    #model.add(Dense(64)) \n",
        "    #model.add(BatchNormalization())\n",
        "    #model.add(LeakyReLU(alpha=0.1))\n",
        "    model.add(BatchNormalization()) # standardizes the inputs to a layer for each mini-batch. This has the effect of stabilizing the learning process and dramatically reducing the number of training epochs required to train deep networks\n",
        "    #output layer\n",
        "    model.add(Dense(100)) #because we have 4 y outputs, but also because it does not start at 0, we should reshape here to have an output of 10000 (2000x5)\n",
        "    model.add(Activation(\"softmax\"))\n",
        "\n",
        "    model.add(Reshape((20, 5))) #output is all cut data (segment size) and target numbers\n",
        "    model.add(UpSampling1D(100)) #tried 100 instead\n",
        "\n",
        "    model.compile(loss=\"sparse_categorical_crossentropy\", optimizer=opt, metrics=['sparse_categorical_accuracy']) #multiclass classification problems, categorical crossentropy loss is the loss function of choice.\n",
        "\n",
        "    history = model.fit(input_train, validation_data=input_valid,\n",
        "                    batch_size=BS, \n",
        "                    epochs=NUM_EPOCHS, callbacks=[early_stopping])\n",
        "    # plotting the metrics\n",
        "    plt.subplot(2, 1, 1)\n",
        "    plt.title('Sparse Crossentropy Loss')\n",
        "    plt.plot(history.history['loss'], color='blue', label='train')\n",
        "    plt.plot(history.history['val_loss'], color='orange', label='val')\n",
        "\t\t# plot accuracy\n",
        "    plt.subplot(2, 1, 2)\n",
        "    plt.title('Classification Accuracy')\n",
        "    plt.plot(history.history['sparse_categorical_accuracy'], color='blue', label='train')\n",
        "    plt.plot(history.history['val_sparse_categorical_accuracy'], color='orange', label='val')\n",
        "    score = model.evaluate(input_test, verbose=0) #evaluate based on test dataset, which was not used for training and validation\n",
        "    return model.summary(), history, print('Loss using testing dataset=', score[0]), print('Accuracy using testing dataset=', score[1]) "
      ],
      "metadata": {
        "id": "9R9Lbu8NaDEq"
      },
      "execution_count": 52,
      "outputs": []
    },
    {
      "cell_type": "code",
      "source": [
        "NUM_EPOCHS = 100 #Increase epochs if you do not see a flatlined loss function\n",
        "#Add batch normalization\n",
        "INIT_LR  = 0.0001 #change to 0.001 after\n",
        "BS = 32 #batch size\n",
        "opt= SGD(learning_rate=INIT_LR, momentum=0.9, decay=INIT_LR / NUM_EPOCHS)\n",
        "opt2 = tf.optimizers.Adam(learning_rate = INIT_LR)\n",
        "from keras.callbacks import EarlyStopping  \n",
        "early_stopping =EarlyStopping(monitor='loss', patience=2) "
      ],
      "metadata": {
        "id": "wcNDHq2jsa-6"
      },
      "execution_count": 57,
      "outputs": []
    },
    {
      "cell_type": "code",
      "source": [
        ""
      ],
      "metadata": {
        "id": "4uU9ckHaab0i"
      },
      "execution_count": 28,
      "outputs": []
    },
    {
      "cell_type": "code",
      "source": [
        "def feedforward_yes_upsampling_dense1(opt, input_train, input_valid, input_test):\n",
        "    model = Sequential() #object of sequencial class\n",
        "    model.add(Flatten(input_shape=input_shape1)) #we define the input shape, check shape after stft transformation\n",
        "    model.add(LeakyReLU(alpha=0.1))\n",
        "    model.add(Dense(1024))\n",
        "    model.add(BatchNormalization())\n",
        "    model.add(LeakyReLU(alpha=0.1))\n",
        "    model.add(Dense(512))\n",
        "    #model.add(BatchNormalization())\n",
        "    model.add(LeakyReLU(alpha=0.1))\n",
        "    model.add(Dense(256))\n",
        "    #model.add(BatchNormalization())\n",
        "    model.add(LeakyReLU(alpha=0.1))\n",
        "    model.add(Dense(128)) \n",
        "    #model.add(BatchNormalization())\n",
        "    model.add(LeakyReLU(alpha=0.1))\n",
        "   # model.add(Dense(256)) #removed this\n",
        "   # model.add(BatchNormalization())\n",
        "   # model.add(LeakyReLU(alpha=0.1))\n",
        "    #model.add(Dense(64)) \n",
        "    #model.add(BatchNormalization())\n",
        "    #model.add(LeakyReLU(alpha=0.1))\n",
        "    model.add(BatchNormalization()) # standardizes the inputs to a layer for each mini-batch. This has the effect of stabilizing the learning process and dramatically reducing the number of training epochs required to train deep networks\n",
        "    #output layer\n",
        "    model.add(Dense(100)) #because we have 4 y outputs, but also because it does not start at 0, we should reshape here to have an output of 10000 (2000x5)\n",
        "    model.add(Activation(\"softmax\"))\n",
        "\n",
        "    model.add(Reshape((20, 5))) #output is all cut data (segment size) and target numbers\n",
        "    model.add(UpSampling1D(100)) #tried 100 instead\n",
        "\n",
        "    model.compile(loss=\"sparse_categorical_crossentropy\", optimizer=opt, metrics=['sparse_categorical_accuracy']) #multiclass classification problems, categorical crossentropy loss is the loss function of choice.\n",
        "\n",
        "    history = model.fit(input_train, validation_data=input_valid,\n",
        "                    batch_size=BS, \n",
        "                    epochs=NUM_EPOCHS, callbacks=[early_stopping])\n",
        "    # plotting the metrics\n",
        "    plt.subplot(2, 1, 1)\n",
        "    plt.title('Sparse Crossentropy Loss')\n",
        "    plt.plot(history.history['loss'], color='blue', label='train')\n",
        "    plt.plot(history.history['val_loss'], color='orange', label='val')\n",
        "\t\t# plot accuracy\n",
        "    plt.subplot(2, 1, 2)\n",
        "    plt.title('Classification Accuracy')\n",
        "    plt.plot(history.history['sparse_categorical_accuracy'], color='blue', label='train')\n",
        "    plt.plot(history.history['val_sparse_categorical_accuracy'], color='orange', label='val')\n",
        "    score = model.evaluate(input_test, verbose=0) #evaluate based on test dataset, which was not used for training and validation\n",
        "    return model.summary(), history, print('Loss using testing dataset=', score[0]), print('Accuracy using testing dataset=', score[1]) "
      ],
      "metadata": {
        "id": "NNBXnNW2i0Gy"
      },
      "execution_count": 55,
      "outputs": []
    },
    {
      "cell_type": "code",
      "source": [
        "def feedforward_yes_upsampling_dense2(opt, input_train, input_valid, input_test):\n",
        "    model = Sequential() #object of sequencial class\n",
        "    model.add(Flatten(input_shape=input_shape2)) #we define the input shape, check shape after stft transformation\n",
        "    model.add(LeakyReLU(alpha=0.1))\n",
        "    model.add(Dense(1024))\n",
        "    model.add(BatchNormalization())\n",
        "    model.add(LeakyReLU(alpha=0.1))\n",
        "    model.add(Dense(512))\n",
        "    #model.add(BatchNormalization())\n",
        "    model.add(LeakyReLU(alpha=0.1))\n",
        "    model.add(Dense(256))\n",
        "    #model.add(BatchNormalization())\n",
        "    model.add(LeakyReLU(alpha=0.1))\n",
        "    model.add(Dense(128)) \n",
        "    #model.add(BatchNormalization())\n",
        "    model.add(LeakyReLU(alpha=0.1))\n",
        "   # model.add(Dense(256)) #removed this\n",
        "   # model.add(BatchNormalization())\n",
        "   # model.add(LeakyReLU(alpha=0.1))\n",
        "    #model.add(Dense(64)) \n",
        "    #model.add(BatchNormalization())\n",
        "    #model.add(LeakyReLU(alpha=0.1))\n",
        "    model.add(BatchNormalization()) # standardizes the inputs to a layer for each mini-batch. This has the effect of stabilizing the learning process and dramatically reducing the number of training epochs required to train deep networks\n",
        "    #output layer\n",
        "    model.add(Dense(100)) #because we have 4 y outputs, but also because it does not start at 0, we should reshape here to have an output of 10000 (2000x5)\n",
        "    model.add(Activation(\"softmax\"))\n",
        "\n",
        "    model.add(Reshape((20, 5))) #output is all cut data (segment size) and target numbers\n",
        "    model.add(UpSampling1D(100)) #tried 100 instead\n",
        "\n",
        "    model.compile(loss=\"sparse_categorical_crossentropy\", optimizer=opt, metrics=['sparse_categorical_accuracy']) #multiclass classification problems, categorical crossentropy loss is the loss function of choice.\n",
        "\n",
        "    history = model.fit(input_train, validation_data=input_valid,\n",
        "                    batch_size=BS, \n",
        "                    epochs=NUM_EPOCHS, callbacks=[early_stopping])\n",
        "    # plotting the metrics\n",
        "    plt.subplot(2, 1, 1)\n",
        "    plt.title('Sparse Crossentropy Loss')\n",
        "    plt.plot(history.history['loss'], color='blue', label='train')\n",
        "    plt.plot(history.history['val_loss'], color='orange', label='val')\n",
        "\t\t# plot accuracy\n",
        "    plt.subplot(2, 1, 2)\n",
        "    plt.title('Classification Accuracy')\n",
        "    plt.plot(history.history['sparse_categorical_accuracy'], color='blue', label='train')\n",
        "    plt.plot(history.history['val_sparse_categorical_accuracy'], color='orange', label='val')\n",
        "    score = model.evaluate(input_test, verbose=0) #evaluate based on test dataset, which was not used for training and validation\n",
        "    return model.summary(), history, print('Loss using testing dataset=', score[0]), print('Accuracy using testing dataset=', score[1]) "
      ],
      "metadata": {
        "id": "euv87nxki0Qo"
      },
      "execution_count": 56,
      "outputs": []
    },
    {
      "cell_type": "markdown",
      "source": [
        ""
      ],
      "metadata": {
        "id": "Db2Uvb4vaDdx"
      }
    },
    {
      "cell_type": "code",
      "source": [
        "ffn1=feedforward_yes_upsampling_dense(opt2, input_train, input_valid, input_test)"
      ],
      "metadata": {
        "colab": {
          "base_uri": "https://localhost:8080/",
          "height": 1000
        },
        "id": "8MS-ISXsaEIS",
        "outputId": "2dfa47c8-6f04-43aa-ae67-5c28bcfb7162"
      },
      "execution_count": 54,
      "outputs": [
        {
          "output_type": "stream",
          "name": "stdout",
          "text": [
            "Epoch 1/100\n",
            "1250/1250 [==============================] - 94s 66ms/step - loss: 1.5946 - sparse_categorical_accuracy: 0.3152 - val_loss: 1.5556 - val_sparse_categorical_accuracy: 0.4255\n",
            "Epoch 2/100\n",
            "1250/1250 [==============================] - 81s 65ms/step - loss: 1.3951 - sparse_categorical_accuracy: 0.4260 - val_loss: 1.5062 - val_sparse_categorical_accuracy: 0.4418\n",
            "Epoch 3/100\n",
            "1250/1250 [==============================] - 77s 61ms/step - loss: 1.2947 - sparse_categorical_accuracy: 0.4622 - val_loss: 1.3227 - val_sparse_categorical_accuracy: 0.4792\n",
            "Epoch 4/100\n",
            "1250/1250 [==============================] - 77s 61ms/step - loss: 1.2375 - sparse_categorical_accuracy: 0.4762 - val_loss: 1.3481 - val_sparse_categorical_accuracy: 0.4987\n",
            "Epoch 5/100\n",
            "1250/1250 [==============================] - 77s 61ms/step - loss: 1.2100 - sparse_categorical_accuracy: 0.4879 - val_loss: 1.2629 - val_sparse_categorical_accuracy: 0.5073\n",
            "Epoch 6/100\n",
            "1250/1250 [==============================] - 76s 61ms/step - loss: 1.1932 - sparse_categorical_accuracy: 0.4907 - val_loss: 1.3837 - val_sparse_categorical_accuracy: 0.5080\n",
            "Epoch 7/100\n",
            "1250/1250 [==============================] - 76s 61ms/step - loss: 1.1849 - sparse_categorical_accuracy: 0.4970 - val_loss: 1.2792 - val_sparse_categorical_accuracy: 0.5232\n",
            "Epoch 8/100\n",
            "1250/1250 [==============================] - 76s 61ms/step - loss: 1.1783 - sparse_categorical_accuracy: 0.4972 - val_loss: 1.2939 - val_sparse_categorical_accuracy: 0.5157\n",
            "Epoch 9/100\n",
            "1250/1250 [==============================] - 76s 60ms/step - loss: 1.1602 - sparse_categorical_accuracy: 0.5065 - val_loss: 1.2700 - val_sparse_categorical_accuracy: 0.5163\n",
            "Epoch 10/100\n",
            "1250/1250 [==============================] - 75s 60ms/step - loss: 1.1521 - sparse_categorical_accuracy: 0.5193 - val_loss: 1.2678 - val_sparse_categorical_accuracy: 0.5073\n",
            "Epoch 11/100\n",
            "1250/1250 [==============================] - 75s 60ms/step - loss: 1.1680 - sparse_categorical_accuracy: 0.5046 - val_loss: 1.2639 - val_sparse_categorical_accuracy: 0.5315\n",
            "Epoch 12/100\n",
            "1250/1250 [==============================] - 75s 60ms/step - loss: 1.1541 - sparse_categorical_accuracy: 0.5102 - val_loss: 1.2359 - val_sparse_categorical_accuracy: 0.5227\n",
            "Model: \"sequential_9\"\n",
            "_________________________________________________________________\n",
            " Layer (type)                Output Shape              Param #   \n",
            "=================================================================\n",
            " flatten_9 (Flatten)         (None, 7095)              0         \n",
            "                                                                 \n",
            " leaky_re_lu_42 (LeakyReLU)  (None, 7095)              0         \n",
            "                                                                 \n",
            " dense_43 (Dense)            (None, 1024)              7266304   \n",
            "                                                                 \n",
            " batch_normalization_31 (Bat  (None, 1024)             4096      \n",
            " chNormalization)                                                \n",
            "                                                                 \n",
            " leaky_re_lu_43 (LeakyReLU)  (None, 1024)              0         \n",
            "                                                                 \n",
            " dense_44 (Dense)            (None, 512)               524800    \n",
            "                                                                 \n",
            " leaky_re_lu_44 (LeakyReLU)  (None, 512)               0         \n",
            "                                                                 \n",
            " dense_45 (Dense)            (None, 256)               131328    \n",
            "                                                                 \n",
            " leaky_re_lu_45 (LeakyReLU)  (None, 256)               0         \n",
            "                                                                 \n",
            " dense_46 (Dense)            (None, 128)               32896     \n",
            "                                                                 \n",
            " leaky_re_lu_46 (LeakyReLU)  (None, 128)               0         \n",
            "                                                                 \n",
            " batch_normalization_32 (Bat  (None, 128)              512       \n",
            " chNormalization)                                                \n",
            "                                                                 \n",
            " dense_47 (Dense)            (None, 100)               12900     \n",
            "                                                                 \n",
            " activation_9 (Activation)   (None, 100)               0         \n",
            "                                                                 \n",
            " reshape_9 (Reshape)         (None, 20, 5)             0         \n",
            "                                                                 \n",
            " up_sampling1d_9 (UpSampling  (None, 2000, 5)          0         \n",
            " 1D)                                                             \n",
            "                                                                 \n",
            "=================================================================\n",
            "Total params: 7,972,836\n",
            "Trainable params: 7,970,532\n",
            "Non-trainable params: 2,304\n",
            "_________________________________________________________________\n",
            "Loss using testing dataset= 1.1679233312606812\n",
            "Accuracy using testing dataset= 0.5396922826766968\n"
          ]
        },
        {
          "output_type": "display_data",
          "data": {
            "text/plain": [
              "<Figure size 432x288 with 2 Axes>"
            ],
            "image/png": "[encoded data removed]"
          },
          "metadata": {}
        }
      ]
    },
    {
      "cell_type": "code",
      "source": [
        "ffn1=feedforward_yes_upsampling_dense1(opt2, input_train1, input_valid1, input_test1)"
      ],
      "metadata": {
        "colab": {
          "base_uri": "https://localhost:8080/",
          "height": 1000
        },
        "id": "_7O18q28mvnf",
        "outputId": "1d09d09c-7ff8-4bb9-af13-4696662c6dd8"
      },
      "execution_count": 58,
      "outputs": [
        {
          "output_type": "stream",
          "name": "stdout",
          "text": [
            "Epoch 1/100\n",
            "1250/1250 [==============================] - 59s 44ms/step - loss: 1.5620 - sparse_categorical_accuracy: 0.3344 - val_loss: 1.6360 - val_sparse_categorical_accuracy: 0.3920\n",
            "Epoch 2/100\n",
            "1250/1250 [==============================] - 57s 46ms/step - loss: 1.3518 - sparse_categorical_accuracy: 0.4554 - val_loss: 1.4026 - val_sparse_categorical_accuracy: 0.5076\n",
            "Epoch 3/100\n",
            "1250/1250 [==============================] - 55s 44ms/step - loss: 1.2682 - sparse_categorical_accuracy: 0.4895 - val_loss: 1.3232 - val_sparse_categorical_accuracy: 0.5050\n",
            "Epoch 4/100\n",
            "1250/1250 [==============================] - 53s 43ms/step - loss: 1.2267 - sparse_categorical_accuracy: 0.4819 - val_loss: 1.2247 - val_sparse_categorical_accuracy: 0.5269\n",
            "Epoch 5/100\n",
            "1250/1250 [==============================] - 54s 43ms/step - loss: 1.1755 - sparse_categorical_accuracy: 0.5056 - val_loss: 1.2848 - val_sparse_categorical_accuracy: 0.5347\n",
            "Epoch 6/100\n",
            "1250/1250 [==============================] - 54s 43ms/step - loss: 1.1641 - sparse_categorical_accuracy: 0.5145 - val_loss: 1.2450 - val_sparse_categorical_accuracy: 0.5260\n",
            "Epoch 7/100\n",
            "1250/1250 [==============================] - 56s 44ms/step - loss: 1.1659 - sparse_categorical_accuracy: 0.5130 - val_loss: 1.2348 - val_sparse_categorical_accuracy: 0.5309\n",
            "Epoch 8/100\n",
            "1250/1250 [==============================] - 54s 44ms/step - loss: 1.1551 - sparse_categorical_accuracy: 0.5156 - val_loss: 1.2026 - val_sparse_categorical_accuracy: 0.5575\n",
            "Epoch 9/100\n",
            "1250/1250 [==============================] - 55s 44ms/step - loss: 1.1505 - sparse_categorical_accuracy: 0.5182 - val_loss: 1.1772 - val_sparse_categorical_accuracy: 0.5536\n",
            "Epoch 10/100\n",
            "1250/1250 [==============================] - 56s 44ms/step - loss: 1.1480 - sparse_categorical_accuracy: 0.5207 - val_loss: 1.1991 - val_sparse_categorical_accuracy: 0.5536\n",
            "Epoch 11/100\n",
            "1250/1250 [==============================] - 55s 44ms/step - loss: 1.1345 - sparse_categorical_accuracy: 0.5276 - val_loss: 1.2678 - val_sparse_categorical_accuracy: 0.5375\n",
            "Epoch 12/100\n",
            "1250/1250 [==============================] - 55s 44ms/step - loss: 1.1282 - sparse_categorical_accuracy: 0.5308 - val_loss: 1.2473 - val_sparse_categorical_accuracy: 0.5657\n",
            "Epoch 13/100\n",
            "1250/1250 [==============================] - 57s 45ms/step - loss: 1.1330 - sparse_categorical_accuracy: 0.5271 - val_loss: 1.2927 - val_sparse_categorical_accuracy: 0.5276\n",
            "Epoch 14/100\n",
            "1250/1250 [==============================] - 55s 44ms/step - loss: 1.1342 - sparse_categorical_accuracy: 0.5296 - val_loss: 1.1838 - val_sparse_categorical_accuracy: 0.5549\n",
            "Model: \"sequential_10\"\n",
            "_________________________________________________________________\n",
            " Layer (type)                Output Shape              Param #   \n",
            "=================================================================\n",
            " flatten_10 (Flatten)        (None, 3835)              0         \n",
            "                                                                 \n",
            " leaky_re_lu_47 (LeakyReLU)  (None, 3835)              0         \n",
            "                                                                 \n",
            " dense_48 (Dense)            (None, 1024)              3928064   \n",
            "                                                                 \n",
            " batch_normalization_33 (Bat  (None, 1024)             4096      \n",
            " chNormalization)                                                \n",
            "                                                                 \n",
            " leaky_re_lu_48 (LeakyReLU)  (None, 1024)              0         \n",
            "                                                                 \n",
            " dense_49 (Dense)            (None, 512)               524800    \n",
            "                                                                 \n",
            " leaky_re_lu_49 (LeakyReLU)  (None, 512)               0         \n",
            "                                                                 \n",
            " dense_50 (Dense)            (None, 256)               131328    \n",
            "                                                                 \n",
            " leaky_re_lu_50 (LeakyReLU)  (None, 256)               0         \n",
            "                                                                 \n",
            " dense_51 (Dense)            (None, 128)               32896     \n",
            "                                                                 \n",
            " leaky_re_lu_51 (LeakyReLU)  (None, 128)               0         \n",
            "                                                                 \n",
            " batch_normalization_34 (Bat  (None, 128)              512       \n",
            " chNormalization)                                                \n",
            "                                                                 \n",
            " dense_52 (Dense)            (None, 100)               12900     \n",
            "                                                                 \n",
            " activation_10 (Activation)  (None, 100)               0         \n",
            "                                                                 \n",
            " reshape_10 (Reshape)        (None, 20, 5)             0         \n",
            "                                                                 \n",
            " up_sampling1d_10 (UpSamplin  (None, 2000, 5)          0         \n",
            " g1D)                                                            \n",
            "                                                                 \n",
            "=================================================================\n",
            "Total params: 4,634,596\n",
            "Trainable params: 4,632,292\n",
            "Non-trainable params: 2,304\n",
            "_________________________________________________________________\n",
            "Loss using testing dataset= 1.1901464462280273\n",
            "Accuracy using testing dataset= 0.5337010622024536\n"
          ]
        },
        {
          "output_type": "display_data",
          "data": {
            "text/plain": [
              "<Figure size 432x288 with 2 Axes>"
            ],
            "image/png": "[encoded data removed]"
          },
          "metadata": {}
        }
      ]
    },
    {
      "cell_type": "code",
      "source": [
        "ffn2=feedforward_yes_upsampling_dense2(opt2, input_train2, input_valid2, input_test2)"
      ],
      "metadata": {
        "colab": {
          "base_uri": "https://localhost:8080/",
          "height": 1000
        },
        "id": "dEV_0ldVaany",
        "outputId": "cc45bdcf-4ac1-4cfd-a9af-d74f0bf0242c"
      },
      "execution_count": 59,
      "outputs": [
        {
          "output_type": "stream",
          "name": "stdout",
          "text": [
            "Epoch 1/100\n",
            "1250/1250 [==============================] - 48s 35ms/step - loss: 1.4681 - sparse_categorical_accuracy: 0.3870 - val_loss: 1.5835 - val_sparse_categorical_accuracy: 0.4232\n",
            "Epoch 2/100\n",
            "1250/1250 [==============================] - 44s 35ms/step - loss: 1.3175 - sparse_categorical_accuracy: 0.4561 - val_loss: 1.4478 - val_sparse_categorical_accuracy: 0.4730\n",
            "Epoch 3/100\n",
            "1250/1250 [==============================] - 43s 34ms/step - loss: 1.2272 - sparse_categorical_accuracy: 0.4913 - val_loss: 1.2728 - val_sparse_categorical_accuracy: 0.5076\n",
            "Epoch 4/100\n",
            "1250/1250 [==============================] - 44s 35ms/step - loss: 1.2000 - sparse_categorical_accuracy: 0.4917 - val_loss: 1.3575 - val_sparse_categorical_accuracy: 0.4807\n",
            "Epoch 5/100\n",
            "1250/1250 [==============================] - 43s 35ms/step - loss: 1.1801 - sparse_categorical_accuracy: 0.5019 - val_loss: 1.2854 - val_sparse_categorical_accuracy: 0.4895\n",
            "Epoch 6/100\n",
            "1250/1250 [==============================] - 43s 35ms/step - loss: 1.1660 - sparse_categorical_accuracy: 0.5093 - val_loss: 1.2698 - val_sparse_categorical_accuracy: 0.5124\n",
            "Epoch 7/100\n",
            "1250/1250 [==============================] - 43s 34ms/step - loss: 1.1719 - sparse_categorical_accuracy: 0.5045 - val_loss: 1.1896 - val_sparse_categorical_accuracy: 0.5097\n",
            "Epoch 8/100\n",
            "1250/1250 [==============================] - 43s 35ms/step - loss: 1.1512 - sparse_categorical_accuracy: 0.5201 - val_loss: 1.2753 - val_sparse_categorical_accuracy: 0.5122\n",
            "Epoch 9/100\n",
            "1250/1250 [==============================] - 43s 35ms/step - loss: 1.1482 - sparse_categorical_accuracy: 0.5205 - val_loss: 1.2211 - val_sparse_categorical_accuracy: 0.5224\n",
            "Epoch 10/100\n",
            "1250/1250 [==============================] - 43s 35ms/step - loss: 1.1356 - sparse_categorical_accuracy: 0.5286 - val_loss: 1.3205 - val_sparse_categorical_accuracy: 0.5045\n",
            "Epoch 11/100\n",
            "1250/1250 [==============================] - 43s 34ms/step - loss: 1.1345 - sparse_categorical_accuracy: 0.5287 - val_loss: 1.2097 - val_sparse_categorical_accuracy: 0.5658\n",
            "Epoch 12/100\n",
            "1250/1250 [==============================] - 44s 35ms/step - loss: 1.1393 - sparse_categorical_accuracy: 0.5264 - val_loss: 1.1813 - val_sparse_categorical_accuracy: 0.5547\n",
            "Epoch 13/100\n",
            "1250/1250 [==============================] - 45s 36ms/step - loss: 1.1319 - sparse_categorical_accuracy: 0.5291 - val_loss: 1.1864 - val_sparse_categorical_accuracy: 0.5629\n",
            "Epoch 14/100\n",
            "1250/1250 [==============================] - 43s 35ms/step - loss: 1.1384 - sparse_categorical_accuracy: 0.5259 - val_loss: 1.1568 - val_sparse_categorical_accuracy: 0.5577\n",
            "Epoch 15/100\n",
            "1250/1250 [==============================] - 44s 35ms/step - loss: 1.1352 - sparse_categorical_accuracy: 0.5270 - val_loss: 1.1882 - val_sparse_categorical_accuracy: 0.5361\n",
            "Model: \"sequential_11\"\n",
            "_________________________________________________________________\n",
            " Layer (type)                Output Shape              Param #   \n",
            "=================================================================\n",
            " flatten_11 (Flatten)        (None, 2013)              0         \n",
            "                                                                 \n",
            " leaky_re_lu_52 (LeakyReLU)  (None, 2013)              0         \n",
            "                                                                 \n",
            " dense_53 (Dense)            (None, 1024)              2062336   \n",
            "                                                                 \n",
            " batch_normalization_35 (Bat  (None, 1024)             4096      \n",
            " chNormalization)                                                \n",
            "                                                                 \n",
            " leaky_re_lu_53 (LeakyReLU)  (None, 1024)              0         \n",
            "                                                                 \n",
            " dense_54 (Dense)            (None, 512)               524800    \n",
            "                                                                 \n",
            " leaky_re_lu_54 (LeakyReLU)  (None, 512)               0         \n",
            "                                                                 \n",
            " dense_55 (Dense)            (None, 256)               131328    \n",
            "                                                                 \n",
            " leaky_re_lu_55 (LeakyReLU)  (None, 256)               0         \n",
            "                                                                 \n",
            " dense_56 (Dense)            (None, 128)               32896     \n",
            "                                                                 \n",
            " leaky_re_lu_56 (LeakyReLU)  (None, 128)               0         \n",
            "                                                                 \n",
            " batch_normalization_36 (Bat  (None, 128)              512       \n",
            " chNormalization)                                                \n",
            "                                                                 \n",
            " dense_57 (Dense)            (None, 100)               12900     \n",
            "                                                                 \n",
            " activation_11 (Activation)  (None, 100)               0         \n",
            "                                                                 \n",
            " reshape_11 (Reshape)        (None, 20, 5)             0         \n",
            "                                                                 \n",
            " up_sampling1d_11 (UpSamplin  (None, 2000, 5)          0         \n",
            " g1D)                                                            \n",
            "                                                                 \n",
            "=================================================================\n",
            "Total params: 2,768,868\n",
            "Trainable params: 2,766,564\n",
            "Non-trainable params: 2,304\n",
            "_________________________________________________________________\n",
            "Loss using testing dataset= 1.0596455335617065\n",
            "Accuracy using testing dataset= 0.5839982628822327\n"
          ]
        },
        {
          "output_type": "display_data",
          "data": {
            "text/plain": [
              "<Figure size 432x288 with 2 Axes>"
            ],
            "image/png": "[encoded data removed]"
          },
          "metadata": {}
        }
      ]
    },
    {
      "cell_type": "code",
      "source": [
        "def feedforward_yes_upsampling_dense3(opt, input_train, input_valid, input_test):\n",
        "    model = Sequential() #object of sequencial class\n",
        "    model.add(Flatten(input_shape=input_shape2)) #we define the input shape, check shape after stft transformation\n",
        "    model.add(LeakyReLU(alpha=0.1))\n",
        "    model.add(Dense(1024))\n",
        "    model.add(BatchNormalization())\n",
        "    model.add(LeakyReLU(alpha=0.1))\n",
        "    model.add(Dense(512))\n",
        "    #model.add(BatchNormalization())\n",
        "    model.add(LeakyReLU(alpha=0.1))\n",
        "    model.add(Dense(256))\n",
        "    #model.add(BatchNormalization())\n",
        "    model.add(LeakyReLU(alpha=0.1))\n",
        "    model.add(Dense(128)) \n",
        "    #model.add(BatchNormalization())\n",
        "    model.add(LeakyReLU(alpha=0.1))\n",
        "    model.add(Dense(256)) #removed this\n",
        "   # model.add(BatchNormalization())\n",
        "    model.add(LeakyReLU(alpha=0.1))\n",
        "    #model.add(Dense(64)) \n",
        "    #model.add(BatchNormalization())\n",
        "   # model.add(LeakyReLU(alpha=0.1))\n",
        "    model.add(BatchNormalization()) # standardizes the inputs to a layer for each mini-batch. This has the effect of stabilizing the learning process and dramatically reducing the number of training epochs required to train deep networks\n",
        "    #output layer\n",
        "    model.add(Dense(100)) #because we have 4 y outputs, but also because it does not start at 0, we should reshape here to have an output of 10000 (2000x5)\n",
        "    model.add(Activation(\"softmax\"))\n",
        "\n",
        "    model.add(Reshape((20, 5))) #output is all cut data (segment size) and target numbers\n",
        "    model.add(UpSampling1D(100)) #tried 100 instead\n",
        "\n",
        "    model.compile(loss=\"sparse_categorical_crossentropy\", optimizer=opt, metrics=['sparse_categorical_accuracy']) #multiclass classification problems, categorical crossentropy loss is the loss function of choice.\n",
        "\n",
        "    history = model.fit(input_train, validation_data=input_valid,\n",
        "                    batch_size=BS, \n",
        "                    epochs=NUM_EPOCHS, callbacks=[early_stopping])\n",
        "    # plotting the metrics\n",
        "    plt.subplot(2, 1, 1)\n",
        "    plt.title('Sparse Crossentropy Loss')\n",
        "    plt.plot(history.history['loss'], color='blue', label='train')\n",
        "    plt.plot(history.history['val_loss'], color='orange', label='val')\n",
        "\t\t# plot accuracy\n",
        "    plt.subplot(2, 1, 2)\n",
        "    plt.title('Classification Accuracy')\n",
        "    plt.plot(history.history['sparse_categorical_accuracy'], color='blue', label='train')\n",
        "    plt.plot(history.history['val_sparse_categorical_accuracy'], color='orange', label='val')\n",
        "    score = model.evaluate(input_test, verbose=0) #evaluate based on test dataset, which was not used for training and validation\n",
        "    return model.summary(), history, print('Loss using testing dataset=', score[0]), print('Accuracy using testing dataset=', score[1]) "
      ],
      "metadata": {
        "id": "3KsOxowpaaxJ"
      },
      "execution_count": 65,
      "outputs": []
    },
    {
      "cell_type": "code",
      "source": [
        "ffn3=feedforward_yes_upsampling_dense3(opt2, input_train2, input_valid2, input_test2)\n",
        "\n"
      ],
      "metadata": {
        "colab": {
          "base_uri": "https://localhost:8080/",
          "height": 1000
        },
        "id": "9tem7bIL-zxK",
        "outputId": "bc3f21a2-9e79-4806-8a7c-ac326400bc7f"
      },
      "execution_count": 66,
      "outputs": [
        {
          "output_type": "stream",
          "name": "stdout",
          "text": [
            "Epoch 1/100\n",
            "1250/1250 [==============================] - 50s 36ms/step - loss: 1.4258 - sparse_categorical_accuracy: 0.4161 - val_loss: 1.4706 - val_sparse_categorical_accuracy: 0.4564\n",
            "Epoch 2/100\n",
            "1250/1250 [==============================] - 47s 38ms/step - loss: 1.2568 - sparse_categorical_accuracy: 0.4732 - val_loss: 1.4602 - val_sparse_categorical_accuracy: 0.4644\n",
            "Epoch 3/100\n",
            "1250/1250 [==============================] - 44s 35ms/step - loss: 1.2196 - sparse_categorical_accuracy: 0.4822 - val_loss: 1.3696 - val_sparse_categorical_accuracy: 0.4682\n",
            "Epoch 4/100\n",
            "1250/1250 [==============================] - 46s 37ms/step - loss: 1.1904 - sparse_categorical_accuracy: 0.4898 - val_loss: 1.2916 - val_sparse_categorical_accuracy: 0.4762\n",
            "Epoch 5/100\n",
            "1250/1250 [==============================] - 46s 37ms/step - loss: 1.1770 - sparse_categorical_accuracy: 0.5014 - val_loss: 1.3968 - val_sparse_categorical_accuracy: 0.4935\n",
            "Epoch 6/100\n",
            "1250/1250 [==============================] - 47s 37ms/step - loss: 1.1679 - sparse_categorical_accuracy: 0.5009 - val_loss: 1.3910 - val_sparse_categorical_accuracy: 0.4822\n",
            "Epoch 7/100\n",
            "1250/1250 [==============================] - 47s 38ms/step - loss: 1.1682 - sparse_categorical_accuracy: 0.5053 - val_loss: 1.3345 - val_sparse_categorical_accuracy: 0.4886\n",
            "Epoch 8/100\n",
            "1250/1250 [==============================] - 47s 37ms/step - loss: 1.1578 - sparse_categorical_accuracy: 0.5119 - val_loss: 1.2994 - val_sparse_categorical_accuracy: 0.5206\n",
            "Epoch 9/100\n",
            "1250/1250 [==============================] - 45s 36ms/step - loss: 1.1440 - sparse_categorical_accuracy: 0.5230 - val_loss: 1.2564 - val_sparse_categorical_accuracy: 0.5217\n",
            "Epoch 10/100\n",
            "1250/1250 [==============================] - 45s 36ms/step - loss: 1.1452 - sparse_categorical_accuracy: 0.5187 - val_loss: 1.2711 - val_sparse_categorical_accuracy: 0.5243\n",
            "Epoch 11/100\n",
            "1250/1250 [==============================] - 48s 38ms/step - loss: 1.1436 - sparse_categorical_accuracy: 0.5186 - val_loss: 1.2415 - val_sparse_categorical_accuracy: 0.5462\n",
            "Epoch 12/100\n",
            "1250/1250 [==============================] - 60s 48ms/step - loss: 1.1360 - sparse_categorical_accuracy: 0.5243 - val_loss: 1.4608 - val_sparse_categorical_accuracy: 0.4930\n",
            "Epoch 13/100\n",
            "1250/1250 [==============================] - 44s 35ms/step - loss: 1.1544 - sparse_categorical_accuracy: 0.5161 - val_loss: 1.3165 - val_sparse_categorical_accuracy: 0.4965\n",
            "Epoch 14/100\n",
            "1250/1250 [==============================] - 62s 49ms/step - loss: 1.1432 - sparse_categorical_accuracy: 0.5246 - val_loss: 1.3923 - val_sparse_categorical_accuracy: 0.5307\n",
            "Model: \"sequential_14\"\n",
            "_________________________________________________________________\n",
            " Layer (type)                Output Shape              Param #   \n",
            "=================================================================\n",
            " flatten_14 (Flatten)        (None, 2013)              0         \n",
            "                                                                 \n",
            " leaky_re_lu_70 (LeakyReLU)  (None, 2013)              0         \n",
            "                                                                 \n",
            " dense_71 (Dense)            (None, 1024)              2062336   \n",
            "                                                                 \n",
            " batch_normalization_42 (Bat  (None, 1024)             4096      \n",
            " chNormalization)                                                \n",
            "                                                                 \n",
            " leaky_re_lu_71 (LeakyReLU)  (None, 1024)              0         \n",
            "                                                                 \n",
            " dense_72 (Dense)            (None, 512)               524800    \n",
            "                                                                 \n",
            " leaky_re_lu_72 (LeakyReLU)  (None, 512)               0         \n",
            "                                                                 \n",
            " dense_73 (Dense)            (None, 256)               131328    \n",
            "                                                                 \n",
            " leaky_re_lu_73 (LeakyReLU)  (None, 256)               0         \n",
            "                                                                 \n",
            " dense_74 (Dense)            (None, 128)               32896     \n",
            "                                                                 \n",
            " leaky_re_lu_74 (LeakyReLU)  (None, 128)               0         \n",
            "                                                                 \n",
            " dense_75 (Dense)            (None, 256)               33024     \n",
            "                                                                 \n",
            " leaky_re_lu_75 (LeakyReLU)  (None, 256)               0         \n",
            "                                                                 \n",
            " batch_normalization_43 (Bat  (None, 256)              1024      \n",
            " chNormalization)                                                \n",
            "                                                                 \n",
            " dense_76 (Dense)            (None, 100)               25700     \n",
            "                                                                 \n",
            " activation_14 (Activation)  (None, 100)               0         \n",
            "                                                                 \n",
            " reshape_14 (Reshape)        (None, 20, 5)             0         \n",
            "                                                                 \n",
            " up_sampling1d_14 (UpSamplin  (None, 2000, 5)          0         \n",
            " g1D)                                                            \n",
            "                                                                 \n",
            "=================================================================\n",
            "Total params: 2,815,204\n",
            "Trainable params: 2,812,644\n",
            "Non-trainable params: 2,560\n",
            "_________________________________________________________________\n",
            "Loss using testing dataset= 1.2609953880310059\n",
            "Accuracy using testing dataset= 0.5201031565666199\n"
          ]
        },
        {
          "output_type": "display_data",
          "data": {
            "text/plain": [
              "<Figure size 432x288 with 2 Axes>"
            ],
            "image/png": "[encoded data removed]"
          },
          "metadata": {}
        }
      ]
    },
    {
      "cell_type": "markdown",
      "metadata": {
        "id": "unA1tqaqh6yV"
      },
      "source": [
        "## Recurrent Neural network"
      ]
    },
    {
      "cell_type": "markdown",
      "metadata": {
        "id": "677tbHHoj64D"
      },
      "source": [
        ""
      ]
    },
    {
      "cell_type": "code",
      "execution_count": null,
      "metadata": {
        "id": "U9GPFOSRj7PL"
      },
      "outputs": [],
      "source": [
        ""
      ]
    },
    {
      "cell_type": "markdown",
      "metadata": {
        "id": "Y5oyAKEYj-5c"
      },
      "source": [
        "## Convolutional Neural network"
      ]
    },
    {
      "cell_type": "markdown",
      "source": [
        "### Define hyperparameters"
      ],
      "metadata": {
        "id": "F8sJGJhAMGO8"
      }
    },
    {
      "cell_type": "code",
      "source": [
        "NUM_EPOCHS = 100 #Increase epochs if you do not see a flatlined loss function\n",
        "#Add batch normalization\n",
        "INIT_LR  = 0.0001 #change to 0.001 after\n",
        "BS = 32 #batch size\n",
        "opt= SGD(learning_rate=INIT_LR, momentum=0.9, decay=INIT_LR / NUM_EPOCHS)\n",
        "opt2 = tf.optimizers.Adam(learning_rate = INIT_LR)\n",
        "from keras.callbacks import EarlyStopping  \n",
        "early_stopping =EarlyStopping(monitor='loss', patience=2) "
      ],
      "metadata": {
        "id": "8PVrcq5ZMGZq"
      },
      "execution_count": 27,
      "outputs": []
    },
    {
      "cell_type": "markdown",
      "metadata": {
        "id": "gSTAAUJ2EFuN"
      },
      "source": [
        ""
      ]
    },
    {
      "cell_type": "code",
      "execution_count": 55,
      "metadata": {
        "colab": {
          "base_uri": "https://localhost:8080/"
        },
        "id": "Sr505Q5QEF68",
        "outputId": "b27d9500-3c67-4e61-a079-82bbbb4f4544"
      },
      "outputs": [
        {
          "output_type": "execute_result",
          "data": {
            "text/plain": [
              "<KerasTensor: shape=(None, None, 129) dtype=float32 (created by layer 'inputs')>"
            ]
          },
          "metadata": {},
          "execution_count": 55
        }
      ],
      "source": [
        "inputs = Input(shape=(None,129),name='inputs')\n",
        "inputs_all = Input(shape=[], name='inputs2')\n",
        "inputs_variable=(inputs,inputs_all)\n",
        "inputs_variable[0]"
      ]
    },
    {
      "cell_type": "markdown",
      "metadata": {
        "id": "ZivMuJr4kEBE"
      },
      "source": [
        ""
      ]
    },
    {
      "cell_type": "code",
      "execution_count": 45,
      "metadata": {
        "id": "KbN0v75iFfsb",
        "colab": {
          "base_uri": "https://localhost:8080/"
        },
        "outputId": "df5cb5cd-f173-4ca1-84ca-224c277aeee5"
      },
      "outputs": [
        {
          "output_type": "execute_result",
          "data": {
            "text/plain": [
              "<KerasTensor: shape=(None, None, 65) dtype=float32 (created by layer 'inputs')>"
            ]
          },
          "metadata": {},
          "execution_count": 45
        }
      ],
      "source": [
        "inputs1 = Input(shape=(None,65),name='inputs')\n",
        "inputs_all1 = Input(shape=[], name='inputs2')\n",
        "inputs_variable1=(inputs1,inputs_all1)\n",
        "inputs_variable1[0]"
      ]
    },
    {
      "cell_type": "code",
      "source": [
        "inputs2 = Input(shape=(None,33),name='inputs')\n",
        "inputs_all2 = Input(shape=[], name='inputs2')\n",
        "inputs_variable2=(inputs2,inputs_all2)\n",
        "inputs_variable2[0]"
      ],
      "metadata": {
        "colab": {
          "base_uri": "https://localhost:8080/"
        },
        "id": "H4mfZxxgMo6C",
        "outputId": "54d9b7c1-f8f8-41b4-f6db-3ecf71b274cf"
      },
      "execution_count": 46,
      "outputs": [
        {
          "output_type": "execute_result",
          "data": {
            "text/plain": [
              "<KerasTensor: shape=(None, None, 33) dtype=float32 (created by layer 'inputs')>"
            ]
          },
          "metadata": {},
          "execution_count": 46
        }
      ]
    },
    {
      "cell_type": "code",
      "execution_count": 82,
      "metadata": {
        "id": "OZeBM9avkFhR"
      },
      "outputs": [],
      "source": [
        "def cnn_variable_k(opt, inputs, input_variable_valid,input_variable_test):\n",
        "  inputs = Input(shape=(None,129),name='inputs')\n",
        "  inputs_L = Input(shape=[],name='inputs2')\n",
        "  layer_c = Conv1D(512, 1, padding=\"same\")(inputs)\n",
        "  layer = Activation(\"LeakyReLU\")(layer_c)\n",
        "  #layer = BatchNormalization(axis=-1)(layer)\n",
        "  #layer = Dropout(0.25)(layer)\n",
        "  #layer = Conv1D(512, 1, padding=\"same\")(layer)\n",
        "  #layer = BatchNormalization(axis=-1)(layer)\n",
        "  #layer = Dropout(0.1)(layer)\n",
        "  #layer = Activation(\"LeakyReLU\")(layer)\n",
        "  layer = Conv1D(256, 1, padding=\"same\")(layer)\n",
        "  layer = BatchNormalization(axis=-1)(layer)\n",
        "  #layer = Dropout(0.1)(layer)\n",
        "  layer = Activation(\"LeakyReLU\")(layer)\n",
        "  #layer = Conv1D(128, 1, padding=\"same\")(layer)\n",
        "  #layer = BatchNormalization(axis=-1)(layer)\n",
        " # layer = Dropout(0.1)(layer)\n",
        " # layer = Activation(\"LeakyReLU\")(layer)\n",
        "  #layer = Conv1D(256, 1, padding=\"same\")(layer)\n",
        " # layer = BatchNormalization(axis=-1)(layer)\n",
        " # layer = Activation(\"LeakyReLU\")(layer)\n",
        "#  layer = Dropout(0.1)(layer)\n",
        "  layer = MaxPooling1D(pool_size = 2)(layer)\n",
        "  #layer = Flatten()(layer)\n",
        "  #layer = Dropout(0.2)(layer)\n",
        "  layer = TimeDistributed(Dense(1500))(layer)\n",
        "  layer = Reshape((-1,5))(layer)\n",
        "  layer = UpSampling1D(size=15)(layer)\n",
        "  L = tf.cast(tf.reduce_max(inputs_L), tf.int32)\n",
        "  output = layer[:,:L]\n",
        "  model = Model(inputs = (inputs_L,inputs) , outputs=output)\n",
        "  model.compile(loss=\"sparse_categorical_crossentropy\", optimizer=opt, metrics=[\"sparse_categorical_accuracy\"])\n",
        "  history = model.fit(input_variable_train, validation_data=input_variable_valid, batch_size=BS, epochs=NUM_EPOCHS, verbose=1)\n",
        "  # plotting the metrics\n",
        "  plt.subplot(2, 1, 1)\n",
        "  plt.title('Sparse Crossentropy Loss')\n",
        "  plt.plot(history.history['loss'], color='blue', label='train')\n",
        "  plt.plot(history.history['val_loss'], color='orange', label='val')\n",
        "\t# plot accuracy\n",
        "  plt.subplot(2, 1, 2)\n",
        "  plt.title('Classification Accuracy')\n",
        "  plt.plot(history.history['sparse_categorical_accuracy'], color='blue', label='train')\n",
        "  plt.plot(history.history['val_sparse_categorical_accuracy'], color='orange', label='val')\n",
        "  score = model.evaluate(input_variable_test, verbose=0) #evaluate based on test dataset, which was not used for training and validation\n",
        "  return model.summary(), history, print('Loss using testing dataset=', score[0]), print('Accuracy using testing dataset=', score[1]) "
      ]
    },
    {
      "cell_type": "code",
      "source": [
        ""
      ],
      "metadata": {
        "id": "pBUkCPZPZvLs"
      },
      "execution_count": null,
      "outputs": []
    },
    {
      "cell_type": "code",
      "source": [
        "model = Sequential()\n",
        "model.add(Conv2D(filters=16, kernel_size=2, input_shape=(x_train.shape[1],x_train.shape[\n",
        "2],x_train.shape[3]), activation='relu'))\n",
        "model.add(MaxPooling2D(pool_size=2))\n",
        "model.add(Dropout(0.2))\n",
        "model.add(Conv2D(filters=32, kernel_size=2, activation='relu'))\n",
        "model.add(MaxPooling2D(pool_size=2))\n",
        "model.add(Dropout(0.2))\n",
        "model.add(Conv2D(filters=128, kernel_size=2, activation='relu'))\n",
        "model.add(MaxPooling2D(pool_size=2))\n",
        "model.add(Dropout(0.5))\n",
        "model.add(GlobalAveragePooling2D())\n",
        "model.add(Dense(len(encoder.classes_), activation='softmax'))\n",
        "model.summary()\n"
      ],
      "metadata": {
        "id": "0w3sLPu7NObJ"
      },
      "execution_count": null,
      "outputs": []
    },
    {
      "cell_type": "code",
      "source": [
        "inputs = Input(shape=(None,129),name='inputs')\n",
        "inputs_all = Input(shape=[], name='inputs2')\n",
        "inputs_variable=(inputs,inputs_all)\n",
        "inputs_variable[0]"
      ],
      "metadata": {
        "colab": {
          "base_uri": "https://localhost:8080/"
        },
        "id": "piFV30cLZwHk",
        "outputId": "5ef19676-68c6-497e-97d2-29e8229615db"
      },
      "execution_count": 57,
      "outputs": [
        {
          "output_type": "execute_result",
          "data": {
            "text/plain": [
              "<KerasTensor: shape=(None, None, 129) dtype=float32 (created by layer 'inputs')>"
            ]
          },
          "metadata": {},
          "execution_count": 57
        }
      ]
    },
    {
      "cell_type": "code",
      "source": [
        "def cnn_variable_s(opt, inputs, input_variable_valid,input_variable_test):\n",
        "  inputs = Input(shape=(None,129),name='inputs')\n",
        "  inputs_L = Input(shape=[],name='inputs2')\n",
        "  layer_c = Conv1D(256, 1, padding=\"same\")(inputs)\n",
        "  layer = Activation(\"LeakyReLU\")(layer_c)\n",
        "  layer = MaxPooling1D(pool_size = 2)(layer)\n",
        "  #layer = Dropout(0.2)(layer)\n",
        "  layer = Conv1D(128, 1, padding=\"same\")(layer)\n",
        "  layer = BatchNormalization(axis=-1)(layer)\n",
        "  layer = Activation(\"LeakyReLU\")(layer)\n",
        "  layer = MaxPooling1D(pool_size = 2)(layer)\n",
        "  layer = Conv1D(256, 1, padding=\"same\")(layer)\n",
        "  layer = BatchNormalization(axis=-1)(layer)\n",
        "  layer = Activation(\"LeakyReLU\")(layer)\n",
        "  layer = MaxPooling1D(pool_size = 2)(layer)\n",
        "  #layer = Dropout(0.2)(layer)\n",
        "  #layer = Flatten()(layer)\n",
        "  #layer = Dropout(0.2)(layer)\n",
        "  layer = TimeDistributed(Dense(150))(layer)\n",
        "  layer = Reshape((-1,5))(layer)\n",
        "  layer = UpSampling1D(size=15)(layer)\n",
        "  L = tf.cast(tf.reduce_max(inputs_L), tf.int32)\n",
        "  output = layer[:,:L]\n",
        "  model = Model(inputs = (inputs_L,inputs) , outputs=output)\n",
        "  model.compile(loss=\"sparse_categorical_crossentropy\", optimizer=opt, metrics=[\"sparse_categorical_accuracy\"])\n",
        "  history = model.fit(input_variable_train, validation_data=input_variable_valid, batch_size=BS, epochs=NUM_EPOCHS, verbose=1)\n",
        "  # plotting the metrics\n",
        "  plt.subplot(2, 1, 1)\n",
        "  plt.title('Sparse Crossentropy Loss')\n",
        "  plt.plot(history.history['loss'], color='blue', label='train')\n",
        "  plt.plot(history.history['val_loss'], color='orange', label='val')\n",
        "\t# plot accuracy\n",
        "  plt.subplot(2, 1, 2)\n",
        "  plt.title('Classification Accuracy')\n",
        "  plt.plot(history.history['sparse_categorical_accuracy'], color='blue', label='train')\n",
        "  plt.plot(history.history['val_sparse_categorical_accuracy'], color='orange', label='val')\n",
        "  score = model.evaluate(input_variable_test, verbose=0) #evaluate based on test dataset, which was not used for training and validation\n",
        "  return model.summary(), history, print('Loss using testing dataset=', score[0]), print('Accuracy using testing dataset=', score[1]) "
      ],
      "metadata": {
        "id": "D-ltJ6OjNOy3"
      },
      "execution_count": 77,
      "outputs": []
    },
    {
      "cell_type": "markdown",
      "metadata": {
        "id": "uwkokUqVEVOE"
      },
      "source": [
        "#### Run the model"
      ]
    },
    {
      "cell_type": "code",
      "execution_count": 78,
      "metadata": {
        "colab": {
          "base_uri": "https://localhost:8080/",
          "height": 484
        },
        "id": "Nz29sz-UEVXT",
        "outputId": "71cd08d1-f526-4b12-bf2e-9e9b07caa1df"
      },
      "outputs": [
        {
          "output_type": "stream",
          "name": "stdout",
          "text": [
            "Epoch 1/100\n",
            "1250/1250 [==============================] - 148s 117ms/step - loss: 2.3021 - sparse_categorical_accuracy: 0.2493 - val_loss: 1.7733 - val_sparse_categorical_accuracy: 0.2639\n",
            "Epoch 2/100\n",
            "1250/1250 [==============================] - 146s 117ms/step - loss: 1.7716 - sparse_categorical_accuracy: 0.2661 - val_loss: 1.7095 - val_sparse_categorical_accuracy: 0.2758\n",
            "Epoch 3/100\n",
            "1250/1250 [==============================] - 147s 117ms/step - loss: 1.7344 - sparse_categorical_accuracy: 0.2750 - val_loss: 1.6768 - val_sparse_categorical_accuracy: 0.2868\n",
            "Epoch 4/100\n",
            "1250/1250 [==============================] - 145s 116ms/step - loss: 1.6971 - sparse_categorical_accuracy: 0.2837 - val_loss: 1.6538 - val_sparse_categorical_accuracy: 0.2956\n",
            "Epoch 5/100\n",
            " 213/1250 [====>.........................] - ETA: 1:53 - loss: 1.6802 - sparse_categorical_accuracy: 0.2885"
          ]
        },
        {
          "output_type": "error",
          "ename": "KeyboardInterrupt",
          "evalue": "ignored",
          "traceback": [
            "\u001b[0;31m---------------------------------------------------------------------------\u001b[0m",
            "\u001b[0;31mKeyboardInterrupt\u001b[0m                         Traceback (most recent call last)",
            "\u001b[0;32m<ipython-input-78-35b88020d614>\u001b[0m in \u001b[0;36m<module>\u001b[0;34m()\u001b[0m\n\u001b[0;32m----> 1\u001b[0;31m \u001b[0mcnn\u001b[0m\u001b[0;34m=\u001b[0m \u001b[0mcnn_variable_s\u001b[0m\u001b[0;34m(\u001b[0m\u001b[0mopt2\u001b[0m\u001b[0;34m,\u001b[0m \u001b[0minput_variable_train\u001b[0m\u001b[0;34m,\u001b[0m \u001b[0minput_variable_valid\u001b[0m\u001b[0;34m,\u001b[0m\u001b[0minput_variable_test\u001b[0m\u001b[0;34m)\u001b[0m\u001b[0;34m\u001b[0m\u001b[0;34m\u001b[0m\u001b[0m\n\u001b[0m",
            "\u001b[0;32m<ipython-input-77-b5b63889ed2d>\u001b[0m in \u001b[0;36mcnn_variable_s\u001b[0;34m(opt, inputs, input_variable_valid, input_variable_test)\u001b[0m\n\u001b[1;32m     24\u001b[0m   \u001b[0mmodel\u001b[0m \u001b[0;34m=\u001b[0m \u001b[0mModel\u001b[0m\u001b[0;34m(\u001b[0m\u001b[0minputs\u001b[0m \u001b[0;34m=\u001b[0m \u001b[0;34m(\u001b[0m\u001b[0minputs_L\u001b[0m\u001b[0;34m,\u001b[0m\u001b[0minputs\u001b[0m\u001b[0;34m)\u001b[0m \u001b[0;34m,\u001b[0m \u001b[0moutputs\u001b[0m\u001b[0;34m=\u001b[0m\u001b[0moutput\u001b[0m\u001b[0;34m)\u001b[0m\u001b[0;34m\u001b[0m\u001b[0;34m\u001b[0m\u001b[0m\n\u001b[1;32m     25\u001b[0m   \u001b[0mmodel\u001b[0m\u001b[0;34m.\u001b[0m\u001b[0mcompile\u001b[0m\u001b[0;34m(\u001b[0m\u001b[0mloss\u001b[0m\u001b[0;34m=\u001b[0m\u001b[0;34m\"sparse_categorical_crossentropy\"\u001b[0m\u001b[0;34m,\u001b[0m \u001b[0moptimizer\u001b[0m\u001b[0;34m=\u001b[0m\u001b[0mopt\u001b[0m\u001b[0;34m,\u001b[0m \u001b[0mmetrics\u001b[0m\u001b[0;34m=\u001b[0m\u001b[0;34m[\u001b[0m\u001b[0;34m\"sparse_categorical_accuracy\"\u001b[0m\u001b[0;34m]\u001b[0m\u001b[0;34m)\u001b[0m\u001b[0;34m\u001b[0m\u001b[0;34m\u001b[0m\u001b[0m\n\u001b[0;32m---> 26\u001b[0;31m   \u001b[0mhistory\u001b[0m \u001b[0;34m=\u001b[0m \u001b[0mmodel\u001b[0m\u001b[0;34m.\u001b[0m\u001b[0mfit\u001b[0m\u001b[0;34m(\u001b[0m\u001b[0minput_variable_train\u001b[0m\u001b[0;34m,\u001b[0m \u001b[0mvalidation_data\u001b[0m\u001b[0;34m=\u001b[0m\u001b[0minput_variable_valid\u001b[0m\u001b[0;34m,\u001b[0m \u001b[0mbatch_size\u001b[0m\u001b[0;34m=\u001b[0m\u001b[0mBS\u001b[0m\u001b[0;34m,\u001b[0m \u001b[0mepochs\u001b[0m\u001b[0;34m=\u001b[0m\u001b[0mNUM_EPOCHS\u001b[0m\u001b[0;34m,\u001b[0m \u001b[0mverbose\u001b[0m\u001b[0;34m=\u001b[0m\u001b[0;36m1\u001b[0m\u001b[0;34m)\u001b[0m\u001b[0;34m\u001b[0m\u001b[0;34m\u001b[0m\u001b[0m\n\u001b[0m\u001b[1;32m     27\u001b[0m   \u001b[0;31m# plotting the metrics\u001b[0m\u001b[0;34m\u001b[0m\u001b[0;34m\u001b[0m\u001b[0;34m\u001b[0m\u001b[0m\n\u001b[1;32m     28\u001b[0m   \u001b[0mplt\u001b[0m\u001b[0;34m.\u001b[0m\u001b[0msubplot\u001b[0m\u001b[0;34m(\u001b[0m\u001b[0;36m2\u001b[0m\u001b[0;34m,\u001b[0m \u001b[0;36m1\u001b[0m\u001b[0;34m,\u001b[0m \u001b[0;36m1\u001b[0m\u001b[0;34m)\u001b[0m\u001b[0;34m\u001b[0m\u001b[0;34m\u001b[0m\u001b[0m\n",
            "\u001b[0;32m/usr/local/lib/python3.7/dist-packages/keras/utils/traceback_utils.py\u001b[0m in \u001b[0;36merror_handler\u001b[0;34m(*args, **kwargs)\u001b[0m\n\u001b[1;32m     62\u001b[0m     \u001b[0mfiltered_tb\u001b[0m \u001b[0;34m=\u001b[0m \u001b[0;32mNone\u001b[0m\u001b[0;34m\u001b[0m\u001b[0;34m\u001b[0m\u001b[0m\n\u001b[1;32m     63\u001b[0m     \u001b[0;32mtry\u001b[0m\u001b[0;34m:\u001b[0m\u001b[0;34m\u001b[0m\u001b[0;34m\u001b[0m\u001b[0m\n\u001b[0;32m---> 64\u001b[0;31m       \u001b[0;32mreturn\u001b[0m \u001b[0mfn\u001b[0m\u001b[0;34m(\u001b[0m\u001b[0;34m*\u001b[0m\u001b[0margs\u001b[0m\u001b[0;34m,\u001b[0m \u001b[0;34m**\u001b[0m\u001b[0mkwargs\u001b[0m\u001b[0;34m)\u001b[0m\u001b[0;34m\u001b[0m\u001b[0;34m\u001b[0m\u001b[0m\n\u001b[0m\u001b[1;32m     65\u001b[0m     \u001b[0;32mexcept\u001b[0m \u001b[0mException\u001b[0m \u001b[0;32mas\u001b[0m \u001b[0me\u001b[0m\u001b[0;34m:\u001b[0m  \u001b[0;31m# pylint: disable=broad-except\u001b[0m\u001b[0;34m\u001b[0m\u001b[0;34m\u001b[0m\u001b[0m\n\u001b[1;32m     66\u001b[0m       \u001b[0mfiltered_tb\u001b[0m \u001b[0;34m=\u001b[0m \u001b[0m_process_traceback_frames\u001b[0m\u001b[0;34m(\u001b[0m\u001b[0me\u001b[0m\u001b[0;34m.\u001b[0m\u001b[0m__traceback__\u001b[0m\u001b[0;34m)\u001b[0m\u001b[0;34m\u001b[0m\u001b[0;34m\u001b[0m\u001b[0m\n",
            "\u001b[0;32m/usr/local/lib/python3.7/dist-packages/keras/engine/training.py\u001b[0m in \u001b[0;36mfit\u001b[0;34m(self, x, y, batch_size, epochs, verbose, callbacks, validation_split, validation_data, shuffle, class_weight, sample_weight, initial_epoch, steps_per_epoch, validation_steps, validation_batch_size, validation_freq, max_queue_size, workers, use_multiprocessing)\u001b[0m\n\u001b[1;32m   1387\u001b[0m               \u001b[0mlogs\u001b[0m \u001b[0;34m=\u001b[0m \u001b[0mtmp_logs\u001b[0m  \u001b[0;31m# No error, now safe to assign to logs.\u001b[0m\u001b[0;34m\u001b[0m\u001b[0;34m\u001b[0m\u001b[0m\n\u001b[1;32m   1388\u001b[0m               \u001b[0mend_step\u001b[0m \u001b[0;34m=\u001b[0m \u001b[0mstep\u001b[0m \u001b[0;34m+\u001b[0m \u001b[0mdata_handler\u001b[0m\u001b[0;34m.\u001b[0m\u001b[0mstep_increment\u001b[0m\u001b[0;34m\u001b[0m\u001b[0;34m\u001b[0m\u001b[0m\n\u001b[0;32m-> 1389\u001b[0;31m               \u001b[0mcallbacks\u001b[0m\u001b[0;34m.\u001b[0m\u001b[0mon_train_batch_end\u001b[0m\u001b[0;34m(\u001b[0m\u001b[0mend_step\u001b[0m\u001b[0;34m,\u001b[0m \u001b[0mlogs\u001b[0m\u001b[0;34m)\u001b[0m\u001b[0;34m\u001b[0m\u001b[0;34m\u001b[0m\u001b[0m\n\u001b[0m\u001b[1;32m   1390\u001b[0m               \u001b[0;32mif\u001b[0m \u001b[0mself\u001b[0m\u001b[0;34m.\u001b[0m\u001b[0mstop_training\u001b[0m\u001b[0;34m:\u001b[0m\u001b[0;34m\u001b[0m\u001b[0;34m\u001b[0m\u001b[0m\n\u001b[1;32m   1391\u001b[0m                 \u001b[0;32mbreak\u001b[0m\u001b[0;34m\u001b[0m\u001b[0;34m\u001b[0m\u001b[0m\n",
            "\u001b[0;32m/usr/local/lib/python3.7/dist-packages/keras/callbacks.py\u001b[0m in \u001b[0;36mon_train_batch_end\u001b[0;34m(self, batch, logs)\u001b[0m\n\u001b[1;32m    436\u001b[0m     \"\"\"\n\u001b[1;32m    437\u001b[0m     \u001b[0;32mif\u001b[0m \u001b[0mself\u001b[0m\u001b[0;34m.\u001b[0m\u001b[0m_should_call_train_batch_hooks\u001b[0m\u001b[0;34m:\u001b[0m\u001b[0;34m\u001b[0m\u001b[0;34m\u001b[0m\u001b[0m\n\u001b[0;32m--> 438\u001b[0;31m       \u001b[0mself\u001b[0m\u001b[0;34m.\u001b[0m\u001b[0m_call_batch_hook\u001b[0m\u001b[0;34m(\u001b[0m\u001b[0mModeKeys\u001b[0m\u001b[0;34m.\u001b[0m\u001b[0mTRAIN\u001b[0m\u001b[0;34m,\u001b[0m \u001b[0;34m'end'\u001b[0m\u001b[0;34m,\u001b[0m \u001b[0mbatch\u001b[0m\u001b[0;34m,\u001b[0m \u001b[0mlogs\u001b[0m\u001b[0;34m=\u001b[0m\u001b[0mlogs\u001b[0m\u001b[0;34m)\u001b[0m\u001b[0;34m\u001b[0m\u001b[0;34m\u001b[0m\u001b[0m\n\u001b[0m\u001b[1;32m    439\u001b[0m \u001b[0;34m\u001b[0m\u001b[0m\n\u001b[1;32m    440\u001b[0m   \u001b[0;32mdef\u001b[0m \u001b[0mon_test_batch_begin\u001b[0m\u001b[0;34m(\u001b[0m\u001b[0mself\u001b[0m\u001b[0;34m,\u001b[0m \u001b[0mbatch\u001b[0m\u001b[0;34m,\u001b[0m \u001b[0mlogs\u001b[0m\u001b[0;34m=\u001b[0m\u001b[0;32mNone\u001b[0m\u001b[0;34m)\u001b[0m\u001b[0;34m:\u001b[0m\u001b[0;34m\u001b[0m\u001b[0;34m\u001b[0m\u001b[0m\n",
            "\u001b[0;32m/usr/local/lib/python3.7/dist-packages/keras/callbacks.py\u001b[0m in \u001b[0;36m_call_batch_hook\u001b[0;34m(self, mode, hook, batch, logs)\u001b[0m\n\u001b[1;32m    295\u001b[0m       \u001b[0mself\u001b[0m\u001b[0;34m.\u001b[0m\u001b[0m_call_batch_begin_hook\u001b[0m\u001b[0;34m(\u001b[0m\u001b[0mmode\u001b[0m\u001b[0;34m,\u001b[0m \u001b[0mbatch\u001b[0m\u001b[0;34m,\u001b[0m \u001b[0mlogs\u001b[0m\u001b[0;34m)\u001b[0m\u001b[0;34m\u001b[0m\u001b[0;34m\u001b[0m\u001b[0m\n\u001b[1;32m    296\u001b[0m     \u001b[0;32melif\u001b[0m \u001b[0mhook\u001b[0m \u001b[0;34m==\u001b[0m \u001b[0;34m'end'\u001b[0m\u001b[0;34m:\u001b[0m\u001b[0;34m\u001b[0m\u001b[0;34m\u001b[0m\u001b[0m\n\u001b[0;32m--> 297\u001b[0;31m       \u001b[0mself\u001b[0m\u001b[0;34m.\u001b[0m\u001b[0m_call_batch_end_hook\u001b[0m\u001b[0;34m(\u001b[0m\u001b[0mmode\u001b[0m\u001b[0;34m,\u001b[0m \u001b[0mbatch\u001b[0m\u001b[0;34m,\u001b[0m \u001b[0mlogs\u001b[0m\u001b[0;34m)\u001b[0m\u001b[0;34m\u001b[0m\u001b[0;34m\u001b[0m\u001b[0m\n\u001b[0m\u001b[1;32m    298\u001b[0m     \u001b[0;32melse\u001b[0m\u001b[0;34m:\u001b[0m\u001b[0;34m\u001b[0m\u001b[0;34m\u001b[0m\u001b[0m\n\u001b[1;32m    299\u001b[0m       raise ValueError(\n",
            "\u001b[0;32m/usr/local/lib/python3.7/dist-packages/keras/callbacks.py\u001b[0m in \u001b[0;36m_call_batch_end_hook\u001b[0;34m(self, mode, batch, logs)\u001b[0m\n\u001b[1;32m    316\u001b[0m       \u001b[0mself\u001b[0m\u001b[0;34m.\u001b[0m\u001b[0m_batch_times\u001b[0m\u001b[0;34m.\u001b[0m\u001b[0mappend\u001b[0m\u001b[0;34m(\u001b[0m\u001b[0mbatch_time\u001b[0m\u001b[0;34m)\u001b[0m\u001b[0;34m\u001b[0m\u001b[0;34m\u001b[0m\u001b[0m\n\u001b[1;32m    317\u001b[0m \u001b[0;34m\u001b[0m\u001b[0m\n\u001b[0;32m--> 318\u001b[0;31m     \u001b[0mself\u001b[0m\u001b[0;34m.\u001b[0m\u001b[0m_call_batch_hook_helper\u001b[0m\u001b[0;34m(\u001b[0m\u001b[0mhook_name\u001b[0m\u001b[0;34m,\u001b[0m \u001b[0mbatch\u001b[0m\u001b[0;34m,\u001b[0m \u001b[0mlogs\u001b[0m\u001b[0;34m)\u001b[0m\u001b[0;34m\u001b[0m\u001b[0;34m\u001b[0m\u001b[0m\n\u001b[0m\u001b[1;32m    319\u001b[0m \u001b[0;34m\u001b[0m\u001b[0m\n\u001b[1;32m    320\u001b[0m     \u001b[0;32mif\u001b[0m \u001b[0mlen\u001b[0m\u001b[0;34m(\u001b[0m\u001b[0mself\u001b[0m\u001b[0;34m.\u001b[0m\u001b[0m_batch_times\u001b[0m\u001b[0;34m)\u001b[0m \u001b[0;34m>=\u001b[0m \u001b[0mself\u001b[0m\u001b[0;34m.\u001b[0m\u001b[0m_num_batches_for_timing_check\u001b[0m\u001b[0;34m:\u001b[0m\u001b[0;34m\u001b[0m\u001b[0;34m\u001b[0m\u001b[0m\n",
            "\u001b[0;32m/usr/local/lib/python3.7/dist-packages/keras/callbacks.py\u001b[0m in \u001b[0;36m_call_batch_hook_helper\u001b[0;34m(self, hook_name, batch, logs)\u001b[0m\n\u001b[1;32m    354\u001b[0m     \u001b[0;32mfor\u001b[0m \u001b[0mcallback\u001b[0m \u001b[0;32min\u001b[0m \u001b[0mself\u001b[0m\u001b[0;34m.\u001b[0m\u001b[0mcallbacks\u001b[0m\u001b[0;34m:\u001b[0m\u001b[0;34m\u001b[0m\u001b[0;34m\u001b[0m\u001b[0m\n\u001b[1;32m    355\u001b[0m       \u001b[0mhook\u001b[0m \u001b[0;34m=\u001b[0m \u001b[0mgetattr\u001b[0m\u001b[0;34m(\u001b[0m\u001b[0mcallback\u001b[0m\u001b[0;34m,\u001b[0m \u001b[0mhook_name\u001b[0m\u001b[0;34m)\u001b[0m\u001b[0;34m\u001b[0m\u001b[0;34m\u001b[0m\u001b[0m\n\u001b[0;32m--> 356\u001b[0;31m       \u001b[0mhook\u001b[0m\u001b[0;34m(\u001b[0m\u001b[0mbatch\u001b[0m\u001b[0;34m,\u001b[0m \u001b[0mlogs\u001b[0m\u001b[0;34m)\u001b[0m\u001b[0;34m\u001b[0m\u001b[0;34m\u001b[0m\u001b[0m\n\u001b[0m\u001b[1;32m    357\u001b[0m \u001b[0;34m\u001b[0m\u001b[0m\n\u001b[1;32m    358\u001b[0m     \u001b[0;32mif\u001b[0m \u001b[0mself\u001b[0m\u001b[0;34m.\u001b[0m\u001b[0m_check_timing\u001b[0m\u001b[0;34m:\u001b[0m\u001b[0;34m\u001b[0m\u001b[0;34m\u001b[0m\u001b[0m\n",
            "\u001b[0;32m/usr/local/lib/python3.7/dist-packages/keras/callbacks.py\u001b[0m in \u001b[0;36mon_train_batch_end\u001b[0;34m(self, batch, logs)\u001b[0m\n\u001b[1;32m   1032\u001b[0m \u001b[0;34m\u001b[0m\u001b[0m\n\u001b[1;32m   1033\u001b[0m   \u001b[0;32mdef\u001b[0m \u001b[0mon_train_batch_end\u001b[0m\u001b[0;34m(\u001b[0m\u001b[0mself\u001b[0m\u001b[0;34m,\u001b[0m \u001b[0mbatch\u001b[0m\u001b[0;34m,\u001b[0m \u001b[0mlogs\u001b[0m\u001b[0;34m=\u001b[0m\u001b[0;32mNone\u001b[0m\u001b[0;34m)\u001b[0m\u001b[0;34m:\u001b[0m\u001b[0;34m\u001b[0m\u001b[0;34m\u001b[0m\u001b[0m\n\u001b[0;32m-> 1034\u001b[0;31m     \u001b[0mself\u001b[0m\u001b[0;34m.\u001b[0m\u001b[0m_batch_update_progbar\u001b[0m\u001b[0;34m(\u001b[0m\u001b[0mbatch\u001b[0m\u001b[0;34m,\u001b[0m \u001b[0mlogs\u001b[0m\u001b[0;34m)\u001b[0m\u001b[0;34m\u001b[0m\u001b[0;34m\u001b[0m\u001b[0m\n\u001b[0m\u001b[1;32m   1035\u001b[0m \u001b[0;34m\u001b[0m\u001b[0m\n\u001b[1;32m   1036\u001b[0m   \u001b[0;32mdef\u001b[0m \u001b[0mon_test_batch_end\u001b[0m\u001b[0;34m(\u001b[0m\u001b[0mself\u001b[0m\u001b[0;34m,\u001b[0m \u001b[0mbatch\u001b[0m\u001b[0;34m,\u001b[0m \u001b[0mlogs\u001b[0m\u001b[0;34m=\u001b[0m\u001b[0;32mNone\u001b[0m\u001b[0;34m)\u001b[0m\u001b[0;34m:\u001b[0m\u001b[0;34m\u001b[0m\u001b[0;34m\u001b[0m\u001b[0m\n",
            "\u001b[0;32m/usr/local/lib/python3.7/dist-packages/keras/callbacks.py\u001b[0m in \u001b[0;36m_batch_update_progbar\u001b[0;34m(self, batch, logs)\u001b[0m\n\u001b[1;32m   1104\u001b[0m     \u001b[0;32mif\u001b[0m \u001b[0mself\u001b[0m\u001b[0;34m.\u001b[0m\u001b[0mverbose\u001b[0m \u001b[0;34m==\u001b[0m \u001b[0;36m1\u001b[0m\u001b[0;34m:\u001b[0m\u001b[0;34m\u001b[0m\u001b[0;34m\u001b[0m\u001b[0m\n\u001b[1;32m   1105\u001b[0m       \u001b[0;31m# Only block async when verbose = 1.\u001b[0m\u001b[0;34m\u001b[0m\u001b[0;34m\u001b[0m\u001b[0;34m\u001b[0m\u001b[0m\n\u001b[0;32m-> 1106\u001b[0;31m       \u001b[0mlogs\u001b[0m \u001b[0;34m=\u001b[0m \u001b[0mtf_utils\u001b[0m\u001b[0;34m.\u001b[0m\u001b[0msync_to_numpy_or_python_type\u001b[0m\u001b[0;34m(\u001b[0m\u001b[0mlogs\u001b[0m\u001b[0;34m)\u001b[0m\u001b[0;34m\u001b[0m\u001b[0;34m\u001b[0m\u001b[0m\n\u001b[0m\u001b[1;32m   1107\u001b[0m       \u001b[0mself\u001b[0m\u001b[0;34m.\u001b[0m\u001b[0mprogbar\u001b[0m\u001b[0;34m.\u001b[0m\u001b[0mupdate\u001b[0m\u001b[0;34m(\u001b[0m\u001b[0mself\u001b[0m\u001b[0;34m.\u001b[0m\u001b[0mseen\u001b[0m\u001b[0;34m,\u001b[0m \u001b[0mlist\u001b[0m\u001b[0;34m(\u001b[0m\u001b[0mlogs\u001b[0m\u001b[0;34m.\u001b[0m\u001b[0mitems\u001b[0m\u001b[0;34m(\u001b[0m\u001b[0;34m)\u001b[0m\u001b[0;34m)\u001b[0m\u001b[0;34m,\u001b[0m \u001b[0mfinalize\u001b[0m\u001b[0;34m=\u001b[0m\u001b[0;32mFalse\u001b[0m\u001b[0;34m)\u001b[0m\u001b[0;34m\u001b[0m\u001b[0;34m\u001b[0m\u001b[0m\n\u001b[1;32m   1108\u001b[0m \u001b[0;34m\u001b[0m\u001b[0m\n",
            "\u001b[0;32m/usr/local/lib/python3.7/dist-packages/keras/utils/tf_utils.py\u001b[0m in \u001b[0;36msync_to_numpy_or_python_type\u001b[0;34m(tensors)\u001b[0m\n\u001b[1;32m    561\u001b[0m     \u001b[0;32mreturn\u001b[0m \u001b[0mt\u001b[0m\u001b[0;34m.\u001b[0m\u001b[0mitem\u001b[0m\u001b[0;34m(\u001b[0m\u001b[0;34m)\u001b[0m \u001b[0;32mif\u001b[0m \u001b[0mnp\u001b[0m\u001b[0;34m.\u001b[0m\u001b[0mndim\u001b[0m\u001b[0;34m(\u001b[0m\u001b[0mt\u001b[0m\u001b[0;34m)\u001b[0m \u001b[0;34m==\u001b[0m \u001b[0;36m0\u001b[0m \u001b[0;32melse\u001b[0m \u001b[0mt\u001b[0m\u001b[0;34m\u001b[0m\u001b[0;34m\u001b[0m\u001b[0m\n\u001b[1;32m    562\u001b[0m \u001b[0;34m\u001b[0m\u001b[0m\n\u001b[0;32m--> 563\u001b[0;31m   \u001b[0;32mreturn\u001b[0m \u001b[0mtf\u001b[0m\u001b[0;34m.\u001b[0m\u001b[0mnest\u001b[0m\u001b[0;34m.\u001b[0m\u001b[0mmap_structure\u001b[0m\u001b[0;34m(\u001b[0m\u001b[0m_to_single_numpy_or_python_type\u001b[0m\u001b[0;34m,\u001b[0m \u001b[0mtensors\u001b[0m\u001b[0;34m)\u001b[0m\u001b[0;34m\u001b[0m\u001b[0;34m\u001b[0m\u001b[0m\n\u001b[0m\u001b[1;32m    564\u001b[0m \u001b[0;34m\u001b[0m\u001b[0m\n\u001b[1;32m    565\u001b[0m \u001b[0;34m\u001b[0m\u001b[0m\n",
            "\u001b[0;32m/usr/local/lib/python3.7/dist-packages/tensorflow/python/util/nest.py\u001b[0m in \u001b[0;36mmap_structure\u001b[0;34m(func, *structure, **kwargs)\u001b[0m\n\u001b[1;32m    909\u001b[0m \u001b[0;34m\u001b[0m\u001b[0m\n\u001b[1;32m    910\u001b[0m   \u001b[0mflat_structure\u001b[0m \u001b[0;34m=\u001b[0m \u001b[0;34m(\u001b[0m\u001b[0mflatten\u001b[0m\u001b[0;34m(\u001b[0m\u001b[0ms\u001b[0m\u001b[0;34m,\u001b[0m \u001b[0mexpand_composites\u001b[0m\u001b[0;34m)\u001b[0m \u001b[0;32mfor\u001b[0m \u001b[0ms\u001b[0m \u001b[0;32min\u001b[0m \u001b[0mstructure\u001b[0m\u001b[0;34m)\u001b[0m\u001b[0;34m\u001b[0m\u001b[0;34m\u001b[0m\u001b[0m\n\u001b[0;32m--> 911\u001b[0;31m   \u001b[0mentries\u001b[0m \u001b[0;34m=\u001b[0m \u001b[0mzip\u001b[0m\u001b[0;34m(\u001b[0m\u001b[0;34m*\u001b[0m\u001b[0mflat_structure\u001b[0m\u001b[0;34m)\u001b[0m\u001b[0;34m\u001b[0m\u001b[0;34m\u001b[0m\u001b[0m\n\u001b[0m\u001b[1;32m    912\u001b[0m \u001b[0;34m\u001b[0m\u001b[0m\n\u001b[1;32m    913\u001b[0m   return pack_sequence_as(\n",
            "\u001b[0;31mKeyboardInterrupt\u001b[0m: "
          ]
        }
      ],
      "source": [
        "cnn= cnn_variable_s(opt2, input_variable_train, input_variable_valid,input_variable_test)"
      ]
    },
    {
      "cell_type": "code",
      "source": [
        "inputs = Input(shape=(None,65),name='inputs')\n",
        "inputs_all = Input(shape=[], name='inputs2')\n",
        "inputs_variable=(inputs,inputs_all)\n",
        "inputs_variable[0]"
      ],
      "metadata": {
        "colab": {
          "base_uri": "https://localhost:8080/"
        },
        "id": "EQbfAYyVaK8Q",
        "outputId": "43d5889a-cbeb-4e31-ecd9-aa5dae9f1bbe"
      },
      "execution_count": 67,
      "outputs": [
        {
          "output_type": "execute_result",
          "data": {
            "text/plain": [
              "<KerasTensor: shape=(None, None, 65) dtype=float32 (created by layer 'inputs')>"
            ]
          },
          "metadata": {},
          "execution_count": 67
        }
      ]
    },
    {
      "cell_type": "code",
      "source": [
        "def cnn_variable_s1(opt, inputs, input_variable_valid,input_variable_test):\n",
        "  inputs = Input(shape=(None,65),name='inputs')\n",
        "  inputs_L = Input(shape=[],name='inputs2')\n",
        "  layer_c = Conv1D(256, 1, padding=\"same\")(inputs)\n",
        "  layer = Activation(\"LeakyReLU\")(layer_c)\n",
        "  layer = MaxPooling1D(pool_size = 2)(layer)\n",
        "  #layer = Dropout(0.2)(layer)\n",
        "  layer = Conv1D(128, 1, padding=\"same\")(layer)\n",
        "  layer = BatchNormalization(axis=-1)(layer)\n",
        "  layer = Activation(\"LeakyReLU\")(layer)\n",
        "  layer = MaxPooling1D(pool_size = 2)(layer)\n",
        "  layer = Conv1D(256, 1, padding=\"same\")(layer)\n",
        "  layer = BatchNormalization(axis=-1)(layer)\n",
        "  layer = Activation(\"LeakyReLU\")(layer)\n",
        "  layer = MaxPooling1D(pool_size = 2)(layer)\n",
        "  #layer = Dropout(0.2)(layer)\n",
        "  #layer = Flatten()(layer)\n",
        "  #layer = Dropout(0.2)(layer)\n",
        "  layer = TimeDistributed(Dense(150))(layer)\n",
        "  layer = Reshape((-1,5))(layer)\n",
        "  layer = UpSampling1D(size=15)(layer)\n",
        "  L = tf.cast(tf.reduce_max(inputs_L), tf.int32)\n",
        "  output = layer[:,:L]\n",
        "  model = Model(inputs = (inputs_L,inputs) , outputs=output)\n",
        "  model.compile(loss=\"sparse_categorical_crossentropy\", optimizer=opt, metrics=[\"sparse_categorical_accuracy\"])\n",
        "  history = model.fit(input_variable_train1, validation_data=input_variable_valid1, batch_size=BS, epochs=NUM_EPOCHS, verbose=1)\n",
        "  # plotting the metrics\n",
        "  plt.subplot(2, 1, 1)\n",
        "  plt.title('Sparse Crossentropy Loss')\n",
        "  plt.plot(history.history['loss'], color='blue', label='train')\n",
        "  plt.plot(history.history['val_loss'], color='orange', label='val')\n",
        "\t# plot accuracy\n",
        "  plt.subplot(2, 1, 2)\n",
        "  plt.title('Classification Accuracy')\n",
        "  plt.plot(history.history['sparse_categorical_accuracy'], color='blue', label='train')\n",
        "  plt.plot(history.history['val_sparse_categorical_accuracy'], color='orange', label='val')\n",
        "  score = model.evaluate(input_variable_test1, verbose=0) #evaluate based on test dataset, which was not used for training and validation\n",
        "  return model.summary(), history, print('Loss using testing dataset=', score[0]), print('Accuracy using testing dataset=', score[1]) "
      ],
      "metadata": {
        "id": "vgUMXWQLUczK"
      },
      "execution_count": null,
      "outputs": []
    },
    {
      "cell_type": "code",
      "execution_count": null,
      "metadata": {
        "id": "GI_LrMPcBPHv"
      },
      "outputs": [],
      "source": [
        "cnn2= cnn_variable_s1(opt2, input_variable_train1, input_variable_valid1,input_variable_test1)"
      ]
    },
    {
      "cell_type": "code",
      "source": [
        "def cnn_variable_s2(opt, inputs, input_variable_valid,input_variable_test):\n",
        "  inputs = Input(shape=(None,33),name='inputs')\n",
        "  inputs_L = Input(shape=[],name='inputs2')\n",
        "  layer_c = Conv1D(256, 1, padding=\"same\")(inputs)\n",
        "  layer = Activation(\"LeakyReLU\")(layer_c)\n",
        "  layer = MaxPooling1D(pool_size = 2)(layer)\n",
        "  #layer = Dropout(0.2)(layer)\n",
        "  layer = Conv1D(128, 1, padding=\"same\")(layer)\n",
        "  layer = BatchNormalization(axis=-1)(layer)\n",
        "  layer = Activation(\"LeakyReLU\")(layer)\n",
        "  layer = MaxPooling1D(pool_size = 2)(layer)\n",
        "  layer = Conv1D(256, 1, padding=\"same\")(layer)\n",
        "  layer = BatchNormalization(axis=-1)(layer)\n",
        "  layer = Activation(\"LeakyReLU\")(layer)\n",
        "  layer = MaxPooling1D(pool_size = 2)(layer)\n",
        "  #layer = Dropout(0.2)(layer)\n",
        "  #layer = Flatten()(layer)\n",
        "  #layer = Dropout(0.2)(layer)\n",
        "  layer = TimeDistributed(Dense(150))(layer)\n",
        "  layer = Reshape((-1,5))(layer)\n",
        "  layer = UpSampling1D(size=15)(layer)\n",
        "  L = tf.cast(tf.reduce_max(inputs_L), tf.int32)\n",
        "  output = layer[:,:L]\n",
        "  model = Model(inputs = (inputs_L,inputs) , outputs=output)\n",
        "  model.compile(loss=\"sparse_categorical_crossentropy\", optimizer=opt, metrics=[\"sparse_categorical_accuracy\"])\n",
        "  history = model.fit(input_variable_train2, validation_data=input_variable_valid2, batch_size=BS, epochs=NUM_EPOCHS, verbose=1)\n",
        "  # plotting the metrics\n",
        "  plt.subplot(2, 1, 1)\n",
        "  plt.title('Sparse Crossentropy Loss')\n",
        "  plt.plot(history.history['loss'], color='blue', label='train')\n",
        "  plt.plot(history.history['val_loss'], color='orange', label='val')\n",
        "\t# plot accuracy\n",
        "  plt.subplot(2, 1, 2)\n",
        "  plt.title('Classification Accuracy')\n",
        "  plt.plot(history.history['sparse_categorical_accuracy'], color='blue', label='train')\n",
        "  plt.plot(history.history['val_sparse_categorical_accuracy'], color='orange', label='val')\n",
        "  score = model.evaluate(input_variable_test2, verbose=0) #evaluate based on test dataset, which was not used for training and validation\n",
        "  return model.summary(), history, print('Loss using testing dataset=', score[0]), print('Accuracy using testing dataset=', score[1]) "
      ],
      "metadata": {
        "id": "_aTWA1hKUoDB"
      },
      "execution_count": 75,
      "outputs": []
    },
    {
      "cell_type": "code",
      "source": [
        "cnn3= cnn_variable_s2(opt2, input_variable_train2, input_variable_valid2, input_variable_test2)"
      ],
      "metadata": {
        "colab": {
          "base_uri": "https://localhost:8080/",
          "height": 900
        },
        "id": "h40B8b_WUy_5",
        "outputId": "8cdd3eef-4509-4c6e-cc66-3c914d8beba9"
      },
      "execution_count": 76,
      "outputs": [
        {
          "output_type": "stream",
          "name": "stdout",
          "text": [
            "Epoch 1/100\n",
            "1250/1250 [==============================] - 534s 425ms/step - loss: 2.6270 - sparse_categorical_accuracy: 0.2536 - val_loss: 1.8544 - val_sparse_categorical_accuracy: 0.2783\n",
            "Epoch 2/100\n",
            "1250/1250 [==============================] - 105s 84ms/step - loss: 1.8617 - sparse_categorical_accuracy: 0.2758 - val_loss: 1.7414 - val_sparse_categorical_accuracy: 0.2961\n",
            "Epoch 3/100\n",
            "1250/1250 [==============================] - 107s 86ms/step - loss: 1.7892 - sparse_categorical_accuracy: 0.2890 - val_loss: 1.7203 - val_sparse_categorical_accuracy: 0.3054\n",
            "Epoch 4/100\n",
            "1250/1250 [==============================] - 109s 87ms/step - loss: 1.7406 - sparse_categorical_accuracy: 0.2983 - val_loss: 1.6822 - val_sparse_categorical_accuracy: 0.3118\n",
            "Epoch 5/100\n",
            "1250/1250 [==============================] - 108s 86ms/step - loss: 1.7034 - sparse_categorical_accuracy: 0.3039 - val_loss: 1.6576 - val_sparse_categorical_accuracy: 0.3229\n",
            "Epoch 6/100\n",
            "1250/1250 [==============================] - 108s 86ms/step - loss: 1.6831 - sparse_categorical_accuracy: 0.3080 - val_loss: 1.6399 - val_sparse_categorical_accuracy: 0.3254\n",
            "Epoch 7/100\n",
            "1250/1250 [==============================] - 109s 88ms/step - loss: 1.6719 - sparse_categorical_accuracy: 0.3102 - val_loss: 1.6428 - val_sparse_categorical_accuracy: 0.3267\n",
            "Epoch 8/100\n",
            "1250/1250 [==============================] - 110s 88ms/step - loss: 1.6646 - sparse_categorical_accuracy: 0.3113 - val_loss: 1.6318 - val_sparse_categorical_accuracy: 0.3222\n",
            "Epoch 9/100\n",
            "1250/1250 [==============================] - 108s 87ms/step - loss: 1.6575 - sparse_categorical_accuracy: 0.3123 - val_loss: 1.6182 - val_sparse_categorical_accuracy: 0.3261\n",
            "Epoch 10/100\n",
            "1250/1250 [==============================] - 110s 88ms/step - loss: 1.6410 - sparse_categorical_accuracy: 0.3155 - val_loss: 1.6172 - val_sparse_categorical_accuracy: 0.3247\n",
            "Epoch 11/100\n",
            "1250/1250 [==============================] - 110s 88ms/step - loss: 1.6333 - sparse_categorical_accuracy: 0.3135 - val_loss: 1.6144 - val_sparse_categorical_accuracy: 0.3150\n",
            "Epoch 12/100\n",
            "1250/1250 [==============================] - 108s 87ms/step - loss: 1.6224 - sparse_categorical_accuracy: 0.3123 - val_loss: 1.6056 - val_sparse_categorical_accuracy: 0.3155\n",
            "Epoch 13/100\n",
            "1250/1250 [==============================] - 112s 89ms/step - loss: 1.6200 - sparse_categorical_accuracy: 0.3106 - val_loss: 1.6013 - val_sparse_categorical_accuracy: 0.3224\n",
            "Epoch 14/100\n",
            "1250/1250 [==============================] - 111s 88ms/step - loss: 1.6208 - sparse_categorical_accuracy: 0.3110 - val_loss: 1.6216 - val_sparse_categorical_accuracy: 0.3168\n",
            "Epoch 15/100\n",
            "1250/1250 [==============================] - 109s 87ms/step - loss: 1.6257 - sparse_categorical_accuracy: 0.3079 - val_loss: 1.6088 - val_sparse_categorical_accuracy: 0.3135\n",
            "Epoch 16/100\n",
            "1250/1250 [==============================] - 110s 88ms/step - loss: 1.6182 - sparse_categorical_accuracy: 0.3110 - val_loss: 1.6108 - val_sparse_categorical_accuracy: 0.3171\n",
            "Epoch 17/100\n",
            " 142/1250 [==>...........................] - ETA: 1:33 - loss: 1.6186 - sparse_categorical_accuracy: 0.3119"
          ]
        },
        {
          "output_type": "error",
          "ename": "KeyboardInterrupt",
          "evalue": "ignored",
          "traceback": [
            "\u001b[0;31m---------------------------------------------------------------------------\u001b[0m",
            "\u001b[0;31mKeyboardInterrupt\u001b[0m                         Traceback (most recent call last)",
            "\u001b[0;32m<ipython-input-76-4a8605ae3d2c>\u001b[0m in \u001b[0;36m<module>\u001b[0;34m()\u001b[0m\n\u001b[0;32m----> 1\u001b[0;31m \u001b[0mcnn3\u001b[0m\u001b[0;34m=\u001b[0m \u001b[0mcnn_variable_s2\u001b[0m\u001b[0;34m(\u001b[0m\u001b[0mopt2\u001b[0m\u001b[0;34m,\u001b[0m \u001b[0minput_variable_train2\u001b[0m\u001b[0;34m,\u001b[0m \u001b[0minput_variable_valid2\u001b[0m\u001b[0;34m,\u001b[0m \u001b[0minput_variable_test2\u001b[0m\u001b[0;34m)\u001b[0m\u001b[0;34m\u001b[0m\u001b[0;34m\u001b[0m\u001b[0m\n\u001b[0m",
            "\u001b[0;32m<ipython-input-75-ff121c2ad52d>\u001b[0m in \u001b[0;36mcnn_variable_s2\u001b[0;34m(opt, inputs, input_variable_valid, input_variable_test)\u001b[0m\n\u001b[1;32m     24\u001b[0m   \u001b[0mmodel\u001b[0m \u001b[0;34m=\u001b[0m \u001b[0mModel\u001b[0m\u001b[0;34m(\u001b[0m\u001b[0minputs\u001b[0m \u001b[0;34m=\u001b[0m \u001b[0;34m(\u001b[0m\u001b[0minputs_L\u001b[0m\u001b[0;34m,\u001b[0m\u001b[0minputs\u001b[0m\u001b[0;34m)\u001b[0m \u001b[0;34m,\u001b[0m \u001b[0moutputs\u001b[0m\u001b[0;34m=\u001b[0m\u001b[0moutput\u001b[0m\u001b[0;34m)\u001b[0m\u001b[0;34m\u001b[0m\u001b[0;34m\u001b[0m\u001b[0m\n\u001b[1;32m     25\u001b[0m   \u001b[0mmodel\u001b[0m\u001b[0;34m.\u001b[0m\u001b[0mcompile\u001b[0m\u001b[0;34m(\u001b[0m\u001b[0mloss\u001b[0m\u001b[0;34m=\u001b[0m\u001b[0;34m\"sparse_categorical_crossentropy\"\u001b[0m\u001b[0;34m,\u001b[0m \u001b[0moptimizer\u001b[0m\u001b[0;34m=\u001b[0m\u001b[0mopt\u001b[0m\u001b[0;34m,\u001b[0m \u001b[0mmetrics\u001b[0m\u001b[0;34m=\u001b[0m\u001b[0;34m[\u001b[0m\u001b[0;34m\"sparse_categorical_accuracy\"\u001b[0m\u001b[0;34m]\u001b[0m\u001b[0;34m)\u001b[0m\u001b[0;34m\u001b[0m\u001b[0;34m\u001b[0m\u001b[0m\n\u001b[0;32m---> 26\u001b[0;31m   \u001b[0mhistory\u001b[0m \u001b[0;34m=\u001b[0m \u001b[0mmodel\u001b[0m\u001b[0;34m.\u001b[0m\u001b[0mfit\u001b[0m\u001b[0;34m(\u001b[0m\u001b[0minput_variable_train2\u001b[0m\u001b[0;34m,\u001b[0m \u001b[0mvalidation_data\u001b[0m\u001b[0;34m=\u001b[0m\u001b[0minput_variable_valid2\u001b[0m\u001b[0;34m,\u001b[0m \u001b[0mbatch_size\u001b[0m\u001b[0;34m=\u001b[0m\u001b[0mBS\u001b[0m\u001b[0;34m,\u001b[0m \u001b[0mepochs\u001b[0m\u001b[0;34m=\u001b[0m\u001b[0mNUM_EPOCHS\u001b[0m\u001b[0;34m,\u001b[0m \u001b[0mverbose\u001b[0m\u001b[0;34m=\u001b[0m\u001b[0;36m1\u001b[0m\u001b[0;34m)\u001b[0m\u001b[0;34m\u001b[0m\u001b[0;34m\u001b[0m\u001b[0m\n\u001b[0m\u001b[1;32m     27\u001b[0m   \u001b[0;31m# plotting the metrics\u001b[0m\u001b[0;34m\u001b[0m\u001b[0;34m\u001b[0m\u001b[0;34m\u001b[0m\u001b[0m\n\u001b[1;32m     28\u001b[0m   \u001b[0mplt\u001b[0m\u001b[0;34m.\u001b[0m\u001b[0msubplot\u001b[0m\u001b[0;34m(\u001b[0m\u001b[0;36m2\u001b[0m\u001b[0;34m,\u001b[0m \u001b[0;36m1\u001b[0m\u001b[0;34m,\u001b[0m \u001b[0;36m1\u001b[0m\u001b[0;34m)\u001b[0m\u001b[0;34m\u001b[0m\u001b[0;34m\u001b[0m\u001b[0m\n",
            "\u001b[0;32m/usr/local/lib/python3.7/dist-packages/keras/utils/traceback_utils.py\u001b[0m in \u001b[0;36merror_handler\u001b[0;34m(*args, **kwargs)\u001b[0m\n\u001b[1;32m     62\u001b[0m     \u001b[0mfiltered_tb\u001b[0m \u001b[0;34m=\u001b[0m \u001b[0;32mNone\u001b[0m\u001b[0;34m\u001b[0m\u001b[0;34m\u001b[0m\u001b[0m\n\u001b[1;32m     63\u001b[0m     \u001b[0;32mtry\u001b[0m\u001b[0;34m:\u001b[0m\u001b[0;34m\u001b[0m\u001b[0;34m\u001b[0m\u001b[0m\n\u001b[0;32m---> 64\u001b[0;31m       \u001b[0;32mreturn\u001b[0m \u001b[0mfn\u001b[0m\u001b[0;34m(\u001b[0m\u001b[0;34m*\u001b[0m\u001b[0margs\u001b[0m\u001b[0;34m,\u001b[0m \u001b[0;34m**\u001b[0m\u001b[0mkwargs\u001b[0m\u001b[0;34m)\u001b[0m\u001b[0;34m\u001b[0m\u001b[0;34m\u001b[0m\u001b[0m\n\u001b[0m\u001b[1;32m     65\u001b[0m     \u001b[0;32mexcept\u001b[0m \u001b[0mException\u001b[0m \u001b[0;32mas\u001b[0m \u001b[0me\u001b[0m\u001b[0;34m:\u001b[0m  \u001b[0;31m# pylint: disable=broad-except\u001b[0m\u001b[0;34m\u001b[0m\u001b[0;34m\u001b[0m\u001b[0m\n\u001b[1;32m     66\u001b[0m       \u001b[0mfiltered_tb\u001b[0m \u001b[0;34m=\u001b[0m \u001b[0m_process_traceback_frames\u001b[0m\u001b[0;34m(\u001b[0m\u001b[0me\u001b[0m\u001b[0;34m.\u001b[0m\u001b[0m__traceback__\u001b[0m\u001b[0;34m)\u001b[0m\u001b[0;34m\u001b[0m\u001b[0;34m\u001b[0m\u001b[0m\n",
            "\u001b[0;32m/usr/local/lib/python3.7/dist-packages/keras/engine/training.py\u001b[0m in \u001b[0;36mfit\u001b[0;34m(self, x, y, batch_size, epochs, verbose, callbacks, validation_split, validation_data, shuffle, class_weight, sample_weight, initial_epoch, steps_per_epoch, validation_steps, validation_batch_size, validation_freq, max_queue_size, workers, use_multiprocessing)\u001b[0m\n\u001b[1;32m   1382\u001b[0m                 _r=1):\n\u001b[1;32m   1383\u001b[0m               \u001b[0mcallbacks\u001b[0m\u001b[0;34m.\u001b[0m\u001b[0mon_train_batch_begin\u001b[0m\u001b[0;34m(\u001b[0m\u001b[0mstep\u001b[0m\u001b[0;34m)\u001b[0m\u001b[0;34m\u001b[0m\u001b[0;34m\u001b[0m\u001b[0m\n\u001b[0;32m-> 1384\u001b[0;31m               \u001b[0mtmp_logs\u001b[0m \u001b[0;34m=\u001b[0m \u001b[0mself\u001b[0m\u001b[0;34m.\u001b[0m\u001b[0mtrain_function\u001b[0m\u001b[0;34m(\u001b[0m\u001b[0miterator\u001b[0m\u001b[0;34m)\u001b[0m\u001b[0;34m\u001b[0m\u001b[0;34m\u001b[0m\u001b[0m\n\u001b[0m\u001b[1;32m   1385\u001b[0m               \u001b[0;32mif\u001b[0m \u001b[0mdata_handler\u001b[0m\u001b[0;34m.\u001b[0m\u001b[0mshould_sync\u001b[0m\u001b[0;34m:\u001b[0m\u001b[0;34m\u001b[0m\u001b[0;34m\u001b[0m\u001b[0m\n\u001b[1;32m   1386\u001b[0m                 \u001b[0mcontext\u001b[0m\u001b[0;34m.\u001b[0m\u001b[0masync_wait\u001b[0m\u001b[0;34m(\u001b[0m\u001b[0;34m)\u001b[0m\u001b[0;34m\u001b[0m\u001b[0;34m\u001b[0m\u001b[0m\n",
            "\u001b[0;32m/usr/local/lib/python3.7/dist-packages/tensorflow/python/util/traceback_utils.py\u001b[0m in \u001b[0;36merror_handler\u001b[0;34m(*args, **kwargs)\u001b[0m\n\u001b[1;32m    148\u001b[0m     \u001b[0mfiltered_tb\u001b[0m \u001b[0;34m=\u001b[0m \u001b[0;32mNone\u001b[0m\u001b[0;34m\u001b[0m\u001b[0;34m\u001b[0m\u001b[0m\n\u001b[1;32m    149\u001b[0m     \u001b[0;32mtry\u001b[0m\u001b[0;34m:\u001b[0m\u001b[0;34m\u001b[0m\u001b[0;34m\u001b[0m\u001b[0m\n\u001b[0;32m--> 150\u001b[0;31m       \u001b[0;32mreturn\u001b[0m \u001b[0mfn\u001b[0m\u001b[0;34m(\u001b[0m\u001b[0;34m*\u001b[0m\u001b[0margs\u001b[0m\u001b[0;34m,\u001b[0m \u001b[0;34m**\u001b[0m\u001b[0mkwargs\u001b[0m\u001b[0;34m)\u001b[0m\u001b[0;34m\u001b[0m\u001b[0;34m\u001b[0m\u001b[0m\n\u001b[0m\u001b[1;32m    151\u001b[0m     \u001b[0;32mexcept\u001b[0m \u001b[0mException\u001b[0m \u001b[0;32mas\u001b[0m \u001b[0me\u001b[0m\u001b[0;34m:\u001b[0m\u001b[0;34m\u001b[0m\u001b[0;34m\u001b[0m\u001b[0m\n\u001b[1;32m    152\u001b[0m       \u001b[0mfiltered_tb\u001b[0m \u001b[0;34m=\u001b[0m \u001b[0m_process_traceback_frames\u001b[0m\u001b[0;34m(\u001b[0m\u001b[0me\u001b[0m\u001b[0;34m.\u001b[0m\u001b[0m__traceback__\u001b[0m\u001b[0;34m)\u001b[0m\u001b[0;34m\u001b[0m\u001b[0;34m\u001b[0m\u001b[0m\n",
            "\u001b[0;32m/usr/local/lib/python3.7/dist-packages/tensorflow/python/eager/def_function.py\u001b[0m in \u001b[0;36m__call__\u001b[0;34m(self, *args, **kwds)\u001b[0m\n\u001b[1;32m    913\u001b[0m \u001b[0;34m\u001b[0m\u001b[0m\n\u001b[1;32m    914\u001b[0m       \u001b[0;32mwith\u001b[0m \u001b[0mOptionalXlaContext\u001b[0m\u001b[0;34m(\u001b[0m\u001b[0mself\u001b[0m\u001b[0;34m.\u001b[0m\u001b[0m_jit_compile\u001b[0m\u001b[0;34m)\u001b[0m\u001b[0;34m:\u001b[0m\u001b[0;34m\u001b[0m\u001b[0;34m\u001b[0m\u001b[0m\n\u001b[0;32m--> 915\u001b[0;31m         \u001b[0mresult\u001b[0m \u001b[0;34m=\u001b[0m \u001b[0mself\u001b[0m\u001b[0;34m.\u001b[0m\u001b[0m_call\u001b[0m\u001b[0;34m(\u001b[0m\u001b[0;34m*\u001b[0m\u001b[0margs\u001b[0m\u001b[0;34m,\u001b[0m \u001b[0;34m**\u001b[0m\u001b[0mkwds\u001b[0m\u001b[0;34m)\u001b[0m\u001b[0;34m\u001b[0m\u001b[0;34m\u001b[0m\u001b[0m\n\u001b[0m\u001b[1;32m    916\u001b[0m \u001b[0;34m\u001b[0m\u001b[0m\n\u001b[1;32m    917\u001b[0m       \u001b[0mnew_tracing_count\u001b[0m \u001b[0;34m=\u001b[0m \u001b[0mself\u001b[0m\u001b[0;34m.\u001b[0m\u001b[0mexperimental_get_tracing_count\u001b[0m\u001b[0;34m(\u001b[0m\u001b[0;34m)\u001b[0m\u001b[0;34m\u001b[0m\u001b[0;34m\u001b[0m\u001b[0m\n",
            "\u001b[0;32m/usr/local/lib/python3.7/dist-packages/tensorflow/python/eager/def_function.py\u001b[0m in \u001b[0;36m_call\u001b[0;34m(self, *args, **kwds)\u001b[0m\n\u001b[1;32m    945\u001b[0m       \u001b[0;31m# In this case we have created variables on the first call, so we run the\u001b[0m\u001b[0;34m\u001b[0m\u001b[0;34m\u001b[0m\u001b[0;34m\u001b[0m\u001b[0m\n\u001b[1;32m    946\u001b[0m       \u001b[0;31m# defunned version which is guaranteed to never create variables.\u001b[0m\u001b[0;34m\u001b[0m\u001b[0;34m\u001b[0m\u001b[0;34m\u001b[0m\u001b[0m\n\u001b[0;32m--> 947\u001b[0;31m       \u001b[0;32mreturn\u001b[0m \u001b[0mself\u001b[0m\u001b[0;34m.\u001b[0m\u001b[0m_stateless_fn\u001b[0m\u001b[0;34m(\u001b[0m\u001b[0;34m*\u001b[0m\u001b[0margs\u001b[0m\u001b[0;34m,\u001b[0m \u001b[0;34m**\u001b[0m\u001b[0mkwds\u001b[0m\u001b[0;34m)\u001b[0m  \u001b[0;31m# pylint: disable=not-callable\u001b[0m\u001b[0;34m\u001b[0m\u001b[0;34m\u001b[0m\u001b[0m\n\u001b[0m\u001b[1;32m    948\u001b[0m     \u001b[0;32melif\u001b[0m \u001b[0mself\u001b[0m\u001b[0;34m.\u001b[0m\u001b[0m_stateful_fn\u001b[0m \u001b[0;32mis\u001b[0m \u001b[0;32mnot\u001b[0m \u001b[0;32mNone\u001b[0m\u001b[0;34m:\u001b[0m\u001b[0;34m\u001b[0m\u001b[0;34m\u001b[0m\u001b[0m\n\u001b[1;32m    949\u001b[0m       \u001b[0;31m# Release the lock early so that multiple threads can perform the call\u001b[0m\u001b[0;34m\u001b[0m\u001b[0;34m\u001b[0m\u001b[0;34m\u001b[0m\u001b[0m\n",
            "\u001b[0;32m/usr/local/lib/python3.7/dist-packages/tensorflow/python/eager/function.py\u001b[0m in \u001b[0;36m__call__\u001b[0;34m(self, *args, **kwargs)\u001b[0m\n\u001b[1;32m   2955\u001b[0m        filtered_flat_args) = self._maybe_define_function(args, kwargs)\n\u001b[1;32m   2956\u001b[0m     return graph_function._call_flat(\n\u001b[0;32m-> 2957\u001b[0;31m         filtered_flat_args, captured_inputs=graph_function.captured_inputs)  # pylint: disable=protected-access\n\u001b[0m\u001b[1;32m   2958\u001b[0m \u001b[0;34m\u001b[0m\u001b[0m\n\u001b[1;32m   2959\u001b[0m   \u001b[0;34m@\u001b[0m\u001b[0mproperty\u001b[0m\u001b[0;34m\u001b[0m\u001b[0;34m\u001b[0m\u001b[0m\n",
            "\u001b[0;32m/usr/local/lib/python3.7/dist-packages/tensorflow/python/eager/function.py\u001b[0m in \u001b[0;36m_call_flat\u001b[0;34m(self, args, captured_inputs, cancellation_manager)\u001b[0m\n\u001b[1;32m   1852\u001b[0m       \u001b[0;31m# No tape is watching; skip to running the function.\u001b[0m\u001b[0;34m\u001b[0m\u001b[0;34m\u001b[0m\u001b[0;34m\u001b[0m\u001b[0m\n\u001b[1;32m   1853\u001b[0m       return self._build_call_outputs(self._inference_function.call(\n\u001b[0;32m-> 1854\u001b[0;31m           ctx, args, cancellation_manager=cancellation_manager))\n\u001b[0m\u001b[1;32m   1855\u001b[0m     forward_backward = self._select_forward_and_backward_functions(\n\u001b[1;32m   1856\u001b[0m         \u001b[0margs\u001b[0m\u001b[0;34m,\u001b[0m\u001b[0;34m\u001b[0m\u001b[0;34m\u001b[0m\u001b[0m\n",
            "\u001b[0;32m/usr/local/lib/python3.7/dist-packages/tensorflow/python/eager/function.py\u001b[0m in \u001b[0;36mcall\u001b[0;34m(self, ctx, args, cancellation_manager)\u001b[0m\n\u001b[1;32m    502\u001b[0m               \u001b[0minputs\u001b[0m\u001b[0;34m=\u001b[0m\u001b[0margs\u001b[0m\u001b[0;34m,\u001b[0m\u001b[0;34m\u001b[0m\u001b[0;34m\u001b[0m\u001b[0m\n\u001b[1;32m    503\u001b[0m               \u001b[0mattrs\u001b[0m\u001b[0;34m=\u001b[0m\u001b[0mattrs\u001b[0m\u001b[0;34m,\u001b[0m\u001b[0;34m\u001b[0m\u001b[0;34m\u001b[0m\u001b[0m\n\u001b[0;32m--> 504\u001b[0;31m               ctx=ctx)\n\u001b[0m\u001b[1;32m    505\u001b[0m         \u001b[0;32melse\u001b[0m\u001b[0;34m:\u001b[0m\u001b[0;34m\u001b[0m\u001b[0;34m\u001b[0m\u001b[0m\n\u001b[1;32m    506\u001b[0m           outputs = execute.execute_with_cancellation(\n",
            "\u001b[0;32m/usr/local/lib/python3.7/dist-packages/tensorflow/python/eager/execute.py\u001b[0m in \u001b[0;36mquick_execute\u001b[0;34m(op_name, num_outputs, inputs, attrs, ctx, name)\u001b[0m\n\u001b[1;32m     53\u001b[0m     \u001b[0mctx\u001b[0m\u001b[0;34m.\u001b[0m\u001b[0mensure_initialized\u001b[0m\u001b[0;34m(\u001b[0m\u001b[0;34m)\u001b[0m\u001b[0;34m\u001b[0m\u001b[0;34m\u001b[0m\u001b[0m\n\u001b[1;32m     54\u001b[0m     tensors = pywrap_tfe.TFE_Py_Execute(ctx._handle, device_name, op_name,\n\u001b[0;32m---> 55\u001b[0;31m                                         inputs, attrs, num_outputs)\n\u001b[0m\u001b[1;32m     56\u001b[0m   \u001b[0;32mexcept\u001b[0m \u001b[0mcore\u001b[0m\u001b[0;34m.\u001b[0m\u001b[0m_NotOkStatusException\u001b[0m \u001b[0;32mas\u001b[0m \u001b[0me\u001b[0m\u001b[0;34m:\u001b[0m\u001b[0;34m\u001b[0m\u001b[0;34m\u001b[0m\u001b[0m\n\u001b[1;32m     57\u001b[0m     \u001b[0;32mif\u001b[0m \u001b[0mname\u001b[0m \u001b[0;32mis\u001b[0m \u001b[0;32mnot\u001b[0m \u001b[0;32mNone\u001b[0m\u001b[0;34m:\u001b[0m\u001b[0;34m\u001b[0m\u001b[0;34m\u001b[0m\u001b[0m\n",
            "\u001b[0;31mKeyboardInterrupt\u001b[0m: "
          ]
        }
      ]
    },
    {
      "cell_type": "code",
      "source": [
        "def cnn_variable_s22(opt, inputs, input_variable_valid,input_variable_test):\n",
        "  inputs = Input(shape=(None,33),name='inputs')\n",
        "  inputs_L = Input(shape=[],name='inputs2')\n",
        "  layer_c = Conv1D(1024, 1, padding=\"same\")(inputs)\n",
        "  layer = BatchNormalization(axis=-1)(layer_c)\n",
        "  layer = TimeDistributed(Activation(\"LeakyReLU\"))(layer)\n",
        "  layer = MaxPooling1D(pool_size = 2)(layer)\n",
        "  #layer = Dropout(0.2)(layer)\n",
        "  #layer = TimeDistributed(Conv1D(512, 1, padding=\"same\"))(layer)\n",
        "  layer = Conv1D(512, 1, padding=\"same\")(layer)\n",
        "  layer = BatchNormalization(axis=-1)(layer)\n",
        "  layer = TimeDistributed(Activation(\"LeakyReLU\"))(layer)\n",
        "  layer = MaxPooling1D(pool_size = 2)(layer)\n",
        "  layer = Conv1D(256, 1, padding=\"same\")(layer)\n",
        "  layer = BatchNormalization(axis=-1)(layer)\n",
        "  layer = TimeDistributed(Activation(\"LeakyReLU\"))(layer)\n",
        "  #layer = MaxPooling1D(pool_size = 2)(layer)\n",
        "  #layer = Dropout(0.2)(layer)\n",
        "  #layer = Flatten()(layer)\n",
        "  #layer = Dropout(0.2)(layer)\n",
        "  layer = TimeDistributed(Dense(150))(layer) #TimeDistributed layer apply the same layer to several inputs. And it produce one output per input to get the result in time\n",
        "  layer = Reshape((-1,5))(layer)\n",
        "  layer = UpSampling1D(size=150)(layer)\n",
        "  L = tf.cast(tf.reduce_max(inputs_L), tf.int32)\n",
        "  output = layer[:,:L]\n",
        "  model = Model(inputs = (inputs_L,inputs) , outputs=output)\n",
        "  model.compile(loss=\"sparse_categorical_crossentropy\", optimizer=opt, metrics=[\"sparse_categorical_accuracy\"])\n",
        "  history = model.fit(input_variable_train2, validation_data=input_variable_valid2, batch_size=BS, epochs=NUM_EPOCHS, verbose=1)\n",
        "  # plotting the metrics\n",
        "  plt.subplot(2, 1, 1)\n",
        "  plt.title('Sparse Crossentropy Loss')\n",
        "  plt.plot(history.history['loss'], color='blue', label='train')\n",
        "  plt.plot(history.history['val_loss'], color='orange', label='val')\n",
        "\t# plot accuracy\n",
        "  plt.subplot(2, 1, 2)\n",
        "  plt.title('Classification Accuracy')\n",
        "  plt.plot(history.history['sparse_categorical_accuracy'], color='blue', label='train')\n",
        "  plt.plot(history.history['val_sparse_categorical_accuracy'], color='orange', label='val')\n",
        "  score = model.evaluate(input_variable_test2, verbose=0) #evaluate based on test dataset, which was not used for training and validation\n",
        "  return model.summary(), history, print('Loss using testing dataset=', score[0]), print('Accuracy using testing dataset=', score[1]) "
      ],
      "metadata": {
        "id": "noOK7idCpP0N"
      },
      "execution_count": 101,
      "outputs": []
    },
    {
      "cell_type": "code",
      "execution_count": 100,
      "metadata": {
        "id": "wO392_iHxuJ8",
        "colab": {
          "base_uri": "https://localhost:8080/",
          "height": 830
        },
        "outputId": "eac6621d-e7b0-447f-cdf1-15d9a59e6eb3"
      },
      "outputs": [
        {
          "output_type": "stream",
          "name": "stdout",
          "text": [
            "Epoch 1/100\n"
          ]
        },
        {
          "output_type": "error",
          "ename": "KeyboardInterrupt",
          "evalue": "ignored",
          "traceback": [
            "\u001b[0;31m---------------------------------------------------------------------------\u001b[0m",
            "\u001b[0;31mInvalidArgumentError\u001b[0m                      Traceback (most recent call last)",
            "\u001b[0;32m/usr/local/lib/python3.7/dist-packages/tensorflow/python/framework/ops.py\u001b[0m in \u001b[0;36mget_attr\u001b[0;34m(self, name)\u001b[0m\n\u001b[1;32m   2689\u001b[0m       \u001b[0;32mwith\u001b[0m \u001b[0mc_api_util\u001b[0m\u001b[0;34m.\u001b[0m\u001b[0mtf_buffer\u001b[0m\u001b[0;34m(\u001b[0m\u001b[0;34m)\u001b[0m \u001b[0;32mas\u001b[0m \u001b[0mbuf\u001b[0m\u001b[0;34m:\u001b[0m\u001b[0;34m\u001b[0m\u001b[0;34m\u001b[0m\u001b[0m\n\u001b[0;32m-> 2690\u001b[0;31m         \u001b[0mpywrap_tf_session\u001b[0m\u001b[0;34m.\u001b[0m\u001b[0mTF_OperationGetAttrValueProto\u001b[0m\u001b[0;34m(\u001b[0m\u001b[0mself\u001b[0m\u001b[0;34m.\u001b[0m\u001b[0m_c_op\u001b[0m\u001b[0;34m,\u001b[0m \u001b[0mname\u001b[0m\u001b[0;34m,\u001b[0m \u001b[0mbuf\u001b[0m\u001b[0;34m)\u001b[0m\u001b[0;34m\u001b[0m\u001b[0;34m\u001b[0m\u001b[0m\n\u001b[0m\u001b[1;32m   2691\u001b[0m         \u001b[0mdata\u001b[0m \u001b[0;34m=\u001b[0m \u001b[0mpywrap_tf_session\u001b[0m\u001b[0;34m.\u001b[0m\u001b[0mTF_GetBuffer\u001b[0m\u001b[0;34m(\u001b[0m\u001b[0mbuf\u001b[0m\u001b[0;34m)\u001b[0m\u001b[0;34m\u001b[0m\u001b[0;34m\u001b[0m\u001b[0m\n",
            "\u001b[0;31mInvalidArgumentError\u001b[0m: Operation 'gradient_tape/model_18/batch_normalization_37/moments/Maximum_1/y' has no attr named '_read_only_resource_inputs'.",
            "\nDuring handling of the above exception, another exception occurred:\n",
            "\u001b[0;31mValueError\u001b[0m                                Traceback (most recent call last)",
            "\u001b[0;32m/usr/local/lib/python3.7/dist-packages/tensorflow/python/framework/auto_control_deps_utils.py\u001b[0m in \u001b[0;36mget_read_write_resource_inputs\u001b[0;34m(op)\u001b[0m\n\u001b[1;32m    104\u001b[0m   \u001b[0;32mtry\u001b[0m\u001b[0;34m:\u001b[0m\u001b[0;34m\u001b[0m\u001b[0;34m\u001b[0m\u001b[0m\n\u001b[0;32m--> 105\u001b[0;31m     \u001b[0mread_only_input_indices\u001b[0m \u001b[0;34m=\u001b[0m \u001b[0mop\u001b[0m\u001b[0;34m.\u001b[0m\u001b[0mget_attr\u001b[0m\u001b[0;34m(\u001b[0m\u001b[0mREAD_ONLY_RESOURCE_INPUTS_ATTR\u001b[0m\u001b[0;34m)\u001b[0m\u001b[0;34m\u001b[0m\u001b[0;34m\u001b[0m\u001b[0m\n\u001b[0m\u001b[1;32m    106\u001b[0m   \u001b[0;32mexcept\u001b[0m \u001b[0mValueError\u001b[0m\u001b[0;34m:\u001b[0m\u001b[0;34m\u001b[0m\u001b[0;34m\u001b[0m\u001b[0m\n",
            "\u001b[0;32m/usr/local/lib/python3.7/dist-packages/tensorflow/python/framework/ops.py\u001b[0m in \u001b[0;36mget_attr\u001b[0;34m(self, name)\u001b[0m\n\u001b[1;32m   2693\u001b[0m       \u001b[0;31m# Convert to ValueError for backwards compatibility.\u001b[0m\u001b[0;34m\u001b[0m\u001b[0;34m\u001b[0m\u001b[0;34m\u001b[0m\u001b[0m\n\u001b[0;32m-> 2694\u001b[0;31m       \u001b[0;32mraise\u001b[0m \u001b[0mValueError\u001b[0m\u001b[0;34m(\u001b[0m\u001b[0me\u001b[0m\u001b[0;34m.\u001b[0m\u001b[0mmessage\u001b[0m\u001b[0;34m)\u001b[0m\u001b[0;34m\u001b[0m\u001b[0;34m\u001b[0m\u001b[0m\n\u001b[0m\u001b[1;32m   2695\u001b[0m     \u001b[0mx\u001b[0m \u001b[0;34m=\u001b[0m \u001b[0mattr_value_pb2\u001b[0m\u001b[0;34m.\u001b[0m\u001b[0mAttrValue\u001b[0m\u001b[0;34m(\u001b[0m\u001b[0;34m)\u001b[0m\u001b[0;34m\u001b[0m\u001b[0;34m\u001b[0m\u001b[0m\n",
            "\u001b[0;31mValueError\u001b[0m: Operation 'gradient_tape/model_18/batch_normalization_37/moments/Maximum_1/y' has no attr named '_read_only_resource_inputs'.",
            "\nDuring handling of the above exception, another exception occurred:\n",
            "\u001b[0;31mKeyboardInterrupt\u001b[0m                         Traceback (most recent call last)",
            "\u001b[0;32m/usr/local/lib/python3.7/dist-packages/zmq/backend/cython/checkrc.pxd\u001b[0m in \u001b[0;36mzmq.backend.cython.checkrc._check_rc\u001b[0;34m()\u001b[0m\n",
            "\u001b[0;31mKeyboardInterrupt\u001b[0m: "
          ]
        },
        {
          "output_type": "stream",
          "name": "stderr",
          "text": [
            "Exception ignored in: 'zmq.backend.cython.message.Frame.__dealloc__'\n",
            "Traceback (most recent call last):\n",
            "  File \"zmq/backend/cython/checkrc.pxd\", line 13, in zmq.backend.cython.checkrc._check_rc\n",
            "KeyboardInterrupt: \n"
          ]
        },
        {
          "output_type": "stream",
          "name": "stdout",
          "text": [
            " 262/1250 [=====>........................] - ETA: 5:09 - loss: 4.4266 - sparse_categorical_accuracy: 0.2287"
          ]
        },
        {
          "output_type": "error",
          "ename": "KeyboardInterrupt",
          "evalue": "ignored",
          "traceback": [
            "\u001b[0;31m---------------------------------------------------------------------------\u001b[0m",
            "\u001b[0;31mKeyboardInterrupt\u001b[0m                         Traceback (most recent call last)",
            "\u001b[0;32m<ipython-input-100-ded7c7714b17>\u001b[0m in \u001b[0;36m<module>\u001b[0;34m()\u001b[0m\n\u001b[0;32m----> 1\u001b[0;31m \u001b[0mcnn22\u001b[0m\u001b[0;34m=\u001b[0m \u001b[0mcnn_variable_s22\u001b[0m\u001b[0;34m(\u001b[0m\u001b[0mopt2\u001b[0m\u001b[0;34m,\u001b[0m \u001b[0minput_variable_train2\u001b[0m\u001b[0;34m,\u001b[0m \u001b[0minput_variable_valid2\u001b[0m\u001b[0;34m,\u001b[0m \u001b[0minput_variable_test2\u001b[0m\u001b[0;34m)\u001b[0m\u001b[0;34m\u001b[0m\u001b[0;34m\u001b[0m\u001b[0m\n\u001b[0m",
            "\u001b[0;32m<ipython-input-99-77c4481e23c1>\u001b[0m in \u001b[0;36mcnn_variable_s22\u001b[0;34m(opt, inputs, input_variable_valid, input_variable_test)\u001b[0m\n\u001b[1;32m     26\u001b[0m   \u001b[0mmodel\u001b[0m \u001b[0;34m=\u001b[0m \u001b[0mModel\u001b[0m\u001b[0;34m(\u001b[0m\u001b[0minputs\u001b[0m \u001b[0;34m=\u001b[0m \u001b[0;34m(\u001b[0m\u001b[0minputs_L\u001b[0m\u001b[0;34m,\u001b[0m\u001b[0minputs\u001b[0m\u001b[0;34m)\u001b[0m \u001b[0;34m,\u001b[0m \u001b[0moutputs\u001b[0m\u001b[0;34m=\u001b[0m\u001b[0moutput\u001b[0m\u001b[0;34m)\u001b[0m\u001b[0;34m\u001b[0m\u001b[0;34m\u001b[0m\u001b[0m\n\u001b[1;32m     27\u001b[0m   \u001b[0mmodel\u001b[0m\u001b[0;34m.\u001b[0m\u001b[0mcompile\u001b[0m\u001b[0;34m(\u001b[0m\u001b[0mloss\u001b[0m\u001b[0;34m=\u001b[0m\u001b[0;34m\"sparse_categorical_crossentropy\"\u001b[0m\u001b[0;34m,\u001b[0m \u001b[0moptimizer\u001b[0m\u001b[0;34m=\u001b[0m\u001b[0mopt\u001b[0m\u001b[0;34m,\u001b[0m \u001b[0mmetrics\u001b[0m\u001b[0;34m=\u001b[0m\u001b[0;34m[\u001b[0m\u001b[0;34m\"sparse_categorical_accuracy\"\u001b[0m\u001b[0;34m]\u001b[0m\u001b[0;34m)\u001b[0m\u001b[0;34m\u001b[0m\u001b[0;34m\u001b[0m\u001b[0m\n\u001b[0;32m---> 28\u001b[0;31m   \u001b[0mhistory\u001b[0m \u001b[0;34m=\u001b[0m \u001b[0mmodel\u001b[0m\u001b[0;34m.\u001b[0m\u001b[0mfit\u001b[0m\u001b[0;34m(\u001b[0m\u001b[0minput_variable_train2\u001b[0m\u001b[0;34m,\u001b[0m \u001b[0mvalidation_data\u001b[0m\u001b[0;34m=\u001b[0m\u001b[0minput_variable_valid2\u001b[0m\u001b[0;34m,\u001b[0m \u001b[0mbatch_size\u001b[0m\u001b[0;34m=\u001b[0m\u001b[0mBS\u001b[0m\u001b[0;34m,\u001b[0m \u001b[0mepochs\u001b[0m\u001b[0;34m=\u001b[0m\u001b[0mNUM_EPOCHS\u001b[0m\u001b[0;34m,\u001b[0m \u001b[0mverbose\u001b[0m\u001b[0;34m=\u001b[0m\u001b[0;36m1\u001b[0m\u001b[0;34m)\u001b[0m\u001b[0;34m\u001b[0m\u001b[0;34m\u001b[0m\u001b[0m\n\u001b[0m\u001b[1;32m     29\u001b[0m   \u001b[0;31m# plotting the metrics\u001b[0m\u001b[0;34m\u001b[0m\u001b[0;34m\u001b[0m\u001b[0;34m\u001b[0m\u001b[0m\n\u001b[1;32m     30\u001b[0m   \u001b[0mplt\u001b[0m\u001b[0;34m.\u001b[0m\u001b[0msubplot\u001b[0m\u001b[0;34m(\u001b[0m\u001b[0;36m2\u001b[0m\u001b[0;34m,\u001b[0m \u001b[0;36m1\u001b[0m\u001b[0;34m,\u001b[0m \u001b[0;36m1\u001b[0m\u001b[0;34m)\u001b[0m\u001b[0;34m\u001b[0m\u001b[0;34m\u001b[0m\u001b[0m\n",
            "\u001b[0;32m/usr/local/lib/python3.7/dist-packages/keras/utils/traceback_utils.py\u001b[0m in \u001b[0;36merror_handler\u001b[0;34m(*args, **kwargs)\u001b[0m\n\u001b[1;32m     62\u001b[0m     \u001b[0mfiltered_tb\u001b[0m \u001b[0;34m=\u001b[0m \u001b[0;32mNone\u001b[0m\u001b[0;34m\u001b[0m\u001b[0;34m\u001b[0m\u001b[0m\n\u001b[1;32m     63\u001b[0m     \u001b[0;32mtry\u001b[0m\u001b[0;34m:\u001b[0m\u001b[0;34m\u001b[0m\u001b[0;34m\u001b[0m\u001b[0m\n\u001b[0;32m---> 64\u001b[0;31m       \u001b[0;32mreturn\u001b[0m \u001b[0mfn\u001b[0m\u001b[0;34m(\u001b[0m\u001b[0;34m*\u001b[0m\u001b[0margs\u001b[0m\u001b[0;34m,\u001b[0m \u001b[0;34m**\u001b[0m\u001b[0mkwargs\u001b[0m\u001b[0;34m)\u001b[0m\u001b[0;34m\u001b[0m\u001b[0;34m\u001b[0m\u001b[0m\n\u001b[0m\u001b[1;32m     65\u001b[0m     \u001b[0;32mexcept\u001b[0m \u001b[0mException\u001b[0m \u001b[0;32mas\u001b[0m \u001b[0me\u001b[0m\u001b[0;34m:\u001b[0m  \u001b[0;31m# pylint: disable=broad-except\u001b[0m\u001b[0;34m\u001b[0m\u001b[0;34m\u001b[0m\u001b[0m\n\u001b[1;32m     66\u001b[0m       \u001b[0mfiltered_tb\u001b[0m \u001b[0;34m=\u001b[0m \u001b[0m_process_traceback_frames\u001b[0m\u001b[0;34m(\u001b[0m\u001b[0me\u001b[0m\u001b[0;34m.\u001b[0m\u001b[0m__traceback__\u001b[0m\u001b[0;34m)\u001b[0m\u001b[0;34m\u001b[0m\u001b[0;34m\u001b[0m\u001b[0m\n",
            "\u001b[0;32m/usr/local/lib/python3.7/dist-packages/keras/engine/training.py\u001b[0m in \u001b[0;36mfit\u001b[0;34m(self, x, y, batch_size, epochs, verbose, callbacks, validation_split, validation_data, shuffle, class_weight, sample_weight, initial_epoch, steps_per_epoch, validation_steps, validation_batch_size, validation_freq, max_queue_size, workers, use_multiprocessing)\u001b[0m\n\u001b[1;32m   1382\u001b[0m                 _r=1):\n\u001b[1;32m   1383\u001b[0m               \u001b[0mcallbacks\u001b[0m\u001b[0;34m.\u001b[0m\u001b[0mon_train_batch_begin\u001b[0m\u001b[0;34m(\u001b[0m\u001b[0mstep\u001b[0m\u001b[0;34m)\u001b[0m\u001b[0;34m\u001b[0m\u001b[0;34m\u001b[0m\u001b[0m\n\u001b[0;32m-> 1384\u001b[0;31m               \u001b[0mtmp_logs\u001b[0m \u001b[0;34m=\u001b[0m \u001b[0mself\u001b[0m\u001b[0;34m.\u001b[0m\u001b[0mtrain_function\u001b[0m\u001b[0;34m(\u001b[0m\u001b[0miterator\u001b[0m\u001b[0;34m)\u001b[0m\u001b[0;34m\u001b[0m\u001b[0;34m\u001b[0m\u001b[0m\n\u001b[0m\u001b[1;32m   1385\u001b[0m               \u001b[0;32mif\u001b[0m \u001b[0mdata_handler\u001b[0m\u001b[0;34m.\u001b[0m\u001b[0mshould_sync\u001b[0m\u001b[0;34m:\u001b[0m\u001b[0;34m\u001b[0m\u001b[0;34m\u001b[0m\u001b[0m\n\u001b[1;32m   1386\u001b[0m                 \u001b[0mcontext\u001b[0m\u001b[0;34m.\u001b[0m\u001b[0masync_wait\u001b[0m\u001b[0;34m(\u001b[0m\u001b[0;34m)\u001b[0m\u001b[0;34m\u001b[0m\u001b[0;34m\u001b[0m\u001b[0m\n",
            "\u001b[0;32m/usr/local/lib/python3.7/dist-packages/tensorflow/python/util/traceback_utils.py\u001b[0m in \u001b[0;36merror_handler\u001b[0;34m(*args, **kwargs)\u001b[0m\n\u001b[1;32m    148\u001b[0m     \u001b[0mfiltered_tb\u001b[0m \u001b[0;34m=\u001b[0m \u001b[0;32mNone\u001b[0m\u001b[0;34m\u001b[0m\u001b[0;34m\u001b[0m\u001b[0m\n\u001b[1;32m    149\u001b[0m     \u001b[0;32mtry\u001b[0m\u001b[0;34m:\u001b[0m\u001b[0;34m\u001b[0m\u001b[0;34m\u001b[0m\u001b[0m\n\u001b[0;32m--> 150\u001b[0;31m       \u001b[0;32mreturn\u001b[0m \u001b[0mfn\u001b[0m\u001b[0;34m(\u001b[0m\u001b[0;34m*\u001b[0m\u001b[0margs\u001b[0m\u001b[0;34m,\u001b[0m \u001b[0;34m**\u001b[0m\u001b[0mkwargs\u001b[0m\u001b[0;34m)\u001b[0m\u001b[0;34m\u001b[0m\u001b[0;34m\u001b[0m\u001b[0m\n\u001b[0m\u001b[1;32m    151\u001b[0m     \u001b[0;32mexcept\u001b[0m \u001b[0mException\u001b[0m \u001b[0;32mas\u001b[0m \u001b[0me\u001b[0m\u001b[0;34m:\u001b[0m\u001b[0;34m\u001b[0m\u001b[0;34m\u001b[0m\u001b[0m\n\u001b[1;32m    152\u001b[0m       \u001b[0mfiltered_tb\u001b[0m \u001b[0;34m=\u001b[0m \u001b[0m_process_traceback_frames\u001b[0m\u001b[0;34m(\u001b[0m\u001b[0me\u001b[0m\u001b[0;34m.\u001b[0m\u001b[0m__traceback__\u001b[0m\u001b[0;34m)\u001b[0m\u001b[0;34m\u001b[0m\u001b[0;34m\u001b[0m\u001b[0m\n",
            "\u001b[0;32m/usr/local/lib/python3.7/dist-packages/tensorflow/python/eager/def_function.py\u001b[0m in \u001b[0;36m__call__\u001b[0;34m(self, *args, **kwds)\u001b[0m\n\u001b[1;32m    913\u001b[0m \u001b[0;34m\u001b[0m\u001b[0m\n\u001b[1;32m    914\u001b[0m       \u001b[0;32mwith\u001b[0m \u001b[0mOptionalXlaContext\u001b[0m\u001b[0;34m(\u001b[0m\u001b[0mself\u001b[0m\u001b[0;34m.\u001b[0m\u001b[0m_jit_compile\u001b[0m\u001b[0;34m)\u001b[0m\u001b[0;34m:\u001b[0m\u001b[0;34m\u001b[0m\u001b[0;34m\u001b[0m\u001b[0m\n\u001b[0;32m--> 915\u001b[0;31m         \u001b[0mresult\u001b[0m \u001b[0;34m=\u001b[0m \u001b[0mself\u001b[0m\u001b[0;34m.\u001b[0m\u001b[0m_call\u001b[0m\u001b[0;34m(\u001b[0m\u001b[0;34m*\u001b[0m\u001b[0margs\u001b[0m\u001b[0;34m,\u001b[0m \u001b[0;34m**\u001b[0m\u001b[0mkwds\u001b[0m\u001b[0;34m)\u001b[0m\u001b[0;34m\u001b[0m\u001b[0;34m\u001b[0m\u001b[0m\n\u001b[0m\u001b[1;32m    916\u001b[0m \u001b[0;34m\u001b[0m\u001b[0m\n\u001b[1;32m    917\u001b[0m       \u001b[0mnew_tracing_count\u001b[0m \u001b[0;34m=\u001b[0m \u001b[0mself\u001b[0m\u001b[0;34m.\u001b[0m\u001b[0mexperimental_get_tracing_count\u001b[0m\u001b[0;34m(\u001b[0m\u001b[0;34m)\u001b[0m\u001b[0;34m\u001b[0m\u001b[0;34m\u001b[0m\u001b[0m\n",
            "\u001b[0;32m/usr/local/lib/python3.7/dist-packages/tensorflow/python/eager/def_function.py\u001b[0m in \u001b[0;36m_call\u001b[0;34m(self, *args, **kwds)\u001b[0m\n\u001b[1;32m    945\u001b[0m       \u001b[0;31m# In this case we have created variables on the first call, so we run the\u001b[0m\u001b[0;34m\u001b[0m\u001b[0;34m\u001b[0m\u001b[0;34m\u001b[0m\u001b[0m\n\u001b[1;32m    946\u001b[0m       \u001b[0;31m# defunned version which is guaranteed to never create variables.\u001b[0m\u001b[0;34m\u001b[0m\u001b[0;34m\u001b[0m\u001b[0;34m\u001b[0m\u001b[0m\n\u001b[0;32m--> 947\u001b[0;31m       \u001b[0;32mreturn\u001b[0m \u001b[0mself\u001b[0m\u001b[0;34m.\u001b[0m\u001b[0m_stateless_fn\u001b[0m\u001b[0;34m(\u001b[0m\u001b[0;34m*\u001b[0m\u001b[0margs\u001b[0m\u001b[0;34m,\u001b[0m \u001b[0;34m**\u001b[0m\u001b[0mkwds\u001b[0m\u001b[0;34m)\u001b[0m  \u001b[0;31m# pylint: disable=not-callable\u001b[0m\u001b[0;34m\u001b[0m\u001b[0;34m\u001b[0m\u001b[0m\n\u001b[0m\u001b[1;32m    948\u001b[0m     \u001b[0;32melif\u001b[0m \u001b[0mself\u001b[0m\u001b[0;34m.\u001b[0m\u001b[0m_stateful_fn\u001b[0m \u001b[0;32mis\u001b[0m \u001b[0;32mnot\u001b[0m \u001b[0;32mNone\u001b[0m\u001b[0;34m:\u001b[0m\u001b[0;34m\u001b[0m\u001b[0;34m\u001b[0m\u001b[0m\n\u001b[1;32m    949\u001b[0m       \u001b[0;31m# Release the lock early so that multiple threads can perform the call\u001b[0m\u001b[0;34m\u001b[0m\u001b[0;34m\u001b[0m\u001b[0;34m\u001b[0m\u001b[0m\n",
            "\u001b[0;32m/usr/local/lib/python3.7/dist-packages/tensorflow/python/eager/function.py\u001b[0m in \u001b[0;36m__call__\u001b[0;34m(self, *args, **kwargs)\u001b[0m\n\u001b[1;32m   2955\u001b[0m        filtered_flat_args) = self._maybe_define_function(args, kwargs)\n\u001b[1;32m   2956\u001b[0m     return graph_function._call_flat(\n\u001b[0;32m-> 2957\u001b[0;31m         filtered_flat_args, captured_inputs=graph_function.captured_inputs)  # pylint: disable=protected-access\n\u001b[0m\u001b[1;32m   2958\u001b[0m \u001b[0;34m\u001b[0m\u001b[0m\n\u001b[1;32m   2959\u001b[0m   \u001b[0;34m@\u001b[0m\u001b[0mproperty\u001b[0m\u001b[0;34m\u001b[0m\u001b[0;34m\u001b[0m\u001b[0m\n",
            "\u001b[0;32m/usr/local/lib/python3.7/dist-packages/tensorflow/python/eager/function.py\u001b[0m in \u001b[0;36m_call_flat\u001b[0;34m(self, args, captured_inputs, cancellation_manager)\u001b[0m\n\u001b[1;32m   1852\u001b[0m       \u001b[0;31m# No tape is watching; skip to running the function.\u001b[0m\u001b[0;34m\u001b[0m\u001b[0;34m\u001b[0m\u001b[0;34m\u001b[0m\u001b[0m\n\u001b[1;32m   1853\u001b[0m       return self._build_call_outputs(self._inference_function.call(\n\u001b[0;32m-> 1854\u001b[0;31m           ctx, args, cancellation_manager=cancellation_manager))\n\u001b[0m\u001b[1;32m   1855\u001b[0m     forward_backward = self._select_forward_and_backward_functions(\n\u001b[1;32m   1856\u001b[0m         \u001b[0margs\u001b[0m\u001b[0;34m,\u001b[0m\u001b[0;34m\u001b[0m\u001b[0;34m\u001b[0m\u001b[0m\n",
            "\u001b[0;32m/usr/local/lib/python3.7/dist-packages/tensorflow/python/eager/function.py\u001b[0m in \u001b[0;36mcall\u001b[0;34m(self, ctx, args, cancellation_manager)\u001b[0m\n\u001b[1;32m    502\u001b[0m               \u001b[0minputs\u001b[0m\u001b[0;34m=\u001b[0m\u001b[0margs\u001b[0m\u001b[0;34m,\u001b[0m\u001b[0;34m\u001b[0m\u001b[0;34m\u001b[0m\u001b[0m\n\u001b[1;32m    503\u001b[0m               \u001b[0mattrs\u001b[0m\u001b[0;34m=\u001b[0m\u001b[0mattrs\u001b[0m\u001b[0;34m,\u001b[0m\u001b[0;34m\u001b[0m\u001b[0;34m\u001b[0m\u001b[0m\n\u001b[0;32m--> 504\u001b[0;31m               ctx=ctx)\n\u001b[0m\u001b[1;32m    505\u001b[0m         \u001b[0;32melse\u001b[0m\u001b[0;34m:\u001b[0m\u001b[0;34m\u001b[0m\u001b[0;34m\u001b[0m\u001b[0m\n\u001b[1;32m    506\u001b[0m           outputs = execute.execute_with_cancellation(\n",
            "\u001b[0;32m/usr/local/lib/python3.7/dist-packages/tensorflow/python/eager/execute.py\u001b[0m in \u001b[0;36mquick_execute\u001b[0;34m(op_name, num_outputs, inputs, attrs, ctx, name)\u001b[0m\n\u001b[1;32m     53\u001b[0m     \u001b[0mctx\u001b[0m\u001b[0;34m.\u001b[0m\u001b[0mensure_initialized\u001b[0m\u001b[0;34m(\u001b[0m\u001b[0;34m)\u001b[0m\u001b[0;34m\u001b[0m\u001b[0;34m\u001b[0m\u001b[0m\n\u001b[1;32m     54\u001b[0m     tensors = pywrap_tfe.TFE_Py_Execute(ctx._handle, device_name, op_name,\n\u001b[0;32m---> 55\u001b[0;31m                                         inputs, attrs, num_outputs)\n\u001b[0m\u001b[1;32m     56\u001b[0m   \u001b[0;32mexcept\u001b[0m \u001b[0mcore\u001b[0m\u001b[0;34m.\u001b[0m\u001b[0m_NotOkStatusException\u001b[0m \u001b[0;32mas\u001b[0m \u001b[0me\u001b[0m\u001b[0;34m:\u001b[0m\u001b[0;34m\u001b[0m\u001b[0;34m\u001b[0m\u001b[0m\n\u001b[1;32m     57\u001b[0m     \u001b[0;32mif\u001b[0m \u001b[0mname\u001b[0m \u001b[0;32mis\u001b[0m \u001b[0;32mnot\u001b[0m \u001b[0;32mNone\u001b[0m\u001b[0;34m:\u001b[0m\u001b[0;34m\u001b[0m\u001b[0;34m\u001b[0m\u001b[0m\n",
            "\u001b[0;31mKeyboardInterrupt\u001b[0m: "
          ]
        }
      ],
      "source": [
        "cnn22= cnn_variable_s22(opt2, input_variable_train2, input_variable_valid2, input_variable_test2)"
      ]
    },
    {
      "cell_type": "code",
      "execution_count": null,
      "metadata": {
        "id": "ZbDqP07FDOfk"
      },
      "outputs": [],
      "source": [
        ""
      ]
    },
    {
      "cell_type": "markdown",
      "metadata": {
        "id": "M7NHYaNNkHD0"
      },
      "source": [
        "## Transformers"
      ]
    },
    {
      "cell_type": "markdown",
      "metadata": {
        "id": "ZT3T2MfYkKZU"
      },
      "source": [
        ""
      ]
    },
    {
      "cell_type": "code",
      "execution_count": null,
      "metadata": {
        "id": "H6xe7OaokK77"
      },
      "outputs": [],
      "source": [
        ""
      ]
    }
  ],
  "metadata": {
    "colab": {
      "collapsed_sections": [],
      "name": "DeepNeuralNetworks_Migla.ipynb",
      "provenance": [],
      "authorship_tag": "ABX9TyNONLNlusHMG434cJtFNwXl",
      "include_colab_link": true
    },
    "kernelspec": {
      "display_name": "Python 3",
      "name": "python3"
    },
    "language_info": {
      "name": "python"
    }
  },
  "nbformat": 4,
  "nbformat_minor": 0
}