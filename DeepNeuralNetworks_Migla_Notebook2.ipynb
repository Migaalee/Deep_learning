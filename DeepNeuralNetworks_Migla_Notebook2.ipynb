{
  "cells": [
    {
      "cell_type": "markdown",
      "metadata": {
        "id": "view-in-github",
        "colab_type": "text"
      },
      "source": [
        "<a href=\"https://colab.research.google.com/github/Migaalee/Deep_learning/blob/main/DeepNeuralNetworks_Migla_Notebook2.ipynb\" target=\"_parent\"><img src=\"https://colab.research.google.com/assets/colab-badge.svg\" alt=\"Open In Colab\"/></a>"
      ]
    },
    {
      "cell_type": "markdown",
      "metadata": {
        "id": "Lz1I5CMWh54O"
      },
      "source": [
        "# Assignment 2 - ADNE 2022 - Notebook 2\n",
        "\n"
      ]
    },
    {
      "cell_type": "markdown",
      "metadata": {
        "id": "X5yE7_Yeh6VX"
      },
      "source": [
        "## Data pre-processing"
      ]
    },
    {
      "cell_type": "markdown",
      "metadata": {
        "id": "NljEabKQje0t"
      },
      "source": [
        "### Import all required libraries"
      ]
    },
    {
      "cell_type": "code",
      "execution_count": null,
      "metadata": {
        "id": "Bd1Nzs-BjfFE"
      },
      "outputs": [],
      "source": [
        "import glob\n",
        "import numpy as np\n",
        "import tensorflow as tf\n",
        "from google.colab import files\n",
        "import os\n",
        "from pydrive.auth import GoogleAuth\n",
        "from pydrive.drive import GoogleDrive\n",
        "from google.colab import auth\n",
        "from oauth2client.client import GoogleCredentials\n",
        "import matplotlib.pyplot as plt\n",
        "\n",
        "\n",
        "#auth.authenticate_user()\n",
        "#gauth = GoogleAuth()\n",
        "#gauth.credentials = GoogleCredentials.get_application_default()\n",
        "#drive = GoogleDrive(gauth)\n",
        "import numpy as np\n",
        "import pandas as pd\n",
        "from matplotlib import pyplot as plt\n",
        "%matplotlib inline\n",
        "from google.colab import files\n",
        "from google.colab import drive\n",
        "drive.mount('/content/drive')\n",
        "import io\n",
        "from sklearn.preprocessing import StandardScaler\n",
        "from sklearn.model_selection import train_test_split\n",
        "import tensorflow as tf\n",
        "import seaborn as sns\n",
        "from sklearn.metrics import mean_absolute_error\n",
        "sns.set()\n",
        "from tensorflow import keras\n",
        "from datetime import datetime\n",
        "from tensorflow.keras.optimizers import SGD\n",
        "from tensorflow.keras.models import Model, Sequential\n",
        "from keras.constraints import maxnorm\n",
        "from tensorflow.keras.layers import GlobalAveragePooling1D, Input, BatchNormalization, MaxPooling2D, Flatten, Conv2D, Dense, Activation, Dropout, concatenate, Reshape, UpSampling1D, Conv1D, MaxPooling1D\n",
        "from numpy import array\n",
        "from keras.models import Sequential\n",
        "from keras.layers import Dense\n",
        "from keras.layers import LSTM\n",
        "from tensorflow.keras.layers import TimeDistributed,Input, Reshape, UpSampling1D, Conv1D\n",
        "from keras.layers.recurrent import LSTM\n",
        "import os\n",
        "from keras.layers import Embedding\n",
        "import numpy as np\n",
        "import matplotlib.pyplot as plt\n",
        "import tensorflow as tf\n",
        "from tensorflow import keras\n",
        "from tensorflow.keras import layers\n",
        "#auth.authenticate_user()\n",
        "#gauth = GoogleAuth()\n",
        "#gauth.credentials = GoogleCredentials.get_application_default()\n",
        "#drive = GoogleDrive(gauth)\n",
        "from keras.layers import LeakyReLU\n"
      ]
    },
    {
      "cell_type": "code",
      "source": [
        "from keras.layers import Embedding\n",
        "import numpy as np\n",
        "import matplotlib.pyplot as plt\n",
        "import tensorflow as tf\n",
        "from tensorflow import keras\n",
        "from tensorflow.keras import layers"
      ],
      "metadata": {
        "id": "Wq1uD6r3-jnw"
      },
      "execution_count": null,
      "outputs": []
    },
    {
      "cell_type": "markdown",
      "metadata": {
        "id": "XyhCja_7lHYT"
      },
      "source": [
        "### Auxilary functions"
      ]
    },
    {
      "cell_type": "code",
      "execution_count": null,
      "metadata": {
        "id": "mXxLqA3hlHjM"
      },
      "outputs": [],
      "source": [
        "def read_npy(fname):\n",
        "    \"\"\"fname should be a npy file; função auxiliar que vai ser usada pela função 'map' para ler o conteúdo de cada um dos ficheiros do fnames_dataset e criar um novo dataset com estes conteúdos.\"\"\"\n",
        "    fname = fname.decode()\n",
        "    recData = np.load(fname)\n",
        "    return recData.astype(np.float32)\n",
        "\n",
        "def cut_data(x):\n",
        "  N = tf.shape(x)[1]\n",
        "  r = tf.random.uniform(shape=[], maxval = (N - L), dtype = tf.dtypes.int32)\n",
        "  return x[:, N - r - L: N - r]\n",
        "\n",
        "class PositionEmbedding(layers.Layer):\n",
        "    def __init__(self, maxlen, embed_dim):\n",
        "        super(PositionEmbedding, self).__init__()\n",
        "        self.pos_emb = layers.Embedding(input_dim=maxlen, output_dim=embed_dim)\n",
        "\n",
        "    def call(self, x):\n",
        "        maxlen = tf.shape(x)[1]\n",
        "        batchS = tf.shape(x)[0]\n",
        "        positions = tf.range(start=0, limit=maxlen, delta=1)\n",
        "        positions = self.pos_emb(positions)\n",
        "        positions = tf.expand_dims(positions, axis = 0)\n",
        "        positions = tf.repeat(positions, batchS, axis=0)\n",
        "        return x + positions\n",
        "\n",
        "class TransformerBlock(layers.Layer):\n",
        "    def __init__(self, embed_dim, num_heads, ff_dim, rate=0.1):\n",
        "        super(TransformerBlock, self).__init__()\n",
        "        self.att = layers.MultiHeadAttention(num_heads=num_heads, key_dim=embed_dim)\n",
        "        self.ffn = keras.Sequential(\n",
        "            [layers.Dense(ff_dim, activation=\"relu\"), layers.Dense(embed_dim),]\n",
        "        )\n",
        "        self.layernorm1 = layers.LayerNormalization(epsilon=1e-6)\n",
        "        self.layernorm2 = layers.LayerNormalization(epsilon=1e-6)\n",
        "        self.dropout1 = layers.Dropout(rate)\n",
        "        self.dropout2 = layers.Dropout(rate)\n",
        "\n",
        "    def call(self, inputs, training):\n",
        "        attn_output = self.att(inputs, inputs)\n",
        "        attn_output = self.dropout1(attn_output, training=training)\n",
        "        out1 = self.layernorm1(inputs + attn_output)\n",
        "        ffn_output = self.ffn(out1)\n",
        "        ffn_output = self.dropout2(ffn_output, training=training)\n",
        "        return self.layernorm2(out1 + ffn_output)\n",
        "\n",
        "\n",
        "\n",
        "\n",
        "\n"
      ]
    },
    {
      "cell_type": "markdown",
      "metadata": {
        "id": "32iJDeLykfjT"
      },
      "source": [
        "### Import data for training, validation and testing"
      ]
    },
    {
      "cell_type": "code",
      "execution_count": null,
      "metadata": {
        "id": "eivSsME0kxjM"
      },
      "outputs": [],
      "source": [
        "os.chdir(\"/content/drive/MyDrive/adneDataAlunos/\")\n",
        "dir = './'\n",
        "list_train_files = glob.glob(dir + \"trainAlunos/\" + '*.npy')\n",
        "list_valid_files = glob.glob(dir + \"validacaoAlunos/\" + '*.npy')\n",
        "list_test_files = glob.glob(dir + \"testeAlunos/\" + '*.npy')\n",
        "data_train = tf.data.Dataset.from_tensor_slices(list_train_files) #creates a dataset with a separate element for each row of the input tensor, this will be important to put our different examples in separate tensors\n",
        "data_valid = tf.data.Dataset.from_tensor_slices(list_valid_files)\n",
        "data_test = tf.data.Dataset.from_tensor_slices(list_test_files)\n",
        "data_train = data_train.map(lambda x: tf.numpy_function(read_npy, [x], [tf.float32]))\n",
        "data_valid = data_valid.map(lambda x: tf.numpy_function(read_npy, [x], [tf.float32]))\n",
        "data_test = data_test.map(lambda x: tf.numpy_function(read_npy, [x], [tf.float32]))\n",
        "\n"
      ]
    },
    {
      "cell_type": "markdown",
      "metadata": {
        "id": "VTwzFDdKlaqa"
      },
      "source": [
        "### Visualisation of one tensor"
      ]
    },
    {
      "cell_type": "code",
      "execution_count": null,
      "metadata": {
        "id": "VPlFz4-zlgty"
      },
      "outputs": [],
      "source": [
        "it = iter(data_train) #creates an object which can be iterated one element at a time\n",
        "ex = next(it) # returns the next item in an iterator\n",
        "ex\n",
        "#valid: shape=(2, 24002), train: shape=(2, 48000), test: shape=(2, 41325)"
      ]
    },
    {
      "cell_type": "code",
      "execution_count": null,
      "metadata": {
        "id": "QHHNy-6ylvDT"
      },
      "outputs": [],
      "source": [
        "ex[0].shape\n",
        "aux=ex[0]\n",
        "plt.plot(aux[0,:5000]/1000)\n",
        "plt.plot(aux[1,:5000])"
      ]
    },
    {
      "cell_type": "markdown",
      "metadata": {
        "id": "sHZi7L97l0NC"
      },
      "source": [
        "### Segment data into pieces"
      ]
    },
    {
      "cell_type": "code",
      "execution_count": null,
      "metadata": {
        "id": "xmcpJ2e8l0WC"
      },
      "outputs": [],
      "source": [
        "L=2000\n",
        "data_train_cut = data_train.map(cut_data)\n",
        "data_test_cut = data_test.map(cut_data)\n",
        "data_valid_cut = data_valid.map(cut_data)"
      ]
    },
    {
      "cell_type": "markdown",
      "metadata": {
        "id": "z8ABTCB-mVDx"
      },
      "source": [
        "### STFT transformation"
      ]
    },
    {
      "cell_type": "markdown",
      "metadata": {
        "id": "vLH5QmPc7N-r"
      },
      "source": [
        "#### This STFT transformed data (cut into 2000) will be used for FFN"
      ]
    },
    {
      "cell_type": "code",
      "execution_count": 10,
      "metadata": {
        "id": "EQ37417-mVMh"
      },
      "outputs": [],
      "source": [
        "frame_length=256\n",
        "frame_step =32\n",
        "frame_length1=128\n",
        "frame_step1 =32\n",
        "frame_length2=64\n",
        "frame_step2 =32\n",
        "data_train_stft = data_train_cut.map(lambda x: (tf.math.abs(tf.signal.stft(signals = x[0], frame_length = frame_length, frame_step = frame_step)), x[1]))\n",
        "data_test_stft = data_test_cut.map(lambda x: (tf.math.abs(tf.signal.stft(signals = x[0], frame_length = frame_length, frame_step = frame_step)), x[1]))\n",
        "data_valid_stft = data_valid_cut.map(lambda x: (tf.math.abs(tf.signal.stft(signals = x[0], frame_length = frame_length, frame_step = frame_step)), x[1]))\n",
        "data_train_stft1 = data_train_cut.map(lambda x: (tf.math.abs(tf.signal.stft(signals = x[0], frame_length = frame_length1, frame_step = frame_step1)), x[1]))\n",
        "data_test_stft1 = data_test_cut.map(lambda x: (tf.math.abs(tf.signal.stft(signals = x[0], frame_length = frame_length1, frame_step = frame_step1)), x[1]))\n",
        "data_valid_stft1 = data_valid_cut.map(lambda x: (tf.math.abs(tf.signal.stft(signals = x[0], frame_length = frame_length1, frame_step = frame_step1)), x[1]))\n",
        "data_train_stft2 = data_train_cut.map(lambda x: (tf.math.abs(tf.signal.stft(signals = x[0], frame_length = frame_length2, frame_step = frame_step2)), x[1]))\n",
        "data_test_stft2 = data_test_cut.map(lambda x: (tf.math.abs(tf.signal.stft(signals = x[0], frame_length = frame_length2, frame_step = frame_step2)), x[1]))\n",
        "data_valid_stft2 = data_valid_cut.map(lambda x: (tf.math.abs(tf.signal.stft(signals = x[0], frame_length = frame_length2, frame_step = frame_step2)), x[1]))\n",
        "\n",
        "\n",
        "\n",
        "data_train_stft_nonv = data_train.map(lambda x: (tf.math.abs(tf.signal.stft(signals = x[0], frame_length = frame_length2, frame_step = frame_step2)), x[1]))\n",
        "data_test_stft_nonv = data_test.map(lambda x: (tf.math.abs(tf.signal.stft(signals = x[0], frame_length = frame_length2, frame_step = frame_step2)), x[1]))\n",
        "data_valid_stft_nonv = data_valid.map(lambda x: (tf.math.abs(tf.signal.stft(signals = x[0], frame_length = frame_length2, frame_step = frame_step2)), x[1]))"
      ]
    },
    {
      "cell_type": "markdown",
      "metadata": {
        "id": "S7CtVzWl7bjV"
      },
      "source": [
        "####  This STFT transformed data will be used for RNN, CNN, Transformers"
      ]
    },
    {
      "cell_type": "code",
      "execution_count": 11,
      "metadata": {
        "id": "kGT9UfUq623M"
      },
      "outputs": [],
      "source": [
        "data_size_var_train = data_train.map(lambda x: ((tf.shape(x)[1], tf.math.abs(tf.signal.stft(signals = x[0], frame_length = frame_length, frame_step = frame_step))), x[1]))\n",
        "data_size_var_test = data_test.map(lambda x: ((tf.shape(x)[1], tf.math.abs(tf.signal.stft(signals = x[0], frame_length = frame_length, frame_step = frame_step))), x[1]))\n",
        "data_size_var_valid = data_valid.map(lambda x: ((tf.shape(x)[1], tf.math.abs(tf.signal.stft(signals = x[0], frame_length = frame_length, frame_step = frame_step))), x[1]))\n",
        "\n",
        "data_size_var_train1 = data_train.map(lambda x: ((tf.shape(x)[1], tf.math.abs(tf.signal.stft(signals = x[0], frame_length = frame_length1, frame_step = frame_step1))), x[1]))\n",
        "data_size_var_test1 = data_test.map(lambda x: ((tf.shape(x)[1], tf.math.abs(tf.signal.stft(signals = x[0], frame_length = frame_length1, frame_step = frame_step1))), x[1]))\n",
        "data_size_var_valid1 = data_valid.map(lambda x: ((tf.shape(x)[1], tf.math.abs(tf.signal.stft(signals = x[0], frame_length = frame_length1, frame_step = frame_step1))), x[1]))\n",
        "\n",
        "data_size_var_train2 = data_train.map(lambda x: ((tf.shape(x)[1], tf.math.abs(tf.signal.stft(signals = x[0], frame_length = frame_length2, frame_step = frame_step2))), x[1]))\n",
        "data_size_var_test2 = data_test.map(lambda x: ((tf.shape(x)[1], tf.math.abs(tf.signal.stft(signals = x[0], frame_length = frame_length2, frame_step = frame_step2))), x[1]))\n",
        "data_size_var_valid2 = data_valid.map(lambda x: ((tf.shape(x)[1], tf.math.abs(tf.signal.stft(signals = x[0], frame_length = frame_length2, frame_step = frame_step2))), x[1]))"
      ]
    },
    {
      "cell_type": "markdown",
      "metadata": {
        "id": "XMUwWroOmnr5"
      },
      "source": [
        "### Define batch size for segmented data"
      ]
    },
    {
      "cell_type": "code",
      "execution_count": 12,
      "metadata": {
        "id": "lKeGYQUFm1mR"
      },
      "outputs": [],
      "source": [
        "batch_size=2\n",
        "input_train = data_train_stft.batch(batch_size)\n",
        "input_test = data_test_stft.batch(batch_size)\n",
        "input_valid = data_valid_stft.batch(batch_size)\n",
        "\n",
        "input_train1 = data_train_stft1.batch(batch_size)\n",
        "input_test1 = data_test_stft1.batch(batch_size)\n",
        "input_valid1 = data_valid_stft1.batch(batch_size)\n",
        "\n",
        "input_train2 = data_train_stft2.batch(batch_size)\n",
        "input_test2 = data_test_stft2.batch(batch_size)\n",
        "input_valid2 = data_valid_stft2.batch(batch_size)\n",
        "\n",
        "\n",
        "input_train_n = data_train_stft_nonv.batch(batch_size)\n",
        "input_test_n= data_test_stft_nonv.batch(batch_size)\n",
        "input_valid_n = data_valid_stft_nonv.batch(batch_size)\n"
      ]
    },
    {
      "cell_type": "markdown",
      "metadata": {
        "id": "Ib1-ZcIA7n8k"
      },
      "source": [
        "# Define batch size and add padding for variable size data"
      ]
    },
    {
      "cell_type": "code",
      "execution_count": 13,
      "metadata": {
        "id": "uPA-6mw97oGU"
      },
      "outputs": [],
      "source": [
        "batch_size = 2\n",
        "k = 129 #shape of x of input_variable_train\n",
        "k1 = 65\n",
        "k2 = 33\n",
        "\n",
        "input_variable_train = data_size_var_train.padded_batch(batch_size, padded_shapes = (([], tf.TensorShape([None, k])), [None]))\n",
        "input_variable_test = data_size_var_test.padded_batch(batch_size, padded_shapes = (([], tf.TensorShape([None, k])), [None]))\n",
        "input_variable_valid = data_size_var_valid.padded_batch(batch_size, padded_shapes = (([], tf.TensorShape([None, k])), [None]))\n",
        "\n",
        "input_variable_train1 = data_size_var_train1.padded_batch(batch_size, padded_shapes = (([], tf.TensorShape([None, k1])), [None]))\n",
        "input_variable_test1 = data_size_var_test1.padded_batch(batch_size, padded_shapes = (([], tf.TensorShape([None, k1])), [None]))\n",
        "input_variable_valid1 = data_size_var_valid1.padded_batch(batch_size, padded_shapes = (([], tf.TensorShape([None, k1])), [None]))\n",
        "\n",
        "input_variable_train2 = data_size_var_train2.padded_batch(batch_size, padded_shapes = (([], tf.TensorShape([None, k2])), [None]))\n",
        "input_variable_test2 = data_size_var_test2.padded_batch(batch_size, padded_shapes = (([], tf.TensorShape([None, k2])), [None]))\n",
        "input_variable_valid2 = data_size_var_valid2.padded_batch(batch_size, padded_shapes = (([], tf.TensorShape([None, k2])), [None]))\n",
        "\n",
        "\n",
        "\n"
      ]
    },
    {
      "cell_type": "markdown",
      "metadata": {
        "id": "6Xm4o8aZn7DK"
      },
      "source": [
        "### Check input shape for cut data"
      ]
    },
    {
      "cell_type": "code",
      "execution_count": 14,
      "metadata": {
        "colab": {
          "base_uri": "https://localhost:8080/"
        },
        "id": "977tYHXBn__w",
        "outputId": "c13cd205-e161-4f50-ae94-16e0a605d432"
      },
      "outputs": [
        {
          "output_type": "execute_result",
          "data": {
            "text/plain": [
              "(<tf.Tensor: shape=(1499, 33), dtype=float32, numpy=\n",
              " array([[2.0636738e+03, 2.5522839e+03, 2.6418686e+01, ..., 2.1865089e+01,\n",
              "         1.5356467e+01, 4.5193604e+01],\n",
              "        [1.0697292e+03, 9.1138281e+02, 8.7901929e+02, ..., 4.3534233e+01,\n",
              "         5.9799389e+01, 2.9157715e+01],\n",
              "        [4.1605977e+03, 3.2868027e+03, 1.8058660e+03, ..., 9.5098900e+01,\n",
              "         6.0583408e+01, 3.7170166e+01],\n",
              "        ...,\n",
              "        [4.3056631e+03, 2.1212683e+03, 9.9435675e+02, ..., 7.2889389e+01,\n",
              "         3.1945162e+01, 1.2435303e+01],\n",
              "        [2.8414766e+03, 6.4247565e+02, 3.6327698e+03, ..., 7.4961624e+01,\n",
              "         5.9420261e+01, 9.7985840e+00],\n",
              "        [2.4060811e+04, 1.7013295e+04, 4.8234961e+03, ..., 3.9270763e+01,\n",
              "         2.2794537e+01, 1.8216797e+01]], dtype=float32)>,\n",
              " <tf.Tensor: shape=(48000,), dtype=float32, numpy=array([4., 4., 4., ..., 4., 4., 4.], dtype=float32)>)"
            ]
          },
          "metadata": {},
          "execution_count": 14
        }
      ],
      "source": [
        "it1 = iter(data_train_stft_nonv)\n",
        "ex1 = next(it1)\n",
        "ex1 #input_train: shape=(2, 55, 129) data_size_var_train shape=(1493, 129), input_variable_train shape=(2, 1493, 129)\n",
        "# data_size_var_train shape=(1493, 129) data_size_var_train1 shape=(1497, 65) data_size_var_train2 shape=(1499, 33)"
      ]
    },
    {
      "cell_type": "markdown",
      "metadata": {
        "id": "5OaYPeZeoeb4"
      },
      "source": [
        "### Define input shape"
      ]
    },
    {
      "cell_type": "code",
      "execution_count": 15,
      "metadata": {
        "colab": {
          "base_uri": "https://localhost:8080/"
        },
        "id": "K8lUY9lPoelP",
        "outputId": "47b06c3d-1f06-4596-86a0-20e4cf37e111"
      },
      "outputs": [
        {
          "output_type": "stream",
          "name": "stdout",
          "text": [
            "WARNING:tensorflow:From /usr/local/lib/python3.7/dist-packages/tensorflow/python/data/ops/iterator_ops.py:362: Iterator.output_types (from tensorflow.python.data.ops.iterator_ops) is deprecated and will be removed in a future version.\n",
            "Instructions for updating:\n",
            "Use `tf.compat.v1.data.get_output_types(iterator)`.\n",
            "WARNING:tensorflow:From /usr/local/lib/python3.7/dist-packages/tensorflow/python/data/ops/iterator_ops.py:363: Iterator.output_shapes (from tensorflow.python.data.ops.iterator_ops) is deprecated and will be removed in a future version.\n",
            "Instructions for updating:\n",
            "Use `tf.compat.v1.data.get_output_shapes(iterator)`.\n",
            "WARNING:tensorflow:From /usr/local/lib/python3.7/dist-packages/tensorflow/python/data/ops/iterator_ops.py:365: Iterator.output_classes (from tensorflow.python.data.ops.iterator_ops) is deprecated and will be removed in a future version.\n",
            "Instructions for updating:\n",
            "Use `tf.compat.v1.data.get_output_classes(iterator)`.\n",
            "(55, 129)\n"
          ]
        }
      ],
      "source": [
        "itera = tf.compat.v1.data.Iterator.from_structure(tf.compat.v1.data.get_output_types(input_train),\n",
        "                                           tf.compat.v1.data.get_output_shapes(input_train))\n",
        "train_init_op = itera.make_initializer(input_train)\n",
        "\n",
        "features, labels = itera.get_next()\n",
        "sample = itera.get_next()\n",
        "sample\n",
        "input_shape = np.shape((sample)[0])[1:]\n",
        "print(input_shape)"
      ]
    },
    {
      "cell_type": "code",
      "source": [
        "itera1 = tf.compat.v1.data.Iterator.from_structure(tf.compat.v1.data.get_output_types(input_train1),\n",
        "                                           tf.compat.v1.data.get_output_shapes(input_train1))\n",
        "train_init_op1 = itera1.make_initializer(input_train1)\n",
        "\n",
        "features, labels = itera1.get_next()\n",
        "sample1 = itera1.get_next()\n",
        "sample1\n",
        "input_shape1 = np.shape((sample1)[0])[1:]\n",
        "print(input_shape1)"
      ],
      "metadata": {
        "colab": {
          "base_uri": "https://localhost:8080/"
        },
        "id": "qKVsCdsLZqEz",
        "outputId": "dc033a31-9a60-452a-d1cb-e53c10c8e0de"
      },
      "execution_count": 16,
      "outputs": [
        {
          "output_type": "stream",
          "name": "stdout",
          "text": [
            "(59, 65)\n"
          ]
        }
      ]
    },
    {
      "cell_type": "code",
      "source": [
        "itera2 = tf.compat.v1.data.Iterator.from_structure(tf.compat.v1.data.get_output_types(input_train2),\n",
        "                                           tf.compat.v1.data.get_output_shapes(input_train2))\n",
        "train_init_op2 = itera1.make_initializer(input_train2)\n",
        "\n",
        "features, labels = itera2.get_next()\n",
        "sample2 = itera2.get_next()\n",
        "sample2\n",
        "input_shape2 = np.shape((sample2)[0])[1:]\n",
        "print(input_shape2)"
      ],
      "metadata": {
        "colab": {
          "base_uri": "https://localhost:8080/"
        },
        "id": "5qzWhaHsZqQx",
        "outputId": "b702210d-7fdc-4c4d-b08b-3a1552ed34e4"
      },
      "execution_count": 17,
      "outputs": [
        {
          "output_type": "stream",
          "name": "stdout",
          "text": [
            "(61, 33)\n"
          ]
        }
      ]
    },
    {
      "cell_type": "markdown",
      "metadata": {
        "id": "LN0YTX_s6lOO"
      },
      "source": [
        "## Define variable input size"
      ]
    },
    {
      "cell_type": "code",
      "execution_count": 18,
      "metadata": {
        "colab": {
          "base_uri": "https://localhost:8080/"
        },
        "id": "5x3HJNMl6q6P",
        "outputId": "080c2f44-aff8-4e8d-c8b5-d48968576e11"
      },
      "outputs": [
        {
          "output_type": "stream",
          "name": "stdout",
          "text": [
            "(48126,)\n"
          ]
        }
      ],
      "source": [
        "iterat = tf.compat.v1.data.Iterator.from_structure(tf.compat.v1.data.get_output_types(input_variable_train),\n",
        "                                           tf.compat.v1.data.get_output_shapes(input_variable_train))\n",
        "train_init_op2 = iterat.make_initializer(input_variable_train)\n",
        "\n",
        "features2, labels2 = iterat.get_next()\n",
        "sample2 = iterat.get_next()\n",
        "sample2\n",
        "#input_shape2 = np.shape((sample2)[1])[1] #48126\n",
        "#input_shape2 = np.shape((sample2)[1])[0] #2\n",
        "input_shape2 = np.shape((sample2)[1])[1:] #48126\n",
        "print(input_shape2)"
      ]
    },
    {
      "cell_type": "code",
      "execution_count": null,
      "metadata": {
        "id": "K_O50p8Q6rkO"
      },
      "outputs": [],
      "source": [
        ""
      ]
    },
    {
      "cell_type": "markdown",
      "metadata": {
        "id": "jWG4Y0ZAh6dW"
      },
      "source": [
        "## FeedForward Neural network"
      ]
    },
    {
      "cell_type": "markdown",
      "metadata": {
        "id": "SYUbzBEjjnIV"
      },
      "source": [
        "Explain what was tried"
      ]
    },
    {
      "cell_type": "markdown",
      "metadata": {
        "id": "EX09n8nWrGcH"
      },
      "source": [
        "### Defining hyperparameters"
      ]
    },
    {
      "cell_type": "code",
      "execution_count": 19,
      "metadata": {
        "id": "v8zJjQ1KrGwN"
      },
      "outputs": [],
      "source": [
        "NUM_EPOCHS = 100 #Increase epochs if you do not see a flatlined loss function\n",
        "#Add batch normalization\n",
        "INIT_LR  = 0.0001 #change to 0.001 after\n",
        "BS = 32 #batch size\n",
        "opt= SGD(learning_rate=INIT_LR, momentum=0.9, decay=INIT_LR / NUM_EPOCHS)\n",
        "opt2 = tf.optimizers.Adam(learning_rate = INIT_LR)\n",
        "from keras.callbacks import EarlyStopping  \n",
        "early_stopping =EarlyStopping(monitor='loss', patience=2) "
      ]
    },
    {
      "cell_type": "markdown",
      "metadata": {
        "id": "VRjNRTMErMa1"
      },
      "source": [
        "### Model"
      ]
    },
    {
      "cell_type": "code",
      "source": [
        "def feedforward_yes_upsampling_dense2(opt, input_train, input_valid, input_test):\n",
        "    model = Sequential() #object of sequencial class\n",
        "    model.add(Flatten(input_shape=input_shape2)) #we define the input shape, check shape after stft transformation\n",
        "    model.add(LeakyReLU(alpha=0.1))\n",
        "    model.add(Dense(1024))\n",
        "    model.add(BatchNormalization())\n",
        "    model.add(LeakyReLU(alpha=0.1))\n",
        "    model.add(Dense(512))\n",
        "    #model.add(BatchNormalization())\n",
        "    model.add(LeakyReLU(alpha=0.1))\n",
        "    model.add(Dense(256))\n",
        "    #model.add(BatchNormalization())\n",
        "    model.add(LeakyReLU(alpha=0.1))\n",
        "    model.add(Dense(128)) \n",
        "    #model.add(BatchNormalization())\n",
        "    model.add(LeakyReLU(alpha=0.1))\n",
        "   # model.add(Dense(256)) #removed this\n",
        "   # model.add(BatchNormalization())\n",
        "   # model.add(LeakyReLU(alpha=0.1))\n",
        "    #model.add(Dense(64)) \n",
        "    #model.add(BatchNormalization())\n",
        "    #model.add(LeakyReLU(alpha=0.1))\n",
        "    model.add(BatchNormalization()) # standardizes the inputs to a layer for each mini-batch. This has the effect of stabilizing the learning process and dramatically reducing the number of training epochs required to train deep networks\n",
        "    #output layer\n",
        "    model.add(Dense(100)) #because we have 4 y outputs, but also because it does not start at 0, we should reshape here to have an output of 10000 (2000x5)\n",
        "    model.add(Activation(\"softmax\"))\n",
        "\n",
        "    model.add(Reshape((20, 5))) #output is all cut data (segment size) and target numbers\n",
        "    model.add(UpSampling1D(100)) #tried 100 instead\n",
        "\n",
        "    model.compile(loss=\"sparse_categorical_crossentropy\", optimizer=opt, metrics=['sparse_categorical_accuracy']) #multiclass classification problems, categorical crossentropy loss is the loss function of choice.\n",
        "\n",
        "    history = model.fit(input_train, validation_data=input_valid,\n",
        "                    batch_size=BS, \n",
        "                    epochs=NUM_EPOCHS, callbacks=[early_stopping])\n",
        "    # plotting the metrics\n",
        "    plt.subplot(2, 1, 1)\n",
        "    plt.title('Sparse Crossentropy Loss')\n",
        "    plt.plot(history.history['loss'], color='blue', label='train')\n",
        "    plt.plot(history.history['val_loss'], color='orange', label='val')\n",
        "\t\t# plot accuracy\n",
        "    plt.subplot(2, 1, 2)\n",
        "    plt.title('Classification Accuracy')\n",
        "    plt.plot(history.history['sparse_categorical_accuracy'], color='blue', label='train')\n",
        "    plt.plot(history.history['val_sparse_categorical_accuracy'], color='orange', label='val')\n",
        "    score = model.evaluate(input_test, verbose=0) #evaluate based on test dataset, which was not used for training and validation\n",
        "    return model.summary(), history, print('Loss using testing dataset=', score[0]), print('Accuracy using testing dataset=', score[1]) "
      ],
      "metadata": {
        "id": "8s2G-4GjIqUW"
      },
      "execution_count": null,
      "outputs": []
    },
    {
      "cell_type": "markdown",
      "metadata": {
        "id": "M5YB7aNcrRVO"
      },
      "source": [
        "### Running the model"
      ]
    },
    {
      "cell_type": "code",
      "source": [
        "ffn1=feedforward_yes_upsampling_dense(opt2, input_train, input_valid, input_test)"
      ],
      "metadata": {
        "id": "eF0yIGnZK6Ac"
      },
      "execution_count": null,
      "outputs": []
    },
    {
      "cell_type": "code",
      "source": [
        "def feedforward_yes_upsampling_dense(opt, input_train, input_valid, input_test):\n",
        "    model = Sequential() #object of sequencial class\n",
        "    model.add(Flatten(input_shape=input_shape)) #we define the input shape, check shape after stft transformation\n",
        "    model.add(LeakyReLU(alpha=0.1))\n",
        "    model.add(Dense(1024))\n",
        "    model.add(BatchNormalization())\n",
        "    model.add(LeakyReLU(alpha=0.1))\n",
        "    model.add(Dense(512))\n",
        "    #model.add(BatchNormalization())\n",
        "    model.add(LeakyReLU(alpha=0.1))\n",
        "    model.add(Dense(256))\n",
        "    #model.add(BatchNormalization())\n",
        "    model.add(LeakyReLU(alpha=0.1))\n",
        "    model.add(Dense(128)) \n",
        "    #model.add(BatchNormalization())\n",
        "    model.add(LeakyReLU(alpha=0.1))\n",
        "   # model.add(Dense(256)) #removed this\n",
        "   # model.add(BatchNormalization())\n",
        "   # model.add(LeakyReLU(alpha=0.1))\n",
        "    #model.add(Dense(64)) \n",
        "    #model.add(BatchNormalization())\n",
        "    #model.add(LeakyReLU(alpha=0.1))\n",
        "    model.add(BatchNormalization()) # standardizes the inputs to a layer for each mini-batch. This has the effect of stabilizing the learning process and dramatically reducing the number of training epochs required to train deep networks\n",
        "    #output layer\n",
        "    model.add(Dense(100)) #because we have 4 y outputs, but also because it does not start at 0, we should reshape here to have an output of 10000 (2000x5)\n",
        "    model.add(Activation(\"softmax\"))\n",
        "\n",
        "    model.add(Reshape((20, 5))) #output is all cut data (segment size) and target numbers\n",
        "    model.add(UpSampling1D(100)) #tried 100 instead\n",
        "\n",
        "    model.compile(loss=\"sparse_categorical_crossentropy\", optimizer=opt, metrics=['sparse_categorical_accuracy']) #multiclass classification problems, categorical crossentropy loss is the loss function of choice.\n",
        "\n",
        "    history = model.fit(input_train, validation_data=input_valid,\n",
        "                    batch_size=BS, \n",
        "                    epochs=NUM_EPOCHS, callbacks=[early_stopping])\n",
        "    # plotting the metrics\n",
        "    plt.subplot(2, 1, 1)\n",
        "    plt.title('Sparse Crossentropy Loss')\n",
        "    plt.plot(history.history['loss'], color='blue', label='train')\n",
        "    plt.plot(history.history['val_loss'], color='orange', label='val')\n",
        "\t\t# plot accuracy\n",
        "    plt.subplot(2, 1, 2)\n",
        "    plt.title('Classification Accuracy')\n",
        "    plt.plot(history.history['sparse_categorical_accuracy'], color='blue', label='train')\n",
        "    plt.plot(history.history['val_sparse_categorical_accuracy'], color='orange', label='val')\n",
        "    score = model.evaluate(input_test, verbose=0) #evaluate based on test dataset, which was not used for training and validation\n",
        "    return model.summary(), history, print('Loss using testing dataset=', score[0]), print('Accuracy using testing dataset=', score[1]) "
      ],
      "metadata": {
        "id": "9R9Lbu8NaDEq"
      },
      "execution_count": 52,
      "outputs": []
    },
    {
      "cell_type": "code",
      "source": [
        "NUM_EPOCHS = 100 #Increase epochs if you do not see a flatlined loss function\n",
        "#Add batch normalization\n",
        "INIT_LR  = 0.0001 #change to 0.001 after\n",
        "BS = 32 #batch size\n",
        "opt= SGD(learning_rate=INIT_LR, momentum=0.9, decay=INIT_LR / NUM_EPOCHS)\n",
        "opt2 = tf.optimizers.Adam(learning_rate = INIT_LR)\n",
        "from keras.callbacks import EarlyStopping  \n",
        "early_stopping =EarlyStopping(monitor='loss', patience=2) "
      ],
      "metadata": {
        "id": "wcNDHq2jsa-6"
      },
      "execution_count": 57,
      "outputs": []
    },
    {
      "cell_type": "code",
      "source": [
        ""
      ],
      "metadata": {
        "id": "4uU9ckHaab0i"
      },
      "execution_count": 28,
      "outputs": []
    },
    {
      "cell_type": "code",
      "source": [
        "def feedforward_yes_upsampling_dense1(opt, input_train, input_valid, input_test):\n",
        "    model = Sequential() #object of sequencial class\n",
        "    model.add(Flatten(input_shape=input_shape1)) #we define the input shape, check shape after stft transformation\n",
        "    model.add(LeakyReLU(alpha=0.1))\n",
        "    model.add(Dense(1024))\n",
        "    model.add(BatchNormalization())\n",
        "    model.add(LeakyReLU(alpha=0.1))\n",
        "    model.add(Dense(512))\n",
        "    #model.add(BatchNormalization())\n",
        "    model.add(LeakyReLU(alpha=0.1))\n",
        "    model.add(Dense(256))\n",
        "    #model.add(BatchNormalization())\n",
        "    model.add(LeakyReLU(alpha=0.1))\n",
        "    model.add(Dense(128)) \n",
        "    #model.add(BatchNormalization())\n",
        "    model.add(LeakyReLU(alpha=0.1))\n",
        "   # model.add(Dense(256)) #removed this\n",
        "   # model.add(BatchNormalization())\n",
        "   # model.add(LeakyReLU(alpha=0.1))\n",
        "    #model.add(Dense(64)) \n",
        "    #model.add(BatchNormalization())\n",
        "    #model.add(LeakyReLU(alpha=0.1))\n",
        "    model.add(BatchNormalization()) # standardizes the inputs to a layer for each mini-batch. This has the effect of stabilizing the learning process and dramatically reducing the number of training epochs required to train deep networks\n",
        "    #output layer\n",
        "    model.add(Dense(100)) #because we have 4 y outputs, but also because it does not start at 0, we should reshape here to have an output of 10000 (2000x5)\n",
        "    model.add(Activation(\"softmax\"))\n",
        "\n",
        "    model.add(Reshape((20, 5))) #output is all cut data (segment size) and target numbers\n",
        "    model.add(UpSampling1D(100)) #tried 100 instead\n",
        "\n",
        "    model.compile(loss=\"sparse_categorical_crossentropy\", optimizer=opt, metrics=['sparse_categorical_accuracy']) #multiclass classification problems, categorical crossentropy loss is the loss function of choice.\n",
        "\n",
        "    history = model.fit(input_train, validation_data=input_valid,\n",
        "                    batch_size=BS, \n",
        "                    epochs=NUM_EPOCHS, callbacks=[early_stopping])\n",
        "    # plotting the metrics\n",
        "    plt.subplot(2, 1, 1)\n",
        "    plt.title('Sparse Crossentropy Loss')\n",
        "    plt.plot(history.history['loss'], color='blue', label='train')\n",
        "    plt.plot(history.history['val_loss'], color='orange', label='val')\n",
        "\t\t# plot accuracy\n",
        "    plt.subplot(2, 1, 2)\n",
        "    plt.title('Classification Accuracy')\n",
        "    plt.plot(history.history['sparse_categorical_accuracy'], color='blue', label='train')\n",
        "    plt.plot(history.history['val_sparse_categorical_accuracy'], color='orange', label='val')\n",
        "    score = model.evaluate(input_test, verbose=0) #evaluate based on test dataset, which was not used for training and validation\n",
        "    return model.summary(), history, print('Loss using testing dataset=', score[0]), print('Accuracy using testing dataset=', score[1]) "
      ],
      "metadata": {
        "id": "NNBXnNW2i0Gy"
      },
      "execution_count": 55,
      "outputs": []
    },
    {
      "cell_type": "code",
      "source": [
        "def feedforward_yes_upsampling_dense2(opt, input_train, input_valid, input_test):\n",
        "    model = Sequential() #object of sequencial class\n",
        "    model.add(Flatten(input_shape=input_shape2)) #we define the input shape, check shape after stft transformation\n",
        "    model.add(LeakyReLU(alpha=0.1))\n",
        "    model.add(Dense(1024))\n",
        "    model.add(BatchNormalization())\n",
        "    model.add(LeakyReLU(alpha=0.1))\n",
        "    model.add(Dense(512))\n",
        "    #model.add(BatchNormalization())\n",
        "    model.add(LeakyReLU(alpha=0.1))\n",
        "    model.add(Dense(256))\n",
        "    #model.add(BatchNormalization())\n",
        "    model.add(LeakyReLU(alpha=0.1))\n",
        "    model.add(Dense(128)) \n",
        "    #model.add(BatchNormalization())\n",
        "    model.add(LeakyReLU(alpha=0.1))\n",
        "   # model.add(Dense(256)) #removed this\n",
        "   # model.add(BatchNormalization())\n",
        "   # model.add(LeakyReLU(alpha=0.1))\n",
        "    #model.add(Dense(64)) \n",
        "    #model.add(BatchNormalization())\n",
        "    #model.add(LeakyReLU(alpha=0.1))\n",
        "    model.add(BatchNormalization()) # standardizes the inputs to a layer for each mini-batch. This has the effect of stabilizing the learning process and dramatically reducing the number of training epochs required to train deep networks\n",
        "    #output layer\n",
        "    model.add(Dense(100)) #because we have 4 y outputs, but also because it does not start at 0, we should reshape here to have an output of 10000 (2000x5)\n",
        "    model.add(Activation(\"softmax\"))\n",
        "\n",
        "    model.add(Reshape((20, 5))) #output is all cut data (segment size) and target numbers\n",
        "    model.add(UpSampling1D(100)) #tried 100 instead\n",
        "\n",
        "    model.compile(loss=\"sparse_categorical_crossentropy\", optimizer=opt, metrics=['sparse_categorical_accuracy']) #multiclass classification problems, categorical crossentropy loss is the loss function of choice.\n",
        "\n",
        "    history = model.fit(input_train, validation_data=input_valid,\n",
        "                    batch_size=BS, \n",
        "                    epochs=NUM_EPOCHS, callbacks=[early_stopping])\n",
        "    # plotting the metrics\n",
        "    plt.subplot(2, 1, 1)\n",
        "    plt.title('Sparse Crossentropy Loss')\n",
        "    plt.plot(history.history['loss'], color='blue', label='train')\n",
        "    plt.plot(history.history['val_loss'], color='orange', label='val')\n",
        "\t\t# plot accuracy\n",
        "    plt.subplot(2, 1, 2)\n",
        "    plt.title('Classification Accuracy')\n",
        "    plt.plot(history.history['sparse_categorical_accuracy'], color='blue', label='train')\n",
        "    plt.plot(history.history['val_sparse_categorical_accuracy'], color='orange', label='val')\n",
        "    score = model.evaluate(input_test, verbose=0) #evaluate based on test dataset, which was not used for training and validation\n",
        "    return model.summary(), history, print('Loss using testing dataset=', score[0]), print('Accuracy using testing dataset=', score[1]) "
      ],
      "metadata": {
        "id": "euv87nxki0Qo"
      },
      "execution_count": 56,
      "outputs": []
    },
    {
      "cell_type": "markdown",
      "source": [
        ""
      ],
      "metadata": {
        "id": "Db2Uvb4vaDdx"
      }
    },
    {
      "cell_type": "code",
      "source": [
        "ffn1=feedforward_yes_upsampling_dense(opt2, input_train, input_valid, input_test)"
      ],
      "metadata": {
        "colab": {
          "base_uri": "https://localhost:8080/",
          "height": 1000
        },
        "id": "8MS-ISXsaEIS",
        "outputId": "2dfa47c8-6f04-43aa-ae67-5c28bcfb7162"
      },
      "execution_count": 54,
      "outputs": [
        {
          "output_type": "stream",
          "name": "stdout",
          "text": [
            "Epoch 1/100\n",
            "1250/1250 [==============================] - 94s 66ms/step - loss: 1.5946 - sparse_categorical_accuracy: 0.3152 - val_loss: 1.5556 - val_sparse_categorical_accuracy: 0.4255\n",
            "Epoch 2/100\n",
            "1250/1250 [==============================] - 81s 65ms/step - loss: 1.3951 - sparse_categorical_accuracy: 0.4260 - val_loss: 1.5062 - val_sparse_categorical_accuracy: 0.4418\n",
            "Epoch 3/100\n",
            "1250/1250 [==============================] - 77s 61ms/step - loss: 1.2947 - sparse_categorical_accuracy: 0.4622 - val_loss: 1.3227 - val_sparse_categorical_accuracy: 0.4792\n",
            "Epoch 4/100\n",
            "1250/1250 [==============================] - 77s 61ms/step - loss: 1.2375 - sparse_categorical_accuracy: 0.4762 - val_loss: 1.3481 - val_sparse_categorical_accuracy: 0.4987\n",
            "Epoch 5/100\n",
            "1250/1250 [==============================] - 77s 61ms/step - loss: 1.2100 - sparse_categorical_accuracy: 0.4879 - val_loss: 1.2629 - val_sparse_categorical_accuracy: 0.5073\n",
            "Epoch 6/100\n",
            "1250/1250 [==============================] - 76s 61ms/step - loss: 1.1932 - sparse_categorical_accuracy: 0.4907 - val_loss: 1.3837 - val_sparse_categorical_accuracy: 0.5080\n",
            "Epoch 7/100\n",
            "1250/1250 [==============================] - 76s 61ms/step - loss: 1.1849 - sparse_categorical_accuracy: 0.4970 - val_loss: 1.2792 - val_sparse_categorical_accuracy: 0.5232\n",
            "Epoch 8/100\n",
            "1250/1250 [==============================] - 76s 61ms/step - loss: 1.1783 - sparse_categorical_accuracy: 0.4972 - val_loss: 1.2939 - val_sparse_categorical_accuracy: 0.5157\n",
            "Epoch 9/100\n",
            "1250/1250 [==============================] - 76s 60ms/step - loss: 1.1602 - sparse_categorical_accuracy: 0.5065 - val_loss: 1.2700 - val_sparse_categorical_accuracy: 0.5163\n",
            "Epoch 10/100\n",
            "1250/1250 [==============================] - 75s 60ms/step - loss: 1.1521 - sparse_categorical_accuracy: 0.5193 - val_loss: 1.2678 - val_sparse_categorical_accuracy: 0.5073\n",
            "Epoch 11/100\n",
            "1250/1250 [==============================] - 75s 60ms/step - loss: 1.1680 - sparse_categorical_accuracy: 0.5046 - val_loss: 1.2639 - val_sparse_categorical_accuracy: 0.5315\n",
            "Epoch 12/100\n",
            "1250/1250 [==============================] - 75s 60ms/step - loss: 1.1541 - sparse_categorical_accuracy: 0.5102 - val_loss: 1.2359 - val_sparse_categorical_accuracy: 0.5227\n",
            "Model: \"sequential_9\"\n",
            "_________________________________________________________________\n",
            " Layer (type)                Output Shape              Param #   \n",
            "=================================================================\n",
            " flatten_9 (Flatten)         (None, 7095)              0         \n",
            "                                                                 \n",
            " leaky_re_lu_42 (LeakyReLU)  (None, 7095)              0         \n",
            "                                                                 \n",
            " dense_43 (Dense)            (None, 1024)              7266304   \n",
            "                                                                 \n",
            " batch_normalization_31 (Bat  (None, 1024)             4096      \n",
            " chNormalization)                                                \n",
            "                                                                 \n",
            " leaky_re_lu_43 (LeakyReLU)  (None, 1024)              0         \n",
            "                                                                 \n",
            " dense_44 (Dense)            (None, 512)               524800    \n",
            "                                                                 \n",
            " leaky_re_lu_44 (LeakyReLU)  (None, 512)               0         \n",
            "                                                                 \n",
            " dense_45 (Dense)            (None, 256)               131328    \n",
            "                                                                 \n",
            " leaky_re_lu_45 (LeakyReLU)  (None, 256)               0         \n",
            "                                                                 \n",
            " dense_46 (Dense)            (None, 128)               32896     \n",
            "                                                                 \n",
            " leaky_re_lu_46 (LeakyReLU)  (None, 128)               0         \n",
            "                                                                 \n",
            " batch_normalization_32 (Bat  (None, 128)              512       \n",
            " chNormalization)                                                \n",
            "                                                                 \n",
            " dense_47 (Dense)            (None, 100)               12900     \n",
            "                                                                 \n",
            " activation_9 (Activation)   (None, 100)               0         \n",
            "                                                                 \n",
            " reshape_9 (Reshape)         (None, 20, 5)             0         \n",
            "                                                                 \n",
            " up_sampling1d_9 (UpSampling  (None, 2000, 5)          0         \n",
            " 1D)                                                             \n",
            "                                                                 \n",
            "=================================================================\n",
            "Total params: 7,972,836\n",
            "Trainable params: 7,970,532\n",
            "Non-trainable params: 2,304\n",
            "_________________________________________________________________\n",
            "Loss using testing dataset= 1.1679233312606812\n",
            "Accuracy using testing dataset= 0.5396922826766968\n"
          ]
        },
        {
          "output_type": "display_data",
          "data": {
            "text/plain": [
              "<Figure size 432x288 with 2 Axes>"
            ],
            "image/png": "[encoded data removed]"
          },
          "metadata": {}
        }
      ]
    },
    {
      "cell_type": "code",
      "source": [
        "ffn1=feedforward_yes_upsampling_dense1(opt2, input_train1, input_valid1, input_test1)"
      ],
      "metadata": {
        "colab": {
          "base_uri": "https://localhost:8080/",
          "height": 1000
        },
        "id": "_7O18q28mvnf",
        "outputId": "1d09d09c-7ff8-4bb9-af13-4696662c6dd8"
      },
      "execution_count": 58,
      "outputs": [
        {
          "output_type": "stream",
          "name": "stdout",
          "text": [
            "Epoch 1/100\n",
            "1250/1250 [==============================] - 59s 44ms/step - loss: 1.5620 - sparse_categorical_accuracy: 0.3344 - val_loss: 1.6360 - val_sparse_categorical_accuracy: 0.3920\n",
            "Epoch 2/100\n",
            "1250/1250 [==============================] - 57s 46ms/step - loss: 1.3518 - sparse_categorical_accuracy: 0.4554 - val_loss: 1.4026 - val_sparse_categorical_accuracy: 0.5076\n",
            "Epoch 3/100\n",
            "1250/1250 [==============================] - 55s 44ms/step - loss: 1.2682 - sparse_categorical_accuracy: 0.4895 - val_loss: 1.3232 - val_sparse_categorical_accuracy: 0.5050\n",
            "Epoch 4/100\n",
            "1250/1250 [==============================] - 53s 43ms/step - loss: 1.2267 - sparse_categorical_accuracy: 0.4819 - val_loss: 1.2247 - val_sparse_categorical_accuracy: 0.5269\n",
            "Epoch 5/100\n",
            "1250/1250 [==============================] - 54s 43ms/step - loss: 1.1755 - sparse_categorical_accuracy: 0.5056 - val_loss: 1.2848 - val_sparse_categorical_accuracy: 0.5347\n",
            "Epoch 6/100\n",
            "1250/1250 [==============================] - 54s 43ms/step - loss: 1.1641 - sparse_categorical_accuracy: 0.5145 - val_loss: 1.2450 - val_sparse_categorical_accuracy: 0.5260\n",
            "Epoch 7/100\n",
            "1250/1250 [==============================] - 56s 44ms/step - loss: 1.1659 - sparse_categorical_accuracy: 0.5130 - val_loss: 1.2348 - val_sparse_categorical_accuracy: 0.5309\n",
            "Epoch 8/100\n",
            "1250/1250 [==============================] - 54s 44ms/step - loss: 1.1551 - sparse_categorical_accuracy: 0.5156 - val_loss: 1.2026 - val_sparse_categorical_accuracy: 0.5575\n",
            "Epoch 9/100\n",
            "1250/1250 [==============================] - 55s 44ms/step - loss: 1.1505 - sparse_categorical_accuracy: 0.5182 - val_loss: 1.1772 - val_sparse_categorical_accuracy: 0.5536\n",
            "Epoch 10/100\n",
            "1250/1250 [==============================] - 56s 44ms/step - loss: 1.1480 - sparse_categorical_accuracy: 0.5207 - val_loss: 1.1991 - val_sparse_categorical_accuracy: 0.5536\n",
            "Epoch 11/100\n",
            "1250/1250 [==============================] - 55s 44ms/step - loss: 1.1345 - sparse_categorical_accuracy: 0.5276 - val_loss: 1.2678 - val_sparse_categorical_accuracy: 0.5375\n",
            "Epoch 12/100\n",
            "1250/1250 [==============================] - 55s 44ms/step - loss: 1.1282 - sparse_categorical_accuracy: 0.5308 - val_loss: 1.2473 - val_sparse_categorical_accuracy: 0.5657\n",
            "Epoch 13/100\n",
            "1250/1250 [==============================] - 57s 45ms/step - loss: 1.1330 - sparse_categorical_accuracy: 0.5271 - val_loss: 1.2927 - val_sparse_categorical_accuracy: 0.5276\n",
            "Epoch 14/100\n",
            "1250/1250 [==============================] - 55s 44ms/step - loss: 1.1342 - sparse_categorical_accuracy: 0.5296 - val_loss: 1.1838 - val_sparse_categorical_accuracy: 0.5549\n",
            "Model: \"sequential_10\"\n",
            "_________________________________________________________________\n",
            " Layer (type)                Output Shape              Param #   \n",
            "=================================================================\n",
            " flatten_10 (Flatten)        (None, 3835)              0         \n",
            "                                                                 \n",
            " leaky_re_lu_47 (LeakyReLU)  (None, 3835)              0         \n",
            "                                                                 \n",
            " dense_48 (Dense)            (None, 1024)              3928064   \n",
            "                                                                 \n",
            " batch_normalization_33 (Bat  (None, 1024)             4096      \n",
            " chNormalization)                                                \n",
            "                                                                 \n",
            " leaky_re_lu_48 (LeakyReLU)  (None, 1024)              0         \n",
            "                                                                 \n",
            " dense_49 (Dense)            (None, 512)               524800    \n",
            "                                                                 \n",
            " leaky_re_lu_49 (LeakyReLU)  (None, 512)               0         \n",
            "                                                                 \n",
            " dense_50 (Dense)            (None, 256)               131328    \n",
            "                                                                 \n",
            " leaky_re_lu_50 (LeakyReLU)  (None, 256)               0         \n",
            "                                                                 \n",
            " dense_51 (Dense)            (None, 128)               32896     \n",
            "                                                                 \n",
            " leaky_re_lu_51 (LeakyReLU)  (None, 128)               0         \n",
            "                                                                 \n",
            " batch_normalization_34 (Bat  (None, 128)              512       \n",
            " chNormalization)                                                \n",
            "                                                                 \n",
            " dense_52 (Dense)            (None, 100)               12900     \n",
            "                                                                 \n",
            " activation_10 (Activation)  (None, 100)               0         \n",
            "                                                                 \n",
            " reshape_10 (Reshape)        (None, 20, 5)             0         \n",
            "                                                                 \n",
            " up_sampling1d_10 (UpSamplin  (None, 2000, 5)          0         \n",
            " g1D)                                                            \n",
            "                                                                 \n",
            "=================================================================\n",
            "Total params: 4,634,596\n",
            "Trainable params: 4,632,292\n",
            "Non-trainable params: 2,304\n",
            "_________________________________________________________________\n",
            "Loss using testing dataset= 1.1901464462280273\n",
            "Accuracy using testing dataset= 0.5337010622024536\n"
          ]
        },
        {
          "output_type": "display_data",
          "data": {
            "text/plain": [
              "<Figure size 432x288 with 2 Axes>"
            ],
            "image/png": "[encoded data removed]"
          },
          "metadata": {}
        }
      ]
    },
    {
      "cell_type": "code",
      "source": [
        "ffn2=feedforward_yes_upsampling_dense2(opt2, input_train2, input_valid2, input_test2)"
      ],
      "metadata": {
        "colab": {
          "base_uri": "https://localhost:8080/",
          "height": 1000
        },
        "id": "dEV_0ldVaany",
        "outputId": "cc45bdcf-4ac1-4cfd-a9af-d74f0bf0242c"
      },
      "execution_count": 59,
      "outputs": [
        {
          "output_type": "stream",
          "name": "stdout",
          "text": [
            "Epoch 1/100\n",
            "1250/1250 [==============================] - 48s 35ms/step - loss: 1.4681 - sparse_categorical_accuracy: 0.3870 - val_loss: 1.5835 - val_sparse_categorical_accuracy: 0.4232\n",
            "Epoch 2/100\n",
            "1250/1250 [==============================] - 44s 35ms/step - loss: 1.3175 - sparse_categorical_accuracy: 0.4561 - val_loss: 1.4478 - val_sparse_categorical_accuracy: 0.4730\n",
            "Epoch 3/100\n",
            "1250/1250 [==============================] - 43s 34ms/step - loss: 1.2272 - sparse_categorical_accuracy: 0.4913 - val_loss: 1.2728 - val_sparse_categorical_accuracy: 0.5076\n",
            "Epoch 4/100\n",
            "1250/1250 [==============================] - 44s 35ms/step - loss: 1.2000 - sparse_categorical_accuracy: 0.4917 - val_loss: 1.3575 - val_sparse_categorical_accuracy: 0.4807\n",
            "Epoch 5/100\n",
            "1250/1250 [==============================] - 43s 35ms/step - loss: 1.1801 - sparse_categorical_accuracy: 0.5019 - val_loss: 1.2854 - val_sparse_categorical_accuracy: 0.4895\n",
            "Epoch 6/100\n",
            "1250/1250 [==============================] - 43s 35ms/step - loss: 1.1660 - sparse_categorical_accuracy: 0.5093 - val_loss: 1.2698 - val_sparse_categorical_accuracy: 0.5124\n",
            "Epoch 7/100\n",
            "1250/1250 [==============================] - 43s 34ms/step - loss: 1.1719 - sparse_categorical_accuracy: 0.5045 - val_loss: 1.1896 - val_sparse_categorical_accuracy: 0.5097\n",
            "Epoch 8/100\n",
            "1250/1250 [==============================] - 43s 35ms/step - loss: 1.1512 - sparse_categorical_accuracy: 0.5201 - val_loss: 1.2753 - val_sparse_categorical_accuracy: 0.5122\n",
            "Epoch 9/100\n",
            "1250/1250 [==============================] - 43s 35ms/step - loss: 1.1482 - sparse_categorical_accuracy: 0.5205 - val_loss: 1.2211 - val_sparse_categorical_accuracy: 0.5224\n",
            "Epoch 10/100\n",
            "1250/1250 [==============================] - 43s 35ms/step - loss: 1.1356 - sparse_categorical_accuracy: 0.5286 - val_loss: 1.3205 - val_sparse_categorical_accuracy: 0.5045\n",
            "Epoch 11/100\n",
            "1250/1250 [==============================] - 43s 34ms/step - loss: 1.1345 - sparse_categorical_accuracy: 0.5287 - val_loss: 1.2097 - val_sparse_categorical_accuracy: 0.5658\n",
            "Epoch 12/100\n",
            "1250/1250 [==============================] - 44s 35ms/step - loss: 1.1393 - sparse_categorical_accuracy: 0.5264 - val_loss: 1.1813 - val_sparse_categorical_accuracy: 0.5547\n",
            "Epoch 13/100\n",
            "1250/1250 [==============================] - 45s 36ms/step - loss: 1.1319 - sparse_categorical_accuracy: 0.5291 - val_loss: 1.1864 - val_sparse_categorical_accuracy: 0.5629\n",
            "Epoch 14/100\n",
            "1250/1250 [==============================] - 43s 35ms/step - loss: 1.1384 - sparse_categorical_accuracy: 0.5259 - val_loss: 1.1568 - val_sparse_categorical_accuracy: 0.5577\n",
            "Epoch 15/100\n",
            "1250/1250 [==============================] - 44s 35ms/step - loss: 1.1352 - sparse_categorical_accuracy: 0.5270 - val_loss: 1.1882 - val_sparse_categorical_accuracy: 0.5361\n",
            "Model: \"sequential_11\"\n",
            "_________________________________________________________________\n",
            " Layer (type)                Output Shape              Param #   \n",
            "=================================================================\n",
            " flatten_11 (Flatten)        (None, 2013)              0         \n",
            "                                                                 \n",
            " leaky_re_lu_52 (LeakyReLU)  (None, 2013)              0         \n",
            "                                                                 \n",
            " dense_53 (Dense)            (None, 1024)              2062336   \n",
            "                                                                 \n",
            " batch_normalization_35 (Bat  (None, 1024)             4096      \n",
            " chNormalization)                                                \n",
            "                                                                 \n",
            " leaky_re_lu_53 (LeakyReLU)  (None, 1024)              0         \n",
            "                                                                 \n",
            " dense_54 (Dense)            (None, 512)               524800    \n",
            "                                                                 \n",
            " leaky_re_lu_54 (LeakyReLU)  (None, 512)               0         \n",
            "                                                                 \n",
            " dense_55 (Dense)            (None, 256)               131328    \n",
            "                                                                 \n",
            " leaky_re_lu_55 (LeakyReLU)  (None, 256)               0         \n",
            "                                                                 \n",
            " dense_56 (Dense)            (None, 128)               32896     \n",
            "                                                                 \n",
            " leaky_re_lu_56 (LeakyReLU)  (None, 128)               0         \n",
            "                                                                 \n",
            " batch_normalization_36 (Bat  (None, 128)              512       \n",
            " chNormalization)                                                \n",
            "                                                                 \n",
            " dense_57 (Dense)            (None, 100)               12900     \n",
            "                                                                 \n",
            " activation_11 (Activation)  (None, 100)               0         \n",
            "                                                                 \n",
            " reshape_11 (Reshape)        (None, 20, 5)             0         \n",
            "                                                                 \n",
            " up_sampling1d_11 (UpSamplin  (None, 2000, 5)          0         \n",
            " g1D)                                                            \n",
            "                                                                 \n",
            "=================================================================\n",
            "Total params: 2,768,868\n",
            "Trainable params: 2,766,564\n",
            "Non-trainable params: 2,304\n",
            "_________________________________________________________________\n",
            "Loss using testing dataset= 1.0596455335617065\n",
            "Accuracy using testing dataset= 0.5839982628822327\n"
          ]
        },
        {
          "output_type": "display_data",
          "data": {
            "text/plain": [
              "<Figure size 432x288 with 2 Axes>"
            ],
            "image/png": "[encoded data removed]"
          },
          "metadata": {}
        }
      ]
    },
    {
      "cell_type": "code",
      "source": [
        "def feedforward_yes_upsampling_dense3(opt, input_train, input_valid, input_test):\n",
        "    model = Sequential() #object of sequencial class\n",
        "    model.add(Flatten(input_shape=input_shape2)) #we define the input shape, check shape after stft transformation\n",
        "    model.add(LeakyReLU(alpha=0.1))\n",
        "    model.add(Dense(1024))\n",
        "    model.add(BatchNormalization())\n",
        "    model.add(LeakyReLU(alpha=0.1))\n",
        "    model.add(Dense(512))\n",
        "    #model.add(BatchNormalization())\n",
        "    model.add(LeakyReLU(alpha=0.1))\n",
        "    model.add(Dense(256))\n",
        "    #model.add(BatchNormalization())\n",
        "    model.add(LeakyReLU(alpha=0.1))\n",
        "    model.add(Dense(128)) \n",
        "    #model.add(BatchNormalization())\n",
        "    model.add(LeakyReLU(alpha=0.1))\n",
        "    model.add(Dense(256)) #removed this\n",
        "   # model.add(BatchNormalization())\n",
        "    model.add(LeakyReLU(alpha=0.1))\n",
        "    #model.add(Dense(64)) \n",
        "    #model.add(BatchNormalization())\n",
        "   # model.add(LeakyReLU(alpha=0.1))\n",
        "    model.add(BatchNormalization()) # standardizes the inputs to a layer for each mini-batch. This has the effect of stabilizing the learning process and dramatically reducing the number of training epochs required to train deep networks\n",
        "    #output layer\n",
        "    model.add(Dense(100)) #because we have 4 y outputs, but also because it does not start at 0, we should reshape here to have an output of 10000 (2000x5)\n",
        "    model.add(Activation(\"softmax\"))\n",
        "\n",
        "    model.add(Reshape((20, 5))) #output is all cut data (segment size) and target numbers\n",
        "    model.add(UpSampling1D(100)) #tried 100 instead\n",
        "\n",
        "    model.compile(loss=\"sparse_categorical_crossentropy\", optimizer=opt, metrics=['sparse_categorical_accuracy']) #multiclass classification problems, categorical crossentropy loss is the loss function of choice.\n",
        "\n",
        "    history = model.fit(input_train, validation_data=input_valid,\n",
        "                    batch_size=BS, \n",
        "                    epochs=NUM_EPOCHS, callbacks=[early_stopping])\n",
        "    # plotting the metrics\n",
        "    plt.subplot(2, 1, 1)\n",
        "    plt.title('Sparse Crossentropy Loss')\n",
        "    plt.plot(history.history['loss'], color='blue', label='train')\n",
        "    plt.plot(history.history['val_loss'], color='orange', label='val')\n",
        "\t\t# plot accuracy\n",
        "    plt.subplot(2, 1, 2)\n",
        "    plt.title('Classification Accuracy')\n",
        "    plt.plot(history.history['sparse_categorical_accuracy'], color='blue', label='train')\n",
        "    plt.plot(history.history['val_sparse_categorical_accuracy'], color='orange', label='val')\n",
        "    score = model.evaluate(input_test, verbose=0) #evaluate based on test dataset, which was not used for training and validation\n",
        "    return model.summary(), history, print('Loss using testing dataset=', score[0]), print('Accuracy using testing dataset=', score[1]) "
      ],
      "metadata": {
        "id": "3KsOxowpaaxJ"
      },
      "execution_count": 65,
      "outputs": []
    },
    {
      "cell_type": "code",
      "source": [
        "ffn3=feedforward_yes_upsampling_dense3(opt2, input_train2, input_valid2, input_test2)\n",
        "\n"
      ],
      "metadata": {
        "colab": {
          "base_uri": "https://localhost:8080/",
          "height": 1000
        },
        "id": "9tem7bIL-zxK",
        "outputId": "bc3f21a2-9e79-4806-8a7c-ac326400bc7f"
      },
      "execution_count": 66,
      "outputs": [
        {
          "output_type": "stream",
          "name": "stdout",
          "text": [
            "Epoch 1/100\n",
            "1250/1250 [==============================] - 50s 36ms/step - loss: 1.4258 - sparse_categorical_accuracy: 0.4161 - val_loss: 1.4706 - val_sparse_categorical_accuracy: 0.4564\n",
            "Epoch 2/100\n",
            "1250/1250 [==============================] - 47s 38ms/step - loss: 1.2568 - sparse_categorical_accuracy: 0.4732 - val_loss: 1.4602 - val_sparse_categorical_accuracy: 0.4644\n",
            "Epoch 3/100\n",
            "1250/1250 [==============================] - 44s 35ms/step - loss: 1.2196 - sparse_categorical_accuracy: 0.4822 - val_loss: 1.3696 - val_sparse_categorical_accuracy: 0.4682\n",
            "Epoch 4/100\n",
            "1250/1250 [==============================] - 46s 37ms/step - loss: 1.1904 - sparse_categorical_accuracy: 0.4898 - val_loss: 1.2916 - val_sparse_categorical_accuracy: 0.4762\n",
            "Epoch 5/100\n",
            "1250/1250 [==============================] - 46s 37ms/step - loss: 1.1770 - sparse_categorical_accuracy: 0.5014 - val_loss: 1.3968 - val_sparse_categorical_accuracy: 0.4935\n",
            "Epoch 6/100\n",
            "1250/1250 [==============================] - 47s 37ms/step - loss: 1.1679 - sparse_categorical_accuracy: 0.5009 - val_loss: 1.3910 - val_sparse_categorical_accuracy: 0.4822\n",
            "Epoch 7/100\n",
            "1250/1250 [==============================] - 47s 38ms/step - loss: 1.1682 - sparse_categorical_accuracy: 0.5053 - val_loss: 1.3345 - val_sparse_categorical_accuracy: 0.4886\n",
            "Epoch 8/100\n",
            "1250/1250 [==============================] - 47s 37ms/step - loss: 1.1578 - sparse_categorical_accuracy: 0.5119 - val_loss: 1.2994 - val_sparse_categorical_accuracy: 0.5206\n",
            "Epoch 9/100\n",
            "1250/1250 [==============================] - 45s 36ms/step - loss: 1.1440 - sparse_categorical_accuracy: 0.5230 - val_loss: 1.2564 - val_sparse_categorical_accuracy: 0.5217\n",
            "Epoch 10/100\n",
            "1250/1250 [==============================] - 45s 36ms/step - loss: 1.1452 - sparse_categorical_accuracy: 0.5187 - val_loss: 1.2711 - val_sparse_categorical_accuracy: 0.5243\n",
            "Epoch 11/100\n",
            "1250/1250 [==============================] - 48s 38ms/step - loss: 1.1436 - sparse_categorical_accuracy: 0.5186 - val_loss: 1.2415 - val_sparse_categorical_accuracy: 0.5462\n",
            "Epoch 12/100\n",
            "1250/1250 [==============================] - 60s 48ms/step - loss: 1.1360 - sparse_categorical_accuracy: 0.5243 - val_loss: 1.4608 - val_sparse_categorical_accuracy: 0.4930\n",
            "Epoch 13/100\n",
            "1250/1250 [==============================] - 44s 35ms/step - loss: 1.1544 - sparse_categorical_accuracy: 0.5161 - val_loss: 1.3165 - val_sparse_categorical_accuracy: 0.4965\n",
            "Epoch 14/100\n",
            "1250/1250 [==============================] - 62s 49ms/step - loss: 1.1432 - sparse_categorical_accuracy: 0.5246 - val_loss: 1.3923 - val_sparse_categorical_accuracy: 0.5307\n",
            "Model: \"sequential_14\"\n",
            "_________________________________________________________________\n",
            " Layer (type)                Output Shape              Param #   \n",
            "=================================================================\n",
            " flatten_14 (Flatten)        (None, 2013)              0         \n",
            "                                                                 \n",
            " leaky_re_lu_70 (LeakyReLU)  (None, 2013)              0         \n",
            "                                                                 \n",
            " dense_71 (Dense)            (None, 1024)              2062336   \n",
            "                                                                 \n",
            " batch_normalization_42 (Bat  (None, 1024)             4096      \n",
            " chNormalization)                                                \n",
            "                                                                 \n",
            " leaky_re_lu_71 (LeakyReLU)  (None, 1024)              0         \n",
            "                                                                 \n",
            " dense_72 (Dense)            (None, 512)               524800    \n",
            "                                                                 \n",
            " leaky_re_lu_72 (LeakyReLU)  (None, 512)               0         \n",
            "                                                                 \n",
            " dense_73 (Dense)            (None, 256)               131328    \n",
            "                                                                 \n",
            " leaky_re_lu_73 (LeakyReLU)  (None, 256)               0         \n",
            "                                                                 \n",
            " dense_74 (Dense)            (None, 128)               32896     \n",
            "                                                                 \n",
            " leaky_re_lu_74 (LeakyReLU)  (None, 128)               0         \n",
            "                                                                 \n",
            " dense_75 (Dense)            (None, 256)               33024     \n",
            "                                                                 \n",
            " leaky_re_lu_75 (LeakyReLU)  (None, 256)               0         \n",
            "                                                                 \n",
            " batch_normalization_43 (Bat  (None, 256)              1024      \n",
            " chNormalization)                                                \n",
            "                                                                 \n",
            " dense_76 (Dense)            (None, 100)               25700     \n",
            "                                                                 \n",
            " activation_14 (Activation)  (None, 100)               0         \n",
            "                                                                 \n",
            " reshape_14 (Reshape)        (None, 20, 5)             0         \n",
            "                                                                 \n",
            " up_sampling1d_14 (UpSamplin  (None, 2000, 5)          0         \n",
            " g1D)                                                            \n",
            "                                                                 \n",
            "=================================================================\n",
            "Total params: 2,815,204\n",
            "Trainable params: 2,812,644\n",
            "Non-trainable params: 2,560\n",
            "_________________________________________________________________\n",
            "Loss using testing dataset= 1.2609953880310059\n",
            "Accuracy using testing dataset= 0.5201031565666199\n"
          ]
        },
        {
          "output_type": "display_data",
          "data": {
            "text/plain": [
              "<Figure size 432x288 with 2 Axes>"
            ],
            "image/png": "[encoded data removed]"
          },
          "metadata": {}
        }
      ]
    },
    {
      "cell_type": "markdown",
      "metadata": {
        "id": "unA1tqaqh6yV"
      },
      "source": [
        "## Recurrent Neural network"
      ]
    },
    {
      "cell_type": "code",
      "source": [
        "NUM_EPOCHS = 100 #Increase epochs if you do not see a flatlined loss function\n",
        "#Add batch normalization\n",
        "INIT_LR  = 0.1 #change to 0.001 after\n",
        "BS = 32 #batch size\n",
        "opt= SGD(learning_rate=INIT_LR, momentum=0.9, decay=INIT_LR / NUM_EPOCHS)\n",
        "opt2 = tf.optimizers.Adam(learning_rate = INIT_LR)\n",
        "from keras.callbacks import EarlyStopping  \n",
        "early_stopping =EarlyStopping(monitor='loss', patience=2) "
      ],
      "metadata": {
        "id": "pRxTMDmgsnLC"
      },
      "execution_count": 37,
      "outputs": []
    },
    {
      "cell_type": "code",
      "source": [
        "def rnn1(opt, input_train, input_valid, input_test):\n",
        "    model = Sequential() \n",
        "    model.add(LSTM(50, input_shape=input_shape2))\n",
        "    model.add(Activation(\"LeakyReLU\"))\n",
        "    model.add(BatchNormalization())\n",
        "    model.add(Dropout(0.25))\n",
        "    model.add(LSTM(50))\n",
        "    model.add(Activation(\"LeakyReLU\"))\n",
        "    model.add(BatchNormalization())\n",
        "    model.add(Dropout(0.25))\n",
        "    model.add(Flatten()) \n",
        "    #output layer\n",
        "    model.add(Dense(100)) #because we have 4 y outputs, but also because it does not start at 0, we should reshape here to have an output of 10000 (2000x5)\n",
        "    model.add(Activation(\"softmax\"))\n",
        "    model.add(Reshape((20, 5))) #output is all cut data (segment size) and target numbers\n",
        "    model.add(UpSampling1D(100)) #Add upsampling layer in order to obtain one layer for each point\n",
        "\n",
        "    model.compile(loss=\"sparse_categorical_crossentropy\", optimizer=opt, metrics=['sparse_categorical_accuracy']) #metrics=[\"categorical_accuracy\"]) #model.compile(optimizer='rmsprop', loss='sparse_categorical_crossentropy', metrics=['sparse_categorical_accuracy'])\n",
        "\n",
        "\n",
        "    history = model.fit(input_train2, validation_data=input_valid2,\n",
        "                    batch_size=BS, \n",
        "                    epochs=NUM_EPOCHS, callbacks=[early_stopping])\n",
        "    # plotting the metrics\n",
        "    plt.subplot(2, 1, 1)\n",
        "    plt.title('Sparse Crossentropy Loss')\n",
        "    plt.plot(history.history['loss'], color='blue', label='train')\n",
        "    plt.plot(history.history['val_loss'], color='orange', label='val')\n",
        "\t\t# plot accuracy\n",
        "    plt.subplot(2, 1, 2)\n",
        "    plt.title('Classification Accuracy')\n",
        "    plt.plot(history.history['sparse_categorical_accuracy'], color='blue', label='train')\n",
        "    plt.plot(history.history['val_sparse_categorical_accuracy'], color='orange', label='val')\n",
        "    score = model.evaluate(input_test2, verbose=0) #evaluate based on test dataset, which was not used for training and validation\n",
        "    return model.summary(), history, print('Loss using testing dataset=', score[0]), print('Accuracy using testing dataset=', score[1]) "
      ],
      "metadata": {
        "id": "IPQvuhF6z8Qk"
      },
      "execution_count": 76,
      "outputs": []
    },
    {
      "cell_type": "code",
      "source": [
        "rnn= rnn1(opt2, input_train2, input_valid2,input_test)"
      ],
      "metadata": {
        "id": "r1eyYtdG0tPm"
      },
      "execution_count": null,
      "outputs": []
    },
    {
      "cell_type": "code",
      "source": [
        "def rnn (opt, inputs, input_variable_valid, input_variable_test):\n",
        "  inputs = Input(shape=(None,33),name='inputs')\n",
        "  #inputs_L = Input(shape=[],name='inputs2')\n",
        "  #layer= LSTM(128,return_sequences=True)(inputs) \n",
        "  #layer = Activation(\"relu\")(layer)\n",
        "  #layer= LSTM(32,return_sequences=True)(inputs)\n",
        "  #layer = BatchNormalization(axis=-1)(layer)\n",
        "  #layer = Activation(\"LeakyReLU\")(layer)\n",
        "  layer= LSTM(32,return_sequences=True)(inputs)\n",
        "  layer = BatchNormalization(axis=-1)(layer)\n",
        "  layer = Activation(\"LeakyReLU\")(layer)\n",
        "  layer= LSTM(32,return_sequences=True)(inputs)\n",
        "  layer = BatchNormalization(axis=-1)(layer)\n",
        "  layer = Activation(\"LeakyReLU\")(layer)\n",
        "  layer = BatchNormalization(axis=-1)(layer)\n",
        "  #layer = Dropout(0.2)(layer)\n",
        "  layer = TimeDistributed(Dense(150))(layer)\n",
        "  layer = Reshape((-1,5))(layer)\n",
        "  layer = UpSampling1D(size=15)(layer)\n",
        "  L = tf.cast(tf.reduce_max(inputs), tf.int32)\n",
        "  output = Dense(5)(layer)\n",
        "  #output = layer[:,:L]\n",
        "  model = Model(inputs = inputs , outputs=output)\n",
        "  model.compile(loss=\"sparse_categorical_crossentropy\", optimizer=opt, metrics=[\"sparse_categorical_accuracy\"])\n",
        "  history = model.fit(input_train2, validation_data=input_valid2, batch_size=BS, epochs=NUM_EPOCHS, verbose=1)\n",
        "  # plotting the metrics\n",
        "  plt.subplot(2, 1, 1)\n",
        "  plt.title('Sparse Crossentropy Loss')\n",
        "  plt.plot(history.history['loss'], color='blue', label='train')\n",
        "  plt.plot(history.history['val_loss'], color='orange', label='val')\n",
        "\t# plot accuracy\n",
        "  plt.subplot(2, 1, 2)\n",
        "  plt.title('Classification Accuracy')\n",
        "  plt.plot(history.history['sparse_categorical_accuracy'], color='blue', label='train')\n",
        "  plt.plot(history.history['val_sparse_categorical_accuracy'], color='orange', label='val')\n",
        "  score = model.evaluate(input_test2, verbose=0) #evaluate based on test dataset, which was not used for training and validation\n",
        "  return model.summary(), history, print('Loss using testing dataset=', score[0]), print('Accuracy using testing dataset=', score[1])\n"
      ],
      "metadata": {
        "id": "-wrtYuK2vlzh"
      },
      "execution_count": 87,
      "outputs": []
    },
    {
      "cell_type": "code",
      "source": [
        "rnn= rnn(opt2, input_train2, input_valid2,input_test)"
      ],
      "metadata": {
        "colab": {
          "base_uri": "https://localhost:8080/",
          "height": 1000
        },
        "id": "3yM5I1Szywx2",
        "outputId": "0664bcbd-a977-42b2-9c37-9d1c21876722"
      },
      "execution_count": 88,
      "outputs": [
        {
          "output_type": "stream",
          "name": "stdout",
          "text": [
            "Epoch 1/100\n"
          ]
        },
        {
          "output_type": "error",
          "ename": "InvalidArgumentError",
          "evalue": "ignored",
          "traceback": [
            "\u001b[0;31m---------------------------------------------------------------------------\u001b[0m",
            "\u001b[0;31mInvalidArgumentError\u001b[0m                      Traceback (most recent call last)",
            "\u001b[0;32m<ipython-input-88-d22460b45afa>\u001b[0m in \u001b[0;36m<module>\u001b[0;34m()\u001b[0m\n\u001b[0;32m----> 1\u001b[0;31m \u001b[0mrnn\u001b[0m\u001b[0;34m=\u001b[0m \u001b[0mrnn\u001b[0m\u001b[0;34m(\u001b[0m\u001b[0mopt2\u001b[0m\u001b[0;34m,\u001b[0m \u001b[0minput_train2\u001b[0m\u001b[0;34m,\u001b[0m \u001b[0minput_valid2\u001b[0m\u001b[0;34m,\u001b[0m\u001b[0minput_test\u001b[0m\u001b[0;34m)\u001b[0m\u001b[0;34m\u001b[0m\u001b[0;34m\u001b[0m\u001b[0m\n\u001b[0m",
            "\u001b[0;32m<ipython-input-87-84754eedc48b>\u001b[0m in \u001b[0;36mrnn\u001b[0;34m(opt, inputs, input_variable_valid, input_variable_test)\u001b[0m\n\u001b[1;32m     23\u001b[0m   \u001b[0mmodel\u001b[0m \u001b[0;34m=\u001b[0m \u001b[0mModel\u001b[0m\u001b[0;34m(\u001b[0m\u001b[0minputs\u001b[0m \u001b[0;34m=\u001b[0m \u001b[0minputs\u001b[0m \u001b[0;34m,\u001b[0m \u001b[0moutputs\u001b[0m\u001b[0;34m=\u001b[0m\u001b[0moutput\u001b[0m\u001b[0;34m)\u001b[0m\u001b[0;34m\u001b[0m\u001b[0;34m\u001b[0m\u001b[0m\n\u001b[1;32m     24\u001b[0m   \u001b[0mmodel\u001b[0m\u001b[0;34m.\u001b[0m\u001b[0mcompile\u001b[0m\u001b[0;34m(\u001b[0m\u001b[0mloss\u001b[0m\u001b[0;34m=\u001b[0m\u001b[0;34m\"sparse_categorical_crossentropy\"\u001b[0m\u001b[0;34m,\u001b[0m \u001b[0moptimizer\u001b[0m\u001b[0;34m=\u001b[0m\u001b[0mopt\u001b[0m\u001b[0;34m,\u001b[0m \u001b[0mmetrics\u001b[0m\u001b[0;34m=\u001b[0m\u001b[0;34m[\u001b[0m\u001b[0;34m\"sparse_categorical_accuracy\"\u001b[0m\u001b[0;34m]\u001b[0m\u001b[0;34m)\u001b[0m\u001b[0;34m\u001b[0m\u001b[0;34m\u001b[0m\u001b[0m\n\u001b[0;32m---> 25\u001b[0;31m   \u001b[0mhistory\u001b[0m \u001b[0;34m=\u001b[0m \u001b[0mmodel\u001b[0m\u001b[0;34m.\u001b[0m\u001b[0mfit\u001b[0m\u001b[0;34m(\u001b[0m\u001b[0minput_train2\u001b[0m\u001b[0;34m,\u001b[0m \u001b[0mvalidation_data\u001b[0m\u001b[0;34m=\u001b[0m\u001b[0minput_valid2\u001b[0m\u001b[0;34m,\u001b[0m \u001b[0mbatch_size\u001b[0m\u001b[0;34m=\u001b[0m\u001b[0mBS\u001b[0m\u001b[0;34m,\u001b[0m \u001b[0mepochs\u001b[0m\u001b[0;34m=\u001b[0m\u001b[0mNUM_EPOCHS\u001b[0m\u001b[0;34m,\u001b[0m \u001b[0mverbose\u001b[0m\u001b[0;34m=\u001b[0m\u001b[0;36m1\u001b[0m\u001b[0;34m)\u001b[0m\u001b[0;34m\u001b[0m\u001b[0;34m\u001b[0m\u001b[0m\n\u001b[0m\u001b[1;32m     26\u001b[0m   \u001b[0;31m# plotting the metrics\u001b[0m\u001b[0;34m\u001b[0m\u001b[0;34m\u001b[0m\u001b[0;34m\u001b[0m\u001b[0m\n\u001b[1;32m     27\u001b[0m   \u001b[0mplt\u001b[0m\u001b[0;34m.\u001b[0m\u001b[0msubplot\u001b[0m\u001b[0;34m(\u001b[0m\u001b[0;36m2\u001b[0m\u001b[0;34m,\u001b[0m \u001b[0;36m1\u001b[0m\u001b[0;34m,\u001b[0m \u001b[0;36m1\u001b[0m\u001b[0;34m)\u001b[0m\u001b[0;34m\u001b[0m\u001b[0;34m\u001b[0m\u001b[0m\n",
            "\u001b[0;32m/usr/local/lib/python3.7/dist-packages/keras/utils/traceback_utils.py\u001b[0m in \u001b[0;36merror_handler\u001b[0;34m(*args, **kwargs)\u001b[0m\n\u001b[1;32m     65\u001b[0m     \u001b[0;32mexcept\u001b[0m \u001b[0mException\u001b[0m \u001b[0;32mas\u001b[0m \u001b[0me\u001b[0m\u001b[0;34m:\u001b[0m  \u001b[0;31m# pylint: disable=broad-except\u001b[0m\u001b[0;34m\u001b[0m\u001b[0;34m\u001b[0m\u001b[0m\n\u001b[1;32m     66\u001b[0m       \u001b[0mfiltered_tb\u001b[0m \u001b[0;34m=\u001b[0m \u001b[0m_process_traceback_frames\u001b[0m\u001b[0;34m(\u001b[0m\u001b[0me\u001b[0m\u001b[0;34m.\u001b[0m\u001b[0m__traceback__\u001b[0m\u001b[0;34m)\u001b[0m\u001b[0;34m\u001b[0m\u001b[0;34m\u001b[0m\u001b[0m\n\u001b[0;32m---> 67\u001b[0;31m       \u001b[0;32mraise\u001b[0m \u001b[0me\u001b[0m\u001b[0;34m.\u001b[0m\u001b[0mwith_traceback\u001b[0m\u001b[0;34m(\u001b[0m\u001b[0mfiltered_tb\u001b[0m\u001b[0;34m)\u001b[0m \u001b[0;32mfrom\u001b[0m \u001b[0;32mNone\u001b[0m\u001b[0;34m\u001b[0m\u001b[0;34m\u001b[0m\u001b[0m\n\u001b[0m\u001b[1;32m     68\u001b[0m     \u001b[0;32mfinally\u001b[0m\u001b[0;34m:\u001b[0m\u001b[0;34m\u001b[0m\u001b[0;34m\u001b[0m\u001b[0m\n\u001b[1;32m     69\u001b[0m       \u001b[0;32mdel\u001b[0m \u001b[0mfiltered_tb\u001b[0m\u001b[0;34m\u001b[0m\u001b[0;34m\u001b[0m\u001b[0m\n",
            "\u001b[0;32m/usr/local/lib/python3.7/dist-packages/tensorflow/python/eager/execute.py\u001b[0m in \u001b[0;36mquick_execute\u001b[0;34m(op_name, num_outputs, inputs, attrs, ctx, name)\u001b[0m\n\u001b[1;32m     53\u001b[0m     \u001b[0mctx\u001b[0m\u001b[0;34m.\u001b[0m\u001b[0mensure_initialized\u001b[0m\u001b[0;34m(\u001b[0m\u001b[0;34m)\u001b[0m\u001b[0;34m\u001b[0m\u001b[0;34m\u001b[0m\u001b[0m\n\u001b[1;32m     54\u001b[0m     tensors = pywrap_tfe.TFE_Py_Execute(ctx._handle, device_name, op_name,\n\u001b[0;32m---> 55\u001b[0;31m                                         inputs, attrs, num_outputs)\n\u001b[0m\u001b[1;32m     56\u001b[0m   \u001b[0;32mexcept\u001b[0m \u001b[0mcore\u001b[0m\u001b[0;34m.\u001b[0m\u001b[0m_NotOkStatusException\u001b[0m \u001b[0;32mas\u001b[0m \u001b[0me\u001b[0m\u001b[0;34m:\u001b[0m\u001b[0;34m\u001b[0m\u001b[0;34m\u001b[0m\u001b[0m\n\u001b[1;32m     57\u001b[0m     \u001b[0;32mif\u001b[0m \u001b[0mname\u001b[0m \u001b[0;32mis\u001b[0m \u001b[0;32mnot\u001b[0m \u001b[0;32mNone\u001b[0m\u001b[0;34m:\u001b[0m\u001b[0;34m\u001b[0m\u001b[0;34m\u001b[0m\u001b[0m\n",
            "\u001b[0;31mInvalidArgumentError\u001b[0m: Graph execution error:\n\nDetected at node 'Equal_2' defined at (most recent call last):\n    File \"/usr/lib/python3.7/runpy.py\", line 193, in _run_module_as_main\n      \"__main__\", mod_spec)\n    File \"/usr/lib/python3.7/runpy.py\", line 85, in _run_code\n      exec(code, run_globals)\n    File \"/usr/local/lib/python3.7/dist-packages/ipykernel_launcher.py\", line 16, in <module>\n      app.launch_new_instance()\n    File \"/usr/local/lib/python3.7/dist-packages/traitlets/config/application.py\", line 846, in launch_instance\n      app.start()\n    File \"/usr/local/lib/python3.7/dist-packages/ipykernel/kernelapp.py\", line 499, in start\n      self.io_loop.start()\n    File \"/usr/local/lib/python3.7/dist-packages/tornado/platform/asyncio.py\", line 132, in start\n      self.asyncio_loop.run_forever()\n    File \"/usr/lib/python3.7/asyncio/base_events.py\", line 541, in run_forever\n      self._run_once()\n    File \"/usr/lib/python3.7/asyncio/base_events.py\", line 1786, in _run_once\n      handle._run()\n    File \"/usr/lib/python3.7/asyncio/events.py\", line 88, in _run\n      self._context.run(self._callback, *self._args)\n    File \"/usr/local/lib/python3.7/dist-packages/tornado/platform/asyncio.py\", line 122, in _handle_events\n      handler_func(fileobj, events)\n    File \"/usr/local/lib/python3.7/dist-packages/tornado/stack_context.py\", line 300, in null_wrapper\n      return fn(*args, **kwargs)\n    File \"/usr/local/lib/python3.7/dist-packages/zmq/eventloop/zmqstream.py\", line 577, in _handle_events\n      self._handle_recv()\n    File \"/usr/local/lib/python3.7/dist-packages/zmq/eventloop/zmqstream.py\", line 606, in _handle_recv\n      self._run_callback(callback, msg)\n    File \"/usr/local/lib/python3.7/dist-packages/zmq/eventloop/zmqstream.py\", line 556, in _run_callback\n      callback(*args, **kwargs)\n    File \"/usr/local/lib/python3.7/dist-packages/tornado/stack_context.py\", line 300, in null_wrapper\n      return fn(*args, **kwargs)\n    File \"/usr/local/lib/python3.7/dist-packages/ipykernel/kernelbase.py\", line 283, in dispatcher\n      return self.dispatch_shell(stream, msg)\n    File \"/usr/local/lib/python3.7/dist-packages/ipykernel/kernelbase.py\", line 233, in dispatch_shell\n      handler(stream, idents, msg)\n    File \"/usr/local/lib/python3.7/dist-packages/ipykernel/kernelbase.py\", line 399, in execute_request\n      user_expressions, allow_stdin)\n    File \"/usr/local/lib/python3.7/dist-packages/ipykernel/ipkernel.py\", line 208, in do_execute\n      res = shell.run_cell(code, store_history=store_history, silent=silent)\n    File \"/usr/local/lib/python3.7/dist-packages/ipykernel/zmqshell.py\", line 537, in run_cell\n      return super(ZMQInteractiveShell, self).run_cell(*args, **kwargs)\n    File \"/usr/local/lib/python3.7/dist-packages/IPython/core/interactiveshell.py\", line 2718, in run_cell\n      interactivity=interactivity, compiler=compiler, result=result)\n    File \"/usr/local/lib/python3.7/dist-packages/IPython/core/interactiveshell.py\", line 2822, in run_ast_nodes\n      if self.run_code(code, result):\n    File \"/usr/local/lib/python3.7/dist-packages/IPython/core/interactiveshell.py\", line 2882, in run_code\n      exec(code_obj, self.user_global_ns, self.user_ns)\n    File \"<ipython-input-88-d22460b45afa>\", line 1, in <module>\n      rnn= rnn(opt2, input_train2, input_valid2,input_test)\n    File \"<ipython-input-87-84754eedc48b>\", line 25, in rnn\n      history = model.fit(input_train2, validation_data=input_valid2, batch_size=BS, epochs=NUM_EPOCHS, verbose=1)\n    File \"/usr/local/lib/python3.7/dist-packages/keras/utils/traceback_utils.py\", line 64, in error_handler\n      return fn(*args, **kwargs)\n    File \"/usr/local/lib/python3.7/dist-packages/keras/engine/training.py\", line 1384, in fit\n      tmp_logs = self.train_function(iterator)\n    File \"/usr/local/lib/python3.7/dist-packages/keras/engine/training.py\", line 1021, in train_function\n      return step_function(self, iterator)\n    File \"/usr/local/lib/python3.7/dist-packages/keras/engine/training.py\", line 1010, in step_function\n      outputs = model.distribute_strategy.run(run_step, args=(data,))\n    File \"/usr/local/lib/python3.7/dist-packages/keras/engine/training.py\", line 1000, in run_step\n      outputs = model.train_step(data)\n    File \"/usr/local/lib/python3.7/dist-packages/keras/engine/training.py\", line 864, in train_step\n      return self.compute_metrics(x, y, y_pred, sample_weight)\n    File \"/usr/local/lib/python3.7/dist-packages/keras/engine/training.py\", line 957, in compute_metrics\n      self.compiled_metrics.update_state(y, y_pred, sample_weight)\n    File \"/usr/local/lib/python3.7/dist-packages/keras/engine/compile_utils.py\", line 459, in update_state\n      metric_obj.update_state(y_t, y_p, sample_weight=mask)\n    File \"/usr/local/lib/python3.7/dist-packages/keras/utils/metrics_utils.py\", line 70, in decorated\n      update_op = update_state_fn(*args, **kwargs)\n    File \"/usr/local/lib/python3.7/dist-packages/keras/metrics.py\", line 178, in update_state_fn\n      return ag_update_state(*args, **kwargs)\n    File \"/usr/local/lib/python3.7/dist-packages/keras/metrics.py\", line 729, in update_state\n      matches = ag_fn(y_true, y_pred, **self._fn_kwargs)\n    File \"/usr/local/lib/python3.7/dist-packages/keras/metrics.py\", line 4086, in sparse_categorical_accuracy\n      return tf.cast(tf.equal(y_true, y_pred), backend.floatx())\nNode: 'Equal_2'\nrequired broadcastable shapes\n\t [[{{node Equal_2}}]] [Op:__inference_train_function_640856]"
          ]
        }
      ]
    },
    {
      "cell_type": "markdown",
      "metadata": {
        "id": "677tbHHoj64D"
      },
      "source": [
        ""
      ]
    },
    {
      "cell_type": "code",
      "source": [
        "print(input_shape2)"
      ],
      "metadata": {
        "colab": {
          "base_uri": "https://localhost:8080/"
        },
        "id": "5bYWi-x8iQ-4",
        "outputId": "1d3e0539-aeaf-4797-af12-17ae607c66fa"
      },
      "execution_count": 40,
      "outputs": [
        {
          "output_type": "stream",
          "name": "stdout",
          "text": [
            "(61, 33)\n"
          ]
        }
      ]
    },
    {
      "cell_type": "code",
      "execution_count": 41,
      "metadata": {
        "id": "U9GPFOSRj7PL"
      },
      "outputs": [],
      "source": [
        "def rnn_variable(opt, inputs, input_variable_valid, input_variable_test):\n",
        "  inputs = Input(shape=(None,33),name='inputs')\n",
        "  inputs_L = Input(shape=[],name='inputs2')\n",
        "  #layer= LSTM(128,return_sequences=True)(inputs) \n",
        "  #layer = Activation(\"relu\")(layer)\n",
        "  #layer= LSTM(32,return_sequences=True)(inputs)\n",
        "  #layer = BatchNormalization(axis=-1)(layer)\n",
        "  #layer = Activation(\"LeakyReLU\")(layer)\n",
        "  layer= LSTM(32,return_sequences=True)(inputs)\n",
        "  layer = BatchNormalization(axis=-1)(layer)\n",
        "  layer = Activation(\"LeakyReLU\")(layer)\n",
        "  layer= LSTM(32,return_sequences=True)(inputs)\n",
        "  layer = BatchNormalization(axis=-1)(layer)\n",
        "  layer = Activation(\"LeakyReLU\")(layer)\n",
        "  layer = BatchNormalization(axis=-1)(layer)\n",
        "  #layer = Dropout(0.2)(layer)\n",
        "  layer = TimeDistributed(Dense(150))(layer)\n",
        "  layer = Reshape((-1,5))(layer)\n",
        "  layer = UpSampling1D(size=15)(layer)\n",
        "  L = tf.cast(tf.reduce_max(inputs_L), tf.int32)\n",
        "  output = layer[:,:L]\n",
        "  model = Model(inputs = (inputs_L,inputs) , outputs=output)\n",
        "  model.compile(loss=\"sparse_categorical_crossentropy\", optimizer=opt, metrics=[\"sparse_categorical_accuracy\"])\n",
        "  history = model.fit(input_variable_train2, validation_data=input_variable_valid2, batch_size=BS, epochs=NUM_EPOCHS, verbose=1)\n",
        "  # plotting the metrics\n",
        "  plt.subplot(2, 1, 1)\n",
        "  plt.title('Sparse Crossentropy Loss')\n",
        "  plt.plot(history.history['loss'], color='blue', label='train')\n",
        "  plt.plot(history.history['val_loss'], color='orange', label='val')\n",
        "\t# plot accuracy\n",
        "  plt.subplot(2, 1, 2)\n",
        "  plt.title('Classification Accuracy')\n",
        "  plt.plot(history.history['sparse_categorical_accuracy'], color='blue', label='train')\n",
        "  plt.plot(history.history['val_sparse_categorical_accuracy'], color='orange', label='val')\n",
        "  score = model.evaluate(input_variable_test2, verbose=0) #evaluate based on test dataset, which was not used for training and validation\n",
        "  return model.summary(), history, print('Loss using testing dataset=', score[0]), print('Accuracy using testing dataset=', score[1])"
      ]
    },
    {
      "cell_type": "code",
      "source": [
        "rnn= rnn_variable(opt2, input_variable_train2, input_variable_valid2,input_variable_test2)"
      ],
      "metadata": {
        "colab": {
          "base_uri": "https://localhost:8080/",
          "height": 345
        },
        "id": "1CjsrER_qJA4",
        "outputId": "6d664e85-deb3-4c13-b897-6a15b3e81ca8"
      },
      "execution_count": 39,
      "outputs": [
        {
          "output_type": "stream",
          "name": "stdout",
          "text": [
            "Epoch 1/100\n",
            "   5/1250 [..............................] - ETA: 2:31:00 - loss: 5.4143 - sparse_categorical_accuracy: 0.2186"
          ]
        },
        {
          "output_type": "error",
          "ename": "KeyboardInterrupt",
          "evalue": "ignored",
          "traceback": [
            "\u001b[0;31m---------------------------------------------------------------------------\u001b[0m",
            "\u001b[0;31mKeyboardInterrupt\u001b[0m                         Traceback (most recent call last)",
            "\u001b[0;32m<ipython-input-39-a8f1611e9bf2>\u001b[0m in \u001b[0;36m<module>\u001b[0;34m()\u001b[0m\n\u001b[0;32m----> 1\u001b[0;31m \u001b[0mrnn\u001b[0m\u001b[0;34m=\u001b[0m \u001b[0mrnn_variable\u001b[0m\u001b[0;34m(\u001b[0m\u001b[0mopt2\u001b[0m\u001b[0;34m,\u001b[0m \u001b[0minput_variable_train2\u001b[0m\u001b[0;34m,\u001b[0m \u001b[0minput_variable_valid2\u001b[0m\u001b[0;34m,\u001b[0m\u001b[0minput_variable_test2\u001b[0m\u001b[0;34m)\u001b[0m\u001b[0;34m\u001b[0m\u001b[0;34m\u001b[0m\u001b[0m\n\u001b[0m",
            "\u001b[0;32m<ipython-input-38-88149f5b3944>\u001b[0m in \u001b[0;36mrnn_variable\u001b[0;34m(opt, inputs, input_variable_valid, input_variable_test)\u001b[0m\n\u001b[1;32m     19\u001b[0m   \u001b[0mmodel\u001b[0m \u001b[0;34m=\u001b[0m \u001b[0mModel\u001b[0m\u001b[0;34m(\u001b[0m\u001b[0minputs\u001b[0m \u001b[0;34m=\u001b[0m \u001b[0;34m(\u001b[0m\u001b[0minputs_L\u001b[0m\u001b[0;34m,\u001b[0m\u001b[0minputs\u001b[0m\u001b[0;34m)\u001b[0m \u001b[0;34m,\u001b[0m \u001b[0moutputs\u001b[0m\u001b[0;34m=\u001b[0m\u001b[0moutput\u001b[0m\u001b[0;34m)\u001b[0m\u001b[0;34m\u001b[0m\u001b[0;34m\u001b[0m\u001b[0m\n\u001b[1;32m     20\u001b[0m   \u001b[0mmodel\u001b[0m\u001b[0;34m.\u001b[0m\u001b[0mcompile\u001b[0m\u001b[0;34m(\u001b[0m\u001b[0mloss\u001b[0m\u001b[0;34m=\u001b[0m\u001b[0;34m\"sparse_categorical_crossentropy\"\u001b[0m\u001b[0;34m,\u001b[0m \u001b[0moptimizer\u001b[0m\u001b[0;34m=\u001b[0m\u001b[0mopt\u001b[0m\u001b[0;34m,\u001b[0m \u001b[0mmetrics\u001b[0m\u001b[0;34m=\u001b[0m\u001b[0;34m[\u001b[0m\u001b[0;34m\"sparse_categorical_accuracy\"\u001b[0m\u001b[0;34m]\u001b[0m\u001b[0;34m)\u001b[0m\u001b[0;34m\u001b[0m\u001b[0;34m\u001b[0m\u001b[0m\n\u001b[0;32m---> 21\u001b[0;31m   \u001b[0mhistory\u001b[0m \u001b[0;34m=\u001b[0m \u001b[0mmodel\u001b[0m\u001b[0;34m.\u001b[0m\u001b[0mfit\u001b[0m\u001b[0;34m(\u001b[0m\u001b[0minput_variable_train2\u001b[0m\u001b[0;34m,\u001b[0m \u001b[0mvalidation_data\u001b[0m\u001b[0;34m=\u001b[0m\u001b[0minput_variable_valid2\u001b[0m\u001b[0;34m,\u001b[0m \u001b[0mbatch_size\u001b[0m\u001b[0;34m=\u001b[0m\u001b[0mBS\u001b[0m\u001b[0;34m,\u001b[0m \u001b[0mepochs\u001b[0m\u001b[0;34m=\u001b[0m\u001b[0mNUM_EPOCHS\u001b[0m\u001b[0;34m,\u001b[0m \u001b[0mverbose\u001b[0m\u001b[0;34m=\u001b[0m\u001b[0;36m1\u001b[0m\u001b[0;34m)\u001b[0m\u001b[0;34m\u001b[0m\u001b[0;34m\u001b[0m\u001b[0m\n\u001b[0m\u001b[1;32m     22\u001b[0m   \u001b[0;31m# plotting the metrics\u001b[0m\u001b[0;34m\u001b[0m\u001b[0;34m\u001b[0m\u001b[0;34m\u001b[0m\u001b[0m\n\u001b[1;32m     23\u001b[0m   \u001b[0mplt\u001b[0m\u001b[0;34m.\u001b[0m\u001b[0msubplot\u001b[0m\u001b[0;34m(\u001b[0m\u001b[0;36m2\u001b[0m\u001b[0;34m,\u001b[0m \u001b[0;36m1\u001b[0m\u001b[0;34m,\u001b[0m \u001b[0;36m1\u001b[0m\u001b[0;34m)\u001b[0m\u001b[0;34m\u001b[0m\u001b[0;34m\u001b[0m\u001b[0m\n",
            "\u001b[0;32m/usr/local/lib/python3.7/dist-packages/keras/utils/traceback_utils.py\u001b[0m in \u001b[0;36merror_handler\u001b[0;34m(*args, **kwargs)\u001b[0m\n\u001b[1;32m     62\u001b[0m     \u001b[0mfiltered_tb\u001b[0m \u001b[0;34m=\u001b[0m \u001b[0;32mNone\u001b[0m\u001b[0;34m\u001b[0m\u001b[0;34m\u001b[0m\u001b[0m\n\u001b[1;32m     63\u001b[0m     \u001b[0;32mtry\u001b[0m\u001b[0;34m:\u001b[0m\u001b[0;34m\u001b[0m\u001b[0;34m\u001b[0m\u001b[0m\n\u001b[0;32m---> 64\u001b[0;31m       \u001b[0;32mreturn\u001b[0m \u001b[0mfn\u001b[0m\u001b[0;34m(\u001b[0m\u001b[0;34m*\u001b[0m\u001b[0margs\u001b[0m\u001b[0;34m,\u001b[0m \u001b[0;34m**\u001b[0m\u001b[0mkwargs\u001b[0m\u001b[0;34m)\u001b[0m\u001b[0;34m\u001b[0m\u001b[0;34m\u001b[0m\u001b[0m\n\u001b[0m\u001b[1;32m     65\u001b[0m     \u001b[0;32mexcept\u001b[0m \u001b[0mException\u001b[0m \u001b[0;32mas\u001b[0m \u001b[0me\u001b[0m\u001b[0;34m:\u001b[0m  \u001b[0;31m# pylint: disable=broad-except\u001b[0m\u001b[0;34m\u001b[0m\u001b[0;34m\u001b[0m\u001b[0m\n\u001b[1;32m     66\u001b[0m       \u001b[0mfiltered_tb\u001b[0m \u001b[0;34m=\u001b[0m \u001b[0m_process_traceback_frames\u001b[0m\u001b[0;34m(\u001b[0m\u001b[0me\u001b[0m\u001b[0;34m.\u001b[0m\u001b[0m__traceback__\u001b[0m\u001b[0;34m)\u001b[0m\u001b[0;34m\u001b[0m\u001b[0;34m\u001b[0m\u001b[0m\n",
            "\u001b[0;32m/usr/local/lib/python3.7/dist-packages/keras/engine/training.py\u001b[0m in \u001b[0;36mfit\u001b[0;34m(self, x, y, batch_size, epochs, verbose, callbacks, validation_split, validation_data, shuffle, class_weight, sample_weight, initial_epoch, steps_per_epoch, validation_steps, validation_batch_size, validation_freq, max_queue_size, workers, use_multiprocessing)\u001b[0m\n\u001b[1;32m   1382\u001b[0m                 _r=1):\n\u001b[1;32m   1383\u001b[0m               \u001b[0mcallbacks\u001b[0m\u001b[0;34m.\u001b[0m\u001b[0mon_train_batch_begin\u001b[0m\u001b[0;34m(\u001b[0m\u001b[0mstep\u001b[0m\u001b[0;34m)\u001b[0m\u001b[0;34m\u001b[0m\u001b[0;34m\u001b[0m\u001b[0m\n\u001b[0;32m-> 1384\u001b[0;31m               \u001b[0mtmp_logs\u001b[0m \u001b[0;34m=\u001b[0m \u001b[0mself\u001b[0m\u001b[0;34m.\u001b[0m\u001b[0mtrain_function\u001b[0m\u001b[0;34m(\u001b[0m\u001b[0miterator\u001b[0m\u001b[0;34m)\u001b[0m\u001b[0;34m\u001b[0m\u001b[0;34m\u001b[0m\u001b[0m\n\u001b[0m\u001b[1;32m   1385\u001b[0m               \u001b[0;32mif\u001b[0m \u001b[0mdata_handler\u001b[0m\u001b[0;34m.\u001b[0m\u001b[0mshould_sync\u001b[0m\u001b[0;34m:\u001b[0m\u001b[0;34m\u001b[0m\u001b[0;34m\u001b[0m\u001b[0m\n\u001b[1;32m   1386\u001b[0m                 \u001b[0mcontext\u001b[0m\u001b[0;34m.\u001b[0m\u001b[0masync_wait\u001b[0m\u001b[0;34m(\u001b[0m\u001b[0;34m)\u001b[0m\u001b[0;34m\u001b[0m\u001b[0;34m\u001b[0m\u001b[0m\n",
            "\u001b[0;32m/usr/local/lib/python3.7/dist-packages/tensorflow/python/util/traceback_utils.py\u001b[0m in \u001b[0;36merror_handler\u001b[0;34m(*args, **kwargs)\u001b[0m\n\u001b[1;32m    148\u001b[0m     \u001b[0mfiltered_tb\u001b[0m \u001b[0;34m=\u001b[0m \u001b[0;32mNone\u001b[0m\u001b[0;34m\u001b[0m\u001b[0;34m\u001b[0m\u001b[0m\n\u001b[1;32m    149\u001b[0m     \u001b[0;32mtry\u001b[0m\u001b[0;34m:\u001b[0m\u001b[0;34m\u001b[0m\u001b[0;34m\u001b[0m\u001b[0m\n\u001b[0;32m--> 150\u001b[0;31m       \u001b[0;32mreturn\u001b[0m \u001b[0mfn\u001b[0m\u001b[0;34m(\u001b[0m\u001b[0;34m*\u001b[0m\u001b[0margs\u001b[0m\u001b[0;34m,\u001b[0m \u001b[0;34m**\u001b[0m\u001b[0mkwargs\u001b[0m\u001b[0;34m)\u001b[0m\u001b[0;34m\u001b[0m\u001b[0;34m\u001b[0m\u001b[0m\n\u001b[0m\u001b[1;32m    151\u001b[0m     \u001b[0;32mexcept\u001b[0m \u001b[0mException\u001b[0m \u001b[0;32mas\u001b[0m \u001b[0me\u001b[0m\u001b[0;34m:\u001b[0m\u001b[0;34m\u001b[0m\u001b[0;34m\u001b[0m\u001b[0m\n\u001b[1;32m    152\u001b[0m       \u001b[0mfiltered_tb\u001b[0m \u001b[0;34m=\u001b[0m \u001b[0m_process_traceback_frames\u001b[0m\u001b[0;34m(\u001b[0m\u001b[0me\u001b[0m\u001b[0;34m.\u001b[0m\u001b[0m__traceback__\u001b[0m\u001b[0;34m)\u001b[0m\u001b[0;34m\u001b[0m\u001b[0;34m\u001b[0m\u001b[0m\n",
            "\u001b[0;32m/usr/local/lib/python3.7/dist-packages/tensorflow/python/eager/def_function.py\u001b[0m in \u001b[0;36m__call__\u001b[0;34m(self, *args, **kwds)\u001b[0m\n\u001b[1;32m    913\u001b[0m \u001b[0;34m\u001b[0m\u001b[0m\n\u001b[1;32m    914\u001b[0m       \u001b[0;32mwith\u001b[0m \u001b[0mOptionalXlaContext\u001b[0m\u001b[0;34m(\u001b[0m\u001b[0mself\u001b[0m\u001b[0;34m.\u001b[0m\u001b[0m_jit_compile\u001b[0m\u001b[0;34m)\u001b[0m\u001b[0;34m:\u001b[0m\u001b[0;34m\u001b[0m\u001b[0;34m\u001b[0m\u001b[0m\n\u001b[0;32m--> 915\u001b[0;31m         \u001b[0mresult\u001b[0m \u001b[0;34m=\u001b[0m \u001b[0mself\u001b[0m\u001b[0;34m.\u001b[0m\u001b[0m_call\u001b[0m\u001b[0;34m(\u001b[0m\u001b[0;34m*\u001b[0m\u001b[0margs\u001b[0m\u001b[0;34m,\u001b[0m \u001b[0;34m**\u001b[0m\u001b[0mkwds\u001b[0m\u001b[0;34m)\u001b[0m\u001b[0;34m\u001b[0m\u001b[0;34m\u001b[0m\u001b[0m\n\u001b[0m\u001b[1;32m    916\u001b[0m \u001b[0;34m\u001b[0m\u001b[0m\n\u001b[1;32m    917\u001b[0m       \u001b[0mnew_tracing_count\u001b[0m \u001b[0;34m=\u001b[0m \u001b[0mself\u001b[0m\u001b[0;34m.\u001b[0m\u001b[0mexperimental_get_tracing_count\u001b[0m\u001b[0;34m(\u001b[0m\u001b[0;34m)\u001b[0m\u001b[0;34m\u001b[0m\u001b[0;34m\u001b[0m\u001b[0m\n",
            "\u001b[0;32m/usr/local/lib/python3.7/dist-packages/tensorflow/python/eager/def_function.py\u001b[0m in \u001b[0;36m_call\u001b[0;34m(self, *args, **kwds)\u001b[0m\n\u001b[1;32m    945\u001b[0m       \u001b[0;31m# In this case we have created variables on the first call, so we run the\u001b[0m\u001b[0;34m\u001b[0m\u001b[0;34m\u001b[0m\u001b[0;34m\u001b[0m\u001b[0m\n\u001b[1;32m    946\u001b[0m       \u001b[0;31m# defunned version which is guaranteed to never create variables.\u001b[0m\u001b[0;34m\u001b[0m\u001b[0;34m\u001b[0m\u001b[0;34m\u001b[0m\u001b[0m\n\u001b[0;32m--> 947\u001b[0;31m       \u001b[0;32mreturn\u001b[0m \u001b[0mself\u001b[0m\u001b[0;34m.\u001b[0m\u001b[0m_stateless_fn\u001b[0m\u001b[0;34m(\u001b[0m\u001b[0;34m*\u001b[0m\u001b[0margs\u001b[0m\u001b[0;34m,\u001b[0m \u001b[0;34m**\u001b[0m\u001b[0mkwds\u001b[0m\u001b[0;34m)\u001b[0m  \u001b[0;31m# pylint: disable=not-callable\u001b[0m\u001b[0;34m\u001b[0m\u001b[0;34m\u001b[0m\u001b[0m\n\u001b[0m\u001b[1;32m    948\u001b[0m     \u001b[0;32melif\u001b[0m \u001b[0mself\u001b[0m\u001b[0;34m.\u001b[0m\u001b[0m_stateful_fn\u001b[0m \u001b[0;32mis\u001b[0m \u001b[0;32mnot\u001b[0m \u001b[0;32mNone\u001b[0m\u001b[0;34m:\u001b[0m\u001b[0;34m\u001b[0m\u001b[0;34m\u001b[0m\u001b[0m\n\u001b[1;32m    949\u001b[0m       \u001b[0;31m# Release the lock early so that multiple threads can perform the call\u001b[0m\u001b[0;34m\u001b[0m\u001b[0;34m\u001b[0m\u001b[0;34m\u001b[0m\u001b[0m\n",
            "\u001b[0;32m/usr/local/lib/python3.7/dist-packages/tensorflow/python/eager/function.py\u001b[0m in \u001b[0;36m__call__\u001b[0;34m(self, *args, **kwargs)\u001b[0m\n\u001b[1;32m   2955\u001b[0m        filtered_flat_args) = self._maybe_define_function(args, kwargs)\n\u001b[1;32m   2956\u001b[0m     return graph_function._call_flat(\n\u001b[0;32m-> 2957\u001b[0;31m         filtered_flat_args, captured_inputs=graph_function.captured_inputs)  # pylint: disable=protected-access\n\u001b[0m\u001b[1;32m   2958\u001b[0m \u001b[0;34m\u001b[0m\u001b[0m\n\u001b[1;32m   2959\u001b[0m   \u001b[0;34m@\u001b[0m\u001b[0mproperty\u001b[0m\u001b[0;34m\u001b[0m\u001b[0;34m\u001b[0m\u001b[0m\n",
            "\u001b[0;32m/usr/local/lib/python3.7/dist-packages/tensorflow/python/eager/function.py\u001b[0m in \u001b[0;36m_call_flat\u001b[0;34m(self, args, captured_inputs, cancellation_manager)\u001b[0m\n\u001b[1;32m   1852\u001b[0m       \u001b[0;31m# No tape is watching; skip to running the function.\u001b[0m\u001b[0;34m\u001b[0m\u001b[0;34m\u001b[0m\u001b[0;34m\u001b[0m\u001b[0m\n\u001b[1;32m   1853\u001b[0m       return self._build_call_outputs(self._inference_function.call(\n\u001b[0;32m-> 1854\u001b[0;31m           ctx, args, cancellation_manager=cancellation_manager))\n\u001b[0m\u001b[1;32m   1855\u001b[0m     forward_backward = self._select_forward_and_backward_functions(\n\u001b[1;32m   1856\u001b[0m         \u001b[0margs\u001b[0m\u001b[0;34m,\u001b[0m\u001b[0;34m\u001b[0m\u001b[0;34m\u001b[0m\u001b[0m\n",
            "\u001b[0;32m/usr/local/lib/python3.7/dist-packages/tensorflow/python/eager/function.py\u001b[0m in \u001b[0;36mcall\u001b[0;34m(self, ctx, args, cancellation_manager)\u001b[0m\n\u001b[1;32m    502\u001b[0m               \u001b[0minputs\u001b[0m\u001b[0;34m=\u001b[0m\u001b[0margs\u001b[0m\u001b[0;34m,\u001b[0m\u001b[0;34m\u001b[0m\u001b[0;34m\u001b[0m\u001b[0m\n\u001b[1;32m    503\u001b[0m               \u001b[0mattrs\u001b[0m\u001b[0;34m=\u001b[0m\u001b[0mattrs\u001b[0m\u001b[0;34m,\u001b[0m\u001b[0;34m\u001b[0m\u001b[0;34m\u001b[0m\u001b[0m\n\u001b[0;32m--> 504\u001b[0;31m               ctx=ctx)\n\u001b[0m\u001b[1;32m    505\u001b[0m         \u001b[0;32melse\u001b[0m\u001b[0;34m:\u001b[0m\u001b[0;34m\u001b[0m\u001b[0;34m\u001b[0m\u001b[0m\n\u001b[1;32m    506\u001b[0m           outputs = execute.execute_with_cancellation(\n",
            "\u001b[0;32m/usr/local/lib/python3.7/dist-packages/tensorflow/python/eager/execute.py\u001b[0m in \u001b[0;36mquick_execute\u001b[0;34m(op_name, num_outputs, inputs, attrs, ctx, name)\u001b[0m\n\u001b[1;32m     53\u001b[0m     \u001b[0mctx\u001b[0m\u001b[0;34m.\u001b[0m\u001b[0mensure_initialized\u001b[0m\u001b[0;34m(\u001b[0m\u001b[0;34m)\u001b[0m\u001b[0;34m\u001b[0m\u001b[0;34m\u001b[0m\u001b[0m\n\u001b[1;32m     54\u001b[0m     tensors = pywrap_tfe.TFE_Py_Execute(ctx._handle, device_name, op_name,\n\u001b[0;32m---> 55\u001b[0;31m                                         inputs, attrs, num_outputs)\n\u001b[0m\u001b[1;32m     56\u001b[0m   \u001b[0;32mexcept\u001b[0m \u001b[0mcore\u001b[0m\u001b[0;34m.\u001b[0m\u001b[0m_NotOkStatusException\u001b[0m \u001b[0;32mas\u001b[0m \u001b[0me\u001b[0m\u001b[0;34m:\u001b[0m\u001b[0;34m\u001b[0m\u001b[0;34m\u001b[0m\u001b[0m\n\u001b[1;32m     57\u001b[0m     \u001b[0;32mif\u001b[0m \u001b[0mname\u001b[0m \u001b[0;32mis\u001b[0m \u001b[0;32mnot\u001b[0m \u001b[0;32mNone\u001b[0m\u001b[0;34m:\u001b[0m\u001b[0;34m\u001b[0m\u001b[0;34m\u001b[0m\u001b[0m\n",
            "\u001b[0;31mKeyboardInterrupt\u001b[0m: "
          ]
        }
      ]
    },
    {
      "cell_type": "code",
      "source": [
        "%tensorflow_version 2.x\n",
        "import tensorflow as tf\n",
        "device_name = tf.test.gpu_device_name()\n",
        "if device_name != '/device:GPU:0':\n",
        "  raise SystemError('GPU device not found')\n",
        "print('Found GPU at: {}'.format(device_name))"
      ],
      "metadata": {
        "colab": {
          "base_uri": "https://localhost:8080/"
        },
        "id": "6KKiQTMctQl4",
        "outputId": "c95ead65-c28e-4418-8b58-07ad6cd257d5"
      },
      "execution_count": 1,
      "outputs": [
        {
          "output_type": "stream",
          "name": "stdout",
          "text": [
            "Found GPU at: /device:GPU:0\n"
          ]
        }
      ]
    },
    {
      "cell_type": "code",
      "source": [
        "%tensorflow_version 2.x\n",
        "import tensorflow as tf\n",
        "import timeit\n",
        "\n",
        "device_name = tf.test.gpu_device_name()\n",
        "if device_name != '/device:GPU:0':\n",
        "  print(\n",
        "      '\\n\\nThis error most likely means that this notebook is not '\n",
        "      'configured to use a GPU.  Change this in Notebook Settings via the '\n",
        "      'command palette (cmd/ctrl-shift-P) or the Edit menu.\\n\\n')\n",
        "  raise SystemError('GPU device not found')\n",
        "\n",
        "def cpu():\n",
        "  with tf.device('/cpu:0'):\n",
        "    random_image_cpu = tf.random.normal((100, 100, 100, 3))\n",
        "    net_cpu = tf.keras.layers.Conv2D(32, 7)(random_image_cpu)\n",
        "    return tf.math.reduce_sum(net_cpu)\n",
        "\n",
        "def gpu():\n",
        "  with tf.device('/device:GPU:0'):\n",
        "    random_image_gpu = tf.random.normal((100, 100, 100, 3))\n",
        "    net_gpu = tf.keras.layers.Conv2D(32, 7)(random_image_gpu)\n",
        "    return tf.math.reduce_sum(net_gpu)\n",
        "  \n",
        "# We run each op once to warm up; see: https://stackoverflow.com/a/45067900\n",
        "cpu()\n",
        "gpu()\n",
        "\n",
        "# Run the op several times.\n",
        "print('Time (s) to convolve 32x7x7x3 filter over random 100x100x100x3 images '\n",
        "      '(batch x height x width x channel). Sum of ten runs.')\n",
        "print('CPU (s):')\n",
        "cpu_time = timeit.timeit('cpu()', number=10, setup=\"from __main__ import cpu\")\n",
        "print(cpu_time)\n",
        "print('GPU (s):')\n",
        "gpu_time = timeit.timeit('gpu()', number=10, setup=\"from __main__ import gpu\")\n",
        "print(gpu_time)\n",
        "print('GPU speedup over CPU: {}x'.format(int(cpu_time/gpu_time)))"
      ],
      "metadata": {
        "colab": {
          "base_uri": "https://localhost:8080/"
        },
        "id": "m3w6qPFHt4VQ",
        "outputId": "3332c371-a5b5-41d6-b2f9-03a696add990"
      },
      "execution_count": 23,
      "outputs": [
        {
          "output_type": "stream",
          "name": "stdout",
          "text": [
            "Time (s) to convolve 32x7x7x3 filter over random 100x100x100x3 images (batch x height x width x channel). Sum of ten runs.\n",
            "CPU (s):\n",
            "3.0117802859999756\n",
            "GPU (s):\n",
            "0.041570825999997396\n",
            "GPU speedup over CPU: 72x\n"
          ]
        }
      ]
    },
    {
      "cell_type": "code",
      "source": [
        "print(input_shape2)"
      ],
      "metadata": {
        "colab": {
          "base_uri": "https://localhost:8080/"
        },
        "id": "gT7cuHjiieMQ",
        "outputId": "6738ecaa-188c-48b2-e79a-72c905973ee9"
      },
      "execution_count": 42,
      "outputs": [
        {
          "output_type": "stream",
          "name": "stdout",
          "text": [
            "(61, 33)\n"
          ]
        }
      ]
    },
    {
      "cell_type": "code",
      "source": [
        "def rnn(opt, input_variable_train, input_variable_valid, input_variable_test):\n",
        "  inputs=Input(shape=(61,33),name='inputs')\n",
        "  inputs=Flatten(inputs)\n",
        "  layer= LSTM(128,return_sequences=True)(inputs) \n",
        "  layer = Activation(\"LeakyReLU\")(layer)\n",
        "  layer= LSTM(64,return_sequences=True)(inputs)\n",
        "  layer = BatchNormalization(axis=-1)(layer)\n",
        "  layer = Activation(\"LeakyReLU\")(layer)\n",
        "  layer= LSTM(32,return_sequences=True)(inputs) \n",
        "  layer = Activation(\"LeakyReLU\")(layer)\n",
        "  layer = BatchNormalization(axis=-1)(layer)\n",
        "  layer = Dropout(0.2)(layer)\n",
        "  output = TimeDistributed(Dense(15))(layer)\n",
        "  layer = Reshape((-1,5))(layer)\n",
        "  layer = UpSampling1D(size=15)(layer)\n",
        "  model = Model(inputs = inputs, outputs= output)\n",
        "  model.compile(loss=\"sparse_categorical_crossentropy\", optimizer=opt, metrics=[\"sparse_categorical_accuracy\"])\n",
        "  history = model.fit(input_variable_train, validation_data=input_variable_valid, batch_size=BS, epochs=NUM_EPOCHS, verbose=1)\n",
        "  # plotting the metrics\n",
        "  plt.subplot(2, 1, 1)\n",
        "  plt.title('Sparse Crossentropy Loss')\n",
        "  plt.plot(history.history['loss'], color='blue', label='train')\n",
        "  plt.plot(history.history['val_loss'], color='orange', label='val')\n",
        "\t# plot accuracy\n",
        "  plt.subplot(2, 1, 2)\n",
        "  plt.title('Classification Accuracy')\n",
        "  plt.plot(history.history['sparse_categorical_accuracy'], color='blue', label='train')\n",
        "  plt.plot(history.history['val_sparse_categorical_accuracy'], color='orange', label='val')\n",
        "  score = model.evaluate(input_variable_test, verbose=0) #evaluate based on test dataset, which was not used for training and validation\n",
        "  return model.summary(), history, print('Loss using testing dataset=', score[0]), print('Accuracy using testing dataset=', score[1])"
      ],
      "metadata": {
        "id": "UHPSc0lcggfj"
      },
      "execution_count": 47,
      "outputs": []
    },
    {
      "cell_type": "code",
      "source": [
        "def cnn(opt, input_train, input_valid, input_test):\n",
        "    model = Sequential() \n",
        "    model.add(Conv1D(32, 3, padding=\"same\", input_shape=input_shape2))\n",
        "    model.add(Activation(\"relu\"))\n",
        "    model.add(BatchNormalization())\n",
        "    model.add(Flatten()) \n",
        "\n",
        "    #output layer\n",
        "    model.add(Dense(100)) #because we have 4 y outputs, but also because it does not start at 0, we should reshape here to have an output of 10000 (2000x5)\n",
        "    model.add(Activation(\"softmax\"))\n",
        "    model.add(Reshape((20, 5))) #output is all cut data (segment size) and target numbers\n",
        "    model.add(UpSampling1D(100)) #Add upsampling layer in order to obtain one layer for each point\n",
        "\n",
        "    model.compile(loss=\"sparse_categorical_crossentropy\", optimizer=opt, metrics=['sparse_categorical_accuracy']) #metrics=[\"categorical_accuracy\"]) #model.compile(optimizer='rmsprop', loss='sparse_categorical_crossentropy', metrics=['sparse_categorical_accuracy'])\n",
        "\n",
        "\n",
        "    history = model.fit(input_train, validation_data=input_valid,\n",
        "                    batch_size=BS, \n",
        "                    epochs=NUM_EPOCHS)\n",
        "    # plotting the metrics\n",
        "    plt.subplot(2, 1, 1)\n",
        "    plt.title('Sparse Crossentropy Loss')\n",
        "    plt.plot(history.history['loss'], color='blue', label='train')\n",
        "    plt.plot(history.history['val_loss'], color='orange', label='val')\n",
        "\t\t# plot accuracy\n",
        "    plt.subplot(2, 1, 2)\n",
        "    plt.title('Classification Accuracy')\n",
        "    plt.plot(history.history['sparse_categorical_accuracy'], color='blue', label='train')\n",
        "    plt.plot(history.history['val_sparse_categorical_accuracy'], color='orange', label='val')\n",
        "    score = model.evaluate(input_test, verbose=0) #evaluate based on test dataset, which was not used for training and validation\n",
        "    return model.summary(), history, print('Loss using testing dataset=', score[0]), print('Accuracy using testing dataset=', score[1]) "
      ],
      "metadata": {
        "id": "oGTzsByJkHoy"
      },
      "execution_count": 55,
      "outputs": []
    },
    {
      "cell_type": "code",
      "source": [
        "cnn=cnn(opt, input_train, input_valid, input_test)"
      ],
      "metadata": {
        "colab": {
          "base_uri": "https://localhost:8080/",
          "height": 345
        },
        "id": "IbXSZ2A9iktB",
        "outputId": "ca53a432-920a-4688-b0b9-e969dd171498"
      },
      "execution_count": 56,
      "outputs": [
        {
          "output_type": "stream",
          "name": "stdout",
          "text": [
            "Epoch 1/100\n",
            " 162/1250 [==>...........................] - ETA: 7:18 - loss: 2.0967 - sparse_categorical_accuracy: 0.2977"
          ]
        },
        {
          "output_type": "error",
          "ename": "KeyboardInterrupt",
          "evalue": "ignored",
          "traceback": [
            "\u001b[0;31m---------------------------------------------------------------------------\u001b[0m",
            "\u001b[0;31mKeyboardInterrupt\u001b[0m                         Traceback (most recent call last)",
            "\u001b[0;32m<ipython-input-56-c0b5f0855f62>\u001b[0m in \u001b[0;36m<module>\u001b[0;34m()\u001b[0m\n\u001b[0;32m----> 1\u001b[0;31m \u001b[0mcnn\u001b[0m\u001b[0;34m=\u001b[0m\u001b[0mcnn\u001b[0m\u001b[0;34m(\u001b[0m\u001b[0mopt\u001b[0m\u001b[0;34m,\u001b[0m \u001b[0minput_train\u001b[0m\u001b[0;34m,\u001b[0m \u001b[0minput_valid\u001b[0m\u001b[0;34m,\u001b[0m \u001b[0minput_test\u001b[0m\u001b[0;34m)\u001b[0m\u001b[0;34m\u001b[0m\u001b[0;34m\u001b[0m\u001b[0m\n\u001b[0m",
            "\u001b[0;32m<ipython-input-55-51f93d2b4ee2>\u001b[0m in \u001b[0;36mcnn\u001b[0;34m(opt, input_train, input_valid, input_test)\u001b[0m\n\u001b[1;32m     17\u001b[0m     history = model.fit(input_train, validation_data=input_valid,\n\u001b[1;32m     18\u001b[0m                     \u001b[0mbatch_size\u001b[0m\u001b[0;34m=\u001b[0m\u001b[0mBS\u001b[0m\u001b[0;34m,\u001b[0m\u001b[0;34m\u001b[0m\u001b[0;34m\u001b[0m\u001b[0m\n\u001b[0;32m---> 19\u001b[0;31m                     epochs=NUM_EPOCHS)\n\u001b[0m\u001b[1;32m     20\u001b[0m     \u001b[0;31m# plotting the metrics\u001b[0m\u001b[0;34m\u001b[0m\u001b[0;34m\u001b[0m\u001b[0;34m\u001b[0m\u001b[0m\n\u001b[1;32m     21\u001b[0m     \u001b[0mplt\u001b[0m\u001b[0;34m.\u001b[0m\u001b[0msubplot\u001b[0m\u001b[0;34m(\u001b[0m\u001b[0;36m2\u001b[0m\u001b[0;34m,\u001b[0m \u001b[0;36m1\u001b[0m\u001b[0;34m,\u001b[0m \u001b[0;36m1\u001b[0m\u001b[0;34m)\u001b[0m\u001b[0;34m\u001b[0m\u001b[0;34m\u001b[0m\u001b[0m\n",
            "\u001b[0;32m/usr/local/lib/python3.7/dist-packages/keras/utils/traceback_utils.py\u001b[0m in \u001b[0;36merror_handler\u001b[0;34m(*args, **kwargs)\u001b[0m\n\u001b[1;32m     62\u001b[0m     \u001b[0mfiltered_tb\u001b[0m \u001b[0;34m=\u001b[0m \u001b[0;32mNone\u001b[0m\u001b[0;34m\u001b[0m\u001b[0;34m\u001b[0m\u001b[0m\n\u001b[1;32m     63\u001b[0m     \u001b[0;32mtry\u001b[0m\u001b[0;34m:\u001b[0m\u001b[0;34m\u001b[0m\u001b[0;34m\u001b[0m\u001b[0m\n\u001b[0;32m---> 64\u001b[0;31m       \u001b[0;32mreturn\u001b[0m \u001b[0mfn\u001b[0m\u001b[0;34m(\u001b[0m\u001b[0;34m*\u001b[0m\u001b[0margs\u001b[0m\u001b[0;34m,\u001b[0m \u001b[0;34m**\u001b[0m\u001b[0mkwargs\u001b[0m\u001b[0;34m)\u001b[0m\u001b[0;34m\u001b[0m\u001b[0;34m\u001b[0m\u001b[0m\n\u001b[0m\u001b[1;32m     65\u001b[0m     \u001b[0;32mexcept\u001b[0m \u001b[0mException\u001b[0m \u001b[0;32mas\u001b[0m \u001b[0me\u001b[0m\u001b[0;34m:\u001b[0m  \u001b[0;31m# pylint: disable=broad-except\u001b[0m\u001b[0;34m\u001b[0m\u001b[0;34m\u001b[0m\u001b[0m\n\u001b[1;32m     66\u001b[0m       \u001b[0mfiltered_tb\u001b[0m \u001b[0;34m=\u001b[0m \u001b[0m_process_traceback_frames\u001b[0m\u001b[0;34m(\u001b[0m\u001b[0me\u001b[0m\u001b[0;34m.\u001b[0m\u001b[0m__traceback__\u001b[0m\u001b[0;34m)\u001b[0m\u001b[0;34m\u001b[0m\u001b[0;34m\u001b[0m\u001b[0m\n",
            "\u001b[0;32m/usr/local/lib/python3.7/dist-packages/keras/engine/training.py\u001b[0m in \u001b[0;36mfit\u001b[0;34m(self, x, y, batch_size, epochs, verbose, callbacks, validation_split, validation_data, shuffle, class_weight, sample_weight, initial_epoch, steps_per_epoch, validation_steps, validation_batch_size, validation_freq, max_queue_size, workers, use_multiprocessing)\u001b[0m\n\u001b[1;32m   1382\u001b[0m                 _r=1):\n\u001b[1;32m   1383\u001b[0m               \u001b[0mcallbacks\u001b[0m\u001b[0;34m.\u001b[0m\u001b[0mon_train_batch_begin\u001b[0m\u001b[0;34m(\u001b[0m\u001b[0mstep\u001b[0m\u001b[0;34m)\u001b[0m\u001b[0;34m\u001b[0m\u001b[0;34m\u001b[0m\u001b[0m\n\u001b[0;32m-> 1384\u001b[0;31m               \u001b[0mtmp_logs\u001b[0m \u001b[0;34m=\u001b[0m \u001b[0mself\u001b[0m\u001b[0;34m.\u001b[0m\u001b[0mtrain_function\u001b[0m\u001b[0;34m(\u001b[0m\u001b[0miterator\u001b[0m\u001b[0;34m)\u001b[0m\u001b[0;34m\u001b[0m\u001b[0;34m\u001b[0m\u001b[0m\n\u001b[0m\u001b[1;32m   1385\u001b[0m               \u001b[0;32mif\u001b[0m \u001b[0mdata_handler\u001b[0m\u001b[0;34m.\u001b[0m\u001b[0mshould_sync\u001b[0m\u001b[0;34m:\u001b[0m\u001b[0;34m\u001b[0m\u001b[0;34m\u001b[0m\u001b[0m\n\u001b[1;32m   1386\u001b[0m                 \u001b[0mcontext\u001b[0m\u001b[0;34m.\u001b[0m\u001b[0masync_wait\u001b[0m\u001b[0;34m(\u001b[0m\u001b[0;34m)\u001b[0m\u001b[0;34m\u001b[0m\u001b[0;34m\u001b[0m\u001b[0m\n",
            "\u001b[0;32m/usr/local/lib/python3.7/dist-packages/tensorflow/python/util/traceback_utils.py\u001b[0m in \u001b[0;36merror_handler\u001b[0;34m(*args, **kwargs)\u001b[0m\n\u001b[1;32m    148\u001b[0m     \u001b[0mfiltered_tb\u001b[0m \u001b[0;34m=\u001b[0m \u001b[0;32mNone\u001b[0m\u001b[0;34m\u001b[0m\u001b[0;34m\u001b[0m\u001b[0m\n\u001b[1;32m    149\u001b[0m     \u001b[0;32mtry\u001b[0m\u001b[0;34m:\u001b[0m\u001b[0;34m\u001b[0m\u001b[0;34m\u001b[0m\u001b[0m\n\u001b[0;32m--> 150\u001b[0;31m       \u001b[0;32mreturn\u001b[0m \u001b[0mfn\u001b[0m\u001b[0;34m(\u001b[0m\u001b[0;34m*\u001b[0m\u001b[0margs\u001b[0m\u001b[0;34m,\u001b[0m \u001b[0;34m**\u001b[0m\u001b[0mkwargs\u001b[0m\u001b[0;34m)\u001b[0m\u001b[0;34m\u001b[0m\u001b[0;34m\u001b[0m\u001b[0m\n\u001b[0m\u001b[1;32m    151\u001b[0m     \u001b[0;32mexcept\u001b[0m \u001b[0mException\u001b[0m \u001b[0;32mas\u001b[0m \u001b[0me\u001b[0m\u001b[0;34m:\u001b[0m\u001b[0;34m\u001b[0m\u001b[0;34m\u001b[0m\u001b[0m\n\u001b[1;32m    152\u001b[0m       \u001b[0mfiltered_tb\u001b[0m \u001b[0;34m=\u001b[0m \u001b[0m_process_traceback_frames\u001b[0m\u001b[0;34m(\u001b[0m\u001b[0me\u001b[0m\u001b[0;34m.\u001b[0m\u001b[0m__traceback__\u001b[0m\u001b[0;34m)\u001b[0m\u001b[0;34m\u001b[0m\u001b[0;34m\u001b[0m\u001b[0m\n",
            "\u001b[0;32m/usr/local/lib/python3.7/dist-packages/tensorflow/python/eager/def_function.py\u001b[0m in \u001b[0;36m__call__\u001b[0;34m(self, *args, **kwds)\u001b[0m\n\u001b[1;32m    913\u001b[0m \u001b[0;34m\u001b[0m\u001b[0m\n\u001b[1;32m    914\u001b[0m       \u001b[0;32mwith\u001b[0m \u001b[0mOptionalXlaContext\u001b[0m\u001b[0;34m(\u001b[0m\u001b[0mself\u001b[0m\u001b[0;34m.\u001b[0m\u001b[0m_jit_compile\u001b[0m\u001b[0;34m)\u001b[0m\u001b[0;34m:\u001b[0m\u001b[0;34m\u001b[0m\u001b[0;34m\u001b[0m\u001b[0m\n\u001b[0;32m--> 915\u001b[0;31m         \u001b[0mresult\u001b[0m \u001b[0;34m=\u001b[0m \u001b[0mself\u001b[0m\u001b[0;34m.\u001b[0m\u001b[0m_call\u001b[0m\u001b[0;34m(\u001b[0m\u001b[0;34m*\u001b[0m\u001b[0margs\u001b[0m\u001b[0;34m,\u001b[0m \u001b[0;34m**\u001b[0m\u001b[0mkwds\u001b[0m\u001b[0;34m)\u001b[0m\u001b[0;34m\u001b[0m\u001b[0;34m\u001b[0m\u001b[0m\n\u001b[0m\u001b[1;32m    916\u001b[0m \u001b[0;34m\u001b[0m\u001b[0m\n\u001b[1;32m    917\u001b[0m       \u001b[0mnew_tracing_count\u001b[0m \u001b[0;34m=\u001b[0m \u001b[0mself\u001b[0m\u001b[0;34m.\u001b[0m\u001b[0mexperimental_get_tracing_count\u001b[0m\u001b[0;34m(\u001b[0m\u001b[0;34m)\u001b[0m\u001b[0;34m\u001b[0m\u001b[0;34m\u001b[0m\u001b[0m\n",
            "\u001b[0;32m/usr/local/lib/python3.7/dist-packages/tensorflow/python/eager/def_function.py\u001b[0m in \u001b[0;36m_call\u001b[0;34m(self, *args, **kwds)\u001b[0m\n\u001b[1;32m    945\u001b[0m       \u001b[0;31m# In this case we have created variables on the first call, so we run the\u001b[0m\u001b[0;34m\u001b[0m\u001b[0;34m\u001b[0m\u001b[0;34m\u001b[0m\u001b[0m\n\u001b[1;32m    946\u001b[0m       \u001b[0;31m# defunned version which is guaranteed to never create variables.\u001b[0m\u001b[0;34m\u001b[0m\u001b[0;34m\u001b[0m\u001b[0;34m\u001b[0m\u001b[0m\n\u001b[0;32m--> 947\u001b[0;31m       \u001b[0;32mreturn\u001b[0m \u001b[0mself\u001b[0m\u001b[0;34m.\u001b[0m\u001b[0m_stateless_fn\u001b[0m\u001b[0;34m(\u001b[0m\u001b[0;34m*\u001b[0m\u001b[0margs\u001b[0m\u001b[0;34m,\u001b[0m \u001b[0;34m**\u001b[0m\u001b[0mkwds\u001b[0m\u001b[0;34m)\u001b[0m  \u001b[0;31m# pylint: disable=not-callable\u001b[0m\u001b[0;34m\u001b[0m\u001b[0;34m\u001b[0m\u001b[0m\n\u001b[0m\u001b[1;32m    948\u001b[0m     \u001b[0;32melif\u001b[0m \u001b[0mself\u001b[0m\u001b[0;34m.\u001b[0m\u001b[0m_stateful_fn\u001b[0m \u001b[0;32mis\u001b[0m \u001b[0;32mnot\u001b[0m \u001b[0;32mNone\u001b[0m\u001b[0;34m:\u001b[0m\u001b[0;34m\u001b[0m\u001b[0;34m\u001b[0m\u001b[0m\n\u001b[1;32m    949\u001b[0m       \u001b[0;31m# Release the lock early so that multiple threads can perform the call\u001b[0m\u001b[0;34m\u001b[0m\u001b[0;34m\u001b[0m\u001b[0;34m\u001b[0m\u001b[0m\n",
            "\u001b[0;32m/usr/local/lib/python3.7/dist-packages/tensorflow/python/eager/function.py\u001b[0m in \u001b[0;36m__call__\u001b[0;34m(self, *args, **kwargs)\u001b[0m\n\u001b[1;32m   2955\u001b[0m        filtered_flat_args) = self._maybe_define_function(args, kwargs)\n\u001b[1;32m   2956\u001b[0m     return graph_function._call_flat(\n\u001b[0;32m-> 2957\u001b[0;31m         filtered_flat_args, captured_inputs=graph_function.captured_inputs)  # pylint: disable=protected-access\n\u001b[0m\u001b[1;32m   2958\u001b[0m \u001b[0;34m\u001b[0m\u001b[0m\n\u001b[1;32m   2959\u001b[0m   \u001b[0;34m@\u001b[0m\u001b[0mproperty\u001b[0m\u001b[0;34m\u001b[0m\u001b[0;34m\u001b[0m\u001b[0m\n",
            "\u001b[0;32m/usr/local/lib/python3.7/dist-packages/tensorflow/python/eager/function.py\u001b[0m in \u001b[0;36m_call_flat\u001b[0;34m(self, args, captured_inputs, cancellation_manager)\u001b[0m\n\u001b[1;32m   1852\u001b[0m       \u001b[0;31m# No tape is watching; skip to running the function.\u001b[0m\u001b[0;34m\u001b[0m\u001b[0;34m\u001b[0m\u001b[0;34m\u001b[0m\u001b[0m\n\u001b[1;32m   1853\u001b[0m       return self._build_call_outputs(self._inference_function.call(\n\u001b[0;32m-> 1854\u001b[0;31m           ctx, args, cancellation_manager=cancellation_manager))\n\u001b[0m\u001b[1;32m   1855\u001b[0m     forward_backward = self._select_forward_and_backward_functions(\n\u001b[1;32m   1856\u001b[0m         \u001b[0margs\u001b[0m\u001b[0;34m,\u001b[0m\u001b[0;34m\u001b[0m\u001b[0;34m\u001b[0m\u001b[0m\n",
            "\u001b[0;32m/usr/local/lib/python3.7/dist-packages/tensorflow/python/eager/function.py\u001b[0m in \u001b[0;36mcall\u001b[0;34m(self, ctx, args, cancellation_manager)\u001b[0m\n\u001b[1;32m    502\u001b[0m               \u001b[0minputs\u001b[0m\u001b[0;34m=\u001b[0m\u001b[0margs\u001b[0m\u001b[0;34m,\u001b[0m\u001b[0;34m\u001b[0m\u001b[0;34m\u001b[0m\u001b[0m\n\u001b[1;32m    503\u001b[0m               \u001b[0mattrs\u001b[0m\u001b[0;34m=\u001b[0m\u001b[0mattrs\u001b[0m\u001b[0;34m,\u001b[0m\u001b[0;34m\u001b[0m\u001b[0;34m\u001b[0m\u001b[0m\n\u001b[0;32m--> 504\u001b[0;31m               ctx=ctx)\n\u001b[0m\u001b[1;32m    505\u001b[0m         \u001b[0;32melse\u001b[0m\u001b[0;34m:\u001b[0m\u001b[0;34m\u001b[0m\u001b[0;34m\u001b[0m\u001b[0m\n\u001b[1;32m    506\u001b[0m           outputs = execute.execute_with_cancellation(\n",
            "\u001b[0;32m/usr/local/lib/python3.7/dist-packages/tensorflow/python/eager/execute.py\u001b[0m in \u001b[0;36mquick_execute\u001b[0;34m(op_name, num_outputs, inputs, attrs, ctx, name)\u001b[0m\n\u001b[1;32m     53\u001b[0m     \u001b[0mctx\u001b[0m\u001b[0;34m.\u001b[0m\u001b[0mensure_initialized\u001b[0m\u001b[0;34m(\u001b[0m\u001b[0;34m)\u001b[0m\u001b[0;34m\u001b[0m\u001b[0;34m\u001b[0m\u001b[0m\n\u001b[1;32m     54\u001b[0m     tensors = pywrap_tfe.TFE_Py_Execute(ctx._handle, device_name, op_name,\n\u001b[0;32m---> 55\u001b[0;31m                                         inputs, attrs, num_outputs)\n\u001b[0m\u001b[1;32m     56\u001b[0m   \u001b[0;32mexcept\u001b[0m \u001b[0mcore\u001b[0m\u001b[0;34m.\u001b[0m\u001b[0m_NotOkStatusException\u001b[0m \u001b[0;32mas\u001b[0m \u001b[0me\u001b[0m\u001b[0;34m:\u001b[0m\u001b[0;34m\u001b[0m\u001b[0;34m\u001b[0m\u001b[0m\n\u001b[1;32m     57\u001b[0m     \u001b[0;32mif\u001b[0m \u001b[0mname\u001b[0m \u001b[0;32mis\u001b[0m \u001b[0;32mnot\u001b[0m \u001b[0;32mNone\u001b[0m\u001b[0;34m:\u001b[0m\u001b[0;34m\u001b[0m\u001b[0;34m\u001b[0m\u001b[0m\n",
            "\u001b[0;31mKeyboardInterrupt\u001b[0m: "
          ]
        }
      ]
    },
    {
      "cell_type": "markdown",
      "metadata": {
        "id": "Y5oyAKEYj-5c"
      },
      "source": [
        "## Convolutional Neural network"
      ]
    },
    {
      "cell_type": "markdown",
      "source": [
        "### Define hyperparameters"
      ],
      "metadata": {
        "id": "F8sJGJhAMGO8"
      }
    },
    {
      "cell_type": "code",
      "source": [
        "NUM_EPOCHS = 100 #Increase epochs if you do not see a flatlined loss function\n",
        "#Add batch normalization\n",
        "INIT_LR  = 0.0001 #change to 0.001 after\n",
        "BS = 32 #batch size\n",
        "opt= SGD(learning_rate=INIT_LR, momentum=0.9, decay=INIT_LR / NUM_EPOCHS)\n",
        "opt2 = tf.optimizers.Adam(learning_rate = INIT_LR)\n",
        "from keras.callbacks import EarlyStopping  \n",
        "early_stopping =EarlyStopping(monitor='loss', patience=2) "
      ],
      "metadata": {
        "id": "8PVrcq5ZMGZq"
      },
      "execution_count": 62,
      "outputs": []
    },
    {
      "cell_type": "code",
      "source": [
        "def cnn(opt, input_train, input_valid, input_test):\n",
        "    model = Sequential() \n",
        "    model.add(Conv1D(64, 3, padding=\"same\", input_shape=input_shape2))\n",
        "    model.add(Activation(\"LeakyReLU\"))\n",
        "    model.add(BatchNormalization())\n",
        "    #model.add(Dropout(0.25))\n",
        "    model.add(Conv1D(32, 3, padding=\"same\"))\n",
        "    model.add(Activation(\"LeakyReLU\"))\n",
        "    model.add(BatchNormalization())\n",
        "   # model.add(Dropout(0.1))\n",
        "    model.add(Flatten()) \n",
        "    #output layer\n",
        "    model.add(Dense(100)) #because we have 4 y outputs, but also because it does not start at 0, we should reshape here to have an output of 10000 (2000x5)\n",
        "    model.add(Activation(\"softmax\"))\n",
        "    model.add(Reshape((20, 5))) #output is all cut data (segment size) and target numbers\n",
        "    model.add(UpSampling1D(100)) #Add upsampling layer in order to obtain one layer for each point\n",
        "\n",
        "    model.compile(loss=\"sparse_categorical_crossentropy\", optimizer=opt, metrics=['sparse_categorical_accuracy']) #metrics=[\"categorical_accuracy\"]) #model.compile(optimizer='rmsprop', loss='sparse_categorical_crossentropy', metrics=['sparse_categorical_accuracy'])\n",
        "\n",
        "\n",
        "    history = model.fit(input_train, validation_data=input_valid,\n",
        "                    batch_size=BS, \n",
        "                    epochs=NUM_EPOCHS, callbacks=[early_stopping])\n",
        "    # plotting the metrics\n",
        "    plt.subplot(2, 1, 1)\n",
        "    plt.title('Sparse Crossentropy Loss')\n",
        "    plt.plot(history.history['loss'], color='blue', label='train')\n",
        "    plt.plot(history.history['val_loss'], color='orange', label='val')\n",
        "\t\t# plot accuracy\n",
        "    plt.subplot(2, 1, 2)\n",
        "    plt.title('Classification Accuracy')\n",
        "    plt.plot(history.history['sparse_categorical_accuracy'], color='blue', label='train')\n",
        "    plt.plot(history.history['val_sparse_categorical_accuracy'], color='orange', label='val')\n",
        "    score = model.evaluate(input_test, verbose=0) #evaluate based on test dataset, which was not used for training and validation\n",
        "    return model.summary(), history, print('Loss using testing dataset=', score[0]), print('Accuracy using testing dataset=', score[1]) "
      ],
      "metadata": {
        "id": "wCEqbpYrlygW"
      },
      "execution_count": 63,
      "outputs": []
    },
    {
      "cell_type": "code",
      "source": [
        "cnn=cnn(opt, input_train2, input_valid2, input_test2)"
      ],
      "metadata": {
        "colab": {
          "base_uri": "https://localhost:8080/",
          "height": 1000
        },
        "id": "MhNd-9zzmEPl",
        "outputId": "d3224ba1-1620-4cf0-b71f-5db62495fc7d"
      },
      "execution_count": 64,
      "outputs": [
        {
          "output_type": "stream",
          "name": "stdout",
          "text": [
            "Epoch 1/100\n",
            "1250/1250 [==============================] - 81s 15ms/step - loss: 1.7852 - sparse_categorical_accuracy: 0.3069 - val_loss: 1.4686 - val_sparse_categorical_accuracy: 0.4345\n",
            "Epoch 2/100\n",
            "1250/1250 [==============================] - 25s 20ms/step - loss: 1.2514 - sparse_categorical_accuracy: 0.5139 - val_loss: 1.2173 - val_sparse_categorical_accuracy: 0.5635\n",
            "Epoch 3/100\n",
            "1250/1250 [==============================] - 22s 17ms/step - loss: 1.0600 - sparse_categorical_accuracy: 0.6151 - val_loss: 1.1078 - val_sparse_categorical_accuracy: 0.6306\n",
            "Epoch 4/100\n",
            "1250/1250 [==============================] - 19s 15ms/step - loss: 0.9742 - sparse_categorical_accuracy: 0.6502 - val_loss: 1.0273 - val_sparse_categorical_accuracy: 0.6470\n",
            "Epoch 5/100\n",
            "1250/1250 [==============================] - 23s 18ms/step - loss: 0.9160 - sparse_categorical_accuracy: 0.6724 - val_loss: 1.0105 - val_sparse_categorical_accuracy: 0.6370\n",
            "Epoch 6/100\n",
            "1250/1250 [==============================] - 18s 14ms/step - loss: 0.8698 - sparse_categorical_accuracy: 0.6913 - val_loss: 0.9874 - val_sparse_categorical_accuracy: 0.6473\n",
            "Epoch 7/100\n",
            "1250/1250 [==============================] - 18s 14ms/step - loss: 0.8428 - sparse_categorical_accuracy: 0.6996 - val_loss: 0.9401 - val_sparse_categorical_accuracy: 0.6633\n",
            "Epoch 8/100\n",
            "1250/1250 [==============================] - 19s 15ms/step - loss: 0.8259 - sparse_categorical_accuracy: 0.7032 - val_loss: 0.8945 - val_sparse_categorical_accuracy: 0.6747\n",
            "Epoch 9/100\n",
            "1250/1250 [==============================] - 19s 15ms/step - loss: 0.8111 - sparse_categorical_accuracy: 0.7077 - val_loss: 0.8851 - val_sparse_categorical_accuracy: 0.6802\n",
            "Epoch 10/100\n",
            "1250/1250 [==============================] - 19s 15ms/step - loss: 0.8003 - sparse_categorical_accuracy: 0.7169 - val_loss: 0.8882 - val_sparse_categorical_accuracy: 0.6894\n",
            "Epoch 11/100\n",
            "1250/1250 [==============================] - 18s 14ms/step - loss: 0.7558 - sparse_categorical_accuracy: 0.7291 - val_loss: 0.9125 - val_sparse_categorical_accuracy: 0.6728\n",
            "Epoch 12/100\n",
            "1250/1250 [==============================] - 18s 14ms/step - loss: 0.7486 - sparse_categorical_accuracy: 0.7307 - val_loss: 0.8284 - val_sparse_categorical_accuracy: 0.7153\n",
            "Epoch 13/100\n",
            "1250/1250 [==============================] - 18s 14ms/step - loss: 0.7377 - sparse_categorical_accuracy: 0.7368 - val_loss: 0.8444 - val_sparse_categorical_accuracy: 0.7062\n",
            "Epoch 14/100\n",
            "1250/1250 [==============================] - 18s 14ms/step - loss: 0.7270 - sparse_categorical_accuracy: 0.7423 - val_loss: 0.8170 - val_sparse_categorical_accuracy: 0.7084\n",
            "Epoch 15/100\n",
            "1250/1250 [==============================] - 18s 14ms/step - loss: 0.7074 - sparse_categorical_accuracy: 0.7537 - val_loss: 0.8780 - val_sparse_categorical_accuracy: 0.7100\n",
            "Epoch 16/100\n",
            "1250/1250 [==============================] - 19s 15ms/step - loss: 0.7026 - sparse_categorical_accuracy: 0.7493 - val_loss: 0.7962 - val_sparse_categorical_accuracy: 0.7228\n",
            "Epoch 17/100\n",
            "1250/1250 [==============================] - 18s 15ms/step - loss: 0.7053 - sparse_categorical_accuracy: 0.7505 - val_loss: 0.8000 - val_sparse_categorical_accuracy: 0.7097\n",
            "Epoch 18/100\n",
            "1250/1250 [==============================] - 18s 14ms/step - loss: 0.6782 - sparse_categorical_accuracy: 0.7617 - val_loss: 0.7969 - val_sparse_categorical_accuracy: 0.7159\n",
            "Epoch 19/100\n",
            "1250/1250 [==============================] - 18s 14ms/step - loss: 0.6810 - sparse_categorical_accuracy: 0.7570 - val_loss: 0.8036 - val_sparse_categorical_accuracy: 0.7316\n",
            "Epoch 20/100\n",
            "1250/1250 [==============================] - 18s 15ms/step - loss: 0.6790 - sparse_categorical_accuracy: 0.7576 - val_loss: 0.7635 - val_sparse_categorical_accuracy: 0.7429\n",
            "Model: \"sequential_5\"\n",
            "_________________________________________________________________\n",
            " Layer (type)                Output Shape              Param #   \n",
            "=================================================================\n",
            " conv1d_6 (Conv1D)           (None, 61, 64)            6400      \n",
            "                                                                 \n",
            " activation_18 (Activation)  (None, 61, 64)            0         \n",
            "                                                                 \n",
            " batch_normalization_11 (Bat  (None, 61, 64)           256       \n",
            " chNormalization)                                                \n",
            "                                                                 \n",
            " conv1d_7 (Conv1D)           (None, 61, 32)            6176      \n",
            "                                                                 \n",
            " activation_19 (Activation)  (None, 61, 32)            0         \n",
            "                                                                 \n",
            " batch_normalization_12 (Bat  (None, 61, 32)           128       \n",
            " chNormalization)                                                \n",
            "                                                                 \n",
            " flatten_6 (Flatten)         (None, 1952)              0         \n",
            "                                                                 \n",
            " dense_8 (Dense)             (None, 100)               195300    \n",
            "                                                                 \n",
            " activation_20 (Activation)  (None, 100)               0         \n",
            "                                                                 \n",
            " reshape_8 (Reshape)         (None, 20, 5)             0         \n",
            "                                                                 \n",
            " up_sampling1d_6 (UpSampling  (None, 2000, 5)          0         \n",
            " 1D)                                                             \n",
            "                                                                 \n",
            "=================================================================\n",
            "Total params: 208,260\n",
            "Trainable params: 208,068\n",
            "Non-trainable params: 192\n",
            "_________________________________________________________________\n",
            "Loss using testing dataset= 0.7952355742454529\n",
            "Accuracy using testing dataset= 0.728211522102356\n"
          ]
        },
        {
          "output_type": "display_data",
          "data": {
            "text/plain": [
              "<Figure size 432x288 with 2 Axes>"
            ],
            "image/png": "[encoded data removed]"
          },
          "metadata": {
            "needs_background": "light"
          }
        }
      ]
    },
    {
      "cell_type": "code",
      "source": [
        ""
      ],
      "metadata": {
        "id": "7Dbbq2g0rrqn"
      },
      "execution_count": null,
      "outputs": []
    },
    {
      "cell_type": "code",
      "source": [
        "def cnn1(opt, input_train, input_valid, input_test):\n",
        "    model = Sequential() \n",
        "    model.add(Conv1D(64, 3, padding=\"same\", input_shape=input_shape2))\n",
        "    model.add(Activation(\"LeakyReLU\"))\n",
        "    model.add(BatchNormalization())\n",
        "    model.add(Dropout(0.25))\n",
        "    model.add(Conv1D(32, 3, padding=\"same\"))\n",
        "    model.add(Activation(\"LeakyReLU\"))\n",
        "    model.add(BatchNormalization())\n",
        "    model.add(Dropout(0.25))\n",
        "    model.add(Flatten()) \n",
        "    #output layer\n",
        "    model.add(Dense(100)) #because we have 4 y outputs, but also because it does not start at 0, we should reshape here to have an output of 10000 (2000x5)\n",
        "    model.add(Activation(\"softmax\"))\n",
        "    model.add(Reshape((20, 5))) #output is all cut data (segment size) and target numbers\n",
        "    model.add(UpSampling1D(100)) #Add upsampling layer in order to obtain one layer for each point\n",
        "\n",
        "    model.compile(loss=\"sparse_categorical_crossentropy\", optimizer=opt, metrics=['sparse_categorical_accuracy']) #metrics=[\"categorical_accuracy\"]) #model.compile(optimizer='rmsprop', loss='sparse_categorical_crossentropy', metrics=['sparse_categorical_accuracy'])\n",
        "\n",
        "\n",
        "    history = model.fit(input_train, validation_data=input_valid,\n",
        "                    batch_size=BS, \n",
        "                    epochs=NUM_EPOCHS, callbacks=[early_stopping])\n",
        "    # plotting the metrics\n",
        "    plt.subplot(2, 1, 1)\n",
        "    plt.title('Sparse Crossentropy Loss')\n",
        "    plt.plot(history.history['loss'], color='blue', label='train')\n",
        "    plt.plot(history.history['val_loss'], color='orange', label='val')\n",
        "\t\t# plot accuracy\n",
        "    plt.subplot(2, 1, 2)\n",
        "    plt.title('Classification Accuracy')\n",
        "    plt.plot(history.history['sparse_categorical_accuracy'], color='blue', label='train')\n",
        "    plt.plot(history.history['val_sparse_categorical_accuracy'], color='orange', label='val')\n",
        "    score = model.evaluate(input_test, verbose=0) #evaluate based on test dataset, which was not used for training and validation\n",
        "    return model.summary(), history, print('Loss using testing dataset=', score[0]), print('Accuracy using testing dataset=', score[1]) "
      ],
      "metadata": {
        "id": "BHf3Jw37qPOP"
      },
      "execution_count": 67,
      "outputs": []
    },
    {
      "cell_type": "code",
      "source": [
        "cnn=cnn1(opt, input_train2, input_valid2, input_test2)"
      ],
      "metadata": {
        "colab": {
          "base_uri": "https://localhost:8080/",
          "height": 1000
        },
        "id": "8hflm_p8qbCe",
        "outputId": "31f71c4e-b926-4cd9-ac7a-b740be56f692"
      },
      "execution_count": 66,
      "outputs": [
        {
          "output_type": "stream",
          "name": "stdout",
          "text": [
            "Epoch 1/100\n",
            "1250/1250 [==============================] - 22s 15ms/step - loss: 2.0627 - sparse_categorical_accuracy: 0.2662 - val_loss: 1.5768 - val_sparse_categorical_accuracy: 0.3743\n",
            "Epoch 2/100\n",
            "1250/1250 [==============================] - 18s 15ms/step - loss: 1.5279 - sparse_categorical_accuracy: 0.4178 - val_loss: 1.2810 - val_sparse_categorical_accuracy: 0.5484\n",
            "Epoch 3/100\n",
            "1250/1250 [==============================] - 18s 14ms/step - loss: 1.2737 - sparse_categorical_accuracy: 0.5177 - val_loss: 1.1404 - val_sparse_categorical_accuracy: 0.6016\n",
            "Epoch 4/100\n",
            "1250/1250 [==============================] - 18s 15ms/step - loss: 1.1431 - sparse_categorical_accuracy: 0.5787 - val_loss: 1.1036 - val_sparse_categorical_accuracy: 0.6226\n",
            "Epoch 5/100\n",
            "1250/1250 [==============================] - 18s 14ms/step - loss: 1.0831 - sparse_categorical_accuracy: 0.6001 - val_loss: 1.0747 - val_sparse_categorical_accuracy: 0.6206\n",
            "Epoch 6/100\n",
            "1250/1250 [==============================] - 18s 14ms/step - loss: 1.0228 - sparse_categorical_accuracy: 0.6221 - val_loss: 1.0311 - val_sparse_categorical_accuracy: 0.6277\n",
            "Epoch 7/100\n",
            "1250/1250 [==============================] - 18s 14ms/step - loss: 0.9801 - sparse_categorical_accuracy: 0.6367 - val_loss: 0.9975 - val_sparse_categorical_accuracy: 0.6277\n",
            "Epoch 8/100\n",
            "1250/1250 [==============================] - 18s 14ms/step - loss: 0.9778 - sparse_categorical_accuracy: 0.6398 - val_loss: 0.9460 - val_sparse_categorical_accuracy: 0.6497\n",
            "Epoch 9/100\n",
            "1250/1250 [==============================] - 19s 15ms/step - loss: 0.9558 - sparse_categorical_accuracy: 0.6438 - val_loss: 0.9450 - val_sparse_categorical_accuracy: 0.6530\n",
            "Epoch 10/100\n",
            "1250/1250 [==============================] - 18s 14ms/step - loss: 0.9144 - sparse_categorical_accuracy: 0.6621 - val_loss: 0.9300 - val_sparse_categorical_accuracy: 0.6557\n",
            "Epoch 11/100\n",
            "1250/1250 [==============================] - 30s 24ms/step - loss: 0.9079 - sparse_categorical_accuracy: 0.6630 - val_loss: 0.9594 - val_sparse_categorical_accuracy: 0.6535\n",
            "Epoch 12/100\n",
            "1250/1250 [==============================] - 30s 24ms/step - loss: 0.8979 - sparse_categorical_accuracy: 0.6652 - val_loss: 0.9097 - val_sparse_categorical_accuracy: 0.6542\n",
            "Epoch 13/100\n",
            "1250/1250 [==============================] - 18s 15ms/step - loss: 0.8740 - sparse_categorical_accuracy: 0.6732 - val_loss: 0.9096 - val_sparse_categorical_accuracy: 0.6711\n",
            "Epoch 14/100\n",
            "1250/1250 [==============================] - 18s 14ms/step - loss: 0.8590 - sparse_categorical_accuracy: 0.6801 - val_loss: 0.9008 - val_sparse_categorical_accuracy: 0.6659\n",
            "Epoch 15/100\n",
            "1250/1250 [==============================] - 18s 14ms/step - loss: 0.8627 - sparse_categorical_accuracy: 0.6797 - val_loss: 0.9137 - val_sparse_categorical_accuracy: 0.6621\n",
            "Epoch 16/100\n",
            "1250/1250 [==============================] - 18s 15ms/step - loss: 0.8508 - sparse_categorical_accuracy: 0.6828 - val_loss: 0.8702 - val_sparse_categorical_accuracy: 0.6860\n",
            "Epoch 17/100\n",
            "1250/1250 [==============================] - 18s 14ms/step - loss: 0.8550 - sparse_categorical_accuracy: 0.6811 - val_loss: 0.9141 - val_sparse_categorical_accuracy: 0.6667\n",
            "Epoch 18/100\n",
            "1250/1250 [==============================] - 30s 24ms/step - loss: 0.8385 - sparse_categorical_accuracy: 0.6852 - val_loss: 0.8956 - val_sparse_categorical_accuracy: 0.6751\n",
            "Epoch 19/100\n",
            "1250/1250 [==============================] - 24s 19ms/step - loss: 0.8304 - sparse_categorical_accuracy: 0.6899 - val_loss: 0.8752 - val_sparse_categorical_accuracy: 0.6811\n",
            "Epoch 20/100\n",
            "1250/1250 [==============================] - 27s 22ms/step - loss: 0.8150 - sparse_categorical_accuracy: 0.6929 - val_loss: 0.8725 - val_sparse_categorical_accuracy: 0.6845\n",
            "Epoch 21/100\n",
            "1250/1250 [==============================] - 28s 22ms/step - loss: 0.8141 - sparse_categorical_accuracy: 0.6989 - val_loss: 0.8544 - val_sparse_categorical_accuracy: 0.6924\n",
            "Epoch 22/100\n",
            "1250/1250 [==============================] - 27s 21ms/step - loss: 0.7959 - sparse_categorical_accuracy: 0.7054 - val_loss: 0.8469 - val_sparse_categorical_accuracy: 0.6871\n",
            "Epoch 23/100\n",
            "1250/1250 [==============================] - 29s 23ms/step - loss: 0.8021 - sparse_categorical_accuracy: 0.7041 - val_loss: 0.8306 - val_sparse_categorical_accuracy: 0.6896\n",
            "Epoch 24/100\n",
            "1250/1250 [==============================] - 29s 23ms/step - loss: 0.7994 - sparse_categorical_accuracy: 0.7030 - val_loss: 0.8426 - val_sparse_categorical_accuracy: 0.7002\n",
            "Model: \"sequential_6\"\n",
            "_________________________________________________________________\n",
            " Layer (type)                Output Shape              Param #   \n",
            "=================================================================\n",
            " conv1d_8 (Conv1D)           (None, 61, 64)            6400      \n",
            "                                                                 \n",
            " activation_21 (Activation)  (None, 61, 64)            0         \n",
            "                                                                 \n",
            " batch_normalization_13 (Bat  (None, 61, 64)           256       \n",
            " chNormalization)                                                \n",
            "                                                                 \n",
            " dropout_3 (Dropout)         (None, 61, 64)            0         \n",
            "                                                                 \n",
            " conv1d_9 (Conv1D)           (None, 61, 32)            6176      \n",
            "                                                                 \n",
            " activation_22 (Activation)  (None, 61, 32)            0         \n",
            "                                                                 \n",
            " batch_normalization_14 (Bat  (None, 61, 32)           128       \n",
            " chNormalization)                                                \n",
            "                                                                 \n",
            " dropout_4 (Dropout)         (None, 61, 32)            0         \n",
            "                                                                 \n",
            " flatten_7 (Flatten)         (None, 1952)              0         \n",
            "                                                                 \n",
            " dense_9 (Dense)             (None, 100)               195300    \n",
            "                                                                 \n",
            " activation_23 (Activation)  (None, 100)               0         \n",
            "                                                                 \n",
            " reshape_9 (Reshape)         (None, 20, 5)             0         \n",
            "                                                                 \n",
            " up_sampling1d_7 (UpSampling  (None, 2000, 5)          0         \n",
            " 1D)                                                             \n",
            "                                                                 \n",
            "=================================================================\n",
            "Total params: 208,260\n",
            "Trainable params: 208,068\n",
            "Non-trainable params: 192\n",
            "_________________________________________________________________\n",
            "Loss using testing dataset= 0.8239659070968628\n",
            "Accuracy using testing dataset= 0.7035366892814636\n"
          ]
        },
        {
          "output_type": "display_data",
          "data": {
            "text/plain": [
              "<Figure size 432x288 with 2 Axes>"
            ],
            "image/png": "[encoded data removed]"
          },
          "metadata": {
            "needs_background": "light"
          }
        }
      ]
    },
    {
      "cell_type": "markdown",
      "metadata": {
        "id": "gSTAAUJ2EFuN"
      },
      "source": [
        ""
      ]
    },
    {
      "cell_type": "code",
      "execution_count": 55,
      "metadata": {
        "colab": {
          "base_uri": "https://localhost:8080/"
        },
        "id": "Sr505Q5QEF68",
        "outputId": "b27d9500-3c67-4e61-a079-82bbbb4f4544"
      },
      "outputs": [
        {
          "output_type": "execute_result",
          "data": {
            "text/plain": [
              "<KerasTensor: shape=(None, None, 129) dtype=float32 (created by layer 'inputs')>"
            ]
          },
          "metadata": {},
          "execution_count": 55
        }
      ],
      "source": [
        "inputs = Input(shape=(None,129),name='inputs')\n",
        "inputs_all = Input(shape=[], name='inputs2')\n",
        "inputs_variable=(inputs,inputs_all)\n",
        "inputs_variable[0]"
      ]
    },
    {
      "cell_type": "markdown",
      "metadata": {
        "id": "ZivMuJr4kEBE"
      },
      "source": [
        ""
      ]
    },
    {
      "cell_type": "code",
      "execution_count": 45,
      "metadata": {
        "id": "KbN0v75iFfsb",
        "colab": {
          "base_uri": "https://localhost:8080/"
        },
        "outputId": "df5cb5cd-f173-4ca1-84ca-224c277aeee5"
      },
      "outputs": [
        {
          "output_type": "execute_result",
          "data": {
            "text/plain": [
              "<KerasTensor: shape=(None, None, 65) dtype=float32 (created by layer 'inputs')>"
            ]
          },
          "metadata": {},
          "execution_count": 45
        }
      ],
      "source": [
        "inputs1 = Input(shape=(None,65),name='inputs')\n",
        "inputs_all1 = Input(shape=[], name='inputs2')\n",
        "inputs_variable1=(inputs1,inputs_all1)\n",
        "inputs_variable1[0]"
      ]
    },
    {
      "cell_type": "code",
      "source": [
        "inputs2 = Input(shape=(None,33),name='inputs')\n",
        "inputs_all2 = Input(shape=[], name='inputs2')\n",
        "inputs_variable2=(inputs2,inputs_all2)\n",
        "inputs_variable2[0]"
      ],
      "metadata": {
        "colab": {
          "base_uri": "https://localhost:8080/"
        },
        "id": "H4mfZxxgMo6C",
        "outputId": "54d9b7c1-f8f8-41b4-f6db-3ecf71b274cf"
      },
      "execution_count": 46,
      "outputs": [
        {
          "output_type": "execute_result",
          "data": {
            "text/plain": [
              "<KerasTensor: shape=(None, None, 33) dtype=float32 (created by layer 'inputs')>"
            ]
          },
          "metadata": {},
          "execution_count": 46
        }
      ]
    },
    {
      "cell_type": "code",
      "source": [
        "NUM_EPOCHS = 100 #Increase epochs if you do not see a flatlined loss function\n",
        "#Add batch normalization\n",
        "INIT_LR  = 0.0001 #change to 0.001 after\n",
        "BS = 32 #batch size\n",
        "opt= SGD(learning_rate=INIT_LR, momentum=0.9, decay=INIT_LR / NUM_EPOCHS)\n",
        "opt2 = tf.optimizers.Adam(learning_rate = INIT_LR)\n",
        "from keras.callbacks import EarlyStopping  \n",
        "early_stopping =EarlyStopping(monitor='loss', patience=2) "
      ],
      "metadata": {
        "id": "OqWXnKNU_sCg"
      },
      "execution_count": null,
      "outputs": []
    },
    {
      "cell_type": "code",
      "source": [
        "def cnn_variable(opt, inputs, input_variable_valid,input_variable_test):\n",
        "  inputs = Input(shape=(None,33),name='inputs')\n",
        "  inputs_L = Input(shape=[],name='inputs2')\n",
        "  layer_c = Conv1D(256, 1, padding=\"same\")(inputs)\n",
        "  layer = Activation(\"LeakyReLU\")(layer_c)\n",
        "  #layer = Dropout(0.5)(layer)\n",
        "  layer = MaxPooling1D(pool_size = 2)(layer)\n",
        "  layer = Conv1D(128, 1, padding=\"same\")(layer)\n",
        "  layer = BatchNormalization(axis=-1)(layer)\n",
        "  layer = Activation(\"LeakyReLU\")(layer)\n",
        "  #layer = Dropout(0.2)(layer)\n",
        "  layer = MaxPooling1D(pool_size = 2)(layer)\n",
        "  layer = Conv1D(256, 1, padding=\"same\")(layer)\n",
        "  layer = BatchNormalization(axis=-1)(layer)\n",
        "  layer = Activation(\"LeakyReLU\")(layer)\n",
        "  #layer = Dropout(0.2)(layer)\n",
        "  layer = MaxPooling1D(pool_size = 2)(layer)\n",
        "  #layer = Dropout(0.2)(layer)\n",
        "  #layer = Flatten()(layer)\n",
        "  #layer = Dropout(0.2)(layer)\n",
        "  layer = TimeDistributed(Dense(150))(layer)\n",
        "  layer = Reshape((-1,5))(layer)\n",
        "  layer = UpSampling1D(size=15)(layer)\n",
        "  L = tf.cast(tf.reduce_max(inputs_L), tf.int32)\n",
        "  output = layer[:,:L]\n",
        "  model = Model(inputs = (inputs_L,inputs) , outputs=output)\n",
        "  model.compile(loss=\"sparse_categorical_crossentropy\", optimizer=opt, metrics=[\"sparse_categorical_accuracy\"])\n",
        "  history = model.fit(input_variable_train2, validation_data=input_variable_valid2, batch_size=BS, epochs=NUM_EPOCHS, verbose=1, callbacks=[early_stopping])\n",
        "  # plotting the metrics\n",
        "  plt.subplot(2, 1, 1)\n",
        "  plt.title('Sparse Crossentropy Loss')\n",
        "  plt.plot(history.history['loss'], color='blue', label='train')\n",
        "  plt.plot(history.history['val_loss'], color='orange', label='val')\n",
        "\t# plot accuracy\n",
        "  plt.subplot(2, 1, 2)\n",
        "  plt.title('Classification Accuracy')\n",
        "  plt.plot(history.history['sparse_categorical_accuracy'], color='blue', label='train')\n",
        "  plt.plot(history.history['val_sparse_categorical_accuracy'], color='orange', label='val')\n",
        "  score = model.evaluate(input_variable_test2, verbose=0) #evaluate based on test dataset, which was not used for training and validation\n",
        "  return model.summary(), history, print('Loss using testing dataset=', score[0]), print('Accuracy using testing dataset=', score[1]) "
      ],
      "metadata": {
        "id": "SvcvMsgs_hJr"
      },
      "execution_count": 89,
      "outputs": []
    },
    {
      "cell_type": "code",
      "source": [
        "cnn= cnn_variable(opt2, input_variable_train2, input_variable_valid2, input_variable_test2)"
      ],
      "metadata": {
        "colab": {
          "base_uri": "https://localhost:8080/",
          "height": 1000
        },
        "id": "a_Q4-2I2_jCw",
        "outputId": "38962b8f-315f-4a01-85bf-d2775329b553"
      },
      "execution_count": 90,
      "outputs": [
        {
          "output_type": "stream",
          "name": "stdout",
          "text": [
            "Epoch 1/100\n",
            "1250/1250 [==============================] - 57s 45ms/step - loss: 3.4814 - sparse_categorical_accuracy: 0.2384 - val_loss: 2.1343 - val_sparse_categorical_accuracy: 0.2609\n",
            "Epoch 2/100\n",
            "1250/1250 [==============================] - 27s 21ms/step - loss: 2.0250 - sparse_categorical_accuracy: 0.2582 - val_loss: 1.8104 - val_sparse_categorical_accuracy: 0.2608\n",
            "Epoch 3/100\n",
            "1250/1250 [==============================] - 19s 15ms/step - loss: 1.8524 - sparse_categorical_accuracy: 0.2631 - val_loss: 1.8480 - val_sparse_categorical_accuracy: 0.2634\n",
            "Epoch 4/100\n",
            "1250/1250 [==============================] - 19s 15ms/step - loss: 1.8099 - sparse_categorical_accuracy: 0.2638 - val_loss: 1.7161 - val_sparse_categorical_accuracy: 0.2688\n",
            "Epoch 5/100\n",
            "1250/1250 [==============================] - 31s 25ms/step - loss: 1.7542 - sparse_categorical_accuracy: 0.2707 - val_loss: 1.6850 - val_sparse_categorical_accuracy: 0.2845\n",
            "Epoch 6/100\n",
            "1250/1250 [==============================] - 29s 23ms/step - loss: 1.7270 - sparse_categorical_accuracy: 0.2768 - val_loss: 1.7068 - val_sparse_categorical_accuracy: 0.2844\n",
            "Epoch 7/100\n",
            "1250/1250 [==============================] - 30s 24ms/step - loss: 1.7184 - sparse_categorical_accuracy: 0.2816 - val_loss: 1.6644 - val_sparse_categorical_accuracy: 0.2890\n",
            "Epoch 8/100\n",
            "1250/1250 [==============================] - 19s 15ms/step - loss: 1.6707 - sparse_categorical_accuracy: 0.2878 - val_loss: 1.6373 - val_sparse_categorical_accuracy: 0.2968\n",
            "Epoch 9/100\n",
            "1250/1250 [==============================] - 19s 15ms/step - loss: 1.6563 - sparse_categorical_accuracy: 0.2925 - val_loss: 1.6433 - val_sparse_categorical_accuracy: 0.2966\n",
            "Epoch 10/100\n",
            "1250/1250 [==============================] - 19s 15ms/step - loss: 1.6514 - sparse_categorical_accuracy: 0.2942 - val_loss: 1.6481 - val_sparse_categorical_accuracy: 0.2895\n",
            "Epoch 11/100\n",
            "1250/1250 [==============================] - 19s 15ms/step - loss: 1.6565 - sparse_categorical_accuracy: 0.2927 - val_loss: 1.6425 - val_sparse_categorical_accuracy: 0.2961\n",
            "Epoch 12/100\n",
            "1250/1250 [==============================] - 19s 15ms/step - loss: 1.6526 - sparse_categorical_accuracy: 0.2851 - val_loss: 1.6273 - val_sparse_categorical_accuracy: 0.2908\n",
            "Model: \"model_4\"\n",
            "__________________________________________________________________________________________________\n",
            " Layer (type)                   Output Shape         Param #     Connected to                     \n",
            "==================================================================================================\n",
            " inputs (InputLayer)            [(None, None, 33)]   0           []                               \n",
            "                                                                                                  \n",
            " conv1d_10 (Conv1D)             (None, None, 256)    8704        ['inputs[0][0]']                 \n",
            "                                                                                                  \n",
            " activation_32 (Activation)     (None, None, 256)    0           ['conv1d_10[0][0]']              \n",
            "                                                                                                  \n",
            " max_pooling1d (MaxPooling1D)   (None, None, 256)    0           ['activation_32[0][0]']          \n",
            "                                                                                                  \n",
            " conv1d_11 (Conv1D)             (None, None, 128)    32896       ['max_pooling1d[0][0]']          \n",
            "                                                                                                  \n",
            " batch_normalization_27 (BatchN  (None, None, 128)   512         ['conv1d_11[0][0]']              \n",
            " ormalization)                                                                                    \n",
            "                                                                                                  \n",
            " activation_33 (Activation)     (None, None, 128)    0           ['batch_normalization_27[0][0]'] \n",
            "                                                                                                  \n",
            " max_pooling1d_1 (MaxPooling1D)  (None, None, 128)   0           ['activation_33[0][0]']          \n",
            "                                                                                                  \n",
            " conv1d_12 (Conv1D)             (None, None, 256)    33024       ['max_pooling1d_1[0][0]']        \n",
            "                                                                                                  \n",
            " batch_normalization_28 (BatchN  (None, None, 256)   1024        ['conv1d_12[0][0]']              \n",
            " ormalization)                                                                                    \n",
            "                                                                                                  \n",
            " activation_34 (Activation)     (None, None, 256)    0           ['batch_normalization_28[0][0]'] \n",
            "                                                                                                  \n",
            " max_pooling1d_2 (MaxPooling1D)  (None, None, 256)   0           ['activation_34[0][0]']          \n",
            "                                                                                                  \n",
            " time_distributed_7 (TimeDistri  (None, None, 150)   38550       ['max_pooling1d_2[0][0]']        \n",
            " buted)                                                                                           \n",
            "                                                                                                  \n",
            " inputs2 (InputLayer)           [(None,)]            0           []                               \n",
            "                                                                                                  \n",
            " reshape_15 (Reshape)           (None, None, 5)      0           ['time_distributed_7[0][0]']     \n",
            "                                                                                                  \n",
            " tf.math.reduce_max_3 (TFOpLamb  ()                  0           ['inputs2[0][0]']                \n",
            " da)                                                                                              \n",
            "                                                                                                  \n",
            " up_sampling1d_12 (UpSampling1D  (None, None, 5)     0           ['reshape_15[0][0]']             \n",
            " )                                                                                                \n",
            "                                                                                                  \n",
            " tf.cast_3 (TFOpLambda)         ()                   0           ['tf.math.reduce_max_3[0][0]']   \n",
            "                                                                                                  \n",
            " tf.__operators__.getitem_2 (Sl  (None, None, 5)     0           ['up_sampling1d_12[0][0]',       \n",
            " icingOpLambda)                                                   'tf.cast_3[0][0]']              \n",
            "                                                                                                  \n",
            "==================================================================================================\n",
            "Total params: 114,710\n",
            "Trainable params: 113,942\n",
            "Non-trainable params: 768\n",
            "__________________________________________________________________________________________________\n",
            "Loss using testing dataset= 1.6188064813613892\n",
            "Accuracy using testing dataset= 0.30015867948532104\n"
          ]
        },
        {
          "output_type": "display_data",
          "data": {
            "text/plain": [
              "<Figure size 432x288 with 2 Axes>"
            ],
            "image/png": "[encoded data removed]"
          },
          "metadata": {
            "needs_background": "light"
          }
        }
      ]
    },
    {
      "cell_type": "code",
      "source": [
        "def cnn_variable1(opt, inputs, input_variable_valid,input_variable_test):\n",
        "  inputs = Input(shape=(None,33),name='inputs')\n",
        "  inputs_L = Input(shape=[],name='inputs2')\n",
        "  layer_c = Conv1D(8000, 1, padding=\"same\")(inputs)\n",
        "  layer = Activation(\"LeakyReLU\")(layer_c)\n",
        "  #layer = Dropout(0.5)(layer)\n",
        "  layer = MaxPooling1D(pool_size = 2)(layer)\n",
        "  layer = Conv1D(4000, 1, padding=\"same\")(layer)\n",
        "  layer = BatchNormalization(axis=-1)(layer)\n",
        "  layer = Activation(\"LeakyReLU\")(layer)\n",
        "  #layer = Dropout(0.2)(layer)\n",
        "  layer = MaxPooling1D(pool_size = 2)(layer)\n",
        "  layer = Conv1D(2000, 1, padding=\"same\")(layer)\n",
        "  layer = BatchNormalization(axis=-1)(layer)\n",
        "  layer = Activation(\"LeakyReLU\")(layer)\n",
        "  #layer = Dropout(0.2)(layer)\n",
        "  layer = MaxPooling1D(pool_size = 2)(layer)\n",
        "  layer = Conv1D(1000, 1, padding=\"same\")(layer)\n",
        "  layer = BatchNormalization(axis=-1)(layer)\n",
        "  layer = Activation(\"LeakyReLU\")(layer)\n",
        "  #layer = Dropout(0.2)(layer)\n",
        "  layer = MaxPooling1D(pool_size = 2)(layer)\n",
        "  #layer = Dropout(0.2)(layer)\n",
        "  #layer = Flatten()(layer)\n",
        "  #layer = Dropout(0.2)(layer)\n",
        "  layer = TimeDistributed(Dense(1500))(layer)\n",
        "  layer = Reshape((-1,5))(layer)\n",
        "  layer = UpSampling1D(size=15)(layer)\n",
        "  L = tf.cast(tf.reduce_max(inputs_L), tf.int32)\n",
        "  output = layer[:,:L]\n",
        "  model = Model(inputs = (inputs_L,inputs) , outputs=output)\n",
        "  model.compile(loss=\"sparse_categorical_crossentropy\", optimizer=opt, metrics=[\"sparse_categorical_accuracy\"])\n",
        "  history = model.fit(input_variable_train2, validation_data=input_variable_valid2, batch_size=BS, epochs=NUM_EPOCHS, verbose=1, callbacks=[early_stopping])\n",
        "  # plotting the metrics\n",
        "  plt.subplot(2, 1, 1)\n",
        "  plt.title('Sparse Crossentropy Loss')\n",
        "  plt.plot(history.history['loss'], color='blue', label='train')\n",
        "  plt.plot(history.history['val_loss'], color='orange', label='val')\n",
        "\t# plot accuracy\n",
        "  plt.subplot(2, 1, 2)\n",
        "  plt.title('Classification Accuracy')\n",
        "  plt.plot(history.history['sparse_categorical_accuracy'], color='blue', label='train')\n",
        "  plt.plot(history.history['val_sparse_categorical_accuracy'], color='orange', label='val')\n",
        "  score = model.evaluate(input_variable_test2, verbose=0) #evaluate based on test dataset, which was not used for training and validation\n",
        "  return model.summary(), history, print('Loss using testing dataset=', score[0]), print('Accuracy using testing dataset=', score[1]) "
      ],
      "metadata": {
        "id": "UczA_zoPAF-J"
      },
      "execution_count": 92,
      "outputs": []
    },
    {
      "cell_type": "code",
      "source": [
        "cnn1= cnn_variable1(opt2, input_variable_train2, input_variable_valid2, input_variable_test2)"
      ],
      "metadata": {
        "colab": {
          "base_uri": "https://localhost:8080/",
          "height": 588
        },
        "id": "wdtP9aIXAJmf",
        "outputId": "1e2b4cfe-c087-41b6-fbdb-4882a6510f7f"
      },
      "execution_count": 93,
      "outputs": [
        {
          "output_type": "stream",
          "name": "stdout",
          "text": [
            "Epoch 1/100\n",
            "1250/1250 [==============================] - 552s 393ms/step - loss: 2.1387 - sparse_categorical_accuracy: 0.2201 - val_loss: 1.9013 - val_sparse_categorical_accuracy: 0.2190\n",
            "Epoch 2/100\n",
            "1250/1250 [==============================] - 211s 168ms/step - loss: 1.8774 - sparse_categorical_accuracy: 0.2188 - val_loss: 1.8213 - val_sparse_categorical_accuracy: 0.2160\n",
            "Epoch 3/100\n",
            "1250/1250 [==============================] - 211s 168ms/step - loss: 1.8252 - sparse_categorical_accuracy: 0.2167 - val_loss: 1.7780 - val_sparse_categorical_accuracy: 0.2172\n",
            "Epoch 4/100\n",
            "1250/1250 [==============================] - 211s 169ms/step - loss: 1.7861 - sparse_categorical_accuracy: 0.2155 - val_loss: 1.7586 - val_sparse_categorical_accuracy: 0.2141\n",
            "Epoch 5/100\n",
            "1250/1250 [==============================] - 211s 169ms/step - loss: 1.7542 - sparse_categorical_accuracy: 0.2157 - val_loss: 1.7109 - val_sparse_categorical_accuracy: 0.2145\n",
            "Epoch 6/100\n",
            "1250/1250 [==============================] - 212s 169ms/step - loss: 1.7051 - sparse_categorical_accuracy: 0.2160 - val_loss: 1.6854 - val_sparse_categorical_accuracy: 0.2142\n",
            "Epoch 7/100\n",
            "1250/1250 [==============================] - 212s 170ms/step - loss: 1.6797 - sparse_categorical_accuracy: 0.2138 - val_loss: 1.6715 - val_sparse_categorical_accuracy: 0.2146\n",
            "Epoch 8/100\n",
            " 572/1250 [============>.................] - ETA: 1:51 - loss: 1.6736 - sparse_categorical_accuracy: 0.2135"
          ]
        },
        {
          "output_type": "error",
          "ename": "KeyboardInterrupt",
          "evalue": "ignored",
          "traceback": [
            "\u001b[0;31m---------------------------------------------------------------------------\u001b[0m",
            "\u001b[0;31mKeyboardInterrupt\u001b[0m                         Traceback (most recent call last)",
            "\u001b[0;32m<ipython-input-93-19a25e3e3de7>\u001b[0m in \u001b[0;36m<module>\u001b[0;34m()\u001b[0m\n\u001b[0;32m----> 1\u001b[0;31m \u001b[0mcnn1\u001b[0m\u001b[0;34m=\u001b[0m \u001b[0mcnn_variable1\u001b[0m\u001b[0;34m(\u001b[0m\u001b[0mopt2\u001b[0m\u001b[0;34m,\u001b[0m \u001b[0minput_variable_train2\u001b[0m\u001b[0;34m,\u001b[0m \u001b[0minput_variable_valid2\u001b[0m\u001b[0;34m,\u001b[0m \u001b[0minput_variable_test2\u001b[0m\u001b[0;34m)\u001b[0m\u001b[0;34m\u001b[0m\u001b[0;34m\u001b[0m\u001b[0m\n\u001b[0m",
            "\u001b[0;32m<ipython-input-92-02f2ff8b84b4>\u001b[0m in \u001b[0;36mcnn_variable1\u001b[0;34m(opt, inputs, input_variable_valid, input_variable_test)\u001b[0m\n\u001b[1;32m     31\u001b[0m   \u001b[0mmodel\u001b[0m \u001b[0;34m=\u001b[0m \u001b[0mModel\u001b[0m\u001b[0;34m(\u001b[0m\u001b[0minputs\u001b[0m \u001b[0;34m=\u001b[0m \u001b[0;34m(\u001b[0m\u001b[0minputs_L\u001b[0m\u001b[0;34m,\u001b[0m\u001b[0minputs\u001b[0m\u001b[0;34m)\u001b[0m \u001b[0;34m,\u001b[0m \u001b[0moutputs\u001b[0m\u001b[0;34m=\u001b[0m\u001b[0moutput\u001b[0m\u001b[0;34m)\u001b[0m\u001b[0;34m\u001b[0m\u001b[0;34m\u001b[0m\u001b[0m\n\u001b[1;32m     32\u001b[0m   \u001b[0mmodel\u001b[0m\u001b[0;34m.\u001b[0m\u001b[0mcompile\u001b[0m\u001b[0;34m(\u001b[0m\u001b[0mloss\u001b[0m\u001b[0;34m=\u001b[0m\u001b[0;34m\"sparse_categorical_crossentropy\"\u001b[0m\u001b[0;34m,\u001b[0m \u001b[0moptimizer\u001b[0m\u001b[0;34m=\u001b[0m\u001b[0mopt\u001b[0m\u001b[0;34m,\u001b[0m \u001b[0mmetrics\u001b[0m\u001b[0;34m=\u001b[0m\u001b[0;34m[\u001b[0m\u001b[0;34m\"sparse_categorical_accuracy\"\u001b[0m\u001b[0;34m]\u001b[0m\u001b[0;34m)\u001b[0m\u001b[0;34m\u001b[0m\u001b[0;34m\u001b[0m\u001b[0m\n\u001b[0;32m---> 33\u001b[0;31m   \u001b[0mhistory\u001b[0m \u001b[0;34m=\u001b[0m \u001b[0mmodel\u001b[0m\u001b[0;34m.\u001b[0m\u001b[0mfit\u001b[0m\u001b[0;34m(\u001b[0m\u001b[0minput_variable_train2\u001b[0m\u001b[0;34m,\u001b[0m \u001b[0mvalidation_data\u001b[0m\u001b[0;34m=\u001b[0m\u001b[0minput_variable_valid2\u001b[0m\u001b[0;34m,\u001b[0m \u001b[0mbatch_size\u001b[0m\u001b[0;34m=\u001b[0m\u001b[0mBS\u001b[0m\u001b[0;34m,\u001b[0m \u001b[0mepochs\u001b[0m\u001b[0;34m=\u001b[0m\u001b[0mNUM_EPOCHS\u001b[0m\u001b[0;34m,\u001b[0m \u001b[0mverbose\u001b[0m\u001b[0;34m=\u001b[0m\u001b[0;36m1\u001b[0m\u001b[0;34m,\u001b[0m \u001b[0mcallbacks\u001b[0m\u001b[0;34m=\u001b[0m\u001b[0;34m[\u001b[0m\u001b[0mearly_stopping\u001b[0m\u001b[0;34m]\u001b[0m\u001b[0;34m)\u001b[0m\u001b[0;34m\u001b[0m\u001b[0;34m\u001b[0m\u001b[0m\n\u001b[0m\u001b[1;32m     34\u001b[0m   \u001b[0;31m# plotting the metrics\u001b[0m\u001b[0;34m\u001b[0m\u001b[0;34m\u001b[0m\u001b[0;34m\u001b[0m\u001b[0m\n\u001b[1;32m     35\u001b[0m   \u001b[0mplt\u001b[0m\u001b[0;34m.\u001b[0m\u001b[0msubplot\u001b[0m\u001b[0;34m(\u001b[0m\u001b[0;36m2\u001b[0m\u001b[0;34m,\u001b[0m \u001b[0;36m1\u001b[0m\u001b[0;34m,\u001b[0m \u001b[0;36m1\u001b[0m\u001b[0;34m)\u001b[0m\u001b[0;34m\u001b[0m\u001b[0;34m\u001b[0m\u001b[0m\n",
            "\u001b[0;32m/usr/local/lib/python3.7/dist-packages/keras/utils/traceback_utils.py\u001b[0m in \u001b[0;36merror_handler\u001b[0;34m(*args, **kwargs)\u001b[0m\n\u001b[1;32m     62\u001b[0m     \u001b[0mfiltered_tb\u001b[0m \u001b[0;34m=\u001b[0m \u001b[0;32mNone\u001b[0m\u001b[0;34m\u001b[0m\u001b[0;34m\u001b[0m\u001b[0m\n\u001b[1;32m     63\u001b[0m     \u001b[0;32mtry\u001b[0m\u001b[0;34m:\u001b[0m\u001b[0;34m\u001b[0m\u001b[0;34m\u001b[0m\u001b[0m\n\u001b[0;32m---> 64\u001b[0;31m       \u001b[0;32mreturn\u001b[0m \u001b[0mfn\u001b[0m\u001b[0;34m(\u001b[0m\u001b[0;34m*\u001b[0m\u001b[0margs\u001b[0m\u001b[0;34m,\u001b[0m \u001b[0;34m**\u001b[0m\u001b[0mkwargs\u001b[0m\u001b[0;34m)\u001b[0m\u001b[0;34m\u001b[0m\u001b[0;34m\u001b[0m\u001b[0m\n\u001b[0m\u001b[1;32m     65\u001b[0m     \u001b[0;32mexcept\u001b[0m \u001b[0mException\u001b[0m \u001b[0;32mas\u001b[0m \u001b[0me\u001b[0m\u001b[0;34m:\u001b[0m  \u001b[0;31m# pylint: disable=broad-except\u001b[0m\u001b[0;34m\u001b[0m\u001b[0;34m\u001b[0m\u001b[0m\n\u001b[1;32m     66\u001b[0m       \u001b[0mfiltered_tb\u001b[0m \u001b[0;34m=\u001b[0m \u001b[0m_process_traceback_frames\u001b[0m\u001b[0;34m(\u001b[0m\u001b[0me\u001b[0m\u001b[0;34m.\u001b[0m\u001b[0m__traceback__\u001b[0m\u001b[0;34m)\u001b[0m\u001b[0;34m\u001b[0m\u001b[0;34m\u001b[0m\u001b[0m\n",
            "\u001b[0;32m/usr/local/lib/python3.7/dist-packages/keras/engine/training.py\u001b[0m in \u001b[0;36mfit\u001b[0;34m(self, x, y, batch_size, epochs, verbose, callbacks, validation_split, validation_data, shuffle, class_weight, sample_weight, initial_epoch, steps_per_epoch, validation_steps, validation_batch_size, validation_freq, max_queue_size, workers, use_multiprocessing)\u001b[0m\n\u001b[1;32m   1387\u001b[0m               \u001b[0mlogs\u001b[0m \u001b[0;34m=\u001b[0m \u001b[0mtmp_logs\u001b[0m  \u001b[0;31m# No error, now safe to assign to logs.\u001b[0m\u001b[0;34m\u001b[0m\u001b[0;34m\u001b[0m\u001b[0m\n\u001b[1;32m   1388\u001b[0m               \u001b[0mend_step\u001b[0m \u001b[0;34m=\u001b[0m \u001b[0mstep\u001b[0m \u001b[0;34m+\u001b[0m \u001b[0mdata_handler\u001b[0m\u001b[0;34m.\u001b[0m\u001b[0mstep_increment\u001b[0m\u001b[0;34m\u001b[0m\u001b[0;34m\u001b[0m\u001b[0m\n\u001b[0;32m-> 1389\u001b[0;31m               \u001b[0mcallbacks\u001b[0m\u001b[0;34m.\u001b[0m\u001b[0mon_train_batch_end\u001b[0m\u001b[0;34m(\u001b[0m\u001b[0mend_step\u001b[0m\u001b[0;34m,\u001b[0m \u001b[0mlogs\u001b[0m\u001b[0;34m)\u001b[0m\u001b[0;34m\u001b[0m\u001b[0;34m\u001b[0m\u001b[0m\n\u001b[0m\u001b[1;32m   1390\u001b[0m               \u001b[0;32mif\u001b[0m \u001b[0mself\u001b[0m\u001b[0;34m.\u001b[0m\u001b[0mstop_training\u001b[0m\u001b[0;34m:\u001b[0m\u001b[0;34m\u001b[0m\u001b[0;34m\u001b[0m\u001b[0m\n\u001b[1;32m   1391\u001b[0m                 \u001b[0;32mbreak\u001b[0m\u001b[0;34m\u001b[0m\u001b[0;34m\u001b[0m\u001b[0m\n",
            "\u001b[0;32m/usr/local/lib/python3.7/dist-packages/keras/callbacks.py\u001b[0m in \u001b[0;36mon_train_batch_end\u001b[0;34m(self, batch, logs)\u001b[0m\n\u001b[1;32m    436\u001b[0m     \"\"\"\n\u001b[1;32m    437\u001b[0m     \u001b[0;32mif\u001b[0m \u001b[0mself\u001b[0m\u001b[0;34m.\u001b[0m\u001b[0m_should_call_train_batch_hooks\u001b[0m\u001b[0;34m:\u001b[0m\u001b[0;34m\u001b[0m\u001b[0;34m\u001b[0m\u001b[0m\n\u001b[0;32m--> 438\u001b[0;31m       \u001b[0mself\u001b[0m\u001b[0;34m.\u001b[0m\u001b[0m_call_batch_hook\u001b[0m\u001b[0;34m(\u001b[0m\u001b[0mModeKeys\u001b[0m\u001b[0;34m.\u001b[0m\u001b[0mTRAIN\u001b[0m\u001b[0;34m,\u001b[0m \u001b[0;34m'end'\u001b[0m\u001b[0;34m,\u001b[0m \u001b[0mbatch\u001b[0m\u001b[0;34m,\u001b[0m \u001b[0mlogs\u001b[0m\u001b[0;34m=\u001b[0m\u001b[0mlogs\u001b[0m\u001b[0;34m)\u001b[0m\u001b[0;34m\u001b[0m\u001b[0;34m\u001b[0m\u001b[0m\n\u001b[0m\u001b[1;32m    439\u001b[0m \u001b[0;34m\u001b[0m\u001b[0m\n\u001b[1;32m    440\u001b[0m   \u001b[0;32mdef\u001b[0m \u001b[0mon_test_batch_begin\u001b[0m\u001b[0;34m(\u001b[0m\u001b[0mself\u001b[0m\u001b[0;34m,\u001b[0m \u001b[0mbatch\u001b[0m\u001b[0;34m,\u001b[0m \u001b[0mlogs\u001b[0m\u001b[0;34m=\u001b[0m\u001b[0;32mNone\u001b[0m\u001b[0;34m)\u001b[0m\u001b[0;34m:\u001b[0m\u001b[0;34m\u001b[0m\u001b[0;34m\u001b[0m\u001b[0m\n",
            "\u001b[0;32m/usr/local/lib/python3.7/dist-packages/keras/callbacks.py\u001b[0m in \u001b[0;36m_call_batch_hook\u001b[0;34m(self, mode, hook, batch, logs)\u001b[0m\n\u001b[1;32m    295\u001b[0m       \u001b[0mself\u001b[0m\u001b[0;34m.\u001b[0m\u001b[0m_call_batch_begin_hook\u001b[0m\u001b[0;34m(\u001b[0m\u001b[0mmode\u001b[0m\u001b[0;34m,\u001b[0m \u001b[0mbatch\u001b[0m\u001b[0;34m,\u001b[0m \u001b[0mlogs\u001b[0m\u001b[0;34m)\u001b[0m\u001b[0;34m\u001b[0m\u001b[0;34m\u001b[0m\u001b[0m\n\u001b[1;32m    296\u001b[0m     \u001b[0;32melif\u001b[0m \u001b[0mhook\u001b[0m \u001b[0;34m==\u001b[0m \u001b[0;34m'end'\u001b[0m\u001b[0;34m:\u001b[0m\u001b[0;34m\u001b[0m\u001b[0;34m\u001b[0m\u001b[0m\n\u001b[0;32m--> 297\u001b[0;31m       \u001b[0mself\u001b[0m\u001b[0;34m.\u001b[0m\u001b[0m_call_batch_end_hook\u001b[0m\u001b[0;34m(\u001b[0m\u001b[0mmode\u001b[0m\u001b[0;34m,\u001b[0m \u001b[0mbatch\u001b[0m\u001b[0;34m,\u001b[0m \u001b[0mlogs\u001b[0m\u001b[0;34m)\u001b[0m\u001b[0;34m\u001b[0m\u001b[0;34m\u001b[0m\u001b[0m\n\u001b[0m\u001b[1;32m    298\u001b[0m     \u001b[0;32melse\u001b[0m\u001b[0;34m:\u001b[0m\u001b[0;34m\u001b[0m\u001b[0;34m\u001b[0m\u001b[0m\n\u001b[1;32m    299\u001b[0m       raise ValueError(\n",
            "\u001b[0;32m/usr/local/lib/python3.7/dist-packages/keras/callbacks.py\u001b[0m in \u001b[0;36m_call_batch_end_hook\u001b[0;34m(self, mode, batch, logs)\u001b[0m\n\u001b[1;32m    316\u001b[0m       \u001b[0mself\u001b[0m\u001b[0;34m.\u001b[0m\u001b[0m_batch_times\u001b[0m\u001b[0;34m.\u001b[0m\u001b[0mappend\u001b[0m\u001b[0;34m(\u001b[0m\u001b[0mbatch_time\u001b[0m\u001b[0;34m)\u001b[0m\u001b[0;34m\u001b[0m\u001b[0;34m\u001b[0m\u001b[0m\n\u001b[1;32m    317\u001b[0m \u001b[0;34m\u001b[0m\u001b[0m\n\u001b[0;32m--> 318\u001b[0;31m     \u001b[0mself\u001b[0m\u001b[0;34m.\u001b[0m\u001b[0m_call_batch_hook_helper\u001b[0m\u001b[0;34m(\u001b[0m\u001b[0mhook_name\u001b[0m\u001b[0;34m,\u001b[0m \u001b[0mbatch\u001b[0m\u001b[0;34m,\u001b[0m \u001b[0mlogs\u001b[0m\u001b[0;34m)\u001b[0m\u001b[0;34m\u001b[0m\u001b[0;34m\u001b[0m\u001b[0m\n\u001b[0m\u001b[1;32m    319\u001b[0m \u001b[0;34m\u001b[0m\u001b[0m\n\u001b[1;32m    320\u001b[0m     \u001b[0;32mif\u001b[0m \u001b[0mlen\u001b[0m\u001b[0;34m(\u001b[0m\u001b[0mself\u001b[0m\u001b[0;34m.\u001b[0m\u001b[0m_batch_times\u001b[0m\u001b[0;34m)\u001b[0m \u001b[0;34m>=\u001b[0m \u001b[0mself\u001b[0m\u001b[0;34m.\u001b[0m\u001b[0m_num_batches_for_timing_check\u001b[0m\u001b[0;34m:\u001b[0m\u001b[0;34m\u001b[0m\u001b[0;34m\u001b[0m\u001b[0m\n",
            "\u001b[0;32m/usr/local/lib/python3.7/dist-packages/keras/callbacks.py\u001b[0m in \u001b[0;36m_call_batch_hook_helper\u001b[0;34m(self, hook_name, batch, logs)\u001b[0m\n\u001b[1;32m    354\u001b[0m     \u001b[0;32mfor\u001b[0m \u001b[0mcallback\u001b[0m \u001b[0;32min\u001b[0m \u001b[0mself\u001b[0m\u001b[0;34m.\u001b[0m\u001b[0mcallbacks\u001b[0m\u001b[0;34m:\u001b[0m\u001b[0;34m\u001b[0m\u001b[0;34m\u001b[0m\u001b[0m\n\u001b[1;32m    355\u001b[0m       \u001b[0mhook\u001b[0m \u001b[0;34m=\u001b[0m \u001b[0mgetattr\u001b[0m\u001b[0;34m(\u001b[0m\u001b[0mcallback\u001b[0m\u001b[0;34m,\u001b[0m \u001b[0mhook_name\u001b[0m\u001b[0;34m)\u001b[0m\u001b[0;34m\u001b[0m\u001b[0;34m\u001b[0m\u001b[0m\n\u001b[0;32m--> 356\u001b[0;31m       \u001b[0mhook\u001b[0m\u001b[0;34m(\u001b[0m\u001b[0mbatch\u001b[0m\u001b[0;34m,\u001b[0m \u001b[0mlogs\u001b[0m\u001b[0;34m)\u001b[0m\u001b[0;34m\u001b[0m\u001b[0;34m\u001b[0m\u001b[0m\n\u001b[0m\u001b[1;32m    357\u001b[0m \u001b[0;34m\u001b[0m\u001b[0m\n\u001b[1;32m    358\u001b[0m     \u001b[0;32mif\u001b[0m \u001b[0mself\u001b[0m\u001b[0;34m.\u001b[0m\u001b[0m_check_timing\u001b[0m\u001b[0;34m:\u001b[0m\u001b[0;34m\u001b[0m\u001b[0;34m\u001b[0m\u001b[0m\n",
            "\u001b[0;32m/usr/local/lib/python3.7/dist-packages/keras/callbacks.py\u001b[0m in \u001b[0;36mon_train_batch_end\u001b[0;34m(self, batch, logs)\u001b[0m\n\u001b[1;32m   1032\u001b[0m \u001b[0;34m\u001b[0m\u001b[0m\n\u001b[1;32m   1033\u001b[0m   \u001b[0;32mdef\u001b[0m \u001b[0mon_train_batch_end\u001b[0m\u001b[0;34m(\u001b[0m\u001b[0mself\u001b[0m\u001b[0;34m,\u001b[0m \u001b[0mbatch\u001b[0m\u001b[0;34m,\u001b[0m \u001b[0mlogs\u001b[0m\u001b[0;34m=\u001b[0m\u001b[0;32mNone\u001b[0m\u001b[0;34m)\u001b[0m\u001b[0;34m:\u001b[0m\u001b[0;34m\u001b[0m\u001b[0;34m\u001b[0m\u001b[0m\n\u001b[0;32m-> 1034\u001b[0;31m     \u001b[0mself\u001b[0m\u001b[0;34m.\u001b[0m\u001b[0m_batch_update_progbar\u001b[0m\u001b[0;34m(\u001b[0m\u001b[0mbatch\u001b[0m\u001b[0;34m,\u001b[0m \u001b[0mlogs\u001b[0m\u001b[0;34m)\u001b[0m\u001b[0;34m\u001b[0m\u001b[0;34m\u001b[0m\u001b[0m\n\u001b[0m\u001b[1;32m   1035\u001b[0m \u001b[0;34m\u001b[0m\u001b[0m\n\u001b[1;32m   1036\u001b[0m   \u001b[0;32mdef\u001b[0m \u001b[0mon_test_batch_end\u001b[0m\u001b[0;34m(\u001b[0m\u001b[0mself\u001b[0m\u001b[0;34m,\u001b[0m \u001b[0mbatch\u001b[0m\u001b[0;34m,\u001b[0m \u001b[0mlogs\u001b[0m\u001b[0;34m=\u001b[0m\u001b[0;32mNone\u001b[0m\u001b[0;34m)\u001b[0m\u001b[0;34m:\u001b[0m\u001b[0;34m\u001b[0m\u001b[0;34m\u001b[0m\u001b[0m\n",
            "\u001b[0;32m/usr/local/lib/python3.7/dist-packages/keras/callbacks.py\u001b[0m in \u001b[0;36m_batch_update_progbar\u001b[0;34m(self, batch, logs)\u001b[0m\n\u001b[1;32m   1104\u001b[0m     \u001b[0;32mif\u001b[0m \u001b[0mself\u001b[0m\u001b[0;34m.\u001b[0m\u001b[0mverbose\u001b[0m \u001b[0;34m==\u001b[0m \u001b[0;36m1\u001b[0m\u001b[0;34m:\u001b[0m\u001b[0;34m\u001b[0m\u001b[0;34m\u001b[0m\u001b[0m\n\u001b[1;32m   1105\u001b[0m       \u001b[0;31m# Only block async when verbose = 1.\u001b[0m\u001b[0;34m\u001b[0m\u001b[0;34m\u001b[0m\u001b[0;34m\u001b[0m\u001b[0m\n\u001b[0;32m-> 1106\u001b[0;31m       \u001b[0mlogs\u001b[0m \u001b[0;34m=\u001b[0m \u001b[0mtf_utils\u001b[0m\u001b[0;34m.\u001b[0m\u001b[0msync_to_numpy_or_python_type\u001b[0m\u001b[0;34m(\u001b[0m\u001b[0mlogs\u001b[0m\u001b[0;34m)\u001b[0m\u001b[0;34m\u001b[0m\u001b[0;34m\u001b[0m\u001b[0m\n\u001b[0m\u001b[1;32m   1107\u001b[0m       \u001b[0mself\u001b[0m\u001b[0;34m.\u001b[0m\u001b[0mprogbar\u001b[0m\u001b[0;34m.\u001b[0m\u001b[0mupdate\u001b[0m\u001b[0;34m(\u001b[0m\u001b[0mself\u001b[0m\u001b[0;34m.\u001b[0m\u001b[0mseen\u001b[0m\u001b[0;34m,\u001b[0m \u001b[0mlist\u001b[0m\u001b[0;34m(\u001b[0m\u001b[0mlogs\u001b[0m\u001b[0;34m.\u001b[0m\u001b[0mitems\u001b[0m\u001b[0;34m(\u001b[0m\u001b[0;34m)\u001b[0m\u001b[0;34m)\u001b[0m\u001b[0;34m,\u001b[0m \u001b[0mfinalize\u001b[0m\u001b[0;34m=\u001b[0m\u001b[0;32mFalse\u001b[0m\u001b[0;34m)\u001b[0m\u001b[0;34m\u001b[0m\u001b[0;34m\u001b[0m\u001b[0m\n\u001b[1;32m   1108\u001b[0m \u001b[0;34m\u001b[0m\u001b[0m\n",
            "\u001b[0;32m/usr/local/lib/python3.7/dist-packages/keras/utils/tf_utils.py\u001b[0m in \u001b[0;36msync_to_numpy_or_python_type\u001b[0;34m(tensors)\u001b[0m\n\u001b[1;32m    561\u001b[0m     \u001b[0;32mreturn\u001b[0m \u001b[0mt\u001b[0m\u001b[0;34m.\u001b[0m\u001b[0mitem\u001b[0m\u001b[0;34m(\u001b[0m\u001b[0;34m)\u001b[0m \u001b[0;32mif\u001b[0m \u001b[0mnp\u001b[0m\u001b[0;34m.\u001b[0m\u001b[0mndim\u001b[0m\u001b[0;34m(\u001b[0m\u001b[0mt\u001b[0m\u001b[0;34m)\u001b[0m \u001b[0;34m==\u001b[0m \u001b[0;36m0\u001b[0m \u001b[0;32melse\u001b[0m \u001b[0mt\u001b[0m\u001b[0;34m\u001b[0m\u001b[0;34m\u001b[0m\u001b[0m\n\u001b[1;32m    562\u001b[0m \u001b[0;34m\u001b[0m\u001b[0m\n\u001b[0;32m--> 563\u001b[0;31m   \u001b[0;32mreturn\u001b[0m \u001b[0mtf\u001b[0m\u001b[0;34m.\u001b[0m\u001b[0mnest\u001b[0m\u001b[0;34m.\u001b[0m\u001b[0mmap_structure\u001b[0m\u001b[0;34m(\u001b[0m\u001b[0m_to_single_numpy_or_python_type\u001b[0m\u001b[0;34m,\u001b[0m \u001b[0mtensors\u001b[0m\u001b[0;34m)\u001b[0m\u001b[0;34m\u001b[0m\u001b[0;34m\u001b[0m\u001b[0m\n\u001b[0m\u001b[1;32m    564\u001b[0m \u001b[0;34m\u001b[0m\u001b[0m\n\u001b[1;32m    565\u001b[0m \u001b[0;34m\u001b[0m\u001b[0m\n",
            "\u001b[0;32m/usr/local/lib/python3.7/dist-packages/tensorflow/python/util/nest.py\u001b[0m in \u001b[0;36mmap_structure\u001b[0;34m(func, *structure, **kwargs)\u001b[0m\n\u001b[1;32m    912\u001b[0m \u001b[0;34m\u001b[0m\u001b[0m\n\u001b[1;32m    913\u001b[0m   return pack_sequence_as(\n\u001b[0;32m--> 914\u001b[0;31m       \u001b[0mstructure\u001b[0m\u001b[0;34m[\u001b[0m\u001b[0;36m0\u001b[0m\u001b[0;34m]\u001b[0m\u001b[0;34m,\u001b[0m \u001b[0;34m[\u001b[0m\u001b[0mfunc\u001b[0m\u001b[0;34m(\u001b[0m\u001b[0;34m*\u001b[0m\u001b[0mx\u001b[0m\u001b[0;34m)\u001b[0m \u001b[0;32mfor\u001b[0m \u001b[0mx\u001b[0m \u001b[0;32min\u001b[0m \u001b[0mentries\u001b[0m\u001b[0;34m]\u001b[0m\u001b[0;34m,\u001b[0m\u001b[0;34m\u001b[0m\u001b[0;34m\u001b[0m\u001b[0m\n\u001b[0m\u001b[1;32m    915\u001b[0m       expand_composites=expand_composites)\n\u001b[1;32m    916\u001b[0m \u001b[0;34m\u001b[0m\u001b[0m\n",
            "\u001b[0;32m/usr/local/lib/python3.7/dist-packages/tensorflow/python/util/nest.py\u001b[0m in \u001b[0;36m<listcomp>\u001b[0;34m(.0)\u001b[0m\n\u001b[1;32m    912\u001b[0m \u001b[0;34m\u001b[0m\u001b[0m\n\u001b[1;32m    913\u001b[0m   return pack_sequence_as(\n\u001b[0;32m--> 914\u001b[0;31m       \u001b[0mstructure\u001b[0m\u001b[0;34m[\u001b[0m\u001b[0;36m0\u001b[0m\u001b[0;34m]\u001b[0m\u001b[0;34m,\u001b[0m \u001b[0;34m[\u001b[0m\u001b[0mfunc\u001b[0m\u001b[0;34m(\u001b[0m\u001b[0;34m*\u001b[0m\u001b[0mx\u001b[0m\u001b[0;34m)\u001b[0m \u001b[0;32mfor\u001b[0m \u001b[0mx\u001b[0m \u001b[0;32min\u001b[0m \u001b[0mentries\u001b[0m\u001b[0;34m]\u001b[0m\u001b[0;34m,\u001b[0m\u001b[0;34m\u001b[0m\u001b[0;34m\u001b[0m\u001b[0m\n\u001b[0m\u001b[1;32m    915\u001b[0m       expand_composites=expand_composites)\n\u001b[1;32m    916\u001b[0m \u001b[0;34m\u001b[0m\u001b[0m\n",
            "\u001b[0;32m/usr/local/lib/python3.7/dist-packages/keras/utils/tf_utils.py\u001b[0m in \u001b[0;36m_to_single_numpy_or_python_type\u001b[0;34m(t)\u001b[0m\n\u001b[1;32m    555\u001b[0m     \u001b[0;31m# Don't turn ragged or sparse tensors to NumPy.\u001b[0m\u001b[0;34m\u001b[0m\u001b[0;34m\u001b[0m\u001b[0;34m\u001b[0m\u001b[0m\n\u001b[1;32m    556\u001b[0m     \u001b[0;32mif\u001b[0m \u001b[0misinstance\u001b[0m\u001b[0;34m(\u001b[0m\u001b[0mt\u001b[0m\u001b[0;34m,\u001b[0m \u001b[0mtf\u001b[0m\u001b[0;34m.\u001b[0m\u001b[0mTensor\u001b[0m\u001b[0;34m)\u001b[0m\u001b[0;34m:\u001b[0m\u001b[0;34m\u001b[0m\u001b[0;34m\u001b[0m\u001b[0m\n\u001b[0;32m--> 557\u001b[0;31m       \u001b[0mt\u001b[0m \u001b[0;34m=\u001b[0m \u001b[0mt\u001b[0m\u001b[0;34m.\u001b[0m\u001b[0mnumpy\u001b[0m\u001b[0;34m(\u001b[0m\u001b[0;34m)\u001b[0m\u001b[0;34m\u001b[0m\u001b[0;34m\u001b[0m\u001b[0m\n\u001b[0m\u001b[1;32m    558\u001b[0m     \u001b[0;31m# Strings, ragged and sparse tensors don't have .item(). Return them as-is.\u001b[0m\u001b[0;34m\u001b[0m\u001b[0;34m\u001b[0m\u001b[0;34m\u001b[0m\u001b[0m\n\u001b[1;32m    559\u001b[0m     \u001b[0;32mif\u001b[0m \u001b[0;32mnot\u001b[0m \u001b[0misinstance\u001b[0m\u001b[0;34m(\u001b[0m\u001b[0mt\u001b[0m\u001b[0;34m,\u001b[0m \u001b[0;34m(\u001b[0m\u001b[0mnp\u001b[0m\u001b[0;34m.\u001b[0m\u001b[0mndarray\u001b[0m\u001b[0;34m,\u001b[0m \u001b[0mnp\u001b[0m\u001b[0;34m.\u001b[0m\u001b[0mgeneric\u001b[0m\u001b[0;34m)\u001b[0m\u001b[0;34m)\u001b[0m\u001b[0;34m:\u001b[0m\u001b[0;34m\u001b[0m\u001b[0;34m\u001b[0m\u001b[0m\n",
            "\u001b[0;32m/usr/local/lib/python3.7/dist-packages/tensorflow/python/framework/ops.py\u001b[0m in \u001b[0;36mnumpy\u001b[0;34m(self)\u001b[0m\n\u001b[1;32m   1221\u001b[0m     \"\"\"\n\u001b[1;32m   1222\u001b[0m     \u001b[0;31m# TODO(slebedev): Consider avoiding a copy for non-CPU or remote tensors.\u001b[0m\u001b[0;34m\u001b[0m\u001b[0;34m\u001b[0m\u001b[0;34m\u001b[0m\u001b[0m\n\u001b[0;32m-> 1223\u001b[0;31m     \u001b[0mmaybe_arr\u001b[0m \u001b[0;34m=\u001b[0m \u001b[0mself\u001b[0m\u001b[0;34m.\u001b[0m\u001b[0m_numpy\u001b[0m\u001b[0;34m(\u001b[0m\u001b[0;34m)\u001b[0m  \u001b[0;31m# pylint: disable=protected-access\u001b[0m\u001b[0;34m\u001b[0m\u001b[0;34m\u001b[0m\u001b[0m\n\u001b[0m\u001b[1;32m   1224\u001b[0m     \u001b[0;32mreturn\u001b[0m \u001b[0mmaybe_arr\u001b[0m\u001b[0;34m.\u001b[0m\u001b[0mcopy\u001b[0m\u001b[0;34m(\u001b[0m\u001b[0;34m)\u001b[0m \u001b[0;32mif\u001b[0m \u001b[0misinstance\u001b[0m\u001b[0;34m(\u001b[0m\u001b[0mmaybe_arr\u001b[0m\u001b[0;34m,\u001b[0m \u001b[0mnp\u001b[0m\u001b[0;34m.\u001b[0m\u001b[0mndarray\u001b[0m\u001b[0;34m)\u001b[0m \u001b[0;32melse\u001b[0m \u001b[0mmaybe_arr\u001b[0m\u001b[0;34m\u001b[0m\u001b[0;34m\u001b[0m\u001b[0m\n\u001b[1;32m   1225\u001b[0m \u001b[0;34m\u001b[0m\u001b[0m\n",
            "\u001b[0;32m/usr/local/lib/python3.7/dist-packages/tensorflow/python/framework/ops.py\u001b[0m in \u001b[0;36m_numpy\u001b[0;34m(self)\u001b[0m\n\u001b[1;32m   1187\u001b[0m   \u001b[0;32mdef\u001b[0m \u001b[0m_numpy\u001b[0m\u001b[0;34m(\u001b[0m\u001b[0mself\u001b[0m\u001b[0;34m)\u001b[0m\u001b[0;34m:\u001b[0m\u001b[0;34m\u001b[0m\u001b[0;34m\u001b[0m\u001b[0m\n\u001b[1;32m   1188\u001b[0m     \u001b[0;32mtry\u001b[0m\u001b[0;34m:\u001b[0m\u001b[0;34m\u001b[0m\u001b[0;34m\u001b[0m\u001b[0m\n\u001b[0;32m-> 1189\u001b[0;31m       \u001b[0;32mreturn\u001b[0m \u001b[0mself\u001b[0m\u001b[0;34m.\u001b[0m\u001b[0m_numpy_internal\u001b[0m\u001b[0;34m(\u001b[0m\u001b[0;34m)\u001b[0m\u001b[0;34m\u001b[0m\u001b[0;34m\u001b[0m\u001b[0m\n\u001b[0m\u001b[1;32m   1190\u001b[0m     \u001b[0;32mexcept\u001b[0m \u001b[0mcore\u001b[0m\u001b[0;34m.\u001b[0m\u001b[0m_NotOkStatusException\u001b[0m \u001b[0;32mas\u001b[0m \u001b[0me\u001b[0m\u001b[0;34m:\u001b[0m  \u001b[0;31m# pylint: disable=protected-access\u001b[0m\u001b[0;34m\u001b[0m\u001b[0;34m\u001b[0m\u001b[0m\n\u001b[1;32m   1191\u001b[0m       \u001b[0;32mraise\u001b[0m \u001b[0mcore\u001b[0m\u001b[0;34m.\u001b[0m\u001b[0m_status_to_exception\u001b[0m\u001b[0;34m(\u001b[0m\u001b[0me\u001b[0m\u001b[0;34m)\u001b[0m \u001b[0;32mfrom\u001b[0m \u001b[0;32mNone\u001b[0m  \u001b[0;31m# pylint: disable=protected-access\u001b[0m\u001b[0;34m\u001b[0m\u001b[0;34m\u001b[0m\u001b[0m\n",
            "\u001b[0;31mKeyboardInterrupt\u001b[0m: "
          ]
        }
      ]
    },
    {
      "cell_type": "code",
      "source": [
        "def cnn_variable2(opt, inputs, input_variable_valid,input_variable_test):\n",
        "  inputs = Input(shape=(None,33),name='inputs')\n",
        "  inputs_L = Input(shape=[],name='inputs2')\n",
        "  layer_c = Conv1D(256, 1, padding=\"same\")(inputs)\n",
        "  layer = Activation(\"LeakyReLU\")(layer_c)\n",
        "  #layer = Dropout(0.5)(layer)\n",
        "  layer = MaxPooling1D(pool_size = 2)(layer)\n",
        "  layer = Conv1D(128, 1, padding=\"same\")(layer)\n",
        "  layer = BatchNormalization(axis=-1)(layer)\n",
        "  layer = Activation(\"LeakyReLU\")(layer)\n",
        "  #layer = Dropout(0.2)(layer)\n",
        "  layer = MaxPooling1D(pool_size = 2)(layer)\n",
        "  layer = Conv1D(256, 1, padding=\"same\")(layer)\n",
        "  layer = BatchNormalization(axis=-1)(layer)\n",
        "  layer = Activation(\"LeakyReLU\")(layer)\n",
        "  #layer = Dropout(0.2)(layer)\n",
        "  layer = MaxPooling1D(pool_size = 2)(layer)\n",
        "  #layer = Dropout(0.2)(layer)\n",
        "  #layer = Flatten()(layer)\n",
        "  #layer = Dropout(0.2)(layer)\n",
        "  layer = TimeDistributed(Dense(1500))(layer)\n",
        "  layer = Reshape((-1,5))(layer)\n",
        "  layer = UpSampling1D(size=150)(layer)\n",
        "  L = tf.cast(tf.reduce_max(inputs_L), tf.int32)\n",
        "  output = layer[:,:L]\n",
        "  model = Model(inputs = (inputs_L,inputs) , outputs=output)\n",
        "  model.compile(loss=\"sparse_categorical_crossentropy\", optimizer=opt, metrics=[\"sparse_categorical_accuracy\"])\n",
        "  history = model.fit(input_variable_train2, validation_data=input_variable_valid2, batch_size=BS, epochs=NUM_EPOCHS, verbose=1, callbacks=[early_stopping])\n",
        "  # plotting the metrics\n",
        "  plt.subplot(2, 1, 1)\n",
        "  plt.title('Sparse Crossentropy Loss')\n",
        "  plt.plot(history.history['loss'], color='blue', label='train')\n",
        "  plt.plot(history.history['val_loss'], color='orange', label='val')\n",
        "\t# plot accuracy\n",
        "  plt.subplot(2, 1, 2)\n",
        "  plt.title('Classification Accuracy')\n",
        "  plt.plot(history.history['sparse_categorical_accuracy'], color='blue', label='train')\n",
        "  plt.plot(history.history['val_sparse_categorical_accuracy'], color='orange', label='val')\n",
        "  score = model.evaluate(input_variable_test2, verbose=0) #evaluate based on test dataset, which was not used for training and validation\n",
        "  return model.summary(), history, print('Loss using testing dataset=', score[0]), print('Accuracy using testing dataset=', score[1]) "
      ],
      "metadata": {
        "id": "FrIIeTwkI18f"
      },
      "execution_count": 105,
      "outputs": []
    },
    {
      "cell_type": "code",
      "source": [
        "cnn2= cnn_variable2(opt2, input_variable_train2, input_variable_valid2, input_variable_test2)"
      ],
      "metadata": {
        "colab": {
          "base_uri": "https://localhost:8080/",
          "height": 467
        },
        "id": "jUuD6r2OI_pn",
        "outputId": "7860f8d1-4624-4ad4-c83c-4a441de1e276"
      },
      "execution_count": 106,
      "outputs": [
        {
          "output_type": "stream",
          "name": "stdout",
          "text": [
            "Epoch 1/100\n",
            "1250/1250 [==============================] - 33s 24ms/step - loss: 2.3532 - sparse_categorical_accuracy: 0.2220 - val_loss: 1.8302 - val_sparse_categorical_accuracy: 0.2162\n",
            "Epoch 2/100\n",
            "1250/1250 [==============================] - 26s 21ms/step - loss: 1.7875 - sparse_categorical_accuracy: 0.2194 - val_loss: 1.7260 - val_sparse_categorical_accuracy: 0.2159\n",
            "Epoch 3/100\n",
            "1250/1250 [==============================] - 25s 20ms/step - loss: 1.7173 - sparse_categorical_accuracy: 0.2182 - val_loss: 1.6929 - val_sparse_categorical_accuracy: 0.2147\n",
            "Epoch 4/100\n",
            " 155/1250 [==>...........................] - ETA: 18s - loss: 1.6916 - sparse_categorical_accuracy: 0.2182"
          ]
        },
        {
          "output_type": "error",
          "ename": "KeyboardInterrupt",
          "evalue": "ignored",
          "traceback": [
            "\u001b[0;31m---------------------------------------------------------------------------\u001b[0m",
            "\u001b[0;31mKeyboardInterrupt\u001b[0m                         Traceback (most recent call last)",
            "\u001b[0;32m<ipython-input-106-252a26b3a895>\u001b[0m in \u001b[0;36m<module>\u001b[0;34m()\u001b[0m\n\u001b[0;32m----> 1\u001b[0;31m \u001b[0mcnn2\u001b[0m\u001b[0;34m=\u001b[0m \u001b[0mcnn_variable2\u001b[0m\u001b[0;34m(\u001b[0m\u001b[0mopt2\u001b[0m\u001b[0;34m,\u001b[0m \u001b[0minput_variable_train2\u001b[0m\u001b[0;34m,\u001b[0m \u001b[0minput_variable_valid2\u001b[0m\u001b[0;34m,\u001b[0m \u001b[0minput_variable_test2\u001b[0m\u001b[0;34m)\u001b[0m\u001b[0;34m\u001b[0m\u001b[0;34m\u001b[0m\u001b[0m\n\u001b[0m",
            "\u001b[0;32m<ipython-input-105-87d301a70150>\u001b[0m in \u001b[0;36mcnn_variable2\u001b[0;34m(opt, inputs, input_variable_valid, input_variable_test)\u001b[0m\n\u001b[1;32m     26\u001b[0m   \u001b[0mmodel\u001b[0m \u001b[0;34m=\u001b[0m \u001b[0mModel\u001b[0m\u001b[0;34m(\u001b[0m\u001b[0minputs\u001b[0m \u001b[0;34m=\u001b[0m \u001b[0;34m(\u001b[0m\u001b[0minputs_L\u001b[0m\u001b[0;34m,\u001b[0m\u001b[0minputs\u001b[0m\u001b[0;34m)\u001b[0m \u001b[0;34m,\u001b[0m \u001b[0moutputs\u001b[0m\u001b[0;34m=\u001b[0m\u001b[0moutput\u001b[0m\u001b[0;34m)\u001b[0m\u001b[0;34m\u001b[0m\u001b[0;34m\u001b[0m\u001b[0m\n\u001b[1;32m     27\u001b[0m   \u001b[0mmodel\u001b[0m\u001b[0;34m.\u001b[0m\u001b[0mcompile\u001b[0m\u001b[0;34m(\u001b[0m\u001b[0mloss\u001b[0m\u001b[0;34m=\u001b[0m\u001b[0;34m\"sparse_categorical_crossentropy\"\u001b[0m\u001b[0;34m,\u001b[0m \u001b[0moptimizer\u001b[0m\u001b[0;34m=\u001b[0m\u001b[0mopt\u001b[0m\u001b[0;34m,\u001b[0m \u001b[0mmetrics\u001b[0m\u001b[0;34m=\u001b[0m\u001b[0;34m[\u001b[0m\u001b[0;34m\"sparse_categorical_accuracy\"\u001b[0m\u001b[0;34m]\u001b[0m\u001b[0;34m)\u001b[0m\u001b[0;34m\u001b[0m\u001b[0;34m\u001b[0m\u001b[0m\n\u001b[0;32m---> 28\u001b[0;31m   \u001b[0mhistory\u001b[0m \u001b[0;34m=\u001b[0m \u001b[0mmodel\u001b[0m\u001b[0;34m.\u001b[0m\u001b[0mfit\u001b[0m\u001b[0;34m(\u001b[0m\u001b[0minput_variable_train2\u001b[0m\u001b[0;34m,\u001b[0m \u001b[0mvalidation_data\u001b[0m\u001b[0;34m=\u001b[0m\u001b[0minput_variable_valid2\u001b[0m\u001b[0;34m,\u001b[0m \u001b[0mbatch_size\u001b[0m\u001b[0;34m=\u001b[0m\u001b[0mBS\u001b[0m\u001b[0;34m,\u001b[0m \u001b[0mepochs\u001b[0m\u001b[0;34m=\u001b[0m\u001b[0mNUM_EPOCHS\u001b[0m\u001b[0;34m,\u001b[0m \u001b[0mverbose\u001b[0m\u001b[0;34m=\u001b[0m\u001b[0;36m1\u001b[0m\u001b[0;34m,\u001b[0m \u001b[0mcallbacks\u001b[0m\u001b[0;34m=\u001b[0m\u001b[0;34m[\u001b[0m\u001b[0mearly_stopping\u001b[0m\u001b[0;34m]\u001b[0m\u001b[0;34m)\u001b[0m\u001b[0;34m\u001b[0m\u001b[0;34m\u001b[0m\u001b[0m\n\u001b[0m\u001b[1;32m     29\u001b[0m   \u001b[0;31m# plotting the metrics\u001b[0m\u001b[0;34m\u001b[0m\u001b[0;34m\u001b[0m\u001b[0;34m\u001b[0m\u001b[0m\n\u001b[1;32m     30\u001b[0m   \u001b[0mplt\u001b[0m\u001b[0;34m.\u001b[0m\u001b[0msubplot\u001b[0m\u001b[0;34m(\u001b[0m\u001b[0;36m2\u001b[0m\u001b[0;34m,\u001b[0m \u001b[0;36m1\u001b[0m\u001b[0;34m,\u001b[0m \u001b[0;36m1\u001b[0m\u001b[0;34m)\u001b[0m\u001b[0;34m\u001b[0m\u001b[0;34m\u001b[0m\u001b[0m\n",
            "\u001b[0;32m/usr/local/lib/python3.7/dist-packages/keras/utils/traceback_utils.py\u001b[0m in \u001b[0;36merror_handler\u001b[0;34m(*args, **kwargs)\u001b[0m\n\u001b[1;32m     62\u001b[0m     \u001b[0mfiltered_tb\u001b[0m \u001b[0;34m=\u001b[0m \u001b[0;32mNone\u001b[0m\u001b[0;34m\u001b[0m\u001b[0;34m\u001b[0m\u001b[0m\n\u001b[1;32m     63\u001b[0m     \u001b[0;32mtry\u001b[0m\u001b[0;34m:\u001b[0m\u001b[0;34m\u001b[0m\u001b[0;34m\u001b[0m\u001b[0m\n\u001b[0;32m---> 64\u001b[0;31m       \u001b[0;32mreturn\u001b[0m \u001b[0mfn\u001b[0m\u001b[0;34m(\u001b[0m\u001b[0;34m*\u001b[0m\u001b[0margs\u001b[0m\u001b[0;34m,\u001b[0m \u001b[0;34m**\u001b[0m\u001b[0mkwargs\u001b[0m\u001b[0;34m)\u001b[0m\u001b[0;34m\u001b[0m\u001b[0;34m\u001b[0m\u001b[0m\n\u001b[0m\u001b[1;32m     65\u001b[0m     \u001b[0;32mexcept\u001b[0m \u001b[0mException\u001b[0m \u001b[0;32mas\u001b[0m \u001b[0me\u001b[0m\u001b[0;34m:\u001b[0m  \u001b[0;31m# pylint: disable=broad-except\u001b[0m\u001b[0;34m\u001b[0m\u001b[0;34m\u001b[0m\u001b[0m\n\u001b[1;32m     66\u001b[0m       \u001b[0mfiltered_tb\u001b[0m \u001b[0;34m=\u001b[0m \u001b[0m_process_traceback_frames\u001b[0m\u001b[0;34m(\u001b[0m\u001b[0me\u001b[0m\u001b[0;34m.\u001b[0m\u001b[0m__traceback__\u001b[0m\u001b[0;34m)\u001b[0m\u001b[0;34m\u001b[0m\u001b[0;34m\u001b[0m\u001b[0m\n",
            "\u001b[0;32m/usr/local/lib/python3.7/dist-packages/keras/engine/training.py\u001b[0m in \u001b[0;36mfit\u001b[0;34m(self, x, y, batch_size, epochs, verbose, callbacks, validation_split, validation_data, shuffle, class_weight, sample_weight, initial_epoch, steps_per_epoch, validation_steps, validation_batch_size, validation_freq, max_queue_size, workers, use_multiprocessing)\u001b[0m\n\u001b[1;32m   1387\u001b[0m               \u001b[0mlogs\u001b[0m \u001b[0;34m=\u001b[0m \u001b[0mtmp_logs\u001b[0m  \u001b[0;31m# No error, now safe to assign to logs.\u001b[0m\u001b[0;34m\u001b[0m\u001b[0;34m\u001b[0m\u001b[0m\n\u001b[1;32m   1388\u001b[0m               \u001b[0mend_step\u001b[0m \u001b[0;34m=\u001b[0m \u001b[0mstep\u001b[0m \u001b[0;34m+\u001b[0m \u001b[0mdata_handler\u001b[0m\u001b[0;34m.\u001b[0m\u001b[0mstep_increment\u001b[0m\u001b[0;34m\u001b[0m\u001b[0;34m\u001b[0m\u001b[0m\n\u001b[0;32m-> 1389\u001b[0;31m               \u001b[0mcallbacks\u001b[0m\u001b[0;34m.\u001b[0m\u001b[0mon_train_batch_end\u001b[0m\u001b[0;34m(\u001b[0m\u001b[0mend_step\u001b[0m\u001b[0;34m,\u001b[0m \u001b[0mlogs\u001b[0m\u001b[0;34m)\u001b[0m\u001b[0;34m\u001b[0m\u001b[0;34m\u001b[0m\u001b[0m\n\u001b[0m\u001b[1;32m   1390\u001b[0m               \u001b[0;32mif\u001b[0m \u001b[0mself\u001b[0m\u001b[0;34m.\u001b[0m\u001b[0mstop_training\u001b[0m\u001b[0;34m:\u001b[0m\u001b[0;34m\u001b[0m\u001b[0;34m\u001b[0m\u001b[0m\n\u001b[1;32m   1391\u001b[0m                 \u001b[0;32mbreak\u001b[0m\u001b[0;34m\u001b[0m\u001b[0;34m\u001b[0m\u001b[0m\n",
            "\u001b[0;32m/usr/local/lib/python3.7/dist-packages/keras/callbacks.py\u001b[0m in \u001b[0;36mon_train_batch_end\u001b[0;34m(self, batch, logs)\u001b[0m\n\u001b[1;32m    436\u001b[0m     \"\"\"\n\u001b[1;32m    437\u001b[0m     \u001b[0;32mif\u001b[0m \u001b[0mself\u001b[0m\u001b[0;34m.\u001b[0m\u001b[0m_should_call_train_batch_hooks\u001b[0m\u001b[0;34m:\u001b[0m\u001b[0;34m\u001b[0m\u001b[0;34m\u001b[0m\u001b[0m\n\u001b[0;32m--> 438\u001b[0;31m       \u001b[0mself\u001b[0m\u001b[0;34m.\u001b[0m\u001b[0m_call_batch_hook\u001b[0m\u001b[0;34m(\u001b[0m\u001b[0mModeKeys\u001b[0m\u001b[0;34m.\u001b[0m\u001b[0mTRAIN\u001b[0m\u001b[0;34m,\u001b[0m \u001b[0;34m'end'\u001b[0m\u001b[0;34m,\u001b[0m \u001b[0mbatch\u001b[0m\u001b[0;34m,\u001b[0m \u001b[0mlogs\u001b[0m\u001b[0;34m=\u001b[0m\u001b[0mlogs\u001b[0m\u001b[0;34m)\u001b[0m\u001b[0;34m\u001b[0m\u001b[0;34m\u001b[0m\u001b[0m\n\u001b[0m\u001b[1;32m    439\u001b[0m \u001b[0;34m\u001b[0m\u001b[0m\n\u001b[1;32m    440\u001b[0m   \u001b[0;32mdef\u001b[0m \u001b[0mon_test_batch_begin\u001b[0m\u001b[0;34m(\u001b[0m\u001b[0mself\u001b[0m\u001b[0;34m,\u001b[0m \u001b[0mbatch\u001b[0m\u001b[0;34m,\u001b[0m \u001b[0mlogs\u001b[0m\u001b[0;34m=\u001b[0m\u001b[0;32mNone\u001b[0m\u001b[0;34m)\u001b[0m\u001b[0;34m:\u001b[0m\u001b[0;34m\u001b[0m\u001b[0;34m\u001b[0m\u001b[0m\n",
            "\u001b[0;32m/usr/local/lib/python3.7/dist-packages/keras/callbacks.py\u001b[0m in \u001b[0;36m_call_batch_hook\u001b[0;34m(self, mode, hook, batch, logs)\u001b[0m\n\u001b[1;32m    295\u001b[0m       \u001b[0mself\u001b[0m\u001b[0;34m.\u001b[0m\u001b[0m_call_batch_begin_hook\u001b[0m\u001b[0;34m(\u001b[0m\u001b[0mmode\u001b[0m\u001b[0;34m,\u001b[0m \u001b[0mbatch\u001b[0m\u001b[0;34m,\u001b[0m \u001b[0mlogs\u001b[0m\u001b[0;34m)\u001b[0m\u001b[0;34m\u001b[0m\u001b[0;34m\u001b[0m\u001b[0m\n\u001b[1;32m    296\u001b[0m     \u001b[0;32melif\u001b[0m \u001b[0mhook\u001b[0m \u001b[0;34m==\u001b[0m \u001b[0;34m'end'\u001b[0m\u001b[0;34m:\u001b[0m\u001b[0;34m\u001b[0m\u001b[0;34m\u001b[0m\u001b[0m\n\u001b[0;32m--> 297\u001b[0;31m       \u001b[0mself\u001b[0m\u001b[0;34m.\u001b[0m\u001b[0m_call_batch_end_hook\u001b[0m\u001b[0;34m(\u001b[0m\u001b[0mmode\u001b[0m\u001b[0;34m,\u001b[0m \u001b[0mbatch\u001b[0m\u001b[0;34m,\u001b[0m \u001b[0mlogs\u001b[0m\u001b[0;34m)\u001b[0m\u001b[0;34m\u001b[0m\u001b[0;34m\u001b[0m\u001b[0m\n\u001b[0m\u001b[1;32m    298\u001b[0m     \u001b[0;32melse\u001b[0m\u001b[0;34m:\u001b[0m\u001b[0;34m\u001b[0m\u001b[0;34m\u001b[0m\u001b[0m\n\u001b[1;32m    299\u001b[0m       raise ValueError(\n",
            "\u001b[0;32m/usr/local/lib/python3.7/dist-packages/keras/callbacks.py\u001b[0m in \u001b[0;36m_call_batch_end_hook\u001b[0;34m(self, mode, batch, logs)\u001b[0m\n\u001b[1;32m    316\u001b[0m       \u001b[0mself\u001b[0m\u001b[0;34m.\u001b[0m\u001b[0m_batch_times\u001b[0m\u001b[0;34m.\u001b[0m\u001b[0mappend\u001b[0m\u001b[0;34m(\u001b[0m\u001b[0mbatch_time\u001b[0m\u001b[0;34m)\u001b[0m\u001b[0;34m\u001b[0m\u001b[0;34m\u001b[0m\u001b[0m\n\u001b[1;32m    317\u001b[0m \u001b[0;34m\u001b[0m\u001b[0m\n\u001b[0;32m--> 318\u001b[0;31m     \u001b[0mself\u001b[0m\u001b[0;34m.\u001b[0m\u001b[0m_call_batch_hook_helper\u001b[0m\u001b[0;34m(\u001b[0m\u001b[0mhook_name\u001b[0m\u001b[0;34m,\u001b[0m \u001b[0mbatch\u001b[0m\u001b[0;34m,\u001b[0m \u001b[0mlogs\u001b[0m\u001b[0;34m)\u001b[0m\u001b[0;34m\u001b[0m\u001b[0;34m\u001b[0m\u001b[0m\n\u001b[0m\u001b[1;32m    319\u001b[0m \u001b[0;34m\u001b[0m\u001b[0m\n\u001b[1;32m    320\u001b[0m     \u001b[0;32mif\u001b[0m \u001b[0mlen\u001b[0m\u001b[0;34m(\u001b[0m\u001b[0mself\u001b[0m\u001b[0;34m.\u001b[0m\u001b[0m_batch_times\u001b[0m\u001b[0;34m)\u001b[0m \u001b[0;34m>=\u001b[0m \u001b[0mself\u001b[0m\u001b[0;34m.\u001b[0m\u001b[0m_num_batches_for_timing_check\u001b[0m\u001b[0;34m:\u001b[0m\u001b[0;34m\u001b[0m\u001b[0;34m\u001b[0m\u001b[0m\n",
            "\u001b[0;32m/usr/local/lib/python3.7/dist-packages/keras/callbacks.py\u001b[0m in \u001b[0;36m_call_batch_hook_helper\u001b[0;34m(self, hook_name, batch, logs)\u001b[0m\n\u001b[1;32m    354\u001b[0m     \u001b[0;32mfor\u001b[0m \u001b[0mcallback\u001b[0m \u001b[0;32min\u001b[0m \u001b[0mself\u001b[0m\u001b[0;34m.\u001b[0m\u001b[0mcallbacks\u001b[0m\u001b[0;34m:\u001b[0m\u001b[0;34m\u001b[0m\u001b[0;34m\u001b[0m\u001b[0m\n\u001b[1;32m    355\u001b[0m       \u001b[0mhook\u001b[0m \u001b[0;34m=\u001b[0m \u001b[0mgetattr\u001b[0m\u001b[0;34m(\u001b[0m\u001b[0mcallback\u001b[0m\u001b[0;34m,\u001b[0m \u001b[0mhook_name\u001b[0m\u001b[0;34m)\u001b[0m\u001b[0;34m\u001b[0m\u001b[0;34m\u001b[0m\u001b[0m\n\u001b[0;32m--> 356\u001b[0;31m       \u001b[0mhook\u001b[0m\u001b[0;34m(\u001b[0m\u001b[0mbatch\u001b[0m\u001b[0;34m,\u001b[0m \u001b[0mlogs\u001b[0m\u001b[0;34m)\u001b[0m\u001b[0;34m\u001b[0m\u001b[0;34m\u001b[0m\u001b[0m\n\u001b[0m\u001b[1;32m    357\u001b[0m \u001b[0;34m\u001b[0m\u001b[0m\n\u001b[1;32m    358\u001b[0m     \u001b[0;32mif\u001b[0m \u001b[0mself\u001b[0m\u001b[0;34m.\u001b[0m\u001b[0m_check_timing\u001b[0m\u001b[0;34m:\u001b[0m\u001b[0;34m\u001b[0m\u001b[0;34m\u001b[0m\u001b[0m\n",
            "\u001b[0;32m/usr/local/lib/python3.7/dist-packages/keras/callbacks.py\u001b[0m in \u001b[0;36mon_train_batch_end\u001b[0;34m(self, batch, logs)\u001b[0m\n\u001b[1;32m   1032\u001b[0m \u001b[0;34m\u001b[0m\u001b[0m\n\u001b[1;32m   1033\u001b[0m   \u001b[0;32mdef\u001b[0m \u001b[0mon_train_batch_end\u001b[0m\u001b[0;34m(\u001b[0m\u001b[0mself\u001b[0m\u001b[0;34m,\u001b[0m \u001b[0mbatch\u001b[0m\u001b[0;34m,\u001b[0m \u001b[0mlogs\u001b[0m\u001b[0;34m=\u001b[0m\u001b[0;32mNone\u001b[0m\u001b[0;34m)\u001b[0m\u001b[0;34m:\u001b[0m\u001b[0;34m\u001b[0m\u001b[0;34m\u001b[0m\u001b[0m\n\u001b[0;32m-> 1034\u001b[0;31m     \u001b[0mself\u001b[0m\u001b[0;34m.\u001b[0m\u001b[0m_batch_update_progbar\u001b[0m\u001b[0;34m(\u001b[0m\u001b[0mbatch\u001b[0m\u001b[0;34m,\u001b[0m \u001b[0mlogs\u001b[0m\u001b[0;34m)\u001b[0m\u001b[0;34m\u001b[0m\u001b[0;34m\u001b[0m\u001b[0m\n\u001b[0m\u001b[1;32m   1035\u001b[0m \u001b[0;34m\u001b[0m\u001b[0m\n\u001b[1;32m   1036\u001b[0m   \u001b[0;32mdef\u001b[0m \u001b[0mon_test_batch_end\u001b[0m\u001b[0;34m(\u001b[0m\u001b[0mself\u001b[0m\u001b[0;34m,\u001b[0m \u001b[0mbatch\u001b[0m\u001b[0;34m,\u001b[0m \u001b[0mlogs\u001b[0m\u001b[0;34m=\u001b[0m\u001b[0;32mNone\u001b[0m\u001b[0;34m)\u001b[0m\u001b[0;34m:\u001b[0m\u001b[0;34m\u001b[0m\u001b[0;34m\u001b[0m\u001b[0m\n",
            "\u001b[0;32m/usr/local/lib/python3.7/dist-packages/keras/callbacks.py\u001b[0m in \u001b[0;36m_batch_update_progbar\u001b[0;34m(self, batch, logs)\u001b[0m\n\u001b[1;32m   1105\u001b[0m       \u001b[0;31m# Only block async when verbose = 1.\u001b[0m\u001b[0;34m\u001b[0m\u001b[0;34m\u001b[0m\u001b[0;34m\u001b[0m\u001b[0m\n\u001b[1;32m   1106\u001b[0m       \u001b[0mlogs\u001b[0m \u001b[0;34m=\u001b[0m \u001b[0mtf_utils\u001b[0m\u001b[0;34m.\u001b[0m\u001b[0msync_to_numpy_or_python_type\u001b[0m\u001b[0;34m(\u001b[0m\u001b[0mlogs\u001b[0m\u001b[0;34m)\u001b[0m\u001b[0;34m\u001b[0m\u001b[0;34m\u001b[0m\u001b[0m\n\u001b[0;32m-> 1107\u001b[0;31m       \u001b[0mself\u001b[0m\u001b[0;34m.\u001b[0m\u001b[0mprogbar\u001b[0m\u001b[0;34m.\u001b[0m\u001b[0mupdate\u001b[0m\u001b[0;34m(\u001b[0m\u001b[0mself\u001b[0m\u001b[0;34m.\u001b[0m\u001b[0mseen\u001b[0m\u001b[0;34m,\u001b[0m \u001b[0mlist\u001b[0m\u001b[0;34m(\u001b[0m\u001b[0mlogs\u001b[0m\u001b[0;34m.\u001b[0m\u001b[0mitems\u001b[0m\u001b[0;34m(\u001b[0m\u001b[0;34m)\u001b[0m\u001b[0;34m)\u001b[0m\u001b[0;34m,\u001b[0m \u001b[0mfinalize\u001b[0m\u001b[0;34m=\u001b[0m\u001b[0;32mFalse\u001b[0m\u001b[0;34m)\u001b[0m\u001b[0;34m\u001b[0m\u001b[0;34m\u001b[0m\u001b[0m\n\u001b[0m\u001b[1;32m   1108\u001b[0m \u001b[0;34m\u001b[0m\u001b[0m\n\u001b[1;32m   1109\u001b[0m   \u001b[0;32mdef\u001b[0m \u001b[0m_finalize_progbar\u001b[0m\u001b[0;34m(\u001b[0m\u001b[0mself\u001b[0m\u001b[0;34m,\u001b[0m \u001b[0mlogs\u001b[0m\u001b[0;34m,\u001b[0m \u001b[0mcounter\u001b[0m\u001b[0;34m)\u001b[0m\u001b[0;34m:\u001b[0m\u001b[0;34m\u001b[0m\u001b[0;34m\u001b[0m\u001b[0m\n",
            "\u001b[0;32m/usr/local/lib/python3.7/dist-packages/keras/utils/generic_utils.py\u001b[0m in \u001b[0;36mupdate\u001b[0;34m(self, current, values, finalize)\u001b[0m\n\u001b[1;32m    974\u001b[0m \u001b[0;34m\u001b[0m\u001b[0m\n\u001b[1;32m    975\u001b[0m       \u001b[0mmessage\u001b[0m \u001b[0;34m+=\u001b[0m \u001b[0minfo\u001b[0m\u001b[0;34m\u001b[0m\u001b[0;34m\u001b[0m\u001b[0m\n\u001b[0;32m--> 976\u001b[0;31m       \u001b[0mio_utils\u001b[0m\u001b[0;34m.\u001b[0m\u001b[0mprint_msg\u001b[0m\u001b[0;34m(\u001b[0m\u001b[0mmessage\u001b[0m\u001b[0;34m,\u001b[0m \u001b[0mline_break\u001b[0m\u001b[0;34m=\u001b[0m\u001b[0;32mFalse\u001b[0m\u001b[0;34m)\u001b[0m\u001b[0;34m\u001b[0m\u001b[0;34m\u001b[0m\u001b[0m\n\u001b[0m\u001b[1;32m    977\u001b[0m       \u001b[0mmessage\u001b[0m \u001b[0;34m=\u001b[0m \u001b[0;34m''\u001b[0m\u001b[0;34m\u001b[0m\u001b[0;34m\u001b[0m\u001b[0m\n\u001b[1;32m    978\u001b[0m \u001b[0;34m\u001b[0m\u001b[0m\n",
            "\u001b[0;32m/usr/local/lib/python3.7/dist-packages/keras/utils/io_utils.py\u001b[0m in \u001b[0;36mprint_msg\u001b[0;34m(message, line_break)\u001b[0m\n\u001b[1;32m     36\u001b[0m     \u001b[0;32melse\u001b[0m\u001b[0;34m:\u001b[0m\u001b[0;34m\u001b[0m\u001b[0;34m\u001b[0m\u001b[0m\n\u001b[1;32m     37\u001b[0m       \u001b[0msys\u001b[0m\u001b[0;34m.\u001b[0m\u001b[0mstdout\u001b[0m\u001b[0;34m.\u001b[0m\u001b[0mwrite\u001b[0m\u001b[0;34m(\u001b[0m\u001b[0mmessage\u001b[0m\u001b[0;34m)\u001b[0m\u001b[0;34m\u001b[0m\u001b[0;34m\u001b[0m\u001b[0m\n\u001b[0;32m---> 38\u001b[0;31m     \u001b[0msys\u001b[0m\u001b[0;34m.\u001b[0m\u001b[0mstdout\u001b[0m\u001b[0;34m.\u001b[0m\u001b[0mflush\u001b[0m\u001b[0;34m(\u001b[0m\u001b[0;34m)\u001b[0m\u001b[0;34m\u001b[0m\u001b[0;34m\u001b[0m\u001b[0m\n\u001b[0m\u001b[1;32m     39\u001b[0m \u001b[0;34m\u001b[0m\u001b[0m\n\u001b[1;32m     40\u001b[0m \u001b[0;34m\u001b[0m\u001b[0m\n",
            "\u001b[0;32m/usr/local/lib/python3.7/dist-packages/ipykernel/iostream.py\u001b[0m in \u001b[0;36mflush\u001b[0;34m(self)\u001b[0m\n\u001b[1;32m    339\u001b[0m         \u001b[0;32mif\u001b[0m \u001b[0mself\u001b[0m\u001b[0;34m.\u001b[0m\u001b[0mpub_thread\u001b[0m\u001b[0;34m.\u001b[0m\u001b[0mthread\u001b[0m\u001b[0;34m.\u001b[0m\u001b[0mis_alive\u001b[0m\u001b[0;34m(\u001b[0m\u001b[0;34m)\u001b[0m\u001b[0;34m:\u001b[0m\u001b[0;34m\u001b[0m\u001b[0;34m\u001b[0m\u001b[0m\n\u001b[1;32m    340\u001b[0m             \u001b[0;31m# request flush on the background thread\u001b[0m\u001b[0;34m\u001b[0m\u001b[0;34m\u001b[0m\u001b[0;34m\u001b[0m\u001b[0m\n\u001b[0;32m--> 341\u001b[0;31m             \u001b[0mself\u001b[0m\u001b[0;34m.\u001b[0m\u001b[0mpub_thread\u001b[0m\u001b[0;34m.\u001b[0m\u001b[0mschedule\u001b[0m\u001b[0;34m(\u001b[0m\u001b[0mself\u001b[0m\u001b[0;34m.\u001b[0m\u001b[0m_flush\u001b[0m\u001b[0;34m)\u001b[0m\u001b[0;34m\u001b[0m\u001b[0;34m\u001b[0m\u001b[0m\n\u001b[0m\u001b[1;32m    342\u001b[0m             \u001b[0;31m# wait for flush to actually get through, if we can.\u001b[0m\u001b[0;34m\u001b[0m\u001b[0;34m\u001b[0m\u001b[0;34m\u001b[0m\u001b[0m\n\u001b[1;32m    343\u001b[0m             \u001b[0;31m# waiting across threads during import can cause deadlocks\u001b[0m\u001b[0;34m\u001b[0m\u001b[0;34m\u001b[0m\u001b[0;34m\u001b[0m\u001b[0m\n",
            "\u001b[0;32m/usr/local/lib/python3.7/dist-packages/ipykernel/iostream.py\u001b[0m in \u001b[0;36mschedule\u001b[0;34m(self, f)\u001b[0m\n\u001b[1;32m    201\u001b[0m             \u001b[0mself\u001b[0m\u001b[0;34m.\u001b[0m\u001b[0m_events\u001b[0m\u001b[0;34m.\u001b[0m\u001b[0mappend\u001b[0m\u001b[0;34m(\u001b[0m\u001b[0mf\u001b[0m\u001b[0;34m)\u001b[0m\u001b[0;34m\u001b[0m\u001b[0;34m\u001b[0m\u001b[0m\n\u001b[1;32m    202\u001b[0m             \u001b[0;31m# wake event thread (message content is ignored)\u001b[0m\u001b[0;34m\u001b[0m\u001b[0;34m\u001b[0m\u001b[0;34m\u001b[0m\u001b[0m\n\u001b[0;32m--> 203\u001b[0;31m             \u001b[0mself\u001b[0m\u001b[0;34m.\u001b[0m\u001b[0m_event_pipe\u001b[0m\u001b[0;34m.\u001b[0m\u001b[0msend\u001b[0m\u001b[0;34m(\u001b[0m\u001b[0;34mb''\u001b[0m\u001b[0;34m)\u001b[0m\u001b[0;34m\u001b[0m\u001b[0;34m\u001b[0m\u001b[0m\n\u001b[0m\u001b[1;32m    204\u001b[0m         \u001b[0;32melse\u001b[0m\u001b[0;34m:\u001b[0m\u001b[0;34m\u001b[0m\u001b[0;34m\u001b[0m\u001b[0m\n\u001b[1;32m    205\u001b[0m             \u001b[0mf\u001b[0m\u001b[0;34m(\u001b[0m\u001b[0;34m)\u001b[0m\u001b[0;34m\u001b[0m\u001b[0;34m\u001b[0m\u001b[0m\n",
            "\u001b[0;32m/usr/local/lib/python3.7/dist-packages/zmq/sugar/socket.py\u001b[0m in \u001b[0;36msend\u001b[0;34m(self, data, flags, copy, track, routing_id, group)\u001b[0m\n\u001b[1;32m    613\u001b[0m                 )\n\u001b[1;32m    614\u001b[0m             \u001b[0mdata\u001b[0m\u001b[0;34m.\u001b[0m\u001b[0mgroup\u001b[0m \u001b[0;34m=\u001b[0m \u001b[0mgroup\u001b[0m\u001b[0;34m\u001b[0m\u001b[0;34m\u001b[0m\u001b[0m\n\u001b[0;32m--> 615\u001b[0;31m         \u001b[0;32mreturn\u001b[0m \u001b[0msuper\u001b[0m\u001b[0;34m(\u001b[0m\u001b[0;34m)\u001b[0m\u001b[0;34m.\u001b[0m\u001b[0msend\u001b[0m\u001b[0;34m(\u001b[0m\u001b[0mdata\u001b[0m\u001b[0;34m,\u001b[0m \u001b[0mflags\u001b[0m\u001b[0;34m=\u001b[0m\u001b[0mflags\u001b[0m\u001b[0;34m,\u001b[0m \u001b[0mcopy\u001b[0m\u001b[0;34m=\u001b[0m\u001b[0mcopy\u001b[0m\u001b[0;34m,\u001b[0m \u001b[0mtrack\u001b[0m\u001b[0;34m=\u001b[0m\u001b[0mtrack\u001b[0m\u001b[0;34m)\u001b[0m\u001b[0;34m\u001b[0m\u001b[0;34m\u001b[0m\u001b[0m\n\u001b[0m\u001b[1;32m    616\u001b[0m \u001b[0;34m\u001b[0m\u001b[0m\n\u001b[1;32m    617\u001b[0m     def send_multipart(\n",
            "\u001b[0;32mzmq/backend/cython/socket.pyx\u001b[0m in \u001b[0;36mzmq.backend.cython.socket.Socket.send\u001b[0;34m()\u001b[0m\n",
            "\u001b[0;32mzmq/backend/cython/socket.pyx\u001b[0m in \u001b[0;36mzmq.backend.cython.socket.Socket.send\u001b[0;34m()\u001b[0m\n",
            "\u001b[0;32mzmq/backend/cython/socket.pyx\u001b[0m in \u001b[0;36mzmq.backend.cython.socket._send_copy\u001b[0;34m()\u001b[0m\n",
            "\u001b[0;32m/usr/local/lib/python3.7/dist-packages/zmq/backend/cython/checkrc.pxd\u001b[0m in \u001b[0;36mzmq.backend.cython.checkrc._check_rc\u001b[0;34m()\u001b[0m\n",
            "\u001b[0;31mKeyboardInterrupt\u001b[0m: "
          ]
        }
      ]
    },
    {
      "cell_type": "code",
      "source": [
        "def cnn_variable3(opt, inputs, input_variable_valid,input_variable_test):\n",
        "  inputs = Input(shape=(None,33),name='inputs')\n",
        "  inputs_L = Input(shape=[],name='inputs2')\n",
        "  layer_c = Conv1D(256, 1, padding=\"same\")(inputs)\n",
        "  layer = Activation(\"LeakyReLU\")(layer_c)\n",
        "  #layer = Dropout(0.5)(layer)\n",
        "  layer = MaxPooling1D(pool_size = 2)(layer)\n",
        "  layer = Conv1D(128, 1, padding=\"same\")(layer)\n",
        "  layer = BatchNormalization(axis=-1)(layer)\n",
        "  layer = Activation(\"LeakyReLU\")(layer)\n",
        "  #layer = Dropout(0.2)(layer)\n",
        "  layer = MaxPooling1D(pool_size = 2)(layer)\n",
        "  layer = Conv1D(256, 1, padding=\"same\")(layer)\n",
        "  layer = BatchNormalization(axis=-1)(layer)\n",
        "  layer = Activation(\"LeakyReLU\")(layer)\n",
        "  #layer = Dropout(0.2)(layer)\n",
        "  layer = MaxPooling1D(pool_size = 2)(layer)\n",
        "  layer = Conv1D(128, 1, padding=\"same\")(layer)\n",
        "  layer = BatchNormalization(axis=-1)(layer)\n",
        "  layer = Activation(\"LeakyReLU\")(layer)\n",
        "  #layer = Dropout(0.2)(layer)\n",
        "  layer = MaxPooling1D(pool_size = 2)(layer)\n",
        "  #layer = Dropout(0.2)(layer)\n",
        "  #layer = Flatten()(layer)\n",
        "  #layer = Dropout(0.2)(layer)\n",
        "  layer = TimeDistributed(Dense(300))(layer)\n",
        "  layer = Reshape((-1,5))(layer)\n",
        "  layer = UpSampling1D(size=15)(layer)\n",
        "  L = tf.cast(tf.reduce_max(inputs_L), tf.int32)\n",
        "  output = layer[:,:L]\n",
        "  model = Model(inputs = (inputs_L,inputs) , outputs=output)\n",
        "  model.compile(loss=\"sparse_categorical_crossentropy\", optimizer=opt, metrics=[\"sparse_categorical_accuracy\"])\n",
        "  history = model.fit(input_variable_train2, validation_data=input_variable_valid2, batch_size=BS, epochs=NUM_EPOCHS, verbose=1, callbacks=[early_stopping])\n",
        "  # plotting the metrics\n",
        "  plt.subplot(2, 1, 1)\n",
        "  plt.title('Sparse Crossentropy Loss')\n",
        "  plt.plot(history.history['loss'], color='blue', label='train')\n",
        "  plt.plot(history.history['val_loss'], color='orange', label='val')\n",
        "\t# plot accuracy\n",
        "  plt.subplot(2, 1, 2)\n",
        "  plt.title('Classification Accuracy')\n",
        "  plt.plot(history.history['sparse_categorical_accuracy'], color='blue', label='train')\n",
        "  plt.plot(history.history['val_sparse_categorical_accuracy'], color='orange', label='val')\n",
        "  score = model.evaluate(input_variable_test2, verbose=0) #evaluate based on test dataset, which was not used for training and validation\n",
        "  return model.summary(), history, print('Loss using testing dataset=', score[0]), print('Accuracy using testing dataset=', score[1]) "
      ],
      "metadata": {
        "id": "O9aaM1f5HyNO"
      },
      "execution_count": 109,
      "outputs": []
    },
    {
      "cell_type": "code",
      "source": [
        "cnn3= cnn_variable3(opt2, input_variable_train2, input_variable_valid2, input_variable_test2)"
      ],
      "metadata": {
        "colab": {
          "base_uri": "https://localhost:8080/",
          "height": 1000
        },
        "id": "DlbZL722HyfG",
        "outputId": "17a1ab94-e19e-4d9a-932b-d1122802e83e"
      },
      "execution_count": 110,
      "outputs": [
        {
          "output_type": "stream",
          "name": "stdout",
          "text": [
            "Epoch 1/100\n",
            "1250/1250 [==============================] - 40s 30ms/step - loss: 2.6237 - sparse_categorical_accuracy: 0.2494 - val_loss: 2.0933 - val_sparse_categorical_accuracy: 0.2630\n",
            "Epoch 2/100\n",
            "1250/1250 [==============================] - 33s 26ms/step - loss: 2.0276 - sparse_categorical_accuracy: 0.2639 - val_loss: 1.9801 - val_sparse_categorical_accuracy: 0.2714\n",
            "Epoch 3/100\n",
            "1250/1250 [==============================] - 31s 25ms/step - loss: 1.9176 - sparse_categorical_accuracy: 0.2768 - val_loss: 1.8775 - val_sparse_categorical_accuracy: 0.2827\n",
            "Epoch 4/100\n",
            "1250/1250 [==============================] - 30s 24ms/step - loss: 1.8469 - sparse_categorical_accuracy: 0.2844 - val_loss: 1.8442 - val_sparse_categorical_accuracy: 0.2905\n",
            "Epoch 5/100\n",
            "1250/1250 [==============================] - 21s 17ms/step - loss: 1.8160 - sparse_categorical_accuracy: 0.2890 - val_loss: 1.8090 - val_sparse_categorical_accuracy: 0.2976\n",
            "Epoch 6/100\n",
            "1250/1250 [==============================] - 20s 16ms/step - loss: 1.7911 - sparse_categorical_accuracy: 0.2906 - val_loss: 1.7843 - val_sparse_categorical_accuracy: 0.2965\n",
            "Epoch 7/100\n",
            "1250/1250 [==============================] - 30s 24ms/step - loss: 1.7772 - sparse_categorical_accuracy: 0.2903 - val_loss: 1.7727 - val_sparse_categorical_accuracy: 0.2977\n",
            "Epoch 8/100\n",
            "1250/1250 [==============================] - 34s 27ms/step - loss: 1.7490 - sparse_categorical_accuracy: 0.2905 - val_loss: 1.7515 - val_sparse_categorical_accuracy: 0.2838\n",
            "Epoch 9/100\n",
            "1250/1250 [==============================] - 24s 19ms/step - loss: 1.7400 - sparse_categorical_accuracy: 0.2888 - val_loss: 1.7341 - val_sparse_categorical_accuracy: 0.2912\n",
            "Epoch 10/100\n",
            "1250/1250 [==============================] - 24s 19ms/step - loss: 1.7227 - sparse_categorical_accuracy: 0.2886 - val_loss: 1.7329 - val_sparse_categorical_accuracy: 0.2742\n",
            "Epoch 11/100\n",
            "1250/1250 [==============================] - 20s 16ms/step - loss: 1.6999 - sparse_categorical_accuracy: 0.2872 - val_loss: 1.6865 - val_sparse_categorical_accuracy: 0.2865\n",
            "Epoch 12/100\n",
            "1250/1250 [==============================] - 20s 16ms/step - loss: 1.6806 - sparse_categorical_accuracy: 0.2892 - val_loss: 1.6787 - val_sparse_categorical_accuracy: 0.2877\n",
            "Epoch 13/100\n",
            "1250/1250 [==============================] - 20s 16ms/step - loss: 1.6647 - sparse_categorical_accuracy: 0.2885 - val_loss: 1.6839 - val_sparse_categorical_accuracy: 0.2815\n",
            "Epoch 14/100\n",
            "1250/1250 [==============================] - 27s 22ms/step - loss: 1.6356 - sparse_categorical_accuracy: 0.2873 - val_loss: 1.6400 - val_sparse_categorical_accuracy: 0.2879\n",
            "Epoch 15/100\n",
            "1250/1250 [==============================] - 24s 19ms/step - loss: 1.6347 - sparse_categorical_accuracy: 0.2820 - val_loss: 1.6486 - val_sparse_categorical_accuracy: 0.2806\n",
            "Epoch 16/100\n",
            "1250/1250 [==============================] - 28s 22ms/step - loss: 1.6350 - sparse_categorical_accuracy: 0.2836 - val_loss: 1.6249 - val_sparse_categorical_accuracy: 0.2853\n",
            "Epoch 17/100\n",
            "1250/1250 [==============================] - 20s 16ms/step - loss: 1.6329 - sparse_categorical_accuracy: 0.2855 - val_loss: 1.6588 - val_sparse_categorical_accuracy: 0.2776\n",
            "Epoch 18/100\n",
            "1250/1250 [==============================] - 20s 16ms/step - loss: 1.6378 - sparse_categorical_accuracy: 0.2865 - val_loss: 1.6341 - val_sparse_categorical_accuracy: 0.2855\n",
            "Epoch 19/100\n",
            "1250/1250 [==============================] - 20s 16ms/step - loss: 1.6259 - sparse_categorical_accuracy: 0.2865 - val_loss: 1.6269 - val_sparse_categorical_accuracy: 0.2839\n",
            "Epoch 20/100\n",
            "1250/1250 [==============================] - 20s 16ms/step - loss: 1.6173 - sparse_categorical_accuracy: 0.2854 - val_loss: 1.6180 - val_sparse_categorical_accuracy: 0.2815\n",
            "Epoch 21/100\n",
            "1250/1250 [==============================] - 20s 16ms/step - loss: 1.6121 - sparse_categorical_accuracy: 0.2846 - val_loss: 1.6108 - val_sparse_categorical_accuracy: 0.2881\n",
            "Epoch 22/100\n",
            "1250/1250 [==============================] - 20s 16ms/step - loss: 1.6082 - sparse_categorical_accuracy: 0.2859 - val_loss: 1.6448 - val_sparse_categorical_accuracy: 0.2760\n",
            "Epoch 23/100\n",
            "1250/1250 [==============================] - 23s 18ms/step - loss: 1.6180 - sparse_categorical_accuracy: 0.2852 - val_loss: 1.6490 - val_sparse_categorical_accuracy: 0.2752\n",
            "Epoch 24/100\n",
            "1250/1250 [==============================] - 25s 20ms/step - loss: 1.6130 - sparse_categorical_accuracy: 0.2834 - val_loss: 1.6150 - val_sparse_categorical_accuracy: 0.2841\n",
            "Model: \"model_13\"\n",
            "__________________________________________________________________________________________________\n",
            " Layer (type)                   Output Shape         Param #     Connected to                     \n",
            "==================================================================================================\n",
            " inputs (InputLayer)            [(None, None, 33)]   0           []                               \n",
            "                                                                                                  \n",
            " conv1d_42 (Conv1D)             (None, None, 256)    8704        ['inputs[0][0]']                 \n",
            "                                                                                                  \n",
            " activation_65 (Activation)     (None, None, 256)    0           ['conv1d_42[0][0]']              \n",
            "                                                                                                  \n",
            " max_pooling1d_33 (MaxPooling1D  (None, None, 256)   0           ['activation_65[0][0]']          \n",
            " )                                                                                                \n",
            "                                                                                                  \n",
            " conv1d_43 (Conv1D)             (None, None, 128)    32896       ['max_pooling1d_33[0][0]']       \n",
            "                                                                                                  \n",
            " batch_normalization_51 (BatchN  (None, None, 128)   512         ['conv1d_43[0][0]']              \n",
            " ormalization)                                                                                    \n",
            "                                                                                                  \n",
            " activation_66 (Activation)     (None, None, 128)    0           ['batch_normalization_51[0][0]'] \n",
            "                                                                                                  \n",
            " max_pooling1d_34 (MaxPooling1D  (None, None, 128)   0           ['activation_66[0][0]']          \n",
            " )                                                                                                \n",
            "                                                                                                  \n",
            " conv1d_44 (Conv1D)             (None, None, 256)    33024       ['max_pooling1d_34[0][0]']       \n",
            "                                                                                                  \n",
            " batch_normalization_52 (BatchN  (None, None, 256)   1024        ['conv1d_44[0][0]']              \n",
            " ormalization)                                                                                    \n",
            "                                                                                                  \n",
            " activation_67 (Activation)     (None, None, 256)    0           ['batch_normalization_52[0][0]'] \n",
            "                                                                                                  \n",
            " max_pooling1d_35 (MaxPooling1D  (None, None, 256)   0           ['activation_67[0][0]']          \n",
            " )                                                                                                \n",
            "                                                                                                  \n",
            " conv1d_45 (Conv1D)             (None, None, 128)    32896       ['max_pooling1d_35[0][0]']       \n",
            "                                                                                                  \n",
            " batch_normalization_53 (BatchN  (None, None, 128)   512         ['conv1d_45[0][0]']              \n",
            " ormalization)                                                                                    \n",
            "                                                                                                  \n",
            " activation_68 (Activation)     (None, None, 128)    0           ['batch_normalization_53[0][0]'] \n",
            "                                                                                                  \n",
            " max_pooling1d_36 (MaxPooling1D  (None, None, 128)   0           ['activation_68[0][0]']          \n",
            " )                                                                                                \n",
            "                                                                                                  \n",
            " time_distributed_17 (TimeDistr  (None, None, 300)   38700       ['max_pooling1d_36[0][0]']       \n",
            " ibuted)                                                                                          \n",
            "                                                                                                  \n",
            " inputs2 (InputLayer)           [(None,)]            0           []                               \n",
            "                                                                                                  \n",
            " reshape_24 (Reshape)           (None, None, 5)      0           ['time_distributed_17[0][0]']    \n",
            "                                                                                                  \n",
            " tf.math.reduce_max_12 (TFOpLam  ()                  0           ['inputs2[0][0]']                \n",
            " bda)                                                                                             \n",
            "                                                                                                  \n",
            " up_sampling1d_21 (UpSampling1D  (None, None, 5)     0           ['reshape_24[0][0]']             \n",
            " )                                                                                                \n",
            "                                                                                                  \n",
            " tf.cast_12 (TFOpLambda)        ()                   0           ['tf.math.reduce_max_12[0][0]']  \n",
            "                                                                                                  \n",
            " tf.__operators__.getitem_11 (S  (None, None, 5)     0           ['up_sampling1d_21[0][0]',       \n",
            " licingOpLambda)                                                  'tf.cast_12[0][0]']             \n",
            "                                                                                                  \n",
            "==================================================================================================\n",
            "Total params: 148,268\n",
            "Trainable params: 147,244\n",
            "Non-trainable params: 1,024\n",
            "__________________________________________________________________________________________________\n",
            "Loss using testing dataset= 1.610906720161438\n",
            "Accuracy using testing dataset= 0.29160839319229126\n"
          ]
        },
        {
          "output_type": "display_data",
          "data": {
            "text/plain": [
              "<Figure size 432x288 with 2 Axes>"
            ],
            "image/png": "[encoded data removed]"
          },
          "metadata": {
            "needs_background": "light"
          }
        }
      ]
    },
    {
      "cell_type": "code",
      "source": [
        "NUM_EPOCHS = 100 #Increase epochs if you do not see a flatlined loss function\n",
        "#Add batch normalization\n",
        "INIT_LR  = 0.0001 #change to 0.001 after\n",
        "BS = 32 #batch size\n",
        "opt= SGD(learning_rate=INIT_LR, momentum=0.9, decay=INIT_LR / NUM_EPOCHS)\n",
        "opt2 = tf.optimizers.Adam(learning_rate = INIT_LR)\n",
        "from keras.callbacks import EarlyStopping  \n",
        "early_stopping1 =EarlyStopping(monitor='sparse_categorical_accuracy', patience=2) "
      ],
      "metadata": {
        "id": "Twyes8JMNHSS"
      },
      "execution_count": 112,
      "outputs": []
    },
    {
      "cell_type": "code",
      "source": [
        "def cnn_variable4(opt, inputs, input_variable_valid,input_variable_test):\n",
        "  inputs = Input(shape=(None,33),name='inputs')\n",
        "  inputs_L = Input(shape=[],name='inputs2')\n",
        "  layer_c = Conv1D(512, 1, padding=\"same\")(inputs)\n",
        "  layer = Activation(\"LeakyReLU\")(layer_c)\n",
        "  layer = Dropout(0.25)(layer)\n",
        "  layer = MaxPooling1D(pool_size = 2)(layer)\n",
        "  layer = Conv1D(256, 1, padding=\"same\")(layer)\n",
        "  layer = BatchNormalization(axis=-1)(layer)\n",
        "  layer = Activation(\"LeakyReLU\")(layer)\n",
        "  #layer = Dropout(0.2)(layer)\n",
        "  layer = MaxPooling1D(pool_size = 2)(layer)\n",
        "  layer = Conv1D(512, 1, padding=\"same\")(layer)\n",
        "  layer = BatchNormalization(axis=-1)(layer)\n",
        "  layer = Activation(\"LeakyReLU\")(layer)\n",
        "  #layer = Dropout(0.2)(layer)\n",
        "  layer = MaxPooling1D(pool_size = 2)(layer)\n",
        "  layer = Conv1D(256, 1, padding=\"same\")(layer)\n",
        "  layer = BatchNormalization(axis=-1)(layer)\n",
        "  layer = Activation(\"LeakyReLU\")(layer)\n",
        "  #layer = Dropout(0.2)(layer)\n",
        "  layer = MaxPooling1D(pool_size = 2)(layer)\n",
        "  #layer = Dropout(0.2)(layer)\n",
        "  #layer = Flatten()(layer)\n",
        "  #layer = Dropout(0.2)(layer)\n",
        "  layer = TimeDistributed(Dense(1000))(layer)\n",
        "  layer = Reshape((-1,5))(layer)\n",
        "  layer = UpSampling1D(size=100)(layer)\n",
        "  L = tf.cast(tf.reduce_max(inputs_L), tf.int32)\n",
        "  output = layer[:,:L]\n",
        "  model = Model(inputs = (inputs_L,inputs) , outputs=output)\n",
        "  model.compile(loss=\"sparse_categorical_crossentropy\", optimizer=opt, metrics=[\"sparse_categorical_accuracy\"])\n",
        "  history = model.fit(input_variable_train2, validation_data=input_variable_valid2, batch_size=BS, epochs=NUM_EPOCHS, verbose=1, callbacks=[early_stopping1])\n",
        "  # plotting the metrics\n",
        "  plt.subplot(2, 1, 1)\n",
        "  plt.title('Sparse Crossentropy Loss')\n",
        "  plt.plot(history.history['loss'], color='blue', label='train')\n",
        "  plt.plot(history.history['val_loss'], color='orange', label='val')\n",
        "\t# plot accuracy\n",
        "  plt.subplot(2, 1, 2)\n",
        "  plt.title('Classification Accuracy')\n",
        "  plt.plot(history.history['sparse_categorical_accuracy'], color='blue', label='train')\n",
        "  plt.plot(history.history['val_sparse_categorical_accuracy'], color='orange', label='val')\n",
        "  score = model.evaluate(input_variable_test2, verbose=0) #evaluate based on test dataset, which was not used for training and validation\n",
        "  return model.summary(), history, print('Loss using testing dataset=', score[0]), print('Accuracy using testing dataset=', score[1]) "
      ],
      "metadata": {
        "id": "BwuGF19NLodq"
      },
      "execution_count": 113,
      "outputs": []
    },
    {
      "cell_type": "code",
      "source": [
        "cnn4= cnn_variable4(opt2, input_variable_train2, input_variable_valid2, input_variable_test2)"
      ],
      "metadata": {
        "colab": {
          "base_uri": "https://localhost:8080/",
          "height": 1000
        },
        "id": "lbVB6kakLpCW",
        "outputId": "f16b969a-a9b3-4c59-d3f5-2801375ee441"
      },
      "execution_count": 114,
      "outputs": [
        {
          "output_type": "stream",
          "name": "stdout",
          "text": [
            "Epoch 1/100\n",
            "1250/1250 [==============================] - 48s 37ms/step - loss: 3.9640 - sparse_categorical_accuracy: 0.2260 - val_loss: 2.1821 - val_sparse_categorical_accuracy: 0.2272\n",
            "Epoch 2/100\n",
            "1250/1250 [==============================] - 21s 17ms/step - loss: 2.0805 - sparse_categorical_accuracy: 0.2265 - val_loss: 1.8665 - val_sparse_categorical_accuracy: 0.2299\n",
            "Epoch 3/100\n",
            "1250/1250 [==============================] - 21s 17ms/step - loss: 1.8463 - sparse_categorical_accuracy: 0.2301 - val_loss: 1.7778 - val_sparse_categorical_accuracy: 0.2315\n",
            "Epoch 4/100\n",
            "1250/1250 [==============================] - 21s 17ms/step - loss: 1.7679 - sparse_categorical_accuracy: 0.2324 - val_loss: 1.7169 - val_sparse_categorical_accuracy: 0.2326\n",
            "Epoch 5/100\n",
            "1250/1250 [==============================] - 34s 27ms/step - loss: 1.7134 - sparse_categorical_accuracy: 0.2339 - val_loss: 1.6735 - val_sparse_categorical_accuracy: 0.2344\n",
            "Epoch 6/100\n",
            "1250/1250 [==============================] - 32s 26ms/step - loss: 1.7027 - sparse_categorical_accuracy: 0.2350 - val_loss: 1.6846 - val_sparse_categorical_accuracy: 0.2320\n",
            "Epoch 7/100\n",
            "1250/1250 [==============================] - 31s 25ms/step - loss: 1.7135 - sparse_categorical_accuracy: 0.2351 - val_loss: 1.6843 - val_sparse_categorical_accuracy: 0.2367\n",
            "Epoch 8/100\n",
            "1250/1250 [==============================] - 21s 17ms/step - loss: 1.6845 - sparse_categorical_accuracy: 0.2374 - val_loss: 1.6587 - val_sparse_categorical_accuracy: 0.2331\n",
            "Epoch 9/100\n",
            "1250/1250 [==============================] - 22s 18ms/step - loss: 1.6784 - sparse_categorical_accuracy: 0.2353 - val_loss: 1.6619 - val_sparse_categorical_accuracy: 0.2342\n",
            "Epoch 10/100\n",
            "1250/1250 [==============================] - 21s 17ms/step - loss: 1.6743 - sparse_categorical_accuracy: 0.2367 - val_loss: 1.6589 - val_sparse_categorical_accuracy: 0.2356\n",
            "Model: \"model_14\"\n",
            "__________________________________________________________________________________________________\n",
            " Layer (type)                   Output Shape         Param #     Connected to                     \n",
            "==================================================================================================\n",
            " inputs (InputLayer)            [(None, None, 33)]   0           []                               \n",
            "                                                                                                  \n",
            " conv1d_46 (Conv1D)             (None, None, 512)    17408       ['inputs[0][0]']                 \n",
            "                                                                                                  \n",
            " activation_69 (Activation)     (None, None, 512)    0           ['conv1d_46[0][0]']              \n",
            "                                                                                                  \n",
            " dropout_5 (Dropout)            (None, None, 512)    0           ['activation_69[0][0]']          \n",
            "                                                                                                  \n",
            " max_pooling1d_37 (MaxPooling1D  (None, None, 512)   0           ['dropout_5[0][0]']              \n",
            " )                                                                                                \n",
            "                                                                                                  \n",
            " conv1d_47 (Conv1D)             (None, None, 256)    131328      ['max_pooling1d_37[0][0]']       \n",
            "                                                                                                  \n",
            " batch_normalization_54 (BatchN  (None, None, 256)   1024        ['conv1d_47[0][0]']              \n",
            " ormalization)                                                                                    \n",
            "                                                                                                  \n",
            " activation_70 (Activation)     (None, None, 256)    0           ['batch_normalization_54[0][0]'] \n",
            "                                                                                                  \n",
            " max_pooling1d_38 (MaxPooling1D  (None, None, 256)   0           ['activation_70[0][0]']          \n",
            " )                                                                                                \n",
            "                                                                                                  \n",
            " conv1d_48 (Conv1D)             (None, None, 512)    131584      ['max_pooling1d_38[0][0]']       \n",
            "                                                                                                  \n",
            " batch_normalization_55 (BatchN  (None, None, 512)   2048        ['conv1d_48[0][0]']              \n",
            " ormalization)                                                                                    \n",
            "                                                                                                  \n",
            " activation_71 (Activation)     (None, None, 512)    0           ['batch_normalization_55[0][0]'] \n",
            "                                                                                                  \n",
            " max_pooling1d_39 (MaxPooling1D  (None, None, 512)   0           ['activation_71[0][0]']          \n",
            " )                                                                                                \n",
            "                                                                                                  \n",
            " conv1d_49 (Conv1D)             (None, None, 256)    131328      ['max_pooling1d_39[0][0]']       \n",
            "                                                                                                  \n",
            " batch_normalization_56 (BatchN  (None, None, 256)   1024        ['conv1d_49[0][0]']              \n",
            " ormalization)                                                                                    \n",
            "                                                                                                  \n",
            " activation_72 (Activation)     (None, None, 256)    0           ['batch_normalization_56[0][0]'] \n",
            "                                                                                                  \n",
            " max_pooling1d_40 (MaxPooling1D  (None, None, 256)   0           ['activation_72[0][0]']          \n",
            " )                                                                                                \n",
            "                                                                                                  \n",
            " time_distributed_18 (TimeDistr  (None, None, 1000)  257000      ['max_pooling1d_40[0][0]']       \n",
            " ibuted)                                                                                          \n",
            "                                                                                                  \n",
            " inputs2 (InputLayer)           [(None,)]            0           []                               \n",
            "                                                                                                  \n",
            " reshape_25 (Reshape)           (None, None, 5)      0           ['time_distributed_18[0][0]']    \n",
            "                                                                                                  \n",
            " tf.math.reduce_max_13 (TFOpLam  ()                  0           ['inputs2[0][0]']                \n",
            " bda)                                                                                             \n",
            "                                                                                                  \n",
            " up_sampling1d_22 (UpSampling1D  (None, None, 5)     0           ['reshape_25[0][0]']             \n",
            " )                                                                                                \n",
            "                                                                                                  \n",
            " tf.cast_13 (TFOpLambda)        ()                   0           ['tf.math.reduce_max_13[0][0]']  \n",
            "                                                                                                  \n",
            " tf.__operators__.getitem_12 (S  (None, None, 5)     0           ['up_sampling1d_22[0][0]',       \n",
            " licingOpLambda)                                                  'tf.cast_13[0][0]']             \n",
            "                                                                                                  \n",
            "==================================================================================================\n",
            "Total params: 672,744\n",
            "Trainable params: 670,696\n",
            "Non-trainable params: 2,048\n",
            "__________________________________________________________________________________________________\n",
            "Loss using testing dataset= 1.6610002517700195\n",
            "Accuracy using testing dataset= 0.23401141166687012\n"
          ]
        },
        {
          "output_type": "display_data",
          "data": {
            "text/plain": [
              "<Figure size 432x288 with 2 Axes>"
            ],
            "image/png": "[encoded data removed]"
          },
          "metadata": {
            "needs_background": "light"
          }
        }
      ]
    },
    {
      "cell_type": "code",
      "source": [
        "def cnn_variable5(opt, inputs, input_variable_valid,input_variable_test):\n",
        "  inputs = Input(shape=(None,33),name='inputs')\n",
        "  inputs_L = Input(shape=[],name='inputs2')\n",
        "  layer_c = Conv1D(128, 1, padding=\"same\")(inputs)\n",
        "  layer = Activation(\"LeakyReLU\")(layer_c)\n",
        "  #layer = Dropout(0.5)(layer)\n",
        "  layer = MaxPooling1D(pool_size = 2)(layer)\n",
        "  layer = Conv1D(64, 1, padding=\"same\")(layer)\n",
        "  layer = BatchNormalization(axis=-1)(layer)\n",
        "  layer = Activation(\"LeakyReLU\")(layer)\n",
        "  #layer = Dropout(0.2)(layer)\n",
        "  layer = MaxPooling1D(pool_size = 2)(layer)\n",
        "  layer = Conv1D(128, 1, padding=\"same\")(layer)\n",
        "  layer = BatchNormalization(axis=-1)(layer)\n",
        "  layer = Activation(\"LeakyReLU\")(layer)\n",
        "  layer = MaxPooling1D(pool_size = 2)(layer)\n",
        "  layer = Conv1D(256, 1, padding=\"same\")(layer)\n",
        "  layer = BatchNormalization(axis=-1)(layer)\n",
        "  layer = Activation(\"LeakyReLU\")(layer)\n",
        "  #layer = Dropout(0.2)(layer)\n",
        "  layer = MaxPooling1D(pool_size = 2)(layer)\n",
        "  #layer = Dropout(0.2)(layer)\n",
        "  #layer = Flatten()(layer)\n",
        "  #layer = Dropout(0.2)(layer)\n",
        "  layer = TimeDistributed(Dense(300))(layer)\n",
        "  layer = Reshape((-1,5))(layer)\n",
        "  layer = UpSampling1D(size=15)(layer)\n",
        "  L = tf.cast(tf.reduce_max(inputs_L), tf.int32)\n",
        "  output = layer[:,:L]\n",
        "  model = Model(inputs = (inputs_L,inputs) , outputs=output)\n",
        "  model.compile(loss=\"sparse_categorical_crossentropy\", optimizer=opt, metrics=[\"sparse_categorical_accuracy\"])\n",
        "  history = model.fit(input_variable_train2, validation_data=input_variable_valid2, batch_size=BS, epochs=NUM_EPOCHS, verbose=1, callbacks=[early_stopping])\n",
        "  # plotting the metrics\n",
        "  plt.subplot(2, 1, 1)\n",
        "  plt.title('Sparse Crossentropy Loss')\n",
        "  plt.plot(history.history['loss'], color='blue', label='train')\n",
        "  plt.plot(history.history['val_loss'], color='orange', label='val')\n",
        "\t# plot accuracy\n",
        "  plt.subplot(2, 1, 2)\n",
        "  plt.title('Classification Accuracy')\n",
        "  plt.plot(history.history['sparse_categorical_accuracy'], color='blue', label='train')\n",
        "  plt.plot(history.history['val_sparse_categorical_accuracy'], color='orange', label='val')\n",
        "  score = model.evaluate(input_variable_test2, verbose=0) #evaluate based on test dataset, which was not used for training and validation\n",
        "  return model.summary(), history, print('Loss using testing dataset=', score[0]), print('Accuracy using testing dataset=', score[1]) "
      ],
      "metadata": {
        "id": "SvqOBvybPA6R"
      },
      "execution_count": 122,
      "outputs": []
    },
    {
      "cell_type": "code",
      "source": [
        "cnn5= cnn_variable5(opt2, input_variable_train2, input_variable_valid2, input_variable_test2)"
      ],
      "metadata": {
        "colab": {
          "base_uri": "https://localhost:8080/",
          "height": 1000
        },
        "id": "d5VPT0e7PEkx",
        "outputId": "78cf6b55-a784-4fa8-b218-6b6dfdc7250d"
      },
      "execution_count": 123,
      "outputs": [
        {
          "output_type": "stream",
          "name": "stdout",
          "text": [
            "Epoch 1/100\n",
            "1250/1250 [==============================] - 57s 44ms/step - loss: 2.5384 - sparse_categorical_accuracy: 0.2536 - val_loss: 2.0711 - val_sparse_categorical_accuracy: 0.2664\n",
            "Epoch 2/100\n",
            "1250/1250 [==============================] - 26s 21ms/step - loss: 2.0309 - sparse_categorical_accuracy: 0.2624 - val_loss: 1.8932 - val_sparse_categorical_accuracy: 0.2707\n",
            "Epoch 3/100\n",
            "1250/1250 [==============================] - 26s 21ms/step - loss: 1.9215 - sparse_categorical_accuracy: 0.2676 - val_loss: 1.8608 - val_sparse_categorical_accuracy: 0.2790\n",
            "Epoch 4/100\n",
            "1250/1250 [==============================] - 31s 25ms/step - loss: 1.8891 - sparse_categorical_accuracy: 0.2718 - val_loss: 1.8338 - val_sparse_categorical_accuracy: 0.2776\n",
            "Epoch 5/100\n",
            "1250/1250 [==============================] - 26s 21ms/step - loss: 1.8467 - sparse_categorical_accuracy: 0.2750 - val_loss: 1.7984 - val_sparse_categorical_accuracy: 0.2835\n",
            "Epoch 6/100\n",
            "1250/1250 [==============================] - 20s 16ms/step - loss: 1.8314 - sparse_categorical_accuracy: 0.2749 - val_loss: 1.7889 - val_sparse_categorical_accuracy: 0.2796\n",
            "Epoch 7/100\n",
            "1250/1250 [==============================] - 19s 16ms/step - loss: 1.8072 - sparse_categorical_accuracy: 0.2728 - val_loss: 1.7779 - val_sparse_categorical_accuracy: 0.2755\n",
            "Epoch 8/100\n",
            "1250/1250 [==============================] - 19s 16ms/step - loss: 1.7719 - sparse_categorical_accuracy: 0.2762 - val_loss: 1.7458 - val_sparse_categorical_accuracy: 0.2814\n",
            "Epoch 9/100\n",
            "1250/1250 [==============================] - 19s 16ms/step - loss: 1.7651 - sparse_categorical_accuracy: 0.2743 - val_loss: 1.7110 - val_sparse_categorical_accuracy: 0.2761\n",
            "Epoch 10/100\n",
            "1250/1250 [==============================] - 19s 15ms/step - loss: 1.7267 - sparse_categorical_accuracy: 0.2734 - val_loss: 1.6797 - val_sparse_categorical_accuracy: 0.2753\n",
            "Epoch 11/100\n",
            "1250/1250 [==============================] - 19s 16ms/step - loss: 1.7088 - sparse_categorical_accuracy: 0.2715 - val_loss: 1.6814 - val_sparse_categorical_accuracy: 0.2746\n",
            "Epoch 12/100\n",
            "1250/1250 [==============================] - 20s 16ms/step - loss: 1.7052 - sparse_categorical_accuracy: 0.2709 - val_loss: 1.6710 - val_sparse_categorical_accuracy: 0.2738\n",
            "Epoch 13/100\n",
            "1250/1250 [==============================] - 19s 16ms/step - loss: 1.6958 - sparse_categorical_accuracy: 0.2709 - val_loss: 1.6717 - val_sparse_categorical_accuracy: 0.2760\n",
            "Epoch 14/100\n",
            "1250/1250 [==============================] - 20s 16ms/step - loss: 1.6960 - sparse_categorical_accuracy: 0.2705 - val_loss: 1.6810 - val_sparse_categorical_accuracy: 0.2743\n",
            "Epoch 15/100\n",
            "1250/1250 [==============================] - 21s 17ms/step - loss: 1.6927 - sparse_categorical_accuracy: 0.2694 - val_loss: 1.6805 - val_sparse_categorical_accuracy: 0.2757\n",
            "Epoch 16/100\n",
            "1250/1250 [==============================] - 20s 16ms/step - loss: 1.6888 - sparse_categorical_accuracy: 0.2692 - val_loss: 1.6713 - val_sparse_categorical_accuracy: 0.2743\n",
            "Epoch 17/100\n",
            "1250/1250 [==============================] - 19s 16ms/step - loss: 1.6826 - sparse_categorical_accuracy: 0.2694 - val_loss: 1.6617 - val_sparse_categorical_accuracy: 0.2738\n",
            "Epoch 18/100\n",
            "1250/1250 [==============================] - 19s 15ms/step - loss: 1.6777 - sparse_categorical_accuracy: 0.2715 - val_loss: 1.6673 - val_sparse_categorical_accuracy: 0.2735\n",
            "Epoch 19/100\n",
            "1250/1250 [==============================] - 20s 16ms/step - loss: 1.6733 - sparse_categorical_accuracy: 0.2702 - val_loss: 1.6945 - val_sparse_categorical_accuracy: 0.2699\n",
            "Epoch 20/100\n",
            "1250/1250 [==============================] - 21s 17ms/step - loss: 1.6655 - sparse_categorical_accuracy: 0.2710 - val_loss: 1.6458 - val_sparse_categorical_accuracy: 0.2746\n",
            "Epoch 21/100\n",
            "1250/1250 [==============================] - 19s 15ms/step - loss: 1.6587 - sparse_categorical_accuracy: 0.2701 - val_loss: 1.6451 - val_sparse_categorical_accuracy: 0.2728\n",
            "Epoch 22/100\n",
            "1250/1250 [==============================] - 19s 16ms/step - loss: 1.6571 - sparse_categorical_accuracy: 0.2711 - val_loss: 1.6513 - val_sparse_categorical_accuracy: 0.2744\n",
            "Epoch 23/100\n",
            "1250/1250 [==============================] - 20s 16ms/step - loss: 1.6611 - sparse_categorical_accuracy: 0.2719 - val_loss: 1.6564 - val_sparse_categorical_accuracy: 0.2702\n",
            "Epoch 24/100\n",
            "1250/1250 [==============================] - 20s 16ms/step - loss: 1.6518 - sparse_categorical_accuracy: 0.2711 - val_loss: 1.6479 - val_sparse_categorical_accuracy: 0.2693\n",
            "Epoch 25/100\n",
            "1250/1250 [==============================] - 19s 15ms/step - loss: 1.6512 - sparse_categorical_accuracy: 0.2702 - val_loss: 1.6445 - val_sparse_categorical_accuracy: 0.2712\n",
            "Epoch 26/100\n",
            "1250/1250 [==============================] - 19s 15ms/step - loss: 1.6467 - sparse_categorical_accuracy: 0.2702 - val_loss: 1.6452 - val_sparse_categorical_accuracy: 0.2722\n",
            "Epoch 27/100\n",
            "1250/1250 [==============================] - 20s 16ms/step - loss: 1.6442 - sparse_categorical_accuracy: 0.2716 - val_loss: 1.6427 - val_sparse_categorical_accuracy: 0.2709\n",
            "Epoch 28/100\n",
            "1250/1250 [==============================] - 19s 16ms/step - loss: 1.6463 - sparse_categorical_accuracy: 0.2723 - val_loss: 1.6546 - val_sparse_categorical_accuracy: 0.2711\n",
            "Epoch 29/100\n",
            "1250/1250 [==============================] - 19s 16ms/step - loss: 1.6637 - sparse_categorical_accuracy: 0.2668 - val_loss: 1.6418 - val_sparse_categorical_accuracy: 0.2725\n",
            "Model: \"model_18\"\n",
            "__________________________________________________________________________________________________\n",
            " Layer (type)                   Output Shape         Param #     Connected to                     \n",
            "==================================================================================================\n",
            " inputs (InputLayer)            [(None, None, 33)]   0           []                               \n",
            "                                                                                                  \n",
            " conv1d_64 (Conv1D)             (None, None, 128)    4352        ['inputs[0][0]']                 \n",
            "                                                                                                  \n",
            " activation_87 (Activation)     (None, None, 128)    0           ['conv1d_64[0][0]']              \n",
            "                                                                                                  \n",
            " max_pooling1d_55 (MaxPooling1D  (None, None, 128)   0           ['activation_87[0][0]']          \n",
            " )                                                                                                \n",
            "                                                                                                  \n",
            " conv1d_65 (Conv1D)             (None, None, 64)     8256        ['max_pooling1d_55[0][0]']       \n",
            "                                                                                                  \n",
            " batch_normalization_68 (BatchN  (None, None, 64)    256         ['conv1d_65[0][0]']              \n",
            " ormalization)                                                                                    \n",
            "                                                                                                  \n",
            " activation_88 (Activation)     (None, None, 64)     0           ['batch_normalization_68[0][0]'] \n",
            "                                                                                                  \n",
            " max_pooling1d_56 (MaxPooling1D  (None, None, 64)    0           ['activation_88[0][0]']          \n",
            " )                                                                                                \n",
            "                                                                                                  \n",
            " conv1d_66 (Conv1D)             (None, None, 128)    8320        ['max_pooling1d_56[0][0]']       \n",
            "                                                                                                  \n",
            " batch_normalization_69 (BatchN  (None, None, 128)   512         ['conv1d_66[0][0]']              \n",
            " ormalization)                                                                                    \n",
            "                                                                                                  \n",
            " activation_89 (Activation)     (None, None, 128)    0           ['batch_normalization_69[0][0]'] \n",
            "                                                                                                  \n",
            " max_pooling1d_57 (MaxPooling1D  (None, None, 128)   0           ['activation_89[0][0]']          \n",
            " )                                                                                                \n",
            "                                                                                                  \n",
            " conv1d_67 (Conv1D)             (None, None, 256)    33024       ['max_pooling1d_57[0][0]']       \n",
            "                                                                                                  \n",
            " batch_normalization_70 (BatchN  (None, None, 256)   1024        ['conv1d_67[0][0]']              \n",
            " ormalization)                                                                                    \n",
            "                                                                                                  \n",
            " activation_90 (Activation)     (None, None, 256)    0           ['batch_normalization_70[0][0]'] \n",
            "                                                                                                  \n",
            " max_pooling1d_58 (MaxPooling1D  (None, None, 256)   0           ['activation_90[0][0]']          \n",
            " )                                                                                                \n",
            "                                                                                                  \n",
            " time_distributed_22 (TimeDistr  (None, None, 300)   77100       ['max_pooling1d_58[0][0]']       \n",
            " ibuted)                                                                                          \n",
            "                                                                                                  \n",
            " inputs2 (InputLayer)           [(None,)]            0           []                               \n",
            "                                                                                                  \n",
            " reshape_29 (Reshape)           (None, None, 5)      0           ['time_distributed_22[0][0]']    \n",
            "                                                                                                  \n",
            " tf.math.reduce_max_17 (TFOpLam  ()                  0           ['inputs2[0][0]']                \n",
            " bda)                                                                                             \n",
            "                                                                                                  \n",
            " up_sampling1d_26 (UpSampling1D  (None, None, 5)     0           ['reshape_29[0][0]']             \n",
            " )                                                                                                \n",
            "                                                                                                  \n",
            " tf.cast_17 (TFOpLambda)        ()                   0           ['tf.math.reduce_max_17[0][0]']  \n",
            "                                                                                                  \n",
            " tf.__operators__.getitem_16 (S  (None, None, 5)     0           ['up_sampling1d_26[0][0]',       \n",
            " licingOpLambda)                                                  'tf.cast_17[0][0]']             \n",
            "                                                                                                  \n",
            "==================================================================================================\n",
            "Total params: 132,844\n",
            "Trainable params: 131,948\n",
            "Non-trainable params: 896\n",
            "__________________________________________________________________________________________________\n",
            "Loss using testing dataset= 1.6426113843917847\n",
            "Accuracy using testing dataset= 0.27933821082115173\n"
          ]
        },
        {
          "output_type": "display_data",
          "data": {
            "text/plain": [
              "<Figure size 432x288 with 2 Axes>"
            ],
            "image/png": "[encoded data removed]"
          },
          "metadata": {
            "needs_background": "light"
          }
        }
      ]
    },
    {
      "cell_type": "code",
      "source": [
        "def cnn_variable6(opt, inputs, input_variable_valid,input_variable_test):\n",
        "  inputs = Input(shape=(None,33),name='inputs')\n",
        "  inputs_L = Input(shape=[],name='inputs2')\n",
        "  layer_c = Conv1D(256, 1, padding=\"same\")(inputs)\n",
        "  layer = Activation(\"LeakyReLU\")(layer_c)\n",
        "  #layer = Dropout(0.5)(layer)\n",
        "  layer = MaxPooling1D(pool_size = 2)(layer)\n",
        "  layer = Conv1D(128, 1, padding=\"same\")(layer)\n",
        "  layer = BatchNormalization(axis=-1)(layer)\n",
        "  layer = Activation(\"LeakyReLU\")(layer)\n",
        "  #layer = Dropout(0.2)(layer)\n",
        "  layer = Conv1D(64, 1, padding=\"same\")(layer)\n",
        "  layer = BatchNormalization(axis=-1)(layer)\n",
        "  layer = Activation(\"LeakyReLU\")(layer)\n",
        "  #layer = Dropout(0.2)(layer)\n",
        "  layer = MaxPooling1D(pool_size = 2)(layer)\n",
        "  layer = Conv1D(128, 1, padding=\"same\")(layer)\n",
        "  layer = BatchNormalization(axis=-1)(layer)\n",
        "  layer = Activation(\"LeakyReLU\")(layer)\n",
        "  layer = MaxPooling1D(pool_size = 2)(layer)\n",
        "  layer = Conv1D(256, 1, padding=\"same\")(layer)\n",
        "  layer = BatchNormalization(axis=-1)(layer)\n",
        "  layer = Activation(\"LeakyReLU\")(layer)\n",
        "  #layer = Dropout(0.2)(layer)\n",
        "  layer = MaxPooling1D(pool_size = 2)(layer)\n",
        "  #layer = Dropout(0.2)(layer)\n",
        "  #layer = Flatten()(layer)\n",
        "  #layer = Dropout(0.2)(layer)\n",
        "  layer = TimeDistributed(Dense(600))(layer)\n",
        "  layer = Reshape((-1,5))(layer)\n",
        "  layer = UpSampling1D(size=15)(layer)\n",
        "  L = tf.cast(tf.reduce_max(inputs_L), tf.int32)\n",
        "  output = layer[:,:L]\n",
        "  model = Model(inputs = (inputs_L,inputs) , outputs=output)\n",
        "  model.compile(loss=\"sparse_categorical_crossentropy\", optimizer=opt, metrics=[\"sparse_categorical_accuracy\"])\n",
        "  history = model.fit(input_variable_train2, validation_data=input_variable_valid2, batch_size=BS, epochs=NUM_EPOCHS, verbose=1, callbacks=[early_stopping])\n",
        "  # plotting the metrics\n",
        "  plt.subplot(2, 1, 1)\n",
        "  plt.title('Sparse Crossentropy Loss')\n",
        "  plt.plot(history.history['loss'], color='blue', label='train')\n",
        "  plt.plot(history.history['val_loss'], color='orange', label='val')\n",
        "\t# plot accuracy\n",
        "  plt.subplot(2, 1, 2)\n",
        "  plt.title('Classification Accuracy')\n",
        "  plt.plot(history.history['sparse_categorical_accuracy'], color='blue', label='train')\n",
        "  plt.plot(history.history['val_sparse_categorical_accuracy'], color='orange', label='val')\n",
        "  score = model.evaluate(input_variable_test2, verbose=0) #evaluate based on test dataset, which was not used for training and validation\n",
        "  return model.summary(), history, print('Loss using testing dataset=', score[0]), print('Accuracy using testing dataset=', score[1]) "
      ],
      "metadata": {
        "id": "jNSpRGKBSfU1"
      },
      "execution_count": 124,
      "outputs": []
    },
    {
      "cell_type": "code",
      "source": [
        "cnn6= cnn_variable6(opt2, input_variable_train2, input_variable_valid2, input_variable_test2)"
      ],
      "metadata": {
        "colab": {
          "base_uri": "https://localhost:8080/",
          "height": 1000
        },
        "id": "kYurolLgSfmb",
        "outputId": "7cd7af6d-b8ce-424b-8d77-adb2b02186ab"
      },
      "execution_count": 125,
      "outputs": [
        {
          "output_type": "stream",
          "name": "stdout",
          "text": [
            "Epoch 1/100\n",
            "1250/1250 [==============================] - 22s 17ms/step - loss: 2.2149 - sparse_categorical_accuracy: 0.2423 - val_loss: 1.7937 - val_sparse_categorical_accuracy: 0.2544\n",
            "Epoch 2/100\n",
            "1250/1250 [==============================] - 21s 17ms/step - loss: 1.7706 - sparse_categorical_accuracy: 0.2497 - val_loss: 1.7144 - val_sparse_categorical_accuracy: 0.2531\n",
            "Epoch 3/100\n",
            "1250/1250 [==============================] - 21s 16ms/step - loss: 1.7126 - sparse_categorical_accuracy: 0.2520 - val_loss: 1.7002 - val_sparse_categorical_accuracy: 0.2573\n",
            "Epoch 4/100\n",
            "1250/1250 [==============================] - 21s 17ms/step - loss: 1.6951 - sparse_categorical_accuracy: 0.2538 - val_loss: 1.6735 - val_sparse_categorical_accuracy: 0.2593\n",
            "Epoch 5/100\n",
            "1250/1250 [==============================] - 22s 17ms/step - loss: 1.6828 - sparse_categorical_accuracy: 0.2561 - val_loss: 1.6780 - val_sparse_categorical_accuracy: 0.2602\n",
            "Epoch 6/100\n",
            "1250/1250 [==============================] - 21s 16ms/step - loss: 1.6686 - sparse_categorical_accuracy: 0.2568 - val_loss: 1.6565 - val_sparse_categorical_accuracy: 0.2596\n",
            "Epoch 7/100\n",
            "1250/1250 [==============================] - 21s 16ms/step - loss: 1.6600 - sparse_categorical_accuracy: 0.2573 - val_loss: 1.6480 - val_sparse_categorical_accuracy: 0.2585\n",
            "Epoch 8/100\n",
            "1250/1250 [==============================] - 21s 17ms/step - loss: 1.6481 - sparse_categorical_accuracy: 0.2566 - val_loss: 1.6498 - val_sparse_categorical_accuracy: 0.2572\n",
            "Epoch 9/100\n",
            "1250/1250 [==============================] - 21s 17ms/step - loss: 1.6555 - sparse_categorical_accuracy: 0.2552 - val_loss: 1.6607 - val_sparse_categorical_accuracy: 0.2550\n",
            "Epoch 10/100\n",
            "1250/1250 [==============================] - 21s 17ms/step - loss: 1.6527 - sparse_categorical_accuracy: 0.2540 - val_loss: 1.6436 - val_sparse_categorical_accuracy: 0.2561\n",
            "Model: \"model_19\"\n",
            "__________________________________________________________________________________________________\n",
            " Layer (type)                   Output Shape         Param #     Connected to                     \n",
            "==================================================================================================\n",
            " inputs (InputLayer)            [(None, None, 33)]   0           []                               \n",
            "                                                                                                  \n",
            " conv1d_68 (Conv1D)             (None, None, 256)    8704        ['inputs[0][0]']                 \n",
            "                                                                                                  \n",
            " activation_91 (Activation)     (None, None, 256)    0           ['conv1d_68[0][0]']              \n",
            "                                                                                                  \n",
            " max_pooling1d_59 (MaxPooling1D  (None, None, 256)   0           ['activation_91[0][0]']          \n",
            " )                                                                                                \n",
            "                                                                                                  \n",
            " conv1d_69 (Conv1D)             (None, None, 128)    32896       ['max_pooling1d_59[0][0]']       \n",
            "                                                                                                  \n",
            " batch_normalization_71 (BatchN  (None, None, 128)   512         ['conv1d_69[0][0]']              \n",
            " ormalization)                                                                                    \n",
            "                                                                                                  \n",
            " activation_92 (Activation)     (None, None, 128)    0           ['batch_normalization_71[0][0]'] \n",
            "                                                                                                  \n",
            " conv1d_70 (Conv1D)             (None, None, 64)     8256        ['activation_92[0][0]']          \n",
            "                                                                                                  \n",
            " batch_normalization_72 (BatchN  (None, None, 64)    256         ['conv1d_70[0][0]']              \n",
            " ormalization)                                                                                    \n",
            "                                                                                                  \n",
            " activation_93 (Activation)     (None, None, 64)     0           ['batch_normalization_72[0][0]'] \n",
            "                                                                                                  \n",
            " max_pooling1d_60 (MaxPooling1D  (None, None, 64)    0           ['activation_93[0][0]']          \n",
            " )                                                                                                \n",
            "                                                                                                  \n",
            " conv1d_71 (Conv1D)             (None, None, 128)    8320        ['max_pooling1d_60[0][0]']       \n",
            "                                                                                                  \n",
            " batch_normalization_73 (BatchN  (None, None, 128)   512         ['conv1d_71[0][0]']              \n",
            " ormalization)                                                                                    \n",
            "                                                                                                  \n",
            " activation_94 (Activation)     (None, None, 128)    0           ['batch_normalization_73[0][0]'] \n",
            "                                                                                                  \n",
            " max_pooling1d_61 (MaxPooling1D  (None, None, 128)   0           ['activation_94[0][0]']          \n",
            " )                                                                                                \n",
            "                                                                                                  \n",
            " conv1d_72 (Conv1D)             (None, None, 256)    33024       ['max_pooling1d_61[0][0]']       \n",
            "                                                                                                  \n",
            " batch_normalization_74 (BatchN  (None, None, 256)   1024        ['conv1d_72[0][0]']              \n",
            " ormalization)                                                                                    \n",
            "                                                                                                  \n",
            " activation_95 (Activation)     (None, None, 256)    0           ['batch_normalization_74[0][0]'] \n",
            "                                                                                                  \n",
            " max_pooling1d_62 (MaxPooling1D  (None, None, 256)   0           ['activation_95[0][0]']          \n",
            " )                                                                                                \n",
            "                                                                                                  \n",
            " time_distributed_23 (TimeDistr  (None, None, 600)   154200      ['max_pooling1d_62[0][0]']       \n",
            " ibuted)                                                                                          \n",
            "                                                                                                  \n",
            " inputs2 (InputLayer)           [(None,)]            0           []                               \n",
            "                                                                                                  \n",
            " reshape_30 (Reshape)           (None, None, 5)      0           ['time_distributed_23[0][0]']    \n",
            "                                                                                                  \n",
            " tf.math.reduce_max_18 (TFOpLam  ()                  0           ['inputs2[0][0]']                \n",
            " bda)                                                                                             \n",
            "                                                                                                  \n",
            " up_sampling1d_27 (UpSampling1D  (None, None, 5)     0           ['reshape_30[0][0]']             \n",
            " )                                                                                                \n",
            "                                                                                                  \n",
            " tf.cast_18 (TFOpLambda)        ()                   0           ['tf.math.reduce_max_18[0][0]']  \n",
            "                                                                                                  \n",
            " tf.__operators__.getitem_17 (S  (None, None, 5)     0           ['up_sampling1d_27[0][0]',       \n",
            " licingOpLambda)                                                  'tf.cast_18[0][0]']             \n",
            "                                                                                                  \n",
            "==================================================================================================\n",
            "Total params: 247,704\n",
            "Trainable params: 246,552\n",
            "Non-trainable params: 1,152\n",
            "__________________________________________________________________________________________________\n",
            "Loss using testing dataset= 1.6480110883712769\n",
            "Accuracy using testing dataset= 0.2515743374824524\n"
          ]
        },
        {
          "output_type": "display_data",
          "data": {
            "text/plain": [
              "<Figure size 432x288 with 2 Axes>"
            ],
            "image/png": "[encoded data removed]"
          },
          "metadata": {
            "needs_background": "light"
          }
        }
      ]
    },
    {
      "cell_type": "code",
      "execution_count": 82,
      "metadata": {
        "id": "OZeBM9avkFhR"
      },
      "outputs": [],
      "source": [
        "def cnn_variable_k(opt, inputs, input_variable_valid,input_variable_test):\n",
        "  inputs = Input(shape=(None,129),name='inputs')\n",
        "  inputs_L = Input(shape=[],name='inputs2')\n",
        "  layer_c = Conv1D(512, 1, padding=\"same\")(inputs)\n",
        "  layer = Activation(\"LeakyReLU\")(layer_c)\n",
        "  #layer = BatchNormalization(axis=-1)(layer)\n",
        "  #layer = Dropout(0.25)(layer)\n",
        "  #layer = Conv1D(512, 1, padding=\"same\")(layer)\n",
        "  #layer = BatchNormalization(axis=-1)(layer)\n",
        "  #layer = Dropout(0.1)(layer)\n",
        "  #layer = Activation(\"LeakyReLU\")(layer)\n",
        "  layer = Conv1D(256, 1, padding=\"same\")(layer)\n",
        "  layer = BatchNormalization(axis=-1)(layer)\n",
        "  #layer = Dropout(0.1)(layer)\n",
        "  layer = Activation(\"LeakyReLU\")(layer)\n",
        "  #layer = Conv1D(128, 1, padding=\"same\")(layer)\n",
        "  #layer = BatchNormalization(axis=-1)(layer)\n",
        " # layer = Dropout(0.1)(layer)\n",
        " # layer = Activation(\"LeakyReLU\")(layer)\n",
        "  #layer = Conv1D(256, 1, padding=\"same\")(layer)\n",
        " # layer = BatchNormalization(axis=-1)(layer)\n",
        " # layer = Activation(\"LeakyReLU\")(layer)\n",
        "#  layer = Dropout(0.1)(layer)\n",
        "  layer = MaxPooling1D(pool_size = 2)(layer)\n",
        "  #layer = Flatten()(layer)\n",
        "  #layer = Dropout(0.2)(layer)\n",
        "  layer = TimeDistributed(Dense(1500))(layer)\n",
        "  layer = Reshape((-1,5))(layer)\n",
        "  layer = UpSampling1D(size=15)(layer)\n",
        "  L = tf.cast(tf.reduce_max(inputs_L), tf.int32)\n",
        "  output = layer[:,:L]\n",
        "  model = Model(inputs = (inputs_L,inputs) , outputs=output)\n",
        "  model.compile(loss=\"sparse_categorical_crossentropy\", optimizer=opt, metrics=[\"sparse_categorical_accuracy\"])\n",
        "  history = model.fit(input_variable_train, validation_data=input_variable_valid, batch_size=BS, epochs=NUM_EPOCHS, verbose=1)\n",
        "  # plotting the metrics\n",
        "  plt.subplot(2, 1, 1)\n",
        "  plt.title('Sparse Crossentropy Loss')\n",
        "  plt.plot(history.history['loss'], color='blue', label='train')\n",
        "  plt.plot(history.history['val_loss'], color='orange', label='val')\n",
        "\t# plot accuracy\n",
        "  plt.subplot(2, 1, 2)\n",
        "  plt.title('Classification Accuracy')\n",
        "  plt.plot(history.history['sparse_categorical_accuracy'], color='blue', label='train')\n",
        "  plt.plot(history.history['val_sparse_categorical_accuracy'], color='orange', label='val')\n",
        "  score = model.evaluate(input_variable_test, verbose=0) #evaluate based on test dataset, which was not used for training and validation\n",
        "  return model.summary(), history, print('Loss using testing dataset=', score[0]), print('Accuracy using testing dataset=', score[1]) "
      ]
    },
    {
      "cell_type": "code",
      "source": [
        ""
      ],
      "metadata": {
        "id": "pBUkCPZPZvLs"
      },
      "execution_count": null,
      "outputs": []
    },
    {
      "cell_type": "code",
      "source": [
        "model = Sequential()\n",
        "model.add(Conv2D(filters=16, kernel_size=2, input_shape=(x_train.shape[1],x_train.shape[\n",
        "2],x_train.shape[3]), activation='relu'))\n",
        "model.add(MaxPooling2D(pool_size=2))\n",
        "model.add(Dropout(0.2))\n",
        "model.add(Conv2D(filters=32, kernel_size=2, activation='relu'))\n",
        "model.add(MaxPooling2D(pool_size=2))\n",
        "model.add(Dropout(0.2))\n",
        "model.add(Conv2D(filters=128, kernel_size=2, activation='relu'))\n",
        "model.add(MaxPooling2D(pool_size=2))\n",
        "model.add(Dropout(0.5))\n",
        "model.add(GlobalAveragePooling2D())\n",
        "model.add(Dense(len(encoder.classes_), activation='softmax'))\n",
        "model.summary()\n"
      ],
      "metadata": {
        "id": "0w3sLPu7NObJ"
      },
      "execution_count": null,
      "outputs": []
    },
    {
      "cell_type": "code",
      "source": [
        "inputs = Input(shape=(None,129),name='inputs')\n",
        "inputs_all = Input(shape=[], name='inputs2')\n",
        "inputs_variable=(inputs,inputs_all)\n",
        "inputs_variable[0]"
      ],
      "metadata": {
        "colab": {
          "base_uri": "https://localhost:8080/"
        },
        "id": "piFV30cLZwHk",
        "outputId": "5ef19676-68c6-497e-97d2-29e8229615db"
      },
      "execution_count": 57,
      "outputs": [
        {
          "output_type": "execute_result",
          "data": {
            "text/plain": [
              "<KerasTensor: shape=(None, None, 129) dtype=float32 (created by layer 'inputs')>"
            ]
          },
          "metadata": {},
          "execution_count": 57
        }
      ]
    },
    {
      "cell_type": "code",
      "source": [
        "def cnn_variable_s(opt, inputs, input_variable_valid,input_variable_test):\n",
        "  inputs = Input(shape=(None,129),name='inputs')\n",
        "  inputs_L = Input(shape=[],name='inputs2')\n",
        "  layer_c = Conv1D(256, 1, padding=\"same\")(inputs)\n",
        "  layer = Activation(\"LeakyReLU\")(layer_c)\n",
        "  layer = MaxPooling1D(pool_size = 2)(layer)\n",
        "  #layer = Dropout(0.2)(layer)\n",
        "  layer = Conv1D(128, 1, padding=\"same\")(layer)\n",
        "  layer = BatchNormalization(axis=-1)(layer)\n",
        "  layer = Activation(\"LeakyReLU\")(layer)\n",
        "  layer = MaxPooling1D(pool_size = 2)(layer)\n",
        "  layer = Conv1D(256, 1, padding=\"same\")(layer)\n",
        "  layer = BatchNormalization(axis=-1)(layer)\n",
        "  layer = Activation(\"LeakyReLU\")(layer)\n",
        "  layer = MaxPooling1D(pool_size = 2)(layer)\n",
        "  #layer = Dropout(0.2)(layer)\n",
        "  #layer = Flatten()(layer)\n",
        "  #layer = Dropout(0.2)(layer)\n",
        "  layer = TimeDistributed(Dense(150))(layer)\n",
        "  layer = Reshape((-1,5))(layer)\n",
        "  layer = UpSampling1D(size=15)(layer)\n",
        "  L = tf.cast(tf.reduce_max(inputs_L), tf.int32)\n",
        "  output = layer[:,:L]\n",
        "  model = Model(inputs = (inputs_L,inputs) , outputs=output)\n",
        "  model.compile(loss=\"sparse_categorical_crossentropy\", optimizer=opt, metrics=[\"sparse_categorical_accuracy\"])\n",
        "  history = model.fit(input_variable_train, validation_data=input_variable_valid, batch_size=BS, epochs=NUM_EPOCHS, verbose=1)\n",
        "  # plotting the metrics\n",
        "  plt.subplot(2, 1, 1)\n",
        "  plt.title('Sparse Crossentropy Loss')\n",
        "  plt.plot(history.history['loss'], color='blue', label='train')\n",
        "  plt.plot(history.history['val_loss'], color='orange', label='val')\n",
        "\t# plot accuracy\n",
        "  plt.subplot(2, 1, 2)\n",
        "  plt.title('Classification Accuracy')\n",
        "  plt.plot(history.history['sparse_categorical_accuracy'], color='blue', label='train')\n",
        "  plt.plot(history.history['val_sparse_categorical_accuracy'], color='orange', label='val')\n",
        "  score = model.evaluate(input_variable_test, verbose=0) #evaluate based on test dataset, which was not used for training and validation\n",
        "  return model.summary(), history, print('Loss using testing dataset=', score[0]), print('Accuracy using testing dataset=', score[1]) "
      ],
      "metadata": {
        "id": "D-ltJ6OjNOy3"
      },
      "execution_count": 77,
      "outputs": []
    },
    {
      "cell_type": "markdown",
      "metadata": {
        "id": "uwkokUqVEVOE"
      },
      "source": [
        "#### Run the model"
      ]
    },
    {
      "cell_type": "code",
      "execution_count": 78,
      "metadata": {
        "colab": {
          "base_uri": "https://localhost:8080/",
          "height": 484
        },
        "id": "Nz29sz-UEVXT",
        "outputId": "71cd08d1-f526-4b12-bf2e-9e9b07caa1df"
      },
      "outputs": [
        {
          "output_type": "stream",
          "name": "stdout",
          "text": [
            "Epoch 1/100\n",
            "1250/1250 [==============================] - 148s 117ms/step - loss: 2.3021 - sparse_categorical_accuracy: 0.2493 - val_loss: 1.7733 - val_sparse_categorical_accuracy: 0.2639\n",
            "Epoch 2/100\n",
            "1250/1250 [==============================] - 146s 117ms/step - loss: 1.7716 - sparse_categorical_accuracy: 0.2661 - val_loss: 1.7095 - val_sparse_categorical_accuracy: 0.2758\n",
            "Epoch 3/100\n",
            "1250/1250 [==============================] - 147s 117ms/step - loss: 1.7344 - sparse_categorical_accuracy: 0.2750 - val_loss: 1.6768 - val_sparse_categorical_accuracy: 0.2868\n",
            "Epoch 4/100\n",
            "1250/1250 [==============================] - 145s 116ms/step - loss: 1.6971 - sparse_categorical_accuracy: 0.2837 - val_loss: 1.6538 - val_sparse_categorical_accuracy: 0.2956\n",
            "Epoch 5/100\n",
            " 213/1250 [====>.........................] - ETA: 1:53 - loss: 1.6802 - sparse_categorical_accuracy: 0.2885"
          ]
        },
        {
          "output_type": "error",
          "ename": "KeyboardInterrupt",
          "evalue": "ignored",
          "traceback": [
            "\u001b[0;31m---------------------------------------------------------------------------\u001b[0m",
            "\u001b[0;31mKeyboardInterrupt\u001b[0m                         Traceback (most recent call last)",
            "\u001b[0;32m<ipython-input-78-35b88020d614>\u001b[0m in \u001b[0;36m<module>\u001b[0;34m()\u001b[0m\n\u001b[0;32m----> 1\u001b[0;31m \u001b[0mcnn\u001b[0m\u001b[0;34m=\u001b[0m \u001b[0mcnn_variable_s\u001b[0m\u001b[0;34m(\u001b[0m\u001b[0mopt2\u001b[0m\u001b[0;34m,\u001b[0m \u001b[0minput_variable_train\u001b[0m\u001b[0;34m,\u001b[0m \u001b[0minput_variable_valid\u001b[0m\u001b[0;34m,\u001b[0m\u001b[0minput_variable_test\u001b[0m\u001b[0;34m)\u001b[0m\u001b[0;34m\u001b[0m\u001b[0;34m\u001b[0m\u001b[0m\n\u001b[0m",
            "\u001b[0;32m<ipython-input-77-b5b63889ed2d>\u001b[0m in \u001b[0;36mcnn_variable_s\u001b[0;34m(opt, inputs, input_variable_valid, input_variable_test)\u001b[0m\n\u001b[1;32m     24\u001b[0m   \u001b[0mmodel\u001b[0m \u001b[0;34m=\u001b[0m \u001b[0mModel\u001b[0m\u001b[0;34m(\u001b[0m\u001b[0minputs\u001b[0m \u001b[0;34m=\u001b[0m \u001b[0;34m(\u001b[0m\u001b[0minputs_L\u001b[0m\u001b[0;34m,\u001b[0m\u001b[0minputs\u001b[0m\u001b[0;34m)\u001b[0m \u001b[0;34m,\u001b[0m \u001b[0moutputs\u001b[0m\u001b[0;34m=\u001b[0m\u001b[0moutput\u001b[0m\u001b[0;34m)\u001b[0m\u001b[0;34m\u001b[0m\u001b[0;34m\u001b[0m\u001b[0m\n\u001b[1;32m     25\u001b[0m   \u001b[0mmodel\u001b[0m\u001b[0;34m.\u001b[0m\u001b[0mcompile\u001b[0m\u001b[0;34m(\u001b[0m\u001b[0mloss\u001b[0m\u001b[0;34m=\u001b[0m\u001b[0;34m\"sparse_categorical_crossentropy\"\u001b[0m\u001b[0;34m,\u001b[0m \u001b[0moptimizer\u001b[0m\u001b[0;34m=\u001b[0m\u001b[0mopt\u001b[0m\u001b[0;34m,\u001b[0m \u001b[0mmetrics\u001b[0m\u001b[0;34m=\u001b[0m\u001b[0;34m[\u001b[0m\u001b[0;34m\"sparse_categorical_accuracy\"\u001b[0m\u001b[0;34m]\u001b[0m\u001b[0;34m)\u001b[0m\u001b[0;34m\u001b[0m\u001b[0;34m\u001b[0m\u001b[0m\n\u001b[0;32m---> 26\u001b[0;31m   \u001b[0mhistory\u001b[0m \u001b[0;34m=\u001b[0m \u001b[0mmodel\u001b[0m\u001b[0;34m.\u001b[0m\u001b[0mfit\u001b[0m\u001b[0;34m(\u001b[0m\u001b[0minput_variable_train\u001b[0m\u001b[0;34m,\u001b[0m \u001b[0mvalidation_data\u001b[0m\u001b[0;34m=\u001b[0m\u001b[0minput_variable_valid\u001b[0m\u001b[0;34m,\u001b[0m \u001b[0mbatch_size\u001b[0m\u001b[0;34m=\u001b[0m\u001b[0mBS\u001b[0m\u001b[0;34m,\u001b[0m \u001b[0mepochs\u001b[0m\u001b[0;34m=\u001b[0m\u001b[0mNUM_EPOCHS\u001b[0m\u001b[0;34m,\u001b[0m \u001b[0mverbose\u001b[0m\u001b[0;34m=\u001b[0m\u001b[0;36m1\u001b[0m\u001b[0;34m)\u001b[0m\u001b[0;34m\u001b[0m\u001b[0;34m\u001b[0m\u001b[0m\n\u001b[0m\u001b[1;32m     27\u001b[0m   \u001b[0;31m# plotting the metrics\u001b[0m\u001b[0;34m\u001b[0m\u001b[0;34m\u001b[0m\u001b[0;34m\u001b[0m\u001b[0m\n\u001b[1;32m     28\u001b[0m   \u001b[0mplt\u001b[0m\u001b[0;34m.\u001b[0m\u001b[0msubplot\u001b[0m\u001b[0;34m(\u001b[0m\u001b[0;36m2\u001b[0m\u001b[0;34m,\u001b[0m \u001b[0;36m1\u001b[0m\u001b[0;34m,\u001b[0m \u001b[0;36m1\u001b[0m\u001b[0;34m)\u001b[0m\u001b[0;34m\u001b[0m\u001b[0;34m\u001b[0m\u001b[0m\n",
            "\u001b[0;32m/usr/local/lib/python3.7/dist-packages/keras/utils/traceback_utils.py\u001b[0m in \u001b[0;36merror_handler\u001b[0;34m(*args, **kwargs)\u001b[0m\n\u001b[1;32m     62\u001b[0m     \u001b[0mfiltered_tb\u001b[0m \u001b[0;34m=\u001b[0m \u001b[0;32mNone\u001b[0m\u001b[0;34m\u001b[0m\u001b[0;34m\u001b[0m\u001b[0m\n\u001b[1;32m     63\u001b[0m     \u001b[0;32mtry\u001b[0m\u001b[0;34m:\u001b[0m\u001b[0;34m\u001b[0m\u001b[0;34m\u001b[0m\u001b[0m\n\u001b[0;32m---> 64\u001b[0;31m       \u001b[0;32mreturn\u001b[0m \u001b[0mfn\u001b[0m\u001b[0;34m(\u001b[0m\u001b[0;34m*\u001b[0m\u001b[0margs\u001b[0m\u001b[0;34m,\u001b[0m \u001b[0;34m**\u001b[0m\u001b[0mkwargs\u001b[0m\u001b[0;34m)\u001b[0m\u001b[0;34m\u001b[0m\u001b[0;34m\u001b[0m\u001b[0m\n\u001b[0m\u001b[1;32m     65\u001b[0m     \u001b[0;32mexcept\u001b[0m \u001b[0mException\u001b[0m \u001b[0;32mas\u001b[0m \u001b[0me\u001b[0m\u001b[0;34m:\u001b[0m  \u001b[0;31m# pylint: disable=broad-except\u001b[0m\u001b[0;34m\u001b[0m\u001b[0;34m\u001b[0m\u001b[0m\n\u001b[1;32m     66\u001b[0m       \u001b[0mfiltered_tb\u001b[0m \u001b[0;34m=\u001b[0m \u001b[0m_process_traceback_frames\u001b[0m\u001b[0;34m(\u001b[0m\u001b[0me\u001b[0m\u001b[0;34m.\u001b[0m\u001b[0m__traceback__\u001b[0m\u001b[0;34m)\u001b[0m\u001b[0;34m\u001b[0m\u001b[0;34m\u001b[0m\u001b[0m\n",
            "\u001b[0;32m/usr/local/lib/python3.7/dist-packages/keras/engine/training.py\u001b[0m in \u001b[0;36mfit\u001b[0;34m(self, x, y, batch_size, epochs, verbose, callbacks, validation_split, validation_data, shuffle, class_weight, sample_weight, initial_epoch, steps_per_epoch, validation_steps, validation_batch_size, validation_freq, max_queue_size, workers, use_multiprocessing)\u001b[0m\n\u001b[1;32m   1387\u001b[0m               \u001b[0mlogs\u001b[0m \u001b[0;34m=\u001b[0m \u001b[0mtmp_logs\u001b[0m  \u001b[0;31m# No error, now safe to assign to logs.\u001b[0m\u001b[0;34m\u001b[0m\u001b[0;34m\u001b[0m\u001b[0m\n\u001b[1;32m   1388\u001b[0m               \u001b[0mend_step\u001b[0m \u001b[0;34m=\u001b[0m \u001b[0mstep\u001b[0m \u001b[0;34m+\u001b[0m \u001b[0mdata_handler\u001b[0m\u001b[0;34m.\u001b[0m\u001b[0mstep_increment\u001b[0m\u001b[0;34m\u001b[0m\u001b[0;34m\u001b[0m\u001b[0m\n\u001b[0;32m-> 1389\u001b[0;31m               \u001b[0mcallbacks\u001b[0m\u001b[0;34m.\u001b[0m\u001b[0mon_train_batch_end\u001b[0m\u001b[0;34m(\u001b[0m\u001b[0mend_step\u001b[0m\u001b[0;34m,\u001b[0m \u001b[0mlogs\u001b[0m\u001b[0;34m)\u001b[0m\u001b[0;34m\u001b[0m\u001b[0;34m\u001b[0m\u001b[0m\n\u001b[0m\u001b[1;32m   1390\u001b[0m               \u001b[0;32mif\u001b[0m \u001b[0mself\u001b[0m\u001b[0;34m.\u001b[0m\u001b[0mstop_training\u001b[0m\u001b[0;34m:\u001b[0m\u001b[0;34m\u001b[0m\u001b[0;34m\u001b[0m\u001b[0m\n\u001b[1;32m   1391\u001b[0m                 \u001b[0;32mbreak\u001b[0m\u001b[0;34m\u001b[0m\u001b[0;34m\u001b[0m\u001b[0m\n",
            "\u001b[0;32m/usr/local/lib/python3.7/dist-packages/keras/callbacks.py\u001b[0m in \u001b[0;36mon_train_batch_end\u001b[0;34m(self, batch, logs)\u001b[0m\n\u001b[1;32m    436\u001b[0m     \"\"\"\n\u001b[1;32m    437\u001b[0m     \u001b[0;32mif\u001b[0m \u001b[0mself\u001b[0m\u001b[0;34m.\u001b[0m\u001b[0m_should_call_train_batch_hooks\u001b[0m\u001b[0;34m:\u001b[0m\u001b[0;34m\u001b[0m\u001b[0;34m\u001b[0m\u001b[0m\n\u001b[0;32m--> 438\u001b[0;31m       \u001b[0mself\u001b[0m\u001b[0;34m.\u001b[0m\u001b[0m_call_batch_hook\u001b[0m\u001b[0;34m(\u001b[0m\u001b[0mModeKeys\u001b[0m\u001b[0;34m.\u001b[0m\u001b[0mTRAIN\u001b[0m\u001b[0;34m,\u001b[0m \u001b[0;34m'end'\u001b[0m\u001b[0;34m,\u001b[0m \u001b[0mbatch\u001b[0m\u001b[0;34m,\u001b[0m \u001b[0mlogs\u001b[0m\u001b[0;34m=\u001b[0m\u001b[0mlogs\u001b[0m\u001b[0;34m)\u001b[0m\u001b[0;34m\u001b[0m\u001b[0;34m\u001b[0m\u001b[0m\n\u001b[0m\u001b[1;32m    439\u001b[0m \u001b[0;34m\u001b[0m\u001b[0m\n\u001b[1;32m    440\u001b[0m   \u001b[0;32mdef\u001b[0m \u001b[0mon_test_batch_begin\u001b[0m\u001b[0;34m(\u001b[0m\u001b[0mself\u001b[0m\u001b[0;34m,\u001b[0m \u001b[0mbatch\u001b[0m\u001b[0;34m,\u001b[0m \u001b[0mlogs\u001b[0m\u001b[0;34m=\u001b[0m\u001b[0;32mNone\u001b[0m\u001b[0;34m)\u001b[0m\u001b[0;34m:\u001b[0m\u001b[0;34m\u001b[0m\u001b[0;34m\u001b[0m\u001b[0m\n",
            "\u001b[0;32m/usr/local/lib/python3.7/dist-packages/keras/callbacks.py\u001b[0m in \u001b[0;36m_call_batch_hook\u001b[0;34m(self, mode, hook, batch, logs)\u001b[0m\n\u001b[1;32m    295\u001b[0m       \u001b[0mself\u001b[0m\u001b[0;34m.\u001b[0m\u001b[0m_call_batch_begin_hook\u001b[0m\u001b[0;34m(\u001b[0m\u001b[0mmode\u001b[0m\u001b[0;34m,\u001b[0m \u001b[0mbatch\u001b[0m\u001b[0;34m,\u001b[0m \u001b[0mlogs\u001b[0m\u001b[0;34m)\u001b[0m\u001b[0;34m\u001b[0m\u001b[0;34m\u001b[0m\u001b[0m\n\u001b[1;32m    296\u001b[0m     \u001b[0;32melif\u001b[0m \u001b[0mhook\u001b[0m \u001b[0;34m==\u001b[0m \u001b[0;34m'end'\u001b[0m\u001b[0;34m:\u001b[0m\u001b[0;34m\u001b[0m\u001b[0;34m\u001b[0m\u001b[0m\n\u001b[0;32m--> 297\u001b[0;31m       \u001b[0mself\u001b[0m\u001b[0;34m.\u001b[0m\u001b[0m_call_batch_end_hook\u001b[0m\u001b[0;34m(\u001b[0m\u001b[0mmode\u001b[0m\u001b[0;34m,\u001b[0m \u001b[0mbatch\u001b[0m\u001b[0;34m,\u001b[0m \u001b[0mlogs\u001b[0m\u001b[0;34m)\u001b[0m\u001b[0;34m\u001b[0m\u001b[0;34m\u001b[0m\u001b[0m\n\u001b[0m\u001b[1;32m    298\u001b[0m     \u001b[0;32melse\u001b[0m\u001b[0;34m:\u001b[0m\u001b[0;34m\u001b[0m\u001b[0;34m\u001b[0m\u001b[0m\n\u001b[1;32m    299\u001b[0m       raise ValueError(\n",
            "\u001b[0;32m/usr/local/lib/python3.7/dist-packages/keras/callbacks.py\u001b[0m in \u001b[0;36m_call_batch_end_hook\u001b[0;34m(self, mode, batch, logs)\u001b[0m\n\u001b[1;32m    316\u001b[0m       \u001b[0mself\u001b[0m\u001b[0;34m.\u001b[0m\u001b[0m_batch_times\u001b[0m\u001b[0;34m.\u001b[0m\u001b[0mappend\u001b[0m\u001b[0;34m(\u001b[0m\u001b[0mbatch_time\u001b[0m\u001b[0;34m)\u001b[0m\u001b[0;34m\u001b[0m\u001b[0;34m\u001b[0m\u001b[0m\n\u001b[1;32m    317\u001b[0m \u001b[0;34m\u001b[0m\u001b[0m\n\u001b[0;32m--> 318\u001b[0;31m     \u001b[0mself\u001b[0m\u001b[0;34m.\u001b[0m\u001b[0m_call_batch_hook_helper\u001b[0m\u001b[0;34m(\u001b[0m\u001b[0mhook_name\u001b[0m\u001b[0;34m,\u001b[0m \u001b[0mbatch\u001b[0m\u001b[0;34m,\u001b[0m \u001b[0mlogs\u001b[0m\u001b[0;34m)\u001b[0m\u001b[0;34m\u001b[0m\u001b[0;34m\u001b[0m\u001b[0m\n\u001b[0m\u001b[1;32m    319\u001b[0m \u001b[0;34m\u001b[0m\u001b[0m\n\u001b[1;32m    320\u001b[0m     \u001b[0;32mif\u001b[0m \u001b[0mlen\u001b[0m\u001b[0;34m(\u001b[0m\u001b[0mself\u001b[0m\u001b[0;34m.\u001b[0m\u001b[0m_batch_times\u001b[0m\u001b[0;34m)\u001b[0m \u001b[0;34m>=\u001b[0m \u001b[0mself\u001b[0m\u001b[0;34m.\u001b[0m\u001b[0m_num_batches_for_timing_check\u001b[0m\u001b[0;34m:\u001b[0m\u001b[0;34m\u001b[0m\u001b[0;34m\u001b[0m\u001b[0m\n",
            "\u001b[0;32m/usr/local/lib/python3.7/dist-packages/keras/callbacks.py\u001b[0m in \u001b[0;36m_call_batch_hook_helper\u001b[0;34m(self, hook_name, batch, logs)\u001b[0m\n\u001b[1;32m    354\u001b[0m     \u001b[0;32mfor\u001b[0m \u001b[0mcallback\u001b[0m \u001b[0;32min\u001b[0m \u001b[0mself\u001b[0m\u001b[0;34m.\u001b[0m\u001b[0mcallbacks\u001b[0m\u001b[0;34m:\u001b[0m\u001b[0;34m\u001b[0m\u001b[0;34m\u001b[0m\u001b[0m\n\u001b[1;32m    355\u001b[0m       \u001b[0mhook\u001b[0m \u001b[0;34m=\u001b[0m \u001b[0mgetattr\u001b[0m\u001b[0;34m(\u001b[0m\u001b[0mcallback\u001b[0m\u001b[0;34m,\u001b[0m \u001b[0mhook_name\u001b[0m\u001b[0;34m)\u001b[0m\u001b[0;34m\u001b[0m\u001b[0;34m\u001b[0m\u001b[0m\n\u001b[0;32m--> 356\u001b[0;31m       \u001b[0mhook\u001b[0m\u001b[0;34m(\u001b[0m\u001b[0mbatch\u001b[0m\u001b[0;34m,\u001b[0m \u001b[0mlogs\u001b[0m\u001b[0;34m)\u001b[0m\u001b[0;34m\u001b[0m\u001b[0;34m\u001b[0m\u001b[0m\n\u001b[0m\u001b[1;32m    357\u001b[0m \u001b[0;34m\u001b[0m\u001b[0m\n\u001b[1;32m    358\u001b[0m     \u001b[0;32mif\u001b[0m \u001b[0mself\u001b[0m\u001b[0;34m.\u001b[0m\u001b[0m_check_timing\u001b[0m\u001b[0;34m:\u001b[0m\u001b[0;34m\u001b[0m\u001b[0;34m\u001b[0m\u001b[0m\n",
            "\u001b[0;32m/usr/local/lib/python3.7/dist-packages/keras/callbacks.py\u001b[0m in \u001b[0;36mon_train_batch_end\u001b[0;34m(self, batch, logs)\u001b[0m\n\u001b[1;32m   1032\u001b[0m \u001b[0;34m\u001b[0m\u001b[0m\n\u001b[1;32m   1033\u001b[0m   \u001b[0;32mdef\u001b[0m \u001b[0mon_train_batch_end\u001b[0m\u001b[0;34m(\u001b[0m\u001b[0mself\u001b[0m\u001b[0;34m,\u001b[0m \u001b[0mbatch\u001b[0m\u001b[0;34m,\u001b[0m \u001b[0mlogs\u001b[0m\u001b[0;34m=\u001b[0m\u001b[0;32mNone\u001b[0m\u001b[0;34m)\u001b[0m\u001b[0;34m:\u001b[0m\u001b[0;34m\u001b[0m\u001b[0;34m\u001b[0m\u001b[0m\n\u001b[0;32m-> 1034\u001b[0;31m     \u001b[0mself\u001b[0m\u001b[0;34m.\u001b[0m\u001b[0m_batch_update_progbar\u001b[0m\u001b[0;34m(\u001b[0m\u001b[0mbatch\u001b[0m\u001b[0;34m,\u001b[0m \u001b[0mlogs\u001b[0m\u001b[0;34m)\u001b[0m\u001b[0;34m\u001b[0m\u001b[0;34m\u001b[0m\u001b[0m\n\u001b[0m\u001b[1;32m   1035\u001b[0m \u001b[0;34m\u001b[0m\u001b[0m\n\u001b[1;32m   1036\u001b[0m   \u001b[0;32mdef\u001b[0m \u001b[0mon_test_batch_end\u001b[0m\u001b[0;34m(\u001b[0m\u001b[0mself\u001b[0m\u001b[0;34m,\u001b[0m \u001b[0mbatch\u001b[0m\u001b[0;34m,\u001b[0m \u001b[0mlogs\u001b[0m\u001b[0;34m=\u001b[0m\u001b[0;32mNone\u001b[0m\u001b[0;34m)\u001b[0m\u001b[0;34m:\u001b[0m\u001b[0;34m\u001b[0m\u001b[0;34m\u001b[0m\u001b[0m\n",
            "\u001b[0;32m/usr/local/lib/python3.7/dist-packages/keras/callbacks.py\u001b[0m in \u001b[0;36m_batch_update_progbar\u001b[0;34m(self, batch, logs)\u001b[0m\n\u001b[1;32m   1104\u001b[0m     \u001b[0;32mif\u001b[0m \u001b[0mself\u001b[0m\u001b[0;34m.\u001b[0m\u001b[0mverbose\u001b[0m \u001b[0;34m==\u001b[0m \u001b[0;36m1\u001b[0m\u001b[0;34m:\u001b[0m\u001b[0;34m\u001b[0m\u001b[0;34m\u001b[0m\u001b[0m\n\u001b[1;32m   1105\u001b[0m       \u001b[0;31m# Only block async when verbose = 1.\u001b[0m\u001b[0;34m\u001b[0m\u001b[0;34m\u001b[0m\u001b[0;34m\u001b[0m\u001b[0m\n\u001b[0;32m-> 1106\u001b[0;31m       \u001b[0mlogs\u001b[0m \u001b[0;34m=\u001b[0m \u001b[0mtf_utils\u001b[0m\u001b[0;34m.\u001b[0m\u001b[0msync_to_numpy_or_python_type\u001b[0m\u001b[0;34m(\u001b[0m\u001b[0mlogs\u001b[0m\u001b[0;34m)\u001b[0m\u001b[0;34m\u001b[0m\u001b[0;34m\u001b[0m\u001b[0m\n\u001b[0m\u001b[1;32m   1107\u001b[0m       \u001b[0mself\u001b[0m\u001b[0;34m.\u001b[0m\u001b[0mprogbar\u001b[0m\u001b[0;34m.\u001b[0m\u001b[0mupdate\u001b[0m\u001b[0;34m(\u001b[0m\u001b[0mself\u001b[0m\u001b[0;34m.\u001b[0m\u001b[0mseen\u001b[0m\u001b[0;34m,\u001b[0m \u001b[0mlist\u001b[0m\u001b[0;34m(\u001b[0m\u001b[0mlogs\u001b[0m\u001b[0;34m.\u001b[0m\u001b[0mitems\u001b[0m\u001b[0;34m(\u001b[0m\u001b[0;34m)\u001b[0m\u001b[0;34m)\u001b[0m\u001b[0;34m,\u001b[0m \u001b[0mfinalize\u001b[0m\u001b[0;34m=\u001b[0m\u001b[0;32mFalse\u001b[0m\u001b[0;34m)\u001b[0m\u001b[0;34m\u001b[0m\u001b[0;34m\u001b[0m\u001b[0m\n\u001b[1;32m   1108\u001b[0m \u001b[0;34m\u001b[0m\u001b[0m\n",
            "\u001b[0;32m/usr/local/lib/python3.7/dist-packages/keras/utils/tf_utils.py\u001b[0m in \u001b[0;36msync_to_numpy_or_python_type\u001b[0;34m(tensors)\u001b[0m\n\u001b[1;32m    561\u001b[0m     \u001b[0;32mreturn\u001b[0m \u001b[0mt\u001b[0m\u001b[0;34m.\u001b[0m\u001b[0mitem\u001b[0m\u001b[0;34m(\u001b[0m\u001b[0;34m)\u001b[0m \u001b[0;32mif\u001b[0m \u001b[0mnp\u001b[0m\u001b[0;34m.\u001b[0m\u001b[0mndim\u001b[0m\u001b[0;34m(\u001b[0m\u001b[0mt\u001b[0m\u001b[0;34m)\u001b[0m \u001b[0;34m==\u001b[0m \u001b[0;36m0\u001b[0m \u001b[0;32melse\u001b[0m \u001b[0mt\u001b[0m\u001b[0;34m\u001b[0m\u001b[0;34m\u001b[0m\u001b[0m\n\u001b[1;32m    562\u001b[0m \u001b[0;34m\u001b[0m\u001b[0m\n\u001b[0;32m--> 563\u001b[0;31m   \u001b[0;32mreturn\u001b[0m \u001b[0mtf\u001b[0m\u001b[0;34m.\u001b[0m\u001b[0mnest\u001b[0m\u001b[0;34m.\u001b[0m\u001b[0mmap_structure\u001b[0m\u001b[0;34m(\u001b[0m\u001b[0m_to_single_numpy_or_python_type\u001b[0m\u001b[0;34m,\u001b[0m \u001b[0mtensors\u001b[0m\u001b[0;34m)\u001b[0m\u001b[0;34m\u001b[0m\u001b[0;34m\u001b[0m\u001b[0m\n\u001b[0m\u001b[1;32m    564\u001b[0m \u001b[0;34m\u001b[0m\u001b[0m\n\u001b[1;32m    565\u001b[0m \u001b[0;34m\u001b[0m\u001b[0m\n",
            "\u001b[0;32m/usr/local/lib/python3.7/dist-packages/tensorflow/python/util/nest.py\u001b[0m in \u001b[0;36mmap_structure\u001b[0;34m(func, *structure, **kwargs)\u001b[0m\n\u001b[1;32m    909\u001b[0m \u001b[0;34m\u001b[0m\u001b[0m\n\u001b[1;32m    910\u001b[0m   \u001b[0mflat_structure\u001b[0m \u001b[0;34m=\u001b[0m \u001b[0;34m(\u001b[0m\u001b[0mflatten\u001b[0m\u001b[0;34m(\u001b[0m\u001b[0ms\u001b[0m\u001b[0;34m,\u001b[0m \u001b[0mexpand_composites\u001b[0m\u001b[0;34m)\u001b[0m \u001b[0;32mfor\u001b[0m \u001b[0ms\u001b[0m \u001b[0;32min\u001b[0m \u001b[0mstructure\u001b[0m\u001b[0;34m)\u001b[0m\u001b[0;34m\u001b[0m\u001b[0;34m\u001b[0m\u001b[0m\n\u001b[0;32m--> 911\u001b[0;31m   \u001b[0mentries\u001b[0m \u001b[0;34m=\u001b[0m \u001b[0mzip\u001b[0m\u001b[0;34m(\u001b[0m\u001b[0;34m*\u001b[0m\u001b[0mflat_structure\u001b[0m\u001b[0;34m)\u001b[0m\u001b[0;34m\u001b[0m\u001b[0;34m\u001b[0m\u001b[0m\n\u001b[0m\u001b[1;32m    912\u001b[0m \u001b[0;34m\u001b[0m\u001b[0m\n\u001b[1;32m    913\u001b[0m   return pack_sequence_as(\n",
            "\u001b[0;31mKeyboardInterrupt\u001b[0m: "
          ]
        }
      ],
      "source": [
        "cnn= cnn_variable_s(opt2, input_variable_train, input_variable_valid,input_variable_test)"
      ]
    },
    {
      "cell_type": "code",
      "source": [
        "inputs = Input(shape=(None,65),name='inputs')\n",
        "inputs_all = Input(shape=[], name='inputs2')\n",
        "inputs_variable=(inputs,inputs_all)\n",
        "inputs_variable[0]"
      ],
      "metadata": {
        "colab": {
          "base_uri": "https://localhost:8080/"
        },
        "id": "EQbfAYyVaK8Q",
        "outputId": "43d5889a-cbeb-4e31-ecd9-aa5dae9f1bbe"
      },
      "execution_count": 67,
      "outputs": [
        {
          "output_type": "execute_result",
          "data": {
            "text/plain": [
              "<KerasTensor: shape=(None, None, 65) dtype=float32 (created by layer 'inputs')>"
            ]
          },
          "metadata": {},
          "execution_count": 67
        }
      ]
    },
    {
      "cell_type": "code",
      "source": [
        "def cnn_variable_s1(opt, inputs, input_variable_valid,input_variable_test):\n",
        "  inputs = Input(shape=(None,65),name='inputs')\n",
        "  inputs_L = Input(shape=[],name='inputs2')\n",
        "  layer_c = Conv1D(256, 1, padding=\"same\")(inputs)\n",
        "  layer = Activation(\"LeakyReLU\")(layer_c)\n",
        "  layer = MaxPooling1D(pool_size = 2)(layer)\n",
        "  #layer = Dropout(0.2)(layer)\n",
        "  layer = Conv1D(128, 1, padding=\"same\")(layer)\n",
        "  layer = BatchNormalization(axis=-1)(layer)\n",
        "  layer = Activation(\"LeakyReLU\")(layer)\n",
        "  layer = MaxPooling1D(pool_size = 2)(layer)\n",
        "  layer = Conv1D(256, 1, padding=\"same\")(layer)\n",
        "  layer = BatchNormalization(axis=-1)(layer)\n",
        "  layer = Activation(\"LeakyReLU\")(layer)\n",
        "  layer = MaxPooling1D(pool_size = 2)(layer)\n",
        "  #layer = Dropout(0.2)(layer)\n",
        "  #layer = Flatten()(layer)\n",
        "  #layer = Dropout(0.2)(layer)\n",
        "  layer = TimeDistributed(Dense(150))(layer)\n",
        "  layer = Reshape((-1,5))(layer)\n",
        "  layer = UpSampling1D(size=15)(layer)\n",
        "  L = tf.cast(tf.reduce_max(inputs_L), tf.int32)\n",
        "  output = layer[:,:L]\n",
        "  model = Model(inputs = (inputs_L,inputs) , outputs=output)\n",
        "  model.compile(loss=\"sparse_categorical_crossentropy\", optimizer=opt, metrics=[\"sparse_categorical_accuracy\"])\n",
        "  history = model.fit(input_variable_train1, validation_data=input_variable_valid1, batch_size=BS, epochs=NUM_EPOCHS, verbose=1)\n",
        "  # plotting the metrics\n",
        "  plt.subplot(2, 1, 1)\n",
        "  plt.title('Sparse Crossentropy Loss')\n",
        "  plt.plot(history.history['loss'], color='blue', label='train')\n",
        "  plt.plot(history.history['val_loss'], color='orange', label='val')\n",
        "\t# plot accuracy\n",
        "  plt.subplot(2, 1, 2)\n",
        "  plt.title('Classification Accuracy')\n",
        "  plt.plot(history.history['sparse_categorical_accuracy'], color='blue', label='train')\n",
        "  plt.plot(history.history['val_sparse_categorical_accuracy'], color='orange', label='val')\n",
        "  score = model.evaluate(input_variable_test1, verbose=0) #evaluate based on test dataset, which was not used for training and validation\n",
        "  return model.summary(), history, print('Loss using testing dataset=', score[0]), print('Accuracy using testing dataset=', score[1]) "
      ],
      "metadata": {
        "id": "vgUMXWQLUczK"
      },
      "execution_count": null,
      "outputs": []
    },
    {
      "cell_type": "code",
      "execution_count": null,
      "metadata": {
        "id": "GI_LrMPcBPHv"
      },
      "outputs": [],
      "source": [
        "cnn2= cnn_variable_s1(opt2, input_variable_train1, input_variable_valid1,input_variable_test1)"
      ]
    },
    {
      "cell_type": "code",
      "source": [
        "def cnn_variable_s2(opt, inputs, input_variable_valid,input_variable_test):\n",
        "  inputs = Input(shape=(None,33),name='inputs')\n",
        "  inputs_L = Input(shape=[],name='inputs2')\n",
        "  layer_c = Conv1D(256, 1, padding=\"same\")(inputs)\n",
        "  layer = Activation(\"LeakyReLU\")(layer_c)\n",
        "  layer = MaxPooling1D(pool_size = 2)(layer)\n",
        "  #layer = Dropout(0.2)(layer)\n",
        "  layer = Conv1D(128, 1, padding=\"same\")(layer)\n",
        "  layer = BatchNormalization(axis=-1)(layer)\n",
        "  layer = Activation(\"LeakyReLU\")(layer)\n",
        "  layer = MaxPooling1D(pool_size = 2)(layer)\n",
        "  layer = Conv1D(256, 1, padding=\"same\")(layer)\n",
        "  layer = BatchNormalization(axis=-1)(layer)\n",
        "  layer = Activation(\"LeakyReLU\")(layer)\n",
        "  layer = MaxPooling1D(pool_size = 2)(layer)\n",
        "  #layer = Dropout(0.2)(layer)\n",
        "  #layer = Flatten()(layer)\n",
        "  #layer = Dropout(0.2)(layer)\n",
        "  layer = TimeDistributed(Dense(150))(layer)\n",
        "  layer = Reshape((-1,5))(layer)\n",
        "  layer = UpSampling1D(size=15)(layer)\n",
        "  L = tf.cast(tf.reduce_max(inputs_L), tf.int32)\n",
        "  output = layer[:,:L]\n",
        "  model = Model(inputs = (inputs_L,inputs) , outputs=output)\n",
        "  model.compile(loss=\"sparse_categorical_crossentropy\", optimizer=opt, metrics=[\"sparse_categorical_accuracy\"])\n",
        "  history = model.fit(input_variable_train2, validation_data=input_variable_valid2, batch_size=BS, epochs=NUM_EPOCHS, verbose=1)\n",
        "  # plotting the metrics\n",
        "  plt.subplot(2, 1, 1)\n",
        "  plt.title('Sparse Crossentropy Loss')\n",
        "  plt.plot(history.history['loss'], color='blue', label='train')\n",
        "  plt.plot(history.history['val_loss'], color='orange', label='val')\n",
        "\t# plot accuracy\n",
        "  plt.subplot(2, 1, 2)\n",
        "  plt.title('Classification Accuracy')\n",
        "  plt.plot(history.history['sparse_categorical_accuracy'], color='blue', label='train')\n",
        "  plt.plot(history.history['val_sparse_categorical_accuracy'], color='orange', label='val')\n",
        "  score = model.evaluate(input_variable_test2, verbose=0) #evaluate based on test dataset, which was not used for training and validation\n",
        "  return model.summary(), history, print('Loss using testing dataset=', score[0]), print('Accuracy using testing dataset=', score[1]) "
      ],
      "metadata": {
        "id": "_aTWA1hKUoDB"
      },
      "execution_count": 75,
      "outputs": []
    },
    {
      "cell_type": "code",
      "source": [
        "cnn3= cnn_variable_s2(opt2, input_variable_train2, input_variable_valid2, input_variable_test2)"
      ],
      "metadata": {
        "colab": {
          "base_uri": "https://localhost:8080/",
          "height": 901
        },
        "id": "h40B8b_WUy_5",
        "outputId": "8cdd3eef-4509-4c6e-cc66-3c914d8beba9"
      },
      "execution_count": 76,
      "outputs": [
        {
          "output_type": "stream",
          "name": "stdout",
          "text": [
            "Epoch 1/100\n",
            "1250/1250 [==============================] - 534s 425ms/step - loss: 2.6270 - sparse_categorical_accuracy: 0.2536 - val_loss: 1.8544 - val_sparse_categorical_accuracy: 0.2783\n",
            "Epoch 2/100\n",
            "1250/1250 [==============================] - 105s 84ms/step - loss: 1.8617 - sparse_categorical_accuracy: 0.2758 - val_loss: 1.7414 - val_sparse_categorical_accuracy: 0.2961\n",
            "Epoch 3/100\n",
            "1250/1250 [==============================] - 107s 86ms/step - loss: 1.7892 - sparse_categorical_accuracy: 0.2890 - val_loss: 1.7203 - val_sparse_categorical_accuracy: 0.3054\n",
            "Epoch 4/100\n",
            "1250/1250 [==============================] - 109s 87ms/step - loss: 1.7406 - sparse_categorical_accuracy: 0.2983 - val_loss: 1.6822 - val_sparse_categorical_accuracy: 0.3118\n",
            "Epoch 5/100\n",
            "1250/1250 [==============================] - 108s 86ms/step - loss: 1.7034 - sparse_categorical_accuracy: 0.3039 - val_loss: 1.6576 - val_sparse_categorical_accuracy: 0.3229\n",
            "Epoch 6/100\n",
            "1250/1250 [==============================] - 108s 86ms/step - loss: 1.6831 - sparse_categorical_accuracy: 0.3080 - val_loss: 1.6399 - val_sparse_categorical_accuracy: 0.3254\n",
            "Epoch 7/100\n",
            "1250/1250 [==============================] - 109s 88ms/step - loss: 1.6719 - sparse_categorical_accuracy: 0.3102 - val_loss: 1.6428 - val_sparse_categorical_accuracy: 0.3267\n",
            "Epoch 8/100\n",
            "1250/1250 [==============================] - 110s 88ms/step - loss: 1.6646 - sparse_categorical_accuracy: 0.3113 - val_loss: 1.6318 - val_sparse_categorical_accuracy: 0.3222\n",
            "Epoch 9/100\n",
            "1250/1250 [==============================] - 108s 87ms/step - loss: 1.6575 - sparse_categorical_accuracy: 0.3123 - val_loss: 1.6182 - val_sparse_categorical_accuracy: 0.3261\n",
            "Epoch 10/100\n",
            "1250/1250 [==============================] - 110s 88ms/step - loss: 1.6410 - sparse_categorical_accuracy: 0.3155 - val_loss: 1.6172 - val_sparse_categorical_accuracy: 0.3247\n",
            "Epoch 11/100\n",
            "1250/1250 [==============================] - 110s 88ms/step - loss: 1.6333 - sparse_categorical_accuracy: 0.3135 - val_loss: 1.6144 - val_sparse_categorical_accuracy: 0.3150\n",
            "Epoch 12/100\n",
            "1250/1250 [==============================] - 108s 87ms/step - loss: 1.6224 - sparse_categorical_accuracy: 0.3123 - val_loss: 1.6056 - val_sparse_categorical_accuracy: 0.3155\n",
            "Epoch 13/100\n",
            "1250/1250 [==============================] - 112s 89ms/step - loss: 1.6200 - sparse_categorical_accuracy: 0.3106 - val_loss: 1.6013 - val_sparse_categorical_accuracy: 0.3224\n",
            "Epoch 14/100\n",
            "1250/1250 [==============================] - 111s 88ms/step - loss: 1.6208 - sparse_categorical_accuracy: 0.3110 - val_loss: 1.6216 - val_sparse_categorical_accuracy: 0.3168\n",
            "Epoch 15/100\n",
            "1250/1250 [==============================] - 109s 87ms/step - loss: 1.6257 - sparse_categorical_accuracy: 0.3079 - val_loss: 1.6088 - val_sparse_categorical_accuracy: 0.3135\n",
            "Epoch 16/100\n",
            "1250/1250 [==============================] - 110s 88ms/step - loss: 1.6182 - sparse_categorical_accuracy: 0.3110 - val_loss: 1.6108 - val_sparse_categorical_accuracy: 0.3171\n",
            "Epoch 17/100\n",
            " 142/1250 [==>...........................] - ETA: 1:33 - loss: 1.6186 - sparse_categorical_accuracy: 0.3119"
          ]
        },
        {
          "output_type": "error",
          "ename": "KeyboardInterrupt",
          "evalue": "ignored",
          "traceback": [
            "\u001b[0;31m---------------------------------------------------------------------------\u001b[0m",
            "\u001b[0;31mKeyboardInterrupt\u001b[0m                         Traceback (most recent call last)",
            "\u001b[0;32m<ipython-input-76-4a8605ae3d2c>\u001b[0m in \u001b[0;36m<module>\u001b[0;34m()\u001b[0m\n\u001b[0;32m----> 1\u001b[0;31m \u001b[0mcnn3\u001b[0m\u001b[0;34m=\u001b[0m \u001b[0mcnn_variable_s2\u001b[0m\u001b[0;34m(\u001b[0m\u001b[0mopt2\u001b[0m\u001b[0;34m,\u001b[0m \u001b[0minput_variable_train2\u001b[0m\u001b[0;34m,\u001b[0m \u001b[0minput_variable_valid2\u001b[0m\u001b[0;34m,\u001b[0m \u001b[0minput_variable_test2\u001b[0m\u001b[0;34m)\u001b[0m\u001b[0;34m\u001b[0m\u001b[0;34m\u001b[0m\u001b[0m\n\u001b[0m",
            "\u001b[0;32m<ipython-input-75-ff121c2ad52d>\u001b[0m in \u001b[0;36mcnn_variable_s2\u001b[0;34m(opt, inputs, input_variable_valid, input_variable_test)\u001b[0m\n\u001b[1;32m     24\u001b[0m   \u001b[0mmodel\u001b[0m \u001b[0;34m=\u001b[0m \u001b[0mModel\u001b[0m\u001b[0;34m(\u001b[0m\u001b[0minputs\u001b[0m \u001b[0;34m=\u001b[0m \u001b[0;34m(\u001b[0m\u001b[0minputs_L\u001b[0m\u001b[0;34m,\u001b[0m\u001b[0minputs\u001b[0m\u001b[0;34m)\u001b[0m \u001b[0;34m,\u001b[0m \u001b[0moutputs\u001b[0m\u001b[0;34m=\u001b[0m\u001b[0moutput\u001b[0m\u001b[0;34m)\u001b[0m\u001b[0;34m\u001b[0m\u001b[0;34m\u001b[0m\u001b[0m\n\u001b[1;32m     25\u001b[0m   \u001b[0mmodel\u001b[0m\u001b[0;34m.\u001b[0m\u001b[0mcompile\u001b[0m\u001b[0;34m(\u001b[0m\u001b[0mloss\u001b[0m\u001b[0;34m=\u001b[0m\u001b[0;34m\"sparse_categorical_crossentropy\"\u001b[0m\u001b[0;34m,\u001b[0m \u001b[0moptimizer\u001b[0m\u001b[0;34m=\u001b[0m\u001b[0mopt\u001b[0m\u001b[0;34m,\u001b[0m \u001b[0mmetrics\u001b[0m\u001b[0;34m=\u001b[0m\u001b[0;34m[\u001b[0m\u001b[0;34m\"sparse_categorical_accuracy\"\u001b[0m\u001b[0;34m]\u001b[0m\u001b[0;34m)\u001b[0m\u001b[0;34m\u001b[0m\u001b[0;34m\u001b[0m\u001b[0m\n\u001b[0;32m---> 26\u001b[0;31m   \u001b[0mhistory\u001b[0m \u001b[0;34m=\u001b[0m \u001b[0mmodel\u001b[0m\u001b[0;34m.\u001b[0m\u001b[0mfit\u001b[0m\u001b[0;34m(\u001b[0m\u001b[0minput_variable_train2\u001b[0m\u001b[0;34m,\u001b[0m \u001b[0mvalidation_data\u001b[0m\u001b[0;34m=\u001b[0m\u001b[0minput_variable_valid2\u001b[0m\u001b[0;34m,\u001b[0m \u001b[0mbatch_size\u001b[0m\u001b[0;34m=\u001b[0m\u001b[0mBS\u001b[0m\u001b[0;34m,\u001b[0m \u001b[0mepochs\u001b[0m\u001b[0;34m=\u001b[0m\u001b[0mNUM_EPOCHS\u001b[0m\u001b[0;34m,\u001b[0m \u001b[0mverbose\u001b[0m\u001b[0;34m=\u001b[0m\u001b[0;36m1\u001b[0m\u001b[0;34m)\u001b[0m\u001b[0;34m\u001b[0m\u001b[0;34m\u001b[0m\u001b[0m\n\u001b[0m\u001b[1;32m     27\u001b[0m   \u001b[0;31m# plotting the metrics\u001b[0m\u001b[0;34m\u001b[0m\u001b[0;34m\u001b[0m\u001b[0;34m\u001b[0m\u001b[0m\n\u001b[1;32m     28\u001b[0m   \u001b[0mplt\u001b[0m\u001b[0;34m.\u001b[0m\u001b[0msubplot\u001b[0m\u001b[0;34m(\u001b[0m\u001b[0;36m2\u001b[0m\u001b[0;34m,\u001b[0m \u001b[0;36m1\u001b[0m\u001b[0;34m,\u001b[0m \u001b[0;36m1\u001b[0m\u001b[0;34m)\u001b[0m\u001b[0;34m\u001b[0m\u001b[0;34m\u001b[0m\u001b[0m\n",
            "\u001b[0;32m/usr/local/lib/python3.7/dist-packages/keras/utils/traceback_utils.py\u001b[0m in \u001b[0;36merror_handler\u001b[0;34m(*args, **kwargs)\u001b[0m\n\u001b[1;32m     62\u001b[0m     \u001b[0mfiltered_tb\u001b[0m \u001b[0;34m=\u001b[0m \u001b[0;32mNone\u001b[0m\u001b[0;34m\u001b[0m\u001b[0;34m\u001b[0m\u001b[0m\n\u001b[1;32m     63\u001b[0m     \u001b[0;32mtry\u001b[0m\u001b[0;34m:\u001b[0m\u001b[0;34m\u001b[0m\u001b[0;34m\u001b[0m\u001b[0m\n\u001b[0;32m---> 64\u001b[0;31m       \u001b[0;32mreturn\u001b[0m \u001b[0mfn\u001b[0m\u001b[0;34m(\u001b[0m\u001b[0;34m*\u001b[0m\u001b[0margs\u001b[0m\u001b[0;34m,\u001b[0m \u001b[0;34m**\u001b[0m\u001b[0mkwargs\u001b[0m\u001b[0;34m)\u001b[0m\u001b[0;34m\u001b[0m\u001b[0;34m\u001b[0m\u001b[0m\n\u001b[0m\u001b[1;32m     65\u001b[0m     \u001b[0;32mexcept\u001b[0m \u001b[0mException\u001b[0m \u001b[0;32mas\u001b[0m \u001b[0me\u001b[0m\u001b[0;34m:\u001b[0m  \u001b[0;31m# pylint: disable=broad-except\u001b[0m\u001b[0;34m\u001b[0m\u001b[0;34m\u001b[0m\u001b[0m\n\u001b[1;32m     66\u001b[0m       \u001b[0mfiltered_tb\u001b[0m \u001b[0;34m=\u001b[0m \u001b[0m_process_traceback_frames\u001b[0m\u001b[0;34m(\u001b[0m\u001b[0me\u001b[0m\u001b[0;34m.\u001b[0m\u001b[0m__traceback__\u001b[0m\u001b[0;34m)\u001b[0m\u001b[0;34m\u001b[0m\u001b[0;34m\u001b[0m\u001b[0m\n",
            "\u001b[0;32m/usr/local/lib/python3.7/dist-packages/keras/engine/training.py\u001b[0m in \u001b[0;36mfit\u001b[0;34m(self, x, y, batch_size, epochs, verbose, callbacks, validation_split, validation_data, shuffle, class_weight, sample_weight, initial_epoch, steps_per_epoch, validation_steps, validation_batch_size, validation_freq, max_queue_size, workers, use_multiprocessing)\u001b[0m\n\u001b[1;32m   1382\u001b[0m                 _r=1):\n\u001b[1;32m   1383\u001b[0m               \u001b[0mcallbacks\u001b[0m\u001b[0;34m.\u001b[0m\u001b[0mon_train_batch_begin\u001b[0m\u001b[0;34m(\u001b[0m\u001b[0mstep\u001b[0m\u001b[0;34m)\u001b[0m\u001b[0;34m\u001b[0m\u001b[0;34m\u001b[0m\u001b[0m\n\u001b[0;32m-> 1384\u001b[0;31m               \u001b[0mtmp_logs\u001b[0m \u001b[0;34m=\u001b[0m \u001b[0mself\u001b[0m\u001b[0;34m.\u001b[0m\u001b[0mtrain_function\u001b[0m\u001b[0;34m(\u001b[0m\u001b[0miterator\u001b[0m\u001b[0;34m)\u001b[0m\u001b[0;34m\u001b[0m\u001b[0;34m\u001b[0m\u001b[0m\n\u001b[0m\u001b[1;32m   1385\u001b[0m               \u001b[0;32mif\u001b[0m \u001b[0mdata_handler\u001b[0m\u001b[0;34m.\u001b[0m\u001b[0mshould_sync\u001b[0m\u001b[0;34m:\u001b[0m\u001b[0;34m\u001b[0m\u001b[0;34m\u001b[0m\u001b[0m\n\u001b[1;32m   1386\u001b[0m                 \u001b[0mcontext\u001b[0m\u001b[0;34m.\u001b[0m\u001b[0masync_wait\u001b[0m\u001b[0;34m(\u001b[0m\u001b[0;34m)\u001b[0m\u001b[0;34m\u001b[0m\u001b[0;34m\u001b[0m\u001b[0m\n",
            "\u001b[0;32m/usr/local/lib/python3.7/dist-packages/tensorflow/python/util/traceback_utils.py\u001b[0m in \u001b[0;36merror_handler\u001b[0;34m(*args, **kwargs)\u001b[0m\n\u001b[1;32m    148\u001b[0m     \u001b[0mfiltered_tb\u001b[0m \u001b[0;34m=\u001b[0m \u001b[0;32mNone\u001b[0m\u001b[0;34m\u001b[0m\u001b[0;34m\u001b[0m\u001b[0m\n\u001b[1;32m    149\u001b[0m     \u001b[0;32mtry\u001b[0m\u001b[0;34m:\u001b[0m\u001b[0;34m\u001b[0m\u001b[0;34m\u001b[0m\u001b[0m\n\u001b[0;32m--> 150\u001b[0;31m       \u001b[0;32mreturn\u001b[0m \u001b[0mfn\u001b[0m\u001b[0;34m(\u001b[0m\u001b[0;34m*\u001b[0m\u001b[0margs\u001b[0m\u001b[0;34m,\u001b[0m \u001b[0;34m**\u001b[0m\u001b[0mkwargs\u001b[0m\u001b[0;34m)\u001b[0m\u001b[0;34m\u001b[0m\u001b[0;34m\u001b[0m\u001b[0m\n\u001b[0m\u001b[1;32m    151\u001b[0m     \u001b[0;32mexcept\u001b[0m \u001b[0mException\u001b[0m \u001b[0;32mas\u001b[0m \u001b[0me\u001b[0m\u001b[0;34m:\u001b[0m\u001b[0;34m\u001b[0m\u001b[0;34m\u001b[0m\u001b[0m\n\u001b[1;32m    152\u001b[0m       \u001b[0mfiltered_tb\u001b[0m \u001b[0;34m=\u001b[0m \u001b[0m_process_traceback_frames\u001b[0m\u001b[0;34m(\u001b[0m\u001b[0me\u001b[0m\u001b[0;34m.\u001b[0m\u001b[0m__traceback__\u001b[0m\u001b[0;34m)\u001b[0m\u001b[0;34m\u001b[0m\u001b[0;34m\u001b[0m\u001b[0m\n",
            "\u001b[0;32m/usr/local/lib/python3.7/dist-packages/tensorflow/python/eager/def_function.py\u001b[0m in \u001b[0;36m__call__\u001b[0;34m(self, *args, **kwds)\u001b[0m\n\u001b[1;32m    913\u001b[0m \u001b[0;34m\u001b[0m\u001b[0m\n\u001b[1;32m    914\u001b[0m       \u001b[0;32mwith\u001b[0m \u001b[0mOptionalXlaContext\u001b[0m\u001b[0;34m(\u001b[0m\u001b[0mself\u001b[0m\u001b[0;34m.\u001b[0m\u001b[0m_jit_compile\u001b[0m\u001b[0;34m)\u001b[0m\u001b[0;34m:\u001b[0m\u001b[0;34m\u001b[0m\u001b[0;34m\u001b[0m\u001b[0m\n\u001b[0;32m--> 915\u001b[0;31m         \u001b[0mresult\u001b[0m \u001b[0;34m=\u001b[0m \u001b[0mself\u001b[0m\u001b[0;34m.\u001b[0m\u001b[0m_call\u001b[0m\u001b[0;34m(\u001b[0m\u001b[0;34m*\u001b[0m\u001b[0margs\u001b[0m\u001b[0;34m,\u001b[0m \u001b[0;34m**\u001b[0m\u001b[0mkwds\u001b[0m\u001b[0;34m)\u001b[0m\u001b[0;34m\u001b[0m\u001b[0;34m\u001b[0m\u001b[0m\n\u001b[0m\u001b[1;32m    916\u001b[0m \u001b[0;34m\u001b[0m\u001b[0m\n\u001b[1;32m    917\u001b[0m       \u001b[0mnew_tracing_count\u001b[0m \u001b[0;34m=\u001b[0m \u001b[0mself\u001b[0m\u001b[0;34m.\u001b[0m\u001b[0mexperimental_get_tracing_count\u001b[0m\u001b[0;34m(\u001b[0m\u001b[0;34m)\u001b[0m\u001b[0;34m\u001b[0m\u001b[0;34m\u001b[0m\u001b[0m\n",
            "\u001b[0;32m/usr/local/lib/python3.7/dist-packages/tensorflow/python/eager/def_function.py\u001b[0m in \u001b[0;36m_call\u001b[0;34m(self, *args, **kwds)\u001b[0m\n\u001b[1;32m    945\u001b[0m       \u001b[0;31m# In this case we have created variables on the first call, so we run the\u001b[0m\u001b[0;34m\u001b[0m\u001b[0;34m\u001b[0m\u001b[0;34m\u001b[0m\u001b[0m\n\u001b[1;32m    946\u001b[0m       \u001b[0;31m# defunned version which is guaranteed to never create variables.\u001b[0m\u001b[0;34m\u001b[0m\u001b[0;34m\u001b[0m\u001b[0;34m\u001b[0m\u001b[0m\n\u001b[0;32m--> 947\u001b[0;31m       \u001b[0;32mreturn\u001b[0m \u001b[0mself\u001b[0m\u001b[0;34m.\u001b[0m\u001b[0m_stateless_fn\u001b[0m\u001b[0;34m(\u001b[0m\u001b[0;34m*\u001b[0m\u001b[0margs\u001b[0m\u001b[0;34m,\u001b[0m \u001b[0;34m**\u001b[0m\u001b[0mkwds\u001b[0m\u001b[0;34m)\u001b[0m  \u001b[0;31m# pylint: disable=not-callable\u001b[0m\u001b[0;34m\u001b[0m\u001b[0;34m\u001b[0m\u001b[0m\n\u001b[0m\u001b[1;32m    948\u001b[0m     \u001b[0;32melif\u001b[0m \u001b[0mself\u001b[0m\u001b[0;34m.\u001b[0m\u001b[0m_stateful_fn\u001b[0m \u001b[0;32mis\u001b[0m \u001b[0;32mnot\u001b[0m \u001b[0;32mNone\u001b[0m\u001b[0;34m:\u001b[0m\u001b[0;34m\u001b[0m\u001b[0;34m\u001b[0m\u001b[0m\n\u001b[1;32m    949\u001b[0m       \u001b[0;31m# Release the lock early so that multiple threads can perform the call\u001b[0m\u001b[0;34m\u001b[0m\u001b[0;34m\u001b[0m\u001b[0;34m\u001b[0m\u001b[0m\n",
            "\u001b[0;32m/usr/local/lib/python3.7/dist-packages/tensorflow/python/eager/function.py\u001b[0m in \u001b[0;36m__call__\u001b[0;34m(self, *args, **kwargs)\u001b[0m\n\u001b[1;32m   2955\u001b[0m        filtered_flat_args) = self._maybe_define_function(args, kwargs)\n\u001b[1;32m   2956\u001b[0m     return graph_function._call_flat(\n\u001b[0;32m-> 2957\u001b[0;31m         filtered_flat_args, captured_inputs=graph_function.captured_inputs)  # pylint: disable=protected-access\n\u001b[0m\u001b[1;32m   2958\u001b[0m \u001b[0;34m\u001b[0m\u001b[0m\n\u001b[1;32m   2959\u001b[0m   \u001b[0;34m@\u001b[0m\u001b[0mproperty\u001b[0m\u001b[0;34m\u001b[0m\u001b[0;34m\u001b[0m\u001b[0m\n",
            "\u001b[0;32m/usr/local/lib/python3.7/dist-packages/tensorflow/python/eager/function.py\u001b[0m in \u001b[0;36m_call_flat\u001b[0;34m(self, args, captured_inputs, cancellation_manager)\u001b[0m\n\u001b[1;32m   1852\u001b[0m       \u001b[0;31m# No tape is watching; skip to running the function.\u001b[0m\u001b[0;34m\u001b[0m\u001b[0;34m\u001b[0m\u001b[0;34m\u001b[0m\u001b[0m\n\u001b[1;32m   1853\u001b[0m       return self._build_call_outputs(self._inference_function.call(\n\u001b[0;32m-> 1854\u001b[0;31m           ctx, args, cancellation_manager=cancellation_manager))\n\u001b[0m\u001b[1;32m   1855\u001b[0m     forward_backward = self._select_forward_and_backward_functions(\n\u001b[1;32m   1856\u001b[0m         \u001b[0margs\u001b[0m\u001b[0;34m,\u001b[0m\u001b[0;34m\u001b[0m\u001b[0;34m\u001b[0m\u001b[0m\n",
            "\u001b[0;32m/usr/local/lib/python3.7/dist-packages/tensorflow/python/eager/function.py\u001b[0m in \u001b[0;36mcall\u001b[0;34m(self, ctx, args, cancellation_manager)\u001b[0m\n\u001b[1;32m    502\u001b[0m               \u001b[0minputs\u001b[0m\u001b[0;34m=\u001b[0m\u001b[0margs\u001b[0m\u001b[0;34m,\u001b[0m\u001b[0;34m\u001b[0m\u001b[0;34m\u001b[0m\u001b[0m\n\u001b[1;32m    503\u001b[0m               \u001b[0mattrs\u001b[0m\u001b[0;34m=\u001b[0m\u001b[0mattrs\u001b[0m\u001b[0;34m,\u001b[0m\u001b[0;34m\u001b[0m\u001b[0;34m\u001b[0m\u001b[0m\n\u001b[0;32m--> 504\u001b[0;31m               ctx=ctx)\n\u001b[0m\u001b[1;32m    505\u001b[0m         \u001b[0;32melse\u001b[0m\u001b[0;34m:\u001b[0m\u001b[0;34m\u001b[0m\u001b[0;34m\u001b[0m\u001b[0m\n\u001b[1;32m    506\u001b[0m           outputs = execute.execute_with_cancellation(\n",
            "\u001b[0;32m/usr/local/lib/python3.7/dist-packages/tensorflow/python/eager/execute.py\u001b[0m in \u001b[0;36mquick_execute\u001b[0;34m(op_name, num_outputs, inputs, attrs, ctx, name)\u001b[0m\n\u001b[1;32m     53\u001b[0m     \u001b[0mctx\u001b[0m\u001b[0;34m.\u001b[0m\u001b[0mensure_initialized\u001b[0m\u001b[0;34m(\u001b[0m\u001b[0;34m)\u001b[0m\u001b[0;34m\u001b[0m\u001b[0;34m\u001b[0m\u001b[0m\n\u001b[1;32m     54\u001b[0m     tensors = pywrap_tfe.TFE_Py_Execute(ctx._handle, device_name, op_name,\n\u001b[0;32m---> 55\u001b[0;31m                                         inputs, attrs, num_outputs)\n\u001b[0m\u001b[1;32m     56\u001b[0m   \u001b[0;32mexcept\u001b[0m \u001b[0mcore\u001b[0m\u001b[0;34m.\u001b[0m\u001b[0m_NotOkStatusException\u001b[0m \u001b[0;32mas\u001b[0m \u001b[0me\u001b[0m\u001b[0;34m:\u001b[0m\u001b[0;34m\u001b[0m\u001b[0;34m\u001b[0m\u001b[0m\n\u001b[1;32m     57\u001b[0m     \u001b[0;32mif\u001b[0m \u001b[0mname\u001b[0m \u001b[0;32mis\u001b[0m \u001b[0;32mnot\u001b[0m \u001b[0;32mNone\u001b[0m\u001b[0;34m:\u001b[0m\u001b[0;34m\u001b[0m\u001b[0;34m\u001b[0m\u001b[0m\n",
            "\u001b[0;31mKeyboardInterrupt\u001b[0m: "
          ]
        }
      ]
    },
    {
      "cell_type": "code",
      "source": [
        "def cnn_variable_s22(opt, inputs, input_variable_valid,input_variable_test):\n",
        "  inputs = Input(shape=(None,33),name='inputs')\n",
        "  inputs_L = Input(shape=[],name='inputs2')\n",
        "  layer_c = Conv1D(512, 1, padding=\"same\")(inputs)\n",
        "  layer = BatchNormalization(axis=-1)(layer_c)\n",
        "  layer = Activation(\"LeakyReLU\")(layer)\n",
        "  layer = MaxPooling1D(pool_size = 2)(layer)\n",
        "  #layer = Dropout(0.2)(layer)\n",
        "  #layer = TimeDistributed(Conv1D(512, 1, padding=\"same\"))(layer)\n",
        "  layer = Conv1D(256, 1, padding=\"same\")(layer)\n",
        "  layer = BatchNormalization(axis=-1)(layer)\n",
        "  layer = Activation(\"LeakyReLU\")(layer)\n",
        "  layer = MaxPooling1D(pool_size = 2)(layer)\n",
        "  layer = Conv1D(512, 1, padding=\"same\")(layer)\n",
        "  layer = BatchNormalization(axis=-1)(layer)\n",
        "  layer = Activation(\"LeakyReLU\")(layer)\n",
        "  #layer = Conv1D(256, 1, padding=\"same\")(layer)\n",
        " # layer = BatchNormalization(axis=-1)(layer)\n",
        " # layer = Activation(\"LeakyReLU\")(layer)\n",
        " # layer = Conv1D(512, 1, padding=\"same\")(layer)\n",
        "  #layer = BatchNormalization(axis=-1)(layer)\n",
        " # layer = Activation(\"LeakyReLU\")(layer)\n",
        "  #layer = MaxPooling1D(pool_size = 2)(layer)\n",
        "  #layer = Dropout(0.2)(layer)\n",
        "  #layer = Flatten()(layer)\n",
        "  #layer = Dropout(0.2)(layer)\n",
        "  layer = TimeDistributed(Dense(300))(layer)\n",
        "  layer = BatchNormalization(axis=-1)(layer)\n",
        "  layer = Activation(\"LeakyReLU\")(layer)\n",
        "  #layer = MaxPooling1D(pool_size = 2)(layer)\n",
        "  layer = TimeDistributed(Dense(150))(layer) #TimeDistributed layer apply the same layer to several inputs. And it produce one output per input to get the result in time\n",
        "  layer = Reshape((-1,5))(layer)\n",
        "  layer = UpSampling1D(size=150)(layer)\n",
        "  L = tf.cast(tf.reduce_max(inputs_L), tf.int32)\n",
        "  output = layer[:,:L]\n",
        "  model = Model(inputs = (inputs_L,inputs) , outputs=output)\n",
        "  model.compile(loss=\"sparse_categorical_crossentropy\", optimizer=opt, metrics=[\"sparse_categorical_accuracy\"])\n",
        "  history = model.fit(input_variable_train2, validation_data=input_variable_valid2, batch_size=BS, epochs=NUM_EPOCHS, verbose=1)\n",
        "  # plotting the metrics\n",
        "  plt.subplot(2, 1, 1)\n",
        "  plt.title('Sparse Crossentropy Loss')\n",
        "  plt.plot(history.history['loss'], color='blue', label='train')\n",
        "  plt.plot(history.history['val_loss'], color='orange', label='val')\n",
        "\t# plot accuracy\n",
        "  plt.subplot(2, 1, 2)\n",
        "  plt.title('Classification Accuracy')\n",
        "  plt.plot(history.history['sparse_categorical_accuracy'], color='blue', label='train')\n",
        "  plt.plot(history.history['val_sparse_categorical_accuracy'], color='orange', label='val')\n",
        "  score = model.evaluate(input_variable_test2, verbose=0) #evaluate based on test dataset, which was not used for training and validation\n",
        "  return model.summary(), history, print('Loss using testing dataset=', score[0]), print('Accuracy using testing dataset=', score[1]) "
      ],
      "metadata": {
        "id": "noOK7idCpP0N"
      },
      "execution_count": 108,
      "outputs": []
    },
    {
      "cell_type": "code",
      "execution_count": 109,
      "metadata": {
        "id": "wO392_iHxuJ8",
        "colab": {
          "base_uri": "https://localhost:8080/",
          "height": 363
        },
        "outputId": "53bd88e5-f4d1-46d1-fb43-631a382ca1fb"
      },
      "outputs": [
        {
          "output_type": "stream",
          "name": "stdout",
          "text": [
            "Epoch 1/100\n",
            "1250/1250 [==============================] - 327s 258ms/step - loss: 3.3299 - sparse_categorical_accuracy: 0.2291 - val_loss: 2.2058 - val_sparse_categorical_accuracy: 0.2391\n"
          ]
        },
        {
          "output_type": "error",
          "ename": "KeyboardInterrupt",
          "evalue": "ignored",
          "traceback": [
            "\u001b[0;31m---------------------------------------------------------------------------\u001b[0m",
            "\u001b[0;31mKeyboardInterrupt\u001b[0m                         Traceback (most recent call last)",
            "\u001b[0;32m<ipython-input-109-ded7c7714b17>\u001b[0m in \u001b[0;36m<module>\u001b[0;34m()\u001b[0m\n\u001b[0;32m----> 1\u001b[0;31m \u001b[0mcnn22\u001b[0m\u001b[0;34m=\u001b[0m \u001b[0mcnn_variable_s22\u001b[0m\u001b[0;34m(\u001b[0m\u001b[0mopt2\u001b[0m\u001b[0;34m,\u001b[0m \u001b[0minput_variable_train2\u001b[0m\u001b[0;34m,\u001b[0m \u001b[0minput_variable_valid2\u001b[0m\u001b[0;34m,\u001b[0m \u001b[0minput_variable_test2\u001b[0m\u001b[0;34m)\u001b[0m\u001b[0;34m\u001b[0m\u001b[0;34m\u001b[0m\u001b[0m\n\u001b[0m",
            "\u001b[0;32m<ipython-input-108-cd0dc7a1d7af>\u001b[0m in \u001b[0;36mcnn_variable_s22\u001b[0;34m(opt, inputs, input_variable_valid, input_variable_test)\u001b[0m\n\u001b[1;32m     36\u001b[0m   \u001b[0mmodel\u001b[0m \u001b[0;34m=\u001b[0m \u001b[0mModel\u001b[0m\u001b[0;34m(\u001b[0m\u001b[0minputs\u001b[0m \u001b[0;34m=\u001b[0m \u001b[0;34m(\u001b[0m\u001b[0minputs_L\u001b[0m\u001b[0;34m,\u001b[0m\u001b[0minputs\u001b[0m\u001b[0;34m)\u001b[0m \u001b[0;34m,\u001b[0m \u001b[0moutputs\u001b[0m\u001b[0;34m=\u001b[0m\u001b[0moutput\u001b[0m\u001b[0;34m)\u001b[0m\u001b[0;34m\u001b[0m\u001b[0;34m\u001b[0m\u001b[0m\n\u001b[1;32m     37\u001b[0m   \u001b[0mmodel\u001b[0m\u001b[0;34m.\u001b[0m\u001b[0mcompile\u001b[0m\u001b[0;34m(\u001b[0m\u001b[0mloss\u001b[0m\u001b[0;34m=\u001b[0m\u001b[0;34m\"sparse_categorical_crossentropy\"\u001b[0m\u001b[0;34m,\u001b[0m \u001b[0moptimizer\u001b[0m\u001b[0;34m=\u001b[0m\u001b[0mopt\u001b[0m\u001b[0;34m,\u001b[0m \u001b[0mmetrics\u001b[0m\u001b[0;34m=\u001b[0m\u001b[0;34m[\u001b[0m\u001b[0;34m\"sparse_categorical_accuracy\"\u001b[0m\u001b[0;34m]\u001b[0m\u001b[0;34m)\u001b[0m\u001b[0;34m\u001b[0m\u001b[0;34m\u001b[0m\u001b[0m\n\u001b[0;32m---> 38\u001b[0;31m   \u001b[0mhistory\u001b[0m \u001b[0;34m=\u001b[0m \u001b[0mmodel\u001b[0m\u001b[0;34m.\u001b[0m\u001b[0mfit\u001b[0m\u001b[0;34m(\u001b[0m\u001b[0minput_variable_train2\u001b[0m\u001b[0;34m,\u001b[0m \u001b[0mvalidation_data\u001b[0m\u001b[0;34m=\u001b[0m\u001b[0minput_variable_valid2\u001b[0m\u001b[0;34m,\u001b[0m \u001b[0mbatch_size\u001b[0m\u001b[0;34m=\u001b[0m\u001b[0mBS\u001b[0m\u001b[0;34m,\u001b[0m \u001b[0mepochs\u001b[0m\u001b[0;34m=\u001b[0m\u001b[0mNUM_EPOCHS\u001b[0m\u001b[0;34m,\u001b[0m \u001b[0mverbose\u001b[0m\u001b[0;34m=\u001b[0m\u001b[0;36m1\u001b[0m\u001b[0;34m)\u001b[0m\u001b[0;34m\u001b[0m\u001b[0;34m\u001b[0m\u001b[0m\n\u001b[0m\u001b[1;32m     39\u001b[0m   \u001b[0;31m# plotting the metrics\u001b[0m\u001b[0;34m\u001b[0m\u001b[0;34m\u001b[0m\u001b[0;34m\u001b[0m\u001b[0m\n\u001b[1;32m     40\u001b[0m   \u001b[0mplt\u001b[0m\u001b[0;34m.\u001b[0m\u001b[0msubplot\u001b[0m\u001b[0;34m(\u001b[0m\u001b[0;36m2\u001b[0m\u001b[0;34m,\u001b[0m \u001b[0;36m1\u001b[0m\u001b[0;34m,\u001b[0m \u001b[0;36m1\u001b[0m\u001b[0;34m)\u001b[0m\u001b[0;34m\u001b[0m\u001b[0;34m\u001b[0m\u001b[0m\n",
            "\u001b[0;32m/usr/local/lib/python3.7/dist-packages/keras/utils/traceback_utils.py\u001b[0m in \u001b[0;36merror_handler\u001b[0;34m(*args, **kwargs)\u001b[0m\n\u001b[1;32m     62\u001b[0m     \u001b[0mfiltered_tb\u001b[0m \u001b[0;34m=\u001b[0m \u001b[0;32mNone\u001b[0m\u001b[0;34m\u001b[0m\u001b[0;34m\u001b[0m\u001b[0m\n\u001b[1;32m     63\u001b[0m     \u001b[0;32mtry\u001b[0m\u001b[0;34m:\u001b[0m\u001b[0;34m\u001b[0m\u001b[0;34m\u001b[0m\u001b[0m\n\u001b[0;32m---> 64\u001b[0;31m       \u001b[0;32mreturn\u001b[0m \u001b[0mfn\u001b[0m\u001b[0;34m(\u001b[0m\u001b[0;34m*\u001b[0m\u001b[0margs\u001b[0m\u001b[0;34m,\u001b[0m \u001b[0;34m**\u001b[0m\u001b[0mkwargs\u001b[0m\u001b[0;34m)\u001b[0m\u001b[0;34m\u001b[0m\u001b[0;34m\u001b[0m\u001b[0m\n\u001b[0m\u001b[1;32m     65\u001b[0m     \u001b[0;32mexcept\u001b[0m \u001b[0mException\u001b[0m \u001b[0;32mas\u001b[0m \u001b[0me\u001b[0m\u001b[0;34m:\u001b[0m  \u001b[0;31m# pylint: disable=broad-except\u001b[0m\u001b[0;34m\u001b[0m\u001b[0;34m\u001b[0m\u001b[0m\n\u001b[1;32m     66\u001b[0m       \u001b[0mfiltered_tb\u001b[0m \u001b[0;34m=\u001b[0m \u001b[0m_process_traceback_frames\u001b[0m\u001b[0;34m(\u001b[0m\u001b[0me\u001b[0m\u001b[0;34m.\u001b[0m\u001b[0m__traceback__\u001b[0m\u001b[0;34m)\u001b[0m\u001b[0;34m\u001b[0m\u001b[0;34m\u001b[0m\u001b[0m\n",
            "\u001b[0;32m/usr/local/lib/python3.7/dist-packages/keras/engine/training.py\u001b[0m in \u001b[0;36mfit\u001b[0;34m(self, x, y, batch_size, epochs, verbose, callbacks, validation_split, validation_data, shuffle, class_weight, sample_weight, initial_epoch, steps_per_epoch, validation_steps, validation_batch_size, validation_freq, max_queue_size, workers, use_multiprocessing)\u001b[0m\n\u001b[1;32m   1371\u001b[0m       \u001b[0mlogs\u001b[0m \u001b[0;34m=\u001b[0m \u001b[0;32mNone\u001b[0m\u001b[0;34m\u001b[0m\u001b[0;34m\u001b[0m\u001b[0m\n\u001b[1;32m   1372\u001b[0m       \u001b[0;32mfor\u001b[0m \u001b[0mepoch\u001b[0m\u001b[0;34m,\u001b[0m \u001b[0miterator\u001b[0m \u001b[0;32min\u001b[0m \u001b[0mdata_handler\u001b[0m\u001b[0;34m.\u001b[0m\u001b[0menumerate_epochs\u001b[0m\u001b[0;34m(\u001b[0m\u001b[0;34m)\u001b[0m\u001b[0;34m:\u001b[0m\u001b[0;34m\u001b[0m\u001b[0;34m\u001b[0m\u001b[0m\n\u001b[0;32m-> 1373\u001b[0;31m         \u001b[0mself\u001b[0m\u001b[0;34m.\u001b[0m\u001b[0mreset_metrics\u001b[0m\u001b[0;34m(\u001b[0m\u001b[0;34m)\u001b[0m\u001b[0;34m\u001b[0m\u001b[0;34m\u001b[0m\u001b[0m\n\u001b[0m\u001b[1;32m   1374\u001b[0m         \u001b[0mcallbacks\u001b[0m\u001b[0;34m.\u001b[0m\u001b[0mon_epoch_begin\u001b[0m\u001b[0;34m(\u001b[0m\u001b[0mepoch\u001b[0m\u001b[0;34m)\u001b[0m\u001b[0;34m\u001b[0m\u001b[0;34m\u001b[0m\u001b[0m\n\u001b[1;32m   1375\u001b[0m         \u001b[0;32mwith\u001b[0m \u001b[0mdata_handler\u001b[0m\u001b[0;34m.\u001b[0m\u001b[0mcatch_stop_iteration\u001b[0m\u001b[0;34m(\u001b[0m\u001b[0;34m)\u001b[0m\u001b[0;34m:\u001b[0m\u001b[0;34m\u001b[0m\u001b[0;34m\u001b[0m\u001b[0m\n",
            "\u001b[0;31mKeyboardInterrupt\u001b[0m: "
          ]
        }
      ],
      "source": [
        "cnn22= cnn_variable_s22(opt2, input_variable_train2, input_variable_valid2, input_variable_test2)"
      ]
    },
    {
      "cell_type": "code",
      "source": [
        "def cnn_variable_s23(opt, inputs, input_variable_valid,input_variable_test):\n",
        "  inputs = Input(shape=(None,33),name='inputs')\n",
        "  inputs_L = Input(shape=[],name='inputs2')\n",
        "  layer_c = Conv1D(512, 4, padding=\"same\")(inputs)\n",
        "  layer = Activation(\"LeakyReLU\")(layer_c)\n",
        "  layer = MaxPooling1D(pool_size = 2)(layer)\n",
        "  #layer = Dropout(0.2)(layer)\n",
        "  layer = Conv1D(256, 4, padding=\"same\")(layer)\n",
        "  layer = BatchNormalization(axis=-1)(layer)\n",
        "  layer = Activation(\"LeakyReLU\")(layer)\n",
        "  layer = Conv1D(128, 4, padding=\"same\")(layer)\n",
        "  layer = BatchNormalization(axis=-1)(layer)\n",
        "  layer = Activation(\"LeakyReLU\")(layer)\n",
        "  layer = Conv1D(256, 4, padding=\"same\")(layer)\n",
        "  layer = BatchNormalization(axis=-1)(layer)\n",
        "  layer = Activation(\"LeakyReLU\")(layer)\n",
        "  layer = Conv1D(128, 4, padding=\"same\")(layer)\n",
        "  layer = BatchNormalization(axis=-1)(layer)\n",
        "  layer = Conv1D(256, 4, padding=\"same\")(layer)\n",
        "  layer = BatchNormalization(axis=-1)(layer)\n",
        "  layer = Activation(\"LeakyReLU\")(layer)\n",
        "  #layer = MaxPooling1D(pool_size = 2)(layer)\n",
        "  #layer = Dropout(0.2)(layer)\n",
        "  #layer = Flatten()(layer)\n",
        "  #layer = Dropout(0.2)(layer)\n",
        "  layer = TimeDistributed(Dense(250))(layer)\n",
        "  layer = Reshape((-1,5))(layer)\n",
        "  layer = UpSampling1D(size=150)(layer)\n",
        "  L = tf.cast(tf.reduce_max(inputs_L), tf.int32)\n",
        "  output = layer[:,:L]\n",
        "  model = Model(inputs = (inputs_L,inputs) , outputs=output)\n",
        "  model.compile(loss=\"sparse_categorical_crossentropy\", optimizer=opt, metrics=[\"sparse_categorical_accuracy\"])\n",
        "  history = model.fit(input_variable_train2, validation_data=input_variable_valid2, batch_size=BS, epochs=NUM_EPOCHS, verbose=1)\n",
        "  # plotting the metrics\n",
        "  plt.subplot(2, 1, 1)\n",
        "  plt.title('Sparse Crossentropy Loss')\n",
        "  plt.plot(history.history['loss'], color='blue', label='train')\n",
        "  plt.plot(history.history['val_loss'], color='orange', label='val')\n",
        "\t# plot accuracy\n",
        "  plt.subplot(2, 1, 2)\n",
        "  plt.title('Classification Accuracy')\n",
        "  plt.plot(history.history['sparse_categorical_accuracy'], color='blue', label='train')\n",
        "  plt.plot(history.history['val_sparse_categorical_accuracy'], color='orange', label='val')\n",
        "  score = model.evaluate(input_variable_test2, verbose=0) #evaluate based on test dataset, which was not used for training and validation\n",
        "  return model.summary(), history, print('Loss using testing dataset=', score[0]), print('Accuracy using testing dataset=', score[1]) "
      ],
      "metadata": {
        "id": "9e7hg0rc2rg9"
      },
      "execution_count": 122,
      "outputs": []
    },
    {
      "cell_type": "code",
      "execution_count": 1,
      "metadata": {
        "id": "ZbDqP07FDOfk",
        "colab": {
          "base_uri": "https://localhost:8080/",
          "height": 165
        },
        "outputId": "e276f210-3db7-4a1b-cd13-85647ecefde9"
      },
      "outputs": [
        {
          "output_type": "error",
          "ename": "NameError",
          "evalue": "ignored",
          "traceback": [
            "\u001b[0;31m---------------------------------------------------------------------------\u001b[0m",
            "\u001b[0;31mNameError\u001b[0m                                 Traceback (most recent call last)",
            "\u001b[0;32m<ipython-input-1-985bffec9a0b>\u001b[0m in \u001b[0;36m<module>\u001b[0;34m()\u001b[0m\n\u001b[0;32m----> 1\u001b[0;31m \u001b[0mcnn23\u001b[0m\u001b[0;34m=\u001b[0m \u001b[0mcnn_variable_s23\u001b[0m\u001b[0;34m(\u001b[0m\u001b[0mopt2\u001b[0m\u001b[0;34m,\u001b[0m \u001b[0minput_variable_train2\u001b[0m\u001b[0;34m,\u001b[0m \u001b[0minput_variable_valid2\u001b[0m\u001b[0;34m,\u001b[0m \u001b[0minput_variable_test2\u001b[0m\u001b[0;34m)\u001b[0m\u001b[0;34m\u001b[0m\u001b[0;34m\u001b[0m\u001b[0m\n\u001b[0m",
            "\u001b[0;31mNameError\u001b[0m: name 'cnn_variable_s23' is not defined"
          ]
        }
      ],
      "source": [
        "cnn23= cnn_variable_s23(opt2, input_variable_train2, input_variable_valid2, input_variable_test2)"
      ]
    },
    {
      "cell_type": "code",
      "source": [
        "def cnn_variable_s24(opt, inputs, input_variable_valid,input_variable_test):\n",
        "  inputs = Input(shape=(None,33),name='inputs')\n",
        "  inputs_L = Input(shape=[],name='inputs2')\n",
        "  layer_c = Conv1D(512, 1, padding=\"same\")(inputs)\n",
        "  layer = Activation(\"LeakyReLU\")(layer_c)\n",
        "  layer = MaxPooling1D(pool_size = 2)(layer)\n",
        "  #layer = Dropout(0.2)(layer)\n",
        "  layer = Conv1D(256, 1, padding=\"same\")(layer)\n",
        "  layer = BatchNormalization(axis=-1)(layer)\n",
        "  layer = Activation(\"LeakyReLU\")(layer)\n",
        "  layer = Conv1D(128, 1, padding=\"same\")(layer)\n",
        "  layer = BatchNormalization(axis=-1)(layer)\n",
        "  layer = Activation(\"LeakyReLU\")(layer)\n",
        "  layer = MaxPooling1D(pool_size = 2)(layer)\n",
        "  layer = Conv1D(256, 1, padding=\"same\")(layer)\n",
        "  layer = BatchNormalization(axis=-1)(layer)\n",
        "  layer = Activation(\"LeakyReLU\")(layer)\n",
        "  layer = MaxPooling1D(pool_size = 2)(layer)\n",
        "  #layer = Dropout(0.2)(layer)\n",
        "  #layer = Flatten()(layer)\n",
        "  #layer = Dropout(0.2)(layer)\n",
        "  layer = TimeDistributed(Dense(1500))(layer)\n",
        "  layer = Reshape((-1,5))(layer)\n",
        "  layer = UpSampling1D(size=15)(layer)\n",
        "  L = tf.cast(tf.reduce_max(inputs_L), tf.int32)\n",
        "  output = layer[:,:L]\n",
        "  model = Model(inputs = (inputs_L,inputs) , outputs=output)\n",
        "  model.compile(loss=\"sparse_categorical_crossentropy\", optimizer=opt, metrics=[\"sparse_categorical_accuracy\"])\n",
        "  history = model.fit(input_variable_train2, validation_data=input_variable_valid2, batch_size=BS, epochs=NUM_EPOCHS, verbose=1)\n",
        "  # plotting the metrics\n",
        "  plt.subplot(2, 1, 1)\n",
        "  plt.title('Sparse Crossentropy Loss')\n",
        "  plt.plot(history.history['loss'], color='blue', label='train')\n",
        "  plt.plot(history.history['val_loss'], color='orange', label='val')\n",
        "\t# plot accuracy\n",
        "  plt.subplot(2, 1, 2)\n",
        "  plt.title('Classification Accuracy')\n",
        "  plt.plot(history.history['sparse_categorical_accuracy'], color='blue', label='train')\n",
        "  plt.plot(history.history['val_sparse_categorical_accuracy'], color='orange', label='val')\n",
        "  score = model.evaluate(input_variable_test2, verbose=0) #evaluate based on test dataset, which was not used for training and validation\n",
        "  return model.summary(), history, print('Loss using testing dataset=', score[0]), print('Accuracy using testing dataset=', score[1]) \n",
        "\n"
      ],
      "metadata": {
        "id": "MMBLUe3UHCbm"
      },
      "execution_count": 125,
      "outputs": []
    },
    {
      "cell_type": "code",
      "source": [
        ""
      ],
      "metadata": {
        "id": "i0P7DnvaHY99"
      },
      "execution_count": null,
      "outputs": []
    },
    {
      "cell_type": "markdown",
      "metadata": {
        "id": "M7NHYaNNkHD0"
      },
      "source": [
        "## Transformers"
      ]
    },
    {
      "cell_type": "code",
      "source": [
        "NUM_EPOCHS = 100 #Increase epochs if you do not see a flatlined loss function\n",
        "#Add batch normalization\n",
        "INIT_LR  = 0.0001 #change to 0.001 after\n",
        "BS = 32 #batch size\n",
        "opt= SGD(learning_rate=INIT_LR, momentum=0.9, decay=INIT_LR / NUM_EPOCHS)\n",
        "opt2 = tf.optimizers.Adam(learning_rate = INIT_LR)\n",
        "from keras.callbacks import EarlyStopping  \n",
        "early_stopping =EarlyStopping(monitor='sparse_categorical_accuracy', patience=2) "
      ],
      "metadata": {
        "id": "iqF5CY3WCVZW"
      },
      "execution_count": 134,
      "outputs": []
    },
    {
      "cell_type": "markdown",
      "metadata": {
        "id": "ZT3T2MfYkKZU"
      },
      "source": [
        ""
      ]
    },
    {
      "cell_type": "code",
      "source": [
        "def transformer_variable(opt, inputs, input_variable_valid,input_variable_test):\n",
        "  inputs = keras.Input(shape=(None, 33))\n",
        "  inputs_L = Input(shape=[])\n",
        "  embDim = 10\n",
        "  newEmb = layers.TimeDistributed(layers.Dense(embDim))(inputs)\n",
        "  inputsPosEmb = PositionEmbedding(maxlen=50000, embed_dim=embDim)(newEmb)\n",
        "  transf1 = TransformerBlock(embed_dim=embDim, num_heads=4, ff_dim=4)(inputsPosEmb)\n",
        "  transf2 =TransformerBlock(embed_dim=embDim, num_heads=4, ff_dim=4)(transf1)\n",
        "  layer = layers.TimeDistributed(layers.Dense(150))(transf2)\n",
        "  layer = Reshape((-1,5))(layer)\n",
        "  layer = UpSampling1D(size=10)(layer)\n",
        "  L = tf.cast(tf.reduce_max(inputs_L), tf.int32)\n",
        "  output = layer[:,:L]\n",
        "  model = Model(inputs = (inputs_L,inputs) , outputs=output)\n",
        "  model.compile(loss=\"sparse_categorical_crossentropy\", optimizer=opt, metrics=[\"sparse_categorical_accuracy\"])\n",
        "  history = model.fit(input_variable_train2, validation_data=input_variable_valid2, batch_size=BS, epochs=NUM_EPOCHS, verbose=1,callbacks=[early_stopping] )\n",
        "  # plotting the metrics\n",
        "  plt.subplot(2, 1, 1)\n",
        "  plt.title('Sparse Crossentropy Loss')\n",
        "  plt.plot(history.history['loss'], color='blue', label='train')\n",
        "  plt.plot(history.history['val_loss'], color='orange', label='val')\n",
        "\t# plot accuracy\n",
        "  plt.subplot(2, 1, 2)\n",
        "  plt.title('Classification Accuracy')\n",
        "  plt.plot(history.history['sparse_categorical_accuracy'], color='blue', label='train')\n",
        "  plt.plot(history.history['val_sparse_categorical_accuracy'], color='orange', label='val')\n",
        "  score = model.evaluate(input_variable_test2, verbose=0) #evaluate based on test dataset, which was not used for training and validation\n",
        "  return model.summary(), history, print('Loss using testing dataset=', score[0]), print('Accuracy using testing dataset=', score[1])"
      ],
      "metadata": {
        "id": "UKFgOZBaYubm"
      },
      "execution_count": 135,
      "outputs": []
    },
    {
      "cell_type": "code",
      "source": [
        "transformer= transformer_variable(opt2, input_variable_train2, input_variable_valid2, input_variable_test2)"
      ],
      "metadata": {
        "colab": {
          "base_uri": "https://localhost:8080/",
          "height": 1000
        },
        "id": "wmlYUtMHY3ew",
        "outputId": "eba1bb9b-730c-4954-ec34-2b4448c54b9f"
      },
      "execution_count": 136,
      "outputs": [
        {
          "output_type": "stream",
          "name": "stdout",
          "text": [
            "Epoch 1/100\n",
            "1250/1250 [==============================] - 51s 38ms/step - loss: 6.2631 - sparse_categorical_accuracy: 0.2088 - val_loss: 4.4952 - val_sparse_categorical_accuracy: 0.2144\n",
            "Epoch 2/100\n",
            "1250/1250 [==============================] - 45s 36ms/step - loss: 3.7119 - sparse_categorical_accuracy: 0.2246 - val_loss: 2.6103 - val_sparse_categorical_accuracy: 0.2391\n",
            "Epoch 3/100\n",
            "1250/1250 [==============================] - 36s 28ms/step - loss: 2.5512 - sparse_categorical_accuracy: 0.2361 - val_loss: 2.0434 - val_sparse_categorical_accuracy: 0.2501\n",
            "Epoch 4/100\n",
            "1250/1250 [==============================] - 35s 28ms/step - loss: 2.0790 - sparse_categorical_accuracy: 0.2482 - val_loss: 1.8399 - val_sparse_categorical_accuracy: 0.2716\n",
            "Epoch 5/100\n",
            "1250/1250 [==============================] - 36s 29ms/step - loss: 1.9093 - sparse_categorical_accuracy: 0.2636 - val_loss: 1.8105 - val_sparse_categorical_accuracy: 0.2807\n",
            "Epoch 6/100\n",
            "1250/1250 [==============================] - 36s 28ms/step - loss: 1.8573 - sparse_categorical_accuracy: 0.2742 - val_loss: 1.8003 - val_sparse_categorical_accuracy: 0.2953\n",
            "Epoch 7/100\n",
            "1250/1250 [==============================] - 36s 28ms/step - loss: 1.8365 - sparse_categorical_accuracy: 0.2855 - val_loss: 1.7951 - val_sparse_categorical_accuracy: 0.3001\n",
            "Epoch 8/100\n",
            "1250/1250 [==============================] - 35s 28ms/step - loss: 1.8229 - sparse_categorical_accuracy: 0.2916 - val_loss: 1.7908 - val_sparse_categorical_accuracy: 0.3012\n",
            "Epoch 9/100\n",
            "1250/1250 [==============================] - 34s 28ms/step - loss: 1.8111 - sparse_categorical_accuracy: 0.2964 - val_loss: 1.7823 - val_sparse_categorical_accuracy: 0.3015\n",
            "Epoch 10/100\n",
            "1250/1250 [==============================] - 34s 27ms/step - loss: 1.7835 - sparse_categorical_accuracy: 0.3080 - val_loss: 1.6422 - val_sparse_categorical_accuracy: 0.3447\n",
            "Epoch 11/100\n",
            "1250/1250 [==============================] - 35s 28ms/step - loss: 1.6173 - sparse_categorical_accuracy: 0.3648 - val_loss: 1.5645 - val_sparse_categorical_accuracy: 0.3825\n",
            "Epoch 12/100\n",
            "1250/1250 [==============================] - 35s 28ms/step - loss: 1.5092 - sparse_categorical_accuracy: 0.3877 - val_loss: 1.4724 - val_sparse_categorical_accuracy: 0.3874\n",
            "Epoch 13/100\n",
            "1250/1250 [==============================] - 35s 28ms/step - loss: 1.4788 - sparse_categorical_accuracy: 0.3950 - val_loss: 1.4654 - val_sparse_categorical_accuracy: 0.3924\n",
            "Epoch 14/100\n",
            "1250/1250 [==============================] - 36s 29ms/step - loss: 1.4698 - sparse_categorical_accuracy: 0.3979 - val_loss: 1.4636 - val_sparse_categorical_accuracy: 0.3913\n",
            "Epoch 15/100\n",
            "1250/1250 [==============================] - 38s 30ms/step - loss: 1.4637 - sparse_categorical_accuracy: 0.3981 - val_loss: 1.4608 - val_sparse_categorical_accuracy: 0.3889\n",
            "Epoch 16/100\n",
            "1250/1250 [==============================] - 35s 28ms/step - loss: 1.4593 - sparse_categorical_accuracy: 0.3975 - val_loss: 1.4574 - val_sparse_categorical_accuracy: 0.3863\n",
            "Epoch 17/100\n",
            "1250/1250 [==============================] - 35s 28ms/step - loss: 1.4563 - sparse_categorical_accuracy: 0.3973 - val_loss: 1.4547 - val_sparse_categorical_accuracy: 0.3877\n",
            "Model: \"model_23\"\n",
            "__________________________________________________________________________________________________\n",
            " Layer (type)                   Output Shape         Param #     Connected to                     \n",
            "==================================================================================================\n",
            " input_14 (InputLayer)          [(None, None, 33)]   0           []                               \n",
            "                                                                                                  \n",
            " time_distributed_30 (TimeDistr  (None, None, 10)    340         ['input_14[0][0]']               \n",
            " ibuted)                                                                                          \n",
            "                                                                                                  \n",
            " position_embedding_3 (Position  (None, None, 10)    500000      ['time_distributed_30[0][0]']    \n",
            " Embedding)                                                                                       \n",
            "                                                                                                  \n",
            " transformer_block_6 (Transform  (None, None, 10)    1864        ['position_embedding_3[0][0]']   \n",
            " erBlock)                                                                                         \n",
            "                                                                                                  \n",
            " transformer_block_7 (Transform  (None, None, 10)    1864        ['transformer_block_6[0][0]']    \n",
            " erBlock)                                                                                         \n",
            "                                                                                                  \n",
            " time_distributed_31 (TimeDistr  (None, None, 150)   1650        ['transformer_block_7[0][0]']    \n",
            " ibuted)                                                                                          \n",
            "                                                                                                  \n",
            " input_15 (InputLayer)          [(None,)]            0           []                               \n",
            "                                                                                                  \n",
            " reshape_34 (Reshape)           (None, None, 5)      0           ['time_distributed_31[0][0]']    \n",
            "                                                                                                  \n",
            " tf.math.reduce_max_22 (TFOpLam  ()                  0           ['input_15[0][0]']               \n",
            " bda)                                                                                             \n",
            "                                                                                                  \n",
            " up_sampling1d_31 (UpSampling1D  (None, None, 5)     0           ['reshape_34[0][0]']             \n",
            " )                                                                                                \n",
            "                                                                                                  \n",
            " tf.cast_22 (TFOpLambda)        ()                   0           ['tf.math.reduce_max_22[0][0]']  \n",
            "                                                                                                  \n",
            " tf.__operators__.getitem_21 (S  (None, None, 5)     0           ['up_sampling1d_31[0][0]',       \n",
            " licingOpLambda)                                                  'tf.cast_22[0][0]']             \n",
            "                                                                                                  \n",
            "==================================================================================================\n",
            "Total params: 505,718\n",
            "Trainable params: 505,718\n",
            "Non-trainable params: 0\n",
            "__________________________________________________________________________________________________\n",
            "Loss using testing dataset= 1.4140621423721313\n",
            "Accuracy using testing dataset= 0.42365479469299316\n"
          ]
        },
        {
          "output_type": "display_data",
          "data": {
            "text/plain": [
              "<Figure size 432x288 with 2 Axes>"
            ],
            "image/png": "[encoded data removed]"
          },
          "metadata": {
            "needs_background": "light"
          }
        }
      ]
    },
    {
      "cell_type": "code",
      "source": [
        "def transformer_variable1(opt, inputs, input_variable_valid,input_variable_test):\n",
        "  inputs = keras.Input(shape=(None, 33))\n",
        "  inputs_L = Input(shape=[])\n",
        "  embDim = 10 ## Embedding size for each token\n",
        "  newEmb = layers.TimeDistributed(layers.Dense(embDim))(inputs)\n",
        "  inputsPosEmb = PositionEmbedding(maxlen=50000, embed_dim=embDim)(newEmb)\n",
        "  transf1 = TransformerBlock(embed_dim=embDim, num_heads=4, ff_dim=32)(inputsPosEmb) #ff_dim # Hidden layer size in feed forward network inside transformer\n",
        "  transf2 =TransformerBlock(embed_dim=embDim, num_heads=4, ff_dim=32)(transf1)\n",
        "  layer = layers.TimeDistributed(layers.Dense(150))(transf2)\n",
        "  layer = Reshape((-1,5))(layer)\n",
        "  layer = UpSampling1D(size=10)(layer)\n",
        "  L = tf.cast(tf.reduce_max(inputs_L), tf.int32)\n",
        "  output = layer[:,:L]\n",
        "  model = Model(inputs = (inputs_L,inputs) , outputs=output)\n",
        "  model.compile(loss=\"sparse_categorical_crossentropy\", optimizer=opt, metrics=[\"sparse_categorical_accuracy\"])\n",
        "  history = model.fit(input_variable_train2, validation_data=input_variable_valid2, batch_size=BS, epochs=NUM_EPOCHS, verbose=1,callbacks=[early_stopping] )\n",
        "  # plotting the metrics\n",
        "  plt.subplot(2, 1, 1)\n",
        "  plt.title('Sparse Crossentropy Loss')\n",
        "  plt.plot(history.history['loss'], color='blue', label='train')\n",
        "  plt.plot(history.history['val_loss'], color='orange', label='val')\n",
        "\t# plot accuracy\n",
        "  plt.subplot(2, 1, 2)\n",
        "  plt.title('Classification Accuracy')\n",
        "  plt.plot(history.history['sparse_categorical_accuracy'], color='blue', label='train')\n",
        "  plt.plot(history.history['val_sparse_categorical_accuracy'], color='orange', label='val')\n",
        "  score = model.evaluate(input_variable_test2, verbose=0) #evaluate based on test dataset, which was not used for training and validation\n",
        "  return model.summary(), history, print('Loss using testing dataset=', score[0]), print('Accuracy using testing dataset=', score[1])"
      ],
      "metadata": {
        "id": "aqPuv9waad72"
      },
      "execution_count": 137,
      "outputs": []
    },
    {
      "cell_type": "code",
      "source": [
        "transformer1= transformer_variable1(opt2, input_variable_train2, input_variable_valid2, input_variable_test2)"
      ],
      "metadata": {
        "colab": {
          "base_uri": "https://localhost:8080/",
          "height": 1000
        },
        "id": "1j7AtWZia11z",
        "outputId": "3b95dcc0-608a-4689-dfdd-db7e6b336951"
      },
      "execution_count": 138,
      "outputs": [
        {
          "output_type": "stream",
          "name": "stdout",
          "text": [
            "Epoch 1/100\n",
            "1250/1250 [==============================] - 37s 28ms/step - loss: 2.8769 - sparse_categorical_accuracy: 0.2354 - val_loss: 2.0933 - val_sparse_categorical_accuracy: 0.2616\n",
            "Epoch 2/100\n",
            "1250/1250 [==============================] - 35s 28ms/step - loss: 2.0706 - sparse_categorical_accuracy: 0.2585 - val_loss: 1.9851 - val_sparse_categorical_accuracy: 0.2747\n",
            "Epoch 3/100\n",
            "1250/1250 [==============================] - 35s 28ms/step - loss: 2.0082 - sparse_categorical_accuracy: 0.2669 - val_loss: 1.9747 - val_sparse_categorical_accuracy: 0.2768\n",
            "Epoch 4/100\n",
            "1250/1250 [==============================] - 35s 28ms/step - loss: 1.9912 - sparse_categorical_accuracy: 0.2724 - val_loss: 1.9669 - val_sparse_categorical_accuracy: 0.2788\n",
            "Epoch 5/100\n",
            "1250/1250 [==============================] - 36s 28ms/step - loss: 1.9823 - sparse_categorical_accuracy: 0.2751 - val_loss: 1.9593 - val_sparse_categorical_accuracy: 0.2805\n",
            "Epoch 6/100\n",
            "1250/1250 [==============================] - 35s 28ms/step - loss: 1.9744 - sparse_categorical_accuracy: 0.2782 - val_loss: 1.9535 - val_sparse_categorical_accuracy: 0.2857\n",
            "Epoch 7/100\n",
            "1250/1250 [==============================] - 44s 35ms/step - loss: 1.9566 - sparse_categorical_accuracy: 0.2831 - val_loss: 1.9017 - val_sparse_categorical_accuracy: 0.3049\n",
            "Epoch 8/100\n",
            "1250/1250 [==============================] - 47s 38ms/step - loss: 1.8518 - sparse_categorical_accuracy: 0.3290 - val_loss: 1.7266 - val_sparse_categorical_accuracy: 0.3530\n",
            "Epoch 9/100\n",
            "1250/1250 [==============================] - 35s 28ms/step - loss: 1.7008 - sparse_categorical_accuracy: 0.3533 - val_loss: 1.6593 - val_sparse_categorical_accuracy: 0.3550\n",
            "Epoch 10/100\n",
            "1250/1250 [==============================] - 35s 28ms/step - loss: 1.6736 - sparse_categorical_accuracy: 0.3581 - val_loss: 1.6547 - val_sparse_categorical_accuracy: 0.3567\n",
            "Epoch 11/100\n",
            "1250/1250 [==============================] - 37s 30ms/step - loss: 1.6663 - sparse_categorical_accuracy: 0.3620 - val_loss: 1.6556 - val_sparse_categorical_accuracy: 0.3564\n",
            "Epoch 12/100\n",
            "1250/1250 [==============================] - 36s 29ms/step - loss: 1.6609 - sparse_categorical_accuracy: 0.3617 - val_loss: 1.6509 - val_sparse_categorical_accuracy: 0.3553\n",
            "Epoch 13/100\n",
            "1250/1250 [==============================] - 36s 29ms/step - loss: 1.6548 - sparse_categorical_accuracy: 0.3637 - val_loss: 1.6421 - val_sparse_categorical_accuracy: 0.3583\n",
            "Epoch 14/100\n",
            "1250/1250 [==============================] - 36s 29ms/step - loss: 1.6523 - sparse_categorical_accuracy: 0.3657 - val_loss: 1.6446 - val_sparse_categorical_accuracy: 0.3582\n",
            "Epoch 15/100\n",
            "1250/1250 [==============================] - 37s 29ms/step - loss: 1.6473 - sparse_categorical_accuracy: 0.3659 - val_loss: 1.6368 - val_sparse_categorical_accuracy: 0.3584\n",
            "Epoch 16/100\n",
            "1250/1250 [==============================] - 47s 37ms/step - loss: 1.6193 - sparse_categorical_accuracy: 0.3649 - val_loss: 1.5715 - val_sparse_categorical_accuracy: 0.3541\n",
            "Epoch 17/100\n",
            "1250/1250 [==============================] - 41s 33ms/step - loss: 1.5788 - sparse_categorical_accuracy: 0.3641 - val_loss: 1.5731 - val_sparse_categorical_accuracy: 0.3579\n",
            "Model: \"model_24\"\n",
            "__________________________________________________________________________________________________\n",
            " Layer (type)                   Output Shape         Param #     Connected to                     \n",
            "==================================================================================================\n",
            " input_16 (InputLayer)          [(None, None, 33)]   0           []                               \n",
            "                                                                                                  \n",
            " time_distributed_32 (TimeDistr  (None, None, 10)    340         ['input_16[0][0]']               \n",
            " ibuted)                                                                                          \n",
            "                                                                                                  \n",
            " position_embedding_4 (Position  (None, None, 10)    500000      ['time_distributed_32[0][0]']    \n",
            " Embedding)                                                                                       \n",
            "                                                                                                  \n",
            " transformer_block_8 (Transform  (None, None, 10)    2452        ['position_embedding_4[0][0]']   \n",
            " erBlock)                                                                                         \n",
            "                                                                                                  \n",
            " transformer_block_9 (Transform  (None, None, 10)    2452        ['transformer_block_8[0][0]']    \n",
            " erBlock)                                                                                         \n",
            "                                                                                                  \n",
            " time_distributed_33 (TimeDistr  (None, None, 150)   1650        ['transformer_block_9[0][0]']    \n",
            " ibuted)                                                                                          \n",
            "                                                                                                  \n",
            " input_17 (InputLayer)          [(None,)]            0           []                               \n",
            "                                                                                                  \n",
            " reshape_35 (Reshape)           (None, None, 5)      0           ['time_distributed_33[0][0]']    \n",
            "                                                                                                  \n",
            " tf.math.reduce_max_23 (TFOpLam  ()                  0           ['input_17[0][0]']               \n",
            " bda)                                                                                             \n",
            "                                                                                                  \n",
            " up_sampling1d_32 (UpSampling1D  (None, None, 5)     0           ['reshape_35[0][0]']             \n",
            " )                                                                                                \n",
            "                                                                                                  \n",
            " tf.cast_23 (TFOpLambda)        ()                   0           ['tf.math.reduce_max_23[0][0]']  \n",
            "                                                                                                  \n",
            " tf.__operators__.getitem_22 (S  (None, None, 5)     0           ['up_sampling1d_32[0][0]',       \n",
            " licingOpLambda)                                                  'tf.cast_23[0][0]']             \n",
            "                                                                                                  \n",
            "==================================================================================================\n",
            "Total params: 506,894\n",
            "Trainable params: 506,894\n",
            "Non-trainable params: 0\n",
            "__________________________________________________________________________________________________\n",
            "Loss using testing dataset= 1.533765435218811\n",
            "Accuracy using testing dataset= 0.3872550427913666\n"
          ]
        },
        {
          "output_type": "display_data",
          "data": {
            "text/plain": [
              "<Figure size 432x288 with 2 Axes>"
            ],
            "image/png": "[encoded data removed]"
          },
          "metadata": {
            "needs_background": "light"
          }
        }
      ]
    },
    {
      "cell_type": "code",
      "execution_count": 139,
      "metadata": {
        "id": "H6xe7OaokK77"
      },
      "outputs": [],
      "source": [
        "def transformer_variable2(opt, inputs, input_variable_valid,input_variable_test):\n",
        "  inputs = keras.Input(shape=(None, 33))\n",
        "  inputs_L = Input(shape=[])\n",
        "  embDim = 32 ## Embedding size for each token\n",
        "  newEmb = layers.TimeDistributed(layers.Dense(embDim))(inputs)\n",
        "  inputsPosEmb = PositionEmbedding(maxlen=50000, embed_dim=embDim)(newEmb)\n",
        "  transf1 = TransformerBlock(embed_dim=embDim, num_heads=4, ff_dim=32)(inputsPosEmb) #ff_dim # Hidden layer size in feed forward network inside transformer\n",
        "  transf2 =TransformerBlock(embed_dim=embDim, num_heads=4, ff_dim=32)(transf1)\n",
        "  layer = layers.TimeDistributed(layers.Dense(150))(transf2)\n",
        "  layer = Reshape((-1,5))(layer)\n",
        "  layer = UpSampling1D(size=10)(layer)\n",
        "  L = tf.cast(tf.reduce_max(inputs_L), tf.int32)\n",
        "  output = layer[:,:L]\n",
        "  model = Model(inputs = (inputs_L,inputs) , outputs=output)\n",
        "  model.compile(loss=\"sparse_categorical_crossentropy\", optimizer=opt, metrics=[\"sparse_categorical_accuracy\"])\n",
        "  history = model.fit(input_variable_train2, validation_data=input_variable_valid2, batch_size=BS, epochs=NUM_EPOCHS, verbose=1,callbacks=[early_stopping] )\n",
        "  # plotting the metrics\n",
        "  plt.subplot(2, 1, 1)\n",
        "  plt.title('Sparse Crossentropy Loss')\n",
        "  plt.plot(history.history['loss'], color='blue', label='train')\n",
        "  plt.plot(history.history['val_loss'], color='orange', label='val')\n",
        "\t# plot accuracy\n",
        "  plt.subplot(2, 1, 2)\n",
        "  plt.title('Classification Accuracy')\n",
        "  plt.plot(history.history['sparse_categorical_accuracy'], color='blue', label='train')\n",
        "  plt.plot(history.history['val_sparse_categorical_accuracy'], color='orange', label='val')\n",
        "  score = model.evaluate(input_variable_test2, verbose=0) #evaluate based on test dataset, which was not used for training and validation\n",
        "  return model.summary(), history, print('Loss using testing dataset=', score[0]), print('Accuracy using testing dataset=', score[1])"
      ]
    },
    {
      "cell_type": "code",
      "source": [
        "transformer2= transformer_variable2(opt2, input_variable_train2, input_variable_valid2, input_variable_test2)"
      ],
      "metadata": {
        "colab": {
          "base_uri": "https://localhost:8080/",
          "height": 1000
        },
        "id": "VE_HTcbjCqjN",
        "outputId": "54b87891-9651-440e-ebf8-b235857c7445"
      },
      "execution_count": 140,
      "outputs": [
        {
          "output_type": "stream",
          "name": "stdout",
          "text": [
            "Epoch 1/100\n",
            "1250/1250 [==============================] - 41s 31ms/step - loss: 2.3852 - sparse_categorical_accuracy: 0.2438 - val_loss: 1.6671 - val_sparse_categorical_accuracy: 0.2835\n",
            "Epoch 2/100\n",
            "1250/1250 [==============================] - 38s 30ms/step - loss: 1.6826 - sparse_categorical_accuracy: 0.2828 - val_loss: 1.6516 - val_sparse_categorical_accuracy: 0.3011\n",
            "Epoch 3/100\n",
            "1250/1250 [==============================] - 39s 31ms/step - loss: 1.6563 - sparse_categorical_accuracy: 0.2966 - val_loss: 1.6136 - val_sparse_categorical_accuracy: 0.3100\n",
            "Epoch 4/100\n",
            "1250/1250 [==============================] - 38s 31ms/step - loss: 1.5844 - sparse_categorical_accuracy: 0.3189 - val_loss: 1.5273 - val_sparse_categorical_accuracy: 0.3448\n",
            "Epoch 5/100\n",
            "1250/1250 [==============================] - 37s 30ms/step - loss: 1.5076 - sparse_categorical_accuracy: 0.3466 - val_loss: 1.4417 - val_sparse_categorical_accuracy: 0.3570\n",
            "Epoch 6/100\n",
            "1250/1250 [==============================] - 41s 33ms/step - loss: 1.4462 - sparse_categorical_accuracy: 0.3574 - val_loss: 1.4286 - val_sparse_categorical_accuracy: 0.3620\n",
            "Epoch 7/100\n",
            "1250/1250 [==============================] - 47s 38ms/step - loss: 1.4382 - sparse_categorical_accuracy: 0.3671 - val_loss: 1.4222 - val_sparse_categorical_accuracy: 0.3716\n",
            "Epoch 8/100\n",
            "1250/1250 [==============================] - 37s 30ms/step - loss: 1.4302 - sparse_categorical_accuracy: 0.3741 - val_loss: 1.4177 - val_sparse_categorical_accuracy: 0.3708\n",
            "Epoch 9/100\n",
            "1250/1250 [==============================] - 40s 32ms/step - loss: 1.4271 - sparse_categorical_accuracy: 0.3730 - val_loss: 1.4165 - val_sparse_categorical_accuracy: 0.3697\n",
            "Epoch 10/100\n",
            "1250/1250 [==============================] - 37s 29ms/step - loss: 1.4220 - sparse_categorical_accuracy: 0.3766 - val_loss: 1.4148 - val_sparse_categorical_accuracy: 0.3743\n",
            "Epoch 11/100\n",
            "1250/1250 [==============================] - 37s 29ms/step - loss: 1.4174 - sparse_categorical_accuracy: 0.3810 - val_loss: 1.4083 - val_sparse_categorical_accuracy: 0.3796\n",
            "Epoch 12/100\n",
            "1250/1250 [==============================] - 36s 29ms/step - loss: 1.4147 - sparse_categorical_accuracy: 0.3843 - val_loss: 1.4082 - val_sparse_categorical_accuracy: 0.3819\n",
            "Epoch 13/100\n",
            "1250/1250 [==============================] - 37s 29ms/step - loss: 1.4117 - sparse_categorical_accuracy: 0.3866 - val_loss: 1.4059 - val_sparse_categorical_accuracy: 0.3825\n",
            "Epoch 14/100\n",
            "1250/1250 [==============================] - 37s 29ms/step - loss: 1.4089 - sparse_categorical_accuracy: 0.3882 - val_loss: 1.4041 - val_sparse_categorical_accuracy: 0.3841\n",
            "Epoch 15/100\n",
            "1250/1250 [==============================] - 36s 29ms/step - loss: 1.4090 - sparse_categorical_accuracy: 0.3878 - val_loss: 1.4050 - val_sparse_categorical_accuracy: 0.3833\n",
            "Epoch 16/100\n",
            "1250/1250 [==============================] - 38s 30ms/step - loss: 1.4124 - sparse_categorical_accuracy: 0.3840 - val_loss: 1.4030 - val_sparse_categorical_accuracy: 0.3756\n",
            "Model: \"model_25\"\n",
            "__________________________________________________________________________________________________\n",
            " Layer (type)                   Output Shape         Param #     Connected to                     \n",
            "==================================================================================================\n",
            " input_18 (InputLayer)          [(None, None, 33)]   0           []                               \n",
            "                                                                                                  \n",
            " time_distributed_34 (TimeDistr  (None, None, 32)    1088        ['input_18[0][0]']               \n",
            " ibuted)                                                                                          \n",
            "                                                                                                  \n",
            " position_embedding_5 (Position  (None, None, 32)    1600000     ['time_distributed_34[0][0]']    \n",
            " Embedding)                                                                                       \n",
            "                                                                                                  \n",
            " transformer_block_10 (Transfor  (None, None, 32)    19040       ['position_embedding_5[0][0]']   \n",
            " merBlock)                                                                                        \n",
            "                                                                                                  \n",
            " transformer_block_11 (Transfor  (None, None, 32)    19040       ['transformer_block_10[0][0]']   \n",
            " merBlock)                                                                                        \n",
            "                                                                                                  \n",
            " time_distributed_35 (TimeDistr  (None, None, 150)   4950        ['transformer_block_11[0][0]']   \n",
            " ibuted)                                                                                          \n",
            "                                                                                                  \n",
            " input_19 (InputLayer)          [(None,)]            0           []                               \n",
            "                                                                                                  \n",
            " reshape_36 (Reshape)           (None, None, 5)      0           ['time_distributed_35[0][0]']    \n",
            "                                                                                                  \n",
            " tf.math.reduce_max_24 (TFOpLam  ()                  0           ['input_19[0][0]']               \n",
            " bda)                                                                                             \n",
            "                                                                                                  \n",
            " up_sampling1d_33 (UpSampling1D  (None, None, 5)     0           ['reshape_36[0][0]']             \n",
            " )                                                                                                \n",
            "                                                                                                  \n",
            " tf.cast_24 (TFOpLambda)        ()                   0           ['tf.math.reduce_max_24[0][0]']  \n",
            "                                                                                                  \n",
            " tf.__operators__.getitem_23 (S  (None, None, 5)     0           ['up_sampling1d_33[0][0]',       \n",
            " licingOpLambda)                                                  'tf.cast_24[0][0]']             \n",
            "                                                                                                  \n",
            "==================================================================================================\n",
            "Total params: 1,644,118\n",
            "Trainable params: 1,644,118\n",
            "Non-trainable params: 0\n",
            "__________________________________________________________________________________________________\n",
            "Loss using testing dataset= 1.3745553493499756\n",
            "Accuracy using testing dataset= 0.40474292635917664\n"
          ]
        },
        {
          "output_type": "display_data",
          "data": {
            "text/plain": [
              "<Figure size 432x288 with 2 Axes>"
            ],
            "image/png": "[encoded data removed]"
          },
          "metadata": {
            "needs_background": "light"
          }
        }
      ]
    },
    {
      "cell_type": "code",
      "source": [
        "def transformer_variable3(opt, inputs, input_variable_valid,input_variable_test):\n",
        "  inputs = keras.Input(shape=(None, 33))\n",
        "  inputs_L = Input(shape=[])\n",
        "  embDim = 64 ## Embedding size for each token\n",
        "  newEmb = layers.TimeDistributed(layers.Dense(embDim))(inputs)\n",
        "  inputsPosEmb = PositionEmbedding(maxlen=50000, embed_dim=embDim)(newEmb)\n",
        "  transf1 = TransformerBlock(embed_dim=embDim, num_heads=4, ff_dim=32)(inputsPosEmb) #ff_dim # Hidden layer size in feed forward network inside transformer\n",
        "  transf2 =TransformerBlock(embed_dim=embDim, num_heads=4, ff_dim=32)(transf1)\n",
        "  layer = layers.TimeDistributed(layers.Dense(150))(transf2)\n",
        "  layer = Reshape((-1,5))(layer)\n",
        "  layer = UpSampling1D(size=10)(layer)\n",
        "  L = tf.cast(tf.reduce_max(inputs_L), tf.int32)\n",
        "  output = layer[:,:L]\n",
        "  model = Model(inputs = (inputs_L,inputs) , outputs=output)\n",
        "  model.compile(loss=\"sparse_categorical_crossentropy\", optimizer=opt, metrics=[\"sparse_categorical_accuracy\"])\n",
        "  history = model.fit(input_variable_train2, validation_data=input_variable_valid2, batch_size=BS, epochs=NUM_EPOCHS, verbose=1,callbacks=[early_stopping] )\n",
        "  # plotting the metrics\n",
        "  plt.subplot(2, 1, 1)\n",
        "  plt.title('Sparse Crossentropy Loss')\n",
        "  plt.plot(history.history['loss'], color='blue', label='train')\n",
        "  plt.plot(history.history['val_loss'], color='orange', label='val')\n",
        "\t# plot accuracy\n",
        "  plt.subplot(2, 1, 2)\n",
        "  plt.title('Classification Accuracy')\n",
        "  plt.plot(history.history['sparse_categorical_accuracy'], color='blue', label='train')\n",
        "  plt.plot(history.history['val_sparse_categorical_accuracy'], color='orange', label='val')\n",
        "  score = model.evaluate(input_variable_test2, verbose=0) #evaluate based on test dataset, which was not used for training and validation\n",
        "  return model.summary(), history, print('Loss using testing dataset=', score[0]), print('Accuracy using testing dataset=', score[1])"
      ],
      "metadata": {
        "id": "iGxHY545gN47"
      },
      "execution_count": 143,
      "outputs": []
    },
    {
      "cell_type": "code",
      "source": [
        "transformer3= transformer_variable3(opt2, input_variable_train2, input_variable_valid2, input_variable_test2)"
      ],
      "metadata": {
        "colab": {
          "base_uri": "https://localhost:8080/",
          "height": 1000
        },
        "id": "Ac2W-_U3gaL3",
        "outputId": "3848e3f8-1ad5-43e3-9a41-9a3f91090da0"
      },
      "execution_count": 144,
      "outputs": [
        {
          "output_type": "stream",
          "name": "stdout",
          "text": [
            "Epoch 1/100\n",
            "1250/1250 [==============================] - 43s 32ms/step - loss: 2.2344 - sparse_categorical_accuracy: 0.2607 - val_loss: 1.8657 - val_sparse_categorical_accuracy: 0.2847\n",
            "Epoch 2/100\n",
            "1250/1250 [==============================] - 40s 32ms/step - loss: 1.8608 - sparse_categorical_accuracy: 0.2789 - val_loss: 1.7252 - val_sparse_categorical_accuracy: 0.2649\n",
            "Epoch 3/100\n",
            "1250/1250 [==============================] - 39s 31ms/step - loss: 1.6996 - sparse_categorical_accuracy: 0.2860 - val_loss: 1.6592 - val_sparse_categorical_accuracy: 0.2902\n",
            "Epoch 4/100\n",
            "1250/1250 [==============================] - 39s 31ms/step - loss: 1.6384 - sparse_categorical_accuracy: 0.3087 - val_loss: 1.5533 - val_sparse_categorical_accuracy: 0.3120\n",
            "Epoch 5/100\n",
            "1250/1250 [==============================] - 39s 31ms/step - loss: 1.5740 - sparse_categorical_accuracy: 0.3131 - val_loss: 1.5494 - val_sparse_categorical_accuracy: 0.3161\n",
            "Epoch 6/100\n",
            "1250/1250 [==============================] - 39s 31ms/step - loss: 1.5683 - sparse_categorical_accuracy: 0.3122 - val_loss: 1.5437 - val_sparse_categorical_accuracy: 0.3113\n",
            "Epoch 7/100\n",
            "1250/1250 [==============================] - 39s 31ms/step - loss: 1.5618 - sparse_categorical_accuracy: 0.3192 - val_loss: 1.5503 - val_sparse_categorical_accuracy: 0.3066\n",
            "Epoch 8/100\n",
            "1250/1250 [==============================] - 39s 31ms/step - loss: 1.5158 - sparse_categorical_accuracy: 0.3363 - val_loss: 1.4684 - val_sparse_categorical_accuracy: 0.3432\n",
            "Epoch 9/100\n",
            "1250/1250 [==============================] - 39s 31ms/step - loss: 1.4788 - sparse_categorical_accuracy: 0.3466 - val_loss: 1.4672 - val_sparse_categorical_accuracy: 0.3386\n",
            "Epoch 10/100\n",
            "1250/1250 [==============================] - 40s 32ms/step - loss: 1.4724 - sparse_categorical_accuracy: 0.3546 - val_loss: 1.4581 - val_sparse_categorical_accuracy: 0.3499\n",
            "Epoch 11/100\n",
            "1250/1250 [==============================] - 39s 31ms/step - loss: 1.4682 - sparse_categorical_accuracy: 0.3552 - val_loss: 1.4548 - val_sparse_categorical_accuracy: 0.3593\n",
            "Epoch 12/100\n",
            "1250/1250 [==============================] - 39s 31ms/step - loss: 1.4644 - sparse_categorical_accuracy: 0.3584 - val_loss: 1.4498 - val_sparse_categorical_accuracy: 0.3596\n",
            "Epoch 13/100\n",
            "1250/1250 [==============================] - 39s 31ms/step - loss: 1.4618 - sparse_categorical_accuracy: 0.3620 - val_loss: 1.4571 - val_sparse_categorical_accuracy: 0.3554\n",
            "Epoch 14/100\n",
            "1250/1250 [==============================] - 39s 31ms/step - loss: 1.4628 - sparse_categorical_accuracy: 0.3517 - val_loss: 1.4528 - val_sparse_categorical_accuracy: 0.3436\n",
            "Epoch 15/100\n",
            "1250/1250 [==============================] - 39s 31ms/step - loss: 1.4605 - sparse_categorical_accuracy: 0.3519 - val_loss: 1.4510 - val_sparse_categorical_accuracy: 0.3485\n",
            "Model: \"model_26\"\n",
            "__________________________________________________________________________________________________\n",
            " Layer (type)                   Output Shape         Param #     Connected to                     \n",
            "==================================================================================================\n",
            " input_20 (InputLayer)          [(None, None, 33)]   0           []                               \n",
            "                                                                                                  \n",
            " time_distributed_36 (TimeDistr  (None, None, 64)    2176        ['input_20[0][0]']               \n",
            " ibuted)                                                                                          \n",
            "                                                                                                  \n",
            " position_embedding_6 (Position  (None, None, 64)    3200000     ['time_distributed_36[0][0]']    \n",
            " Embedding)                                                                                       \n",
            "                                                                                                  \n",
            " transformer_block_12 (Transfor  (None, None, 64)    70816       ['position_embedding_6[0][0]']   \n",
            " merBlock)                                                                                        \n",
            "                                                                                                  \n",
            " transformer_block_13 (Transfor  (None, None, 64)    70816       ['transformer_block_12[0][0]']   \n",
            " merBlock)                                                                                        \n",
            "                                                                                                  \n",
            " time_distributed_37 (TimeDistr  (None, None, 150)   9750        ['transformer_block_13[0][0]']   \n",
            " ibuted)                                                                                          \n",
            "                                                                                                  \n",
            " input_21 (InputLayer)          [(None,)]            0           []                               \n",
            "                                                                                                  \n",
            " reshape_37 (Reshape)           (None, None, 5)      0           ['time_distributed_37[0][0]']    \n",
            "                                                                                                  \n",
            " tf.math.reduce_max_25 (TFOpLam  ()                  0           ['input_21[0][0]']               \n",
            " bda)                                                                                             \n",
            "                                                                                                  \n",
            " up_sampling1d_34 (UpSampling1D  (None, None, 5)     0           ['reshape_37[0][0]']             \n",
            " )                                                                                                \n",
            "                                                                                                  \n",
            " tf.cast_25 (TFOpLambda)        ()                   0           ['tf.math.reduce_max_25[0][0]']  \n",
            "                                                                                                  \n",
            " tf.__operators__.getitem_24 (S  (None, None, 5)     0           ['up_sampling1d_34[0][0]',       \n",
            " licingOpLambda)                                                  'tf.cast_25[0][0]']             \n",
            "                                                                                                  \n",
            "==================================================================================================\n",
            "Total params: 3,353,558\n",
            "Trainable params: 3,353,558\n",
            "Non-trainable params: 0\n",
            "__________________________________________________________________________________________________\n",
            "Loss using testing dataset= 1.430100440979004\n",
            "Accuracy using testing dataset= 0.3707934617996216\n"
          ]
        },
        {
          "output_type": "display_data",
          "data": {
            "text/plain": [
              "<Figure size 432x288 with 2 Axes>"
            ],
            "image/png": "[encoded data removed]"
          },
          "metadata": {
            "needs_background": "light"
          }
        }
      ]
    },
    {
      "cell_type": "code",
      "source": [
        "def transformer_variable4(opt, inputs, input_variable_valid,input_variable_test):\n",
        "  inputs = keras.Input(shape=(None, 33))\n",
        "  inputs_L = Input(shape=[])\n",
        "  embDim = 64 ## Embedding size for each token\n",
        "  newEmb = layers.TimeDistributed(layers.Dense(embDim))(inputs)\n",
        "  inputsPosEmb = PositionEmbedding(maxlen=50000, embed_dim=embDim)(newEmb)\n",
        "  transf1 = TransformerBlock(embed_dim=embDim, num_heads=8, ff_dim=64)(inputsPosEmb) #ff_dim # Hidden layer size in feed forward network inside transformer\n",
        "  transf2 =TransformerBlock(embed_dim=embDim, num_heads=8, ff_dim=64)(transf1)\n",
        "  layer = layers.TimeDistributed(layers.Dense(150))(transf2)\n",
        "  layer = Reshape((-1,5))(layer)\n",
        "  layer = UpSampling1D(size=10)(layer)\n",
        "  L = tf.cast(tf.reduce_max(inputs_L), tf.int32)\n",
        "  output = layer[:,:L]\n",
        "  model = Model(inputs = (inputs_L,inputs) , outputs=output)\n",
        "  model.compile(loss=\"sparse_categorical_crossentropy\", optimizer=opt, metrics=[\"sparse_categorical_accuracy\"])\n",
        "  history = model.fit(input_variable_train2, validation_data=input_variable_valid2, batch_size=BS, epochs=NUM_EPOCHS, verbose=1,callbacks=[early_stopping] )\n",
        "  # plotting the metrics\n",
        "  plt.subplot(2, 1, 1)\n",
        "  plt.title('Sparse Crossentropy Loss')\n",
        "  plt.plot(history.history['loss'], color='blue', label='train')\n",
        "  plt.plot(history.history['val_loss'], color='orange', label='val')\n",
        "\t# plot accuracy\n",
        "  plt.subplot(2, 1, 2)\n",
        "  plt.title('Classification Accuracy')\n",
        "  plt.plot(history.history['sparse_categorical_accuracy'], color='blue', label='train')\n",
        "  plt.plot(history.history['val_sparse_categorical_accuracy'], color='orange', label='val')\n",
        "  score = model.evaluate(input_variable_test2, verbose=0) #evaluate based on test dataset, which was not used for training and validation\n",
        "  return model.summary(), history, print('Loss using testing dataset=', score[0]), print('Accuracy using testing dataset=', score[1])"
      ],
      "metadata": {
        "id": "1IemIwd8wPrX"
      },
      "execution_count": 25,
      "outputs": []
    },
    {
      "cell_type": "code",
      "source": [
        "transformer4= transformer_variable4(opt2, input_variable_train2, input_variable_valid2, input_variable_test2)"
      ],
      "metadata": {
        "colab": {
          "base_uri": "https://localhost:8080/"
        },
        "id": "nGWd2FR6wSh-",
        "outputId": "384d9122-561a-45be-a503-d177b9be932e"
      },
      "execution_count": null,
      "outputs": [
        {
          "output_type": "stream",
          "name": "stdout",
          "text": [
            "Epoch 1/100\n",
            "1250/1250 [==============================] - 2756s 2s/step - loss: 2.7589 - sparse_categorical_accuracy: 0.2291 - val_loss: 1.9090 - val_sparse_categorical_accuracy: 0.2598\n",
            "Epoch 2/100\n",
            "1250/1250 [==============================] - 2799s 2s/step - loss: 1.9231 - sparse_categorical_accuracy: 0.2560 - val_loss: 1.8826 - val_sparse_categorical_accuracy: 0.2752\n",
            "Epoch 3/100\n",
            " 836/1250 [===================>..........] - ETA: 14:34 - loss: 1.8779 - sparse_categorical_accuracy: 0.2661"
          ]
        }
      ]
    },
    {
      "cell_type": "markdown",
      "source": [
        ""
      ],
      "metadata": {
        "id": "jYYwv7UMLECD"
      }
    },
    {
      "cell_type": "markdown",
      "source": [
        "Try this one as well: number of heads 8, dff 256, "
      ],
      "metadata": {
        "id": "WtS78BOSLMuz"
      }
    }
  ],
  "metadata": {
    "colab": {
      "collapsed_sections": [],
      "name": "DeepNeuralNetworks_Migla_Notebook2.ipynb",
      "provenance": [],
      "authorship_tag": "ABX9TyN7HLpSMNKbupt0OlF+8y8Y",
      "include_colab_link": true
    },
    "kernelspec": {
      "display_name": "Python 3",
      "name": "python3"
    },
    "language_info": {
      "name": "python"
    },
    "accelerator": "GPU"
  },
  "nbformat": 4,
  "nbformat_minor": 0
}